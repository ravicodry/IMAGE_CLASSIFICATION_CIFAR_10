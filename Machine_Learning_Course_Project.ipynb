{
  "nbformat": 4,
  "nbformat_minor": 0,
  "metadata": {
    "accelerator": "GPU",
    "colab": {
      "name": "Machine Learning Course Project.ipynb",
      "provenance": [],
      "collapsed_sections": [],
      "toc_visible": true,
      "machine_shape": "hm"
    },
    "kernelspec": {
      "display_name": "Python 3",
      "language": "python",
      "name": "python3"
    },
    "language_info": {
      "codemirror_mode": {
        "name": "ipython",
        "version": 3
      },
      "file_extension": ".py",
      "mimetype": "text/x-python",
      "name": "python",
      "nbconvert_exporter": "python",
      "pygments_lexer": "ipython3",
      "version": "3.7.3"
    },
    "widgets": {
      "application/vnd.jupyter.widget-state+json": {
        "686a07f01b054c5fb27f8f6e0006a64b": {
          "model_module": "@jupyter-widgets/controls",
          "model_name": "HBoxModel",
          "state": {
            "_view_name": "HBoxView",
            "_dom_classes": [],
            "_model_name": "HBoxModel",
            "_view_module": "@jupyter-widgets/controls",
            "_model_module_version": "1.5.0",
            "_view_count": null,
            "_view_module_version": "1.5.0",
            "box_style": "",
            "layout": "IPY_MODEL_048d4ce69c5f41709ace8080b48e3df3",
            "_model_module": "@jupyter-widgets/controls",
            "children": [
              "IPY_MODEL_663a3987d66f4517a7ed41ea34dd5542",
              "IPY_MODEL_19569091c4a24e808781cb4e83b88a40"
            ]
          }
        },
        "048d4ce69c5f41709ace8080b48e3df3": {
          "model_module": "@jupyter-widgets/base",
          "model_name": "LayoutModel",
          "state": {
            "_view_name": "LayoutView",
            "grid_template_rows": null,
            "right": null,
            "justify_content": null,
            "_view_module": "@jupyter-widgets/base",
            "overflow": null,
            "_model_module_version": "1.2.0",
            "_view_count": null,
            "flex_flow": null,
            "width": null,
            "min_width": null,
            "border": null,
            "align_items": null,
            "bottom": null,
            "_model_module": "@jupyter-widgets/base",
            "top": null,
            "grid_column": null,
            "overflow_y": null,
            "overflow_x": null,
            "grid_auto_flow": null,
            "grid_area": null,
            "grid_template_columns": null,
            "flex": null,
            "_model_name": "LayoutModel",
            "justify_items": null,
            "grid_row": null,
            "max_height": null,
            "align_content": null,
            "visibility": null,
            "align_self": null,
            "height": null,
            "min_height": null,
            "padding": null,
            "grid_auto_rows": null,
            "grid_gap": null,
            "max_width": null,
            "order": null,
            "_view_module_version": "1.2.0",
            "grid_template_areas": null,
            "object_position": null,
            "object_fit": null,
            "grid_auto_columns": null,
            "margin": null,
            "display": null,
            "left": null
          }
        },
        "663a3987d66f4517a7ed41ea34dd5542": {
          "model_module": "@jupyter-widgets/controls",
          "model_name": "FloatProgressModel",
          "state": {
            "_view_name": "ProgressView",
            "style": "IPY_MODEL_faa6fca48aec478193d60ed229948b32",
            "_dom_classes": [],
            "description": "",
            "_model_name": "FloatProgressModel",
            "bar_style": "success",
            "max": 170498071,
            "_view_module": "@jupyter-widgets/controls",
            "_model_module_version": "1.5.0",
            "value": 170498071,
            "_view_count": null,
            "_view_module_version": "1.5.0",
            "orientation": "horizontal",
            "min": 0,
            "description_tooltip": null,
            "_model_module": "@jupyter-widgets/controls",
            "layout": "IPY_MODEL_86634bb131ad490783b3c44d26470b98"
          }
        },
        "19569091c4a24e808781cb4e83b88a40": {
          "model_module": "@jupyter-widgets/controls",
          "model_name": "HTMLModel",
          "state": {
            "_view_name": "HTMLView",
            "style": "IPY_MODEL_e40f42ad6dcd4c97ba72c21e041cbc98",
            "_dom_classes": [],
            "description": "",
            "_model_name": "HTMLModel",
            "placeholder": "​",
            "_view_module": "@jupyter-widgets/controls",
            "_model_module_version": "1.5.0",
            "value": " 170499072/? [00:08&lt;00:00, 19087167.68it/s]",
            "_view_count": null,
            "_view_module_version": "1.5.0",
            "description_tooltip": null,
            "_model_module": "@jupyter-widgets/controls",
            "layout": "IPY_MODEL_5c41b6138d18480c8a485ed870a2d830"
          }
        },
        "faa6fca48aec478193d60ed229948b32": {
          "model_module": "@jupyter-widgets/controls",
          "model_name": "ProgressStyleModel",
          "state": {
            "_view_name": "StyleView",
            "_model_name": "ProgressStyleModel",
            "description_width": "initial",
            "_view_module": "@jupyter-widgets/base",
            "_model_module_version": "1.5.0",
            "_view_count": null,
            "_view_module_version": "1.2.0",
            "bar_color": null,
            "_model_module": "@jupyter-widgets/controls"
          }
        },
        "86634bb131ad490783b3c44d26470b98": {
          "model_module": "@jupyter-widgets/base",
          "model_name": "LayoutModel",
          "state": {
            "_view_name": "LayoutView",
            "grid_template_rows": null,
            "right": null,
            "justify_content": null,
            "_view_module": "@jupyter-widgets/base",
            "overflow": null,
            "_model_module_version": "1.2.0",
            "_view_count": null,
            "flex_flow": null,
            "width": null,
            "min_width": null,
            "border": null,
            "align_items": null,
            "bottom": null,
            "_model_module": "@jupyter-widgets/base",
            "top": null,
            "grid_column": null,
            "overflow_y": null,
            "overflow_x": null,
            "grid_auto_flow": null,
            "grid_area": null,
            "grid_template_columns": null,
            "flex": null,
            "_model_name": "LayoutModel",
            "justify_items": null,
            "grid_row": null,
            "max_height": null,
            "align_content": null,
            "visibility": null,
            "align_self": null,
            "height": null,
            "min_height": null,
            "padding": null,
            "grid_auto_rows": null,
            "grid_gap": null,
            "max_width": null,
            "order": null,
            "_view_module_version": "1.2.0",
            "grid_template_areas": null,
            "object_position": null,
            "object_fit": null,
            "grid_auto_columns": null,
            "margin": null,
            "display": null,
            "left": null
          }
        },
        "e40f42ad6dcd4c97ba72c21e041cbc98": {
          "model_module": "@jupyter-widgets/controls",
          "model_name": "DescriptionStyleModel",
          "state": {
            "_view_name": "StyleView",
            "_model_name": "DescriptionStyleModel",
            "description_width": "",
            "_view_module": "@jupyter-widgets/base",
            "_model_module_version": "1.5.0",
            "_view_count": null,
            "_view_module_version": "1.2.0",
            "_model_module": "@jupyter-widgets/controls"
          }
        },
        "5c41b6138d18480c8a485ed870a2d830": {
          "model_module": "@jupyter-widgets/base",
          "model_name": "LayoutModel",
          "state": {
            "_view_name": "LayoutView",
            "grid_template_rows": null,
            "right": null,
            "justify_content": null,
            "_view_module": "@jupyter-widgets/base",
            "overflow": null,
            "_model_module_version": "1.2.0",
            "_view_count": null,
            "flex_flow": null,
            "width": null,
            "min_width": null,
            "border": null,
            "align_items": null,
            "bottom": null,
            "_model_module": "@jupyter-widgets/base",
            "top": null,
            "grid_column": null,
            "overflow_y": null,
            "overflow_x": null,
            "grid_auto_flow": null,
            "grid_area": null,
            "grid_template_columns": null,
            "flex": null,
            "_model_name": "LayoutModel",
            "justify_items": null,
            "grid_row": null,
            "max_height": null,
            "align_content": null,
            "visibility": null,
            "align_self": null,
            "height": null,
            "min_height": null,
            "padding": null,
            "grid_auto_rows": null,
            "grid_gap": null,
            "max_width": null,
            "order": null,
            "_view_module_version": "1.2.0",
            "grid_template_areas": null,
            "object_position": null,
            "object_fit": null,
            "grid_auto_columns": null,
            "margin": null,
            "display": null,
            "left": null
          }
        }
      }
    }
  },
  "cells": [
    {
      "cell_type": "markdown",
      "metadata": {
        "id": "_2Ek5UaSETeP"
      },
      "source": [
        "# **Import Modules**"
      ]
    },
    {
      "cell_type": "code",
      "metadata": {
        "id": "e5835kO6DyAe",
        "colab": {
          "base_uri": "https://localhost:8080/"
        },
        "outputId": "fc2bfbc8-bd4d-4670-ad9e-d5156c19c528"
      },
      "source": [
        "import time #using time function\n",
        "import matplotlib.pyplot as plt\n",
        "import numpy as np\n",
        "%matplotlib inline\n",
        "np.random.seed(2017) \n",
        "from tensorflow import keras\n",
        "from keras.models import Sequential #help in creating nueral  network\n",
        "from keras.layers.convolutional import Convolution2D, MaxPooling2D# use in cnn\n",
        "from keras.layers import Activation, Flatten, Dense, Dropout# use in cnn\n",
        "from keras.layers.normalization import BatchNormalization# use in learning parameter.\n",
        "from keras.utils import np_utils\n",
        "from tensorflow.keras import datasets, layers, models# import dataset\n",
        "import tensorflow as tf# tensorflow function implementing neural network\n",
        "from tensorflow import keras # import keras library\n",
        "import matplotlib.pyplot as plt # use in ploting\n",
        "!pip install keras"
      ],
      "execution_count": 1,
      "outputs": [
        {
          "output_type": "stream",
          "text": [
            "Requirement already satisfied: keras in /usr/local/lib/python3.7/dist-packages (2.4.3)\n",
            "Requirement already satisfied: h5py in /usr/local/lib/python3.7/dist-packages (from keras) (3.1.0)\n",
            "Requirement already satisfied: numpy>=1.9.1 in /usr/local/lib/python3.7/dist-packages (from keras) (1.19.5)\n",
            "Requirement already satisfied: pyyaml in /usr/local/lib/python3.7/dist-packages (from keras) (3.13)\n",
            "Requirement already satisfied: scipy>=0.14 in /usr/local/lib/python3.7/dist-packages (from keras) (1.4.1)\n",
            "Requirement already satisfied: cached-property; python_version < \"3.8\" in /usr/local/lib/python3.7/dist-packages (from h5py->keras) (1.5.2)\n"
          ],
          "name": "stdout"
        }
      ]
    },
    {
      "cell_type": "markdown",
      "metadata": {
        "id": "vyz7hc9hEh0O"
      },
      "source": [
        "# **Load CIFAR10 Dataset and Data Exploration**"
      ]
    },
    {
      "cell_type": "code",
      "metadata": {
        "id": "5jHTuKSftwq2",
        "colab": {
          "base_uri": "https://localhost:8080/"
        },
        "outputId": "69e158b2-ee61-41ef-b30f-8b55fd27d20e"
      },
      "source": [
        "from keras.datasets import cifar10\n",
        "(train_features, train_labels), (test_features, test_labels) = cifar10.load_data()#divide dataset into train and test feature\n",
        "num_train, img_channels, img_rows, img_cols =  train_features.shape\n",
        "num_test, _, _, _ =  test_features.shape\n",
        "num_classes = len(np.unique(train_labels))# count the number of classes."
      ],
      "execution_count": 2,
      "outputs": [
        {
          "output_type": "stream",
          "text": [
            "Downloading data from https://www.cs.toronto.edu/~kriz/cifar-10-python.tar.gz\n",
            "170500096/170498071 [==============================] - 6s 0us/step\n",
            "170508288/170498071 [==============================] - 6s 0us/step\n"
          ],
          "name": "stdout"
        }
      ]
    },
    {
      "cell_type": "code",
      "metadata": {
        "colab": {
          "base_uri": "https://localhost:8080/"
        },
        "id": "cS1bt31BDXpc",
        "outputId": "3d2784c0-e25e-431a-e626-07acac9cdf3c"
      },
      "source": [
        "from keras.datasets import cifar10\n",
        "(X_train, y_train), (X_test, y_test) = datasets.cifar10.load_data()\n",
        "\n",
        "print('---------------------------------')\n",
        "print('X-Train Shape:', X_train.shape)\n",
        "print('y-Train Shape:', y_train.shape)\n",
        "print('---------------------------------')\n",
        "print('X-Test Shape: ', X_test.shape)\n",
        "print('y-Test Shape: ', y_test.shape)\n",
        "print('---------------------------------')"
      ],
      "execution_count": 3,
      "outputs": [
        {
          "output_type": "stream",
          "text": [
            "---------------------------------\n",
            "X-Train Shape: (50000, 32, 32, 3)\n",
            "y-Train Shape: (50000, 1)\n",
            "---------------------------------\n",
            "X-Test Shape:  (10000, 32, 32, 3)\n",
            "y-Test Shape:  (10000, 1)\n",
            "---------------------------------\n"
          ],
          "name": "stdout"
        }
      ]
    },
    {
      "cell_type": "markdown",
      "metadata": {
        "id": "CbZM02CJtIUc"
      },
      "source": [
        "The above cell output shows that input has 50000 image having dimension 32-32-3\n",
        "and test output have 10000 image which contain only type of class."
      ]
    },
    {
      "cell_type": "code",
      "metadata": {
        "colab": {
          "base_uri": "https://localhost:8080/"
        },
        "id": "JcuqfCk4PDx_",
        "outputId": "a4ff14b5-a080-48df-c839-da16471a4eee"
      },
      "source": [
        "y_train.shape"
      ],
      "execution_count": 4,
      "outputs": [
        {
          "output_type": "execute_result",
          "data": {
            "text/plain": [
              "(50000, 1)"
            ]
          },
          "metadata": {
            "tags": []
          },
          "execution_count": 4
        }
      ]
    },
    {
      "cell_type": "code",
      "metadata": {
        "colab": {
          "base_uri": "https://localhost:8080/"
        },
        "id": "9cFqQIVUPHPF",
        "outputId": "c8dbc916-7b24-4935-e8c7-883ef8f587f3"
      },
      "source": [
        "y_train[:5]"
      ],
      "execution_count": 5,
      "outputs": [
        {
          "output_type": "execute_result",
          "data": {
            "text/plain": [
              "array([[6],\n",
              "       [9],\n",
              "       [9],\n",
              "       [4],\n",
              "       [1]], dtype=uint8)"
            ]
          },
          "metadata": {
            "tags": []
          },
          "execution_count": 5
        }
      ]
    },
    {
      "cell_type": "markdown",
      "metadata": {
        "id": "RIZw1Bv4PNJ5"
      },
      "source": [
        "y_train is a 2D array, for our classification having 1D array is good enough, so we will convert this to now 1D array"
      ]
    },
    {
      "cell_type": "code",
      "metadata": {
        "colab": {
          "base_uri": "https://localhost:8080/"
        },
        "id": "4wyubUDPPTUK",
        "outputId": "172c1f93-5545-4d4d-927a-1ef173f16fc4"
      },
      "source": [
        "y_train = y_train.reshape(-1,)\n",
        "y_train[:5]"
      ],
      "execution_count": 6,
      "outputs": [
        {
          "output_type": "execute_result",
          "data": {
            "text/plain": [
              "array([6, 9, 9, 4, 1], dtype=uint8)"
            ]
          },
          "metadata": {
            "tags": []
          },
          "execution_count": 6
        }
      ]
    },
    {
      "cell_type": "markdown",
      "metadata": {
        "id": "gV_6bIItPXhT"
      },
      "source": [
        "y_train is now a 1D array\n"
      ]
    },
    {
      "cell_type": "code",
      "metadata": {
        "colab": {
          "base_uri": "https://localhost:8080/"
        },
        "id": "VQJBZbcePffP",
        "outputId": "3dfb40d8-4fc4-473f-f302-98629402b6b5"
      },
      "source": [
        "y_test = y_test.reshape(-1,)\n",
        "y_test[:5]\n",
        "y_test.shape"
      ],
      "execution_count": 7,
      "outputs": [
        {
          "output_type": "execute_result",
          "data": {
            "text/plain": [
              "(10000,)"
            ]
          },
          "metadata": {
            "tags": []
          },
          "execution_count": 7
        }
      ]
    },
    {
      "cell_type": "code",
      "metadata": {
        "colab": {
          "base_uri": "https://localhost:8080/"
        },
        "id": "m3WoLaUCQE9X",
        "outputId": "9b888a4c-e96e-4530-bd67-4aefaaf709d0"
      },
      "source": [
        "print('Final Shape of Datasets:')\n",
        "print('---------------------------------')\n",
        "print('X-Train Shape:', X_train.shape)\n",
        "print('y-Train Shape:', y_train.shape)\n",
        "print('---------------------------------')\n",
        "print('X-Test Shape: ', X_test.shape)\n",
        "print('y-Test Shape: ', y_test.shape)\n",
        "print('---------------------------------')"
      ],
      "execution_count": 8,
      "outputs": [
        {
          "output_type": "stream",
          "text": [
            "Final Shape of Datasets:\n",
            "---------------------------------\n",
            "X-Train Shape: (50000, 32, 32, 3)\n",
            "y-Train Shape: (50000,)\n",
            "---------------------------------\n",
            "X-Test Shape:  (10000, 32, 32, 3)\n",
            "y-Test Shape:  (10000,)\n",
            "---------------------------------\n"
          ],
          "name": "stdout"
        }
      ]
    },
    {
      "cell_type": "markdown",
      "metadata": {
        "id": "KpBe5AwQQxDQ"
      },
      "source": [
        "# **Data Preparation and Normalization**\n",
        "we need our output in terms of binary class so that we can match our desired output.\n",
        "\n",
        "Normalization is neccesary to avoid effect of outliers.All the pixel value will lie in the range of 0 to 1 having zero mean.\n",
        "\n",
        "We also need to tranform our image dimension to 1D so that We can use a list of pixel value as our input varibale.i.e 3072 input variable we have for a single image."
      ]
    },
    {
      "cell_type": "code",
      "metadata": {
        "id": "-_BiQyyoQ0bD"
      },
      "source": [
        "#--- COVERTING CLASS LABELS TO BINARY CLASS LABELS\n",
        "y_train = np_utils.to_categorical(y_train, num_classes = 10)\n",
        "y_test = np_utils.to_categorical(y_test, num_classes = 10)\n",
        "\n",
        "#--- TRANSFORM IMAGES FROM (32, 32, 3) TO 3072-DIMENSIONAL VECTORS (32*32*3)\n",
        "X_train = np.reshape(X_train,(50000,3072))\n",
        "X_test = np.reshape(X_test,(10000,3072))\n",
        "\n",
        "#--- NORMALIZATION OF PIXEL VALUES (TO [0 - 1] RANGE)\n",
        "X_train = X_train.astype('float32')/255\n",
        "X_test = X_test.astype('float32')/255"
      ],
      "execution_count": 9,
      "outputs": []
    },
    {
      "cell_type": "markdown",
      "metadata": {
        "id": "QEOxOpQGElEe"
      },
      "source": [
        "# **[a]- MLP (MultiLayer Perceptron) Classifier**\n",
        "\n",
        "MLP is the most basic neural network after Mp neuron.\n",
        "Any function can be implemnetd using MLP."
      ]
    },
    {
      "cell_type": "code",
      "metadata": {
        "id": "WAdJO9or2N7E"
      },
      "source": [
        "# import required library for generating neural network.\n",
        "from keras.models import Sequential \n",
        "from keras.layers import Dense, Activation\n",
        "from keras.optimizers import SGD"
      ],
      "execution_count": 10,
      "outputs": []
    },
    {
      "cell_type": "code",
      "metadata": {
        "id": "XnpDtjg5FcVv"
      },
      "source": [
        "model = Sequential()# Neural network object created\n",
        "model.add(Dense(256, activation='relu', input_dim=3072))# we are using 3 hidden layer in this MLP model.\n",
        "model.add(Dense(256, activation='relu'))# Relu function used in between hidden layer.\n",
        "model.add(Dense(10, activation='softmax'))# since our output is in multi binary class,therefore we have to use softmax activation function.\n",
        "sgd = SGD(learning_rate=0.01, decay=1e-6, momentum=0.9, nesterov=True)# define learning algorithm and its parameter, it is the most important step in neural network\n",
        "#because it only update weights.\n",
        "\n",
        "model.compile(optimizer=sgd,\n",
        "              loss='categorical_crossentropy', # we are using cross entropy objective function.\n",
        "              metrics=['accuracy'])\n"
      ],
      "execution_count": 11,
      "outputs": []
    },
    {
      "cell_type": "markdown",
      "metadata": {
        "id": "77VZA-PN6PR_"
      },
      "source": [
        "## Model description:"
      ]
    },
    {
      "cell_type": "code",
      "metadata": {
        "colab": {
          "base_uri": "https://localhost:8080/"
        },
        "id": "O51T0Q8e6bzh",
        "outputId": "b75d5a28-d531-416c-bdb6-875e3fd98777"
      },
      "source": [
        "model.summary"
      ],
      "execution_count": 12,
      "outputs": [
        {
          "output_type": "execute_result",
          "data": {
            "text/plain": [
              "<bound method Model.summary of <keras.engine.sequential.Sequential object at 0x7ff4759dc190>>"
            ]
          },
          "metadata": {
            "tags": []
          },
          "execution_count": 12
        }
      ]
    },
    {
      "cell_type": "markdown",
      "metadata": {
        "id": "Vd4u5MNqFw9c"
      },
      "source": [
        "# Training the MLP-\n",
        "Let's train our model now! We will store the training loss values and metrics in a history object, so we can visualize the training process later. We are going to train the model for 15 epochs, using a batch size of 32 and a validation split of 0.2. The latter means that 20% of our training data will be used as validation samples (in practice however it is advised to separate the validation data from the training data altogether)."
      ]
    },
    {
      "cell_type": "code",
      "metadata": {
        "colab": {
          "base_uri": "https://localhost:8080/"
        },
        "id": "FvWIzkSMFcem",
        "outputId": "ead51491-7887-4961-9332-00c67d8495b2"
      },
      "source": [
        "history = model.fit(X_train,y_train, epochs=15, batch_size=32, verbose=2, validation_split=0.2)"
      ],
      "execution_count": 13,
      "outputs": [
        {
          "output_type": "stream",
          "text": [
            "Epoch 1/15\n",
            "1250/1250 - 17s - loss: 1.8305 - accuracy: 0.3332 - val_loss: 1.7151 - val_accuracy: 0.3922\n",
            "Epoch 2/15\n",
            "1250/1250 - 3s - loss: 1.6639 - accuracy: 0.4017 - val_loss: 1.6832 - val_accuracy: 0.4047\n",
            "Epoch 3/15\n",
            "1250/1250 - 3s - loss: 1.5905 - accuracy: 0.4299 - val_loss: 1.6238 - val_accuracy: 0.4163\n",
            "Epoch 4/15\n",
            "1250/1250 - 3s - loss: 1.5428 - accuracy: 0.4448 - val_loss: 1.5968 - val_accuracy: 0.4373\n",
            "Epoch 5/15\n",
            "1250/1250 - 3s - loss: 1.5041 - accuracy: 0.4609 - val_loss: 1.5318 - val_accuracy: 0.4579\n",
            "Epoch 6/15\n",
            "1250/1250 - 3s - loss: 1.4744 - accuracy: 0.4726 - val_loss: 1.5504 - val_accuracy: 0.4488\n",
            "Epoch 7/15\n",
            "1250/1250 - 3s - loss: 1.4431 - accuracy: 0.4816 - val_loss: 1.5436 - val_accuracy: 0.4657\n",
            "Epoch 8/15\n",
            "1250/1250 - 3s - loss: 1.4224 - accuracy: 0.4897 - val_loss: 1.4983 - val_accuracy: 0.4748\n",
            "Epoch 9/15\n",
            "1250/1250 - 3s - loss: 1.3970 - accuracy: 0.4992 - val_loss: 1.5209 - val_accuracy: 0.4675\n",
            "Epoch 10/15\n",
            "1250/1250 - 3s - loss: 1.3759 - accuracy: 0.5054 - val_loss: 1.5221 - val_accuracy: 0.4618\n",
            "Epoch 11/15\n",
            "1250/1250 - 3s - loss: 1.3558 - accuracy: 0.5153 - val_loss: 1.4969 - val_accuracy: 0.4699\n",
            "Epoch 12/15\n",
            "1250/1250 - 3s - loss: 1.3309 - accuracy: 0.5218 - val_loss: 1.5139 - val_accuracy: 0.4826\n",
            "Epoch 13/15\n",
            "1250/1250 - 3s - loss: 1.3166 - accuracy: 0.5283 - val_loss: 1.5679 - val_accuracy: 0.4649\n",
            "Epoch 14/15\n",
            "1250/1250 - 3s - loss: 1.3024 - accuracy: 0.5318 - val_loss: 1.5141 - val_accuracy: 0.4807\n",
            "Epoch 15/15\n",
            "1250/1250 - 3s - loss: 1.2861 - accuracy: 0.5411 - val_loss: 1.5062 - val_accuracy: 0.4860\n"
          ],
          "name": "stdout"
        }
      ]
    },
    {
      "cell_type": "markdown",
      "metadata": {
        "id": "oOytbHa9z4KB"
      },
      "source": [
        "## Plot the losses\n",
        "Train loss vs validation losses"
      ]
    },
    {
      "cell_type": "code",
      "metadata": {
        "id": "RKQ4njcgGiqN"
      },
      "source": [
        "def plotLosses(history):  \n",
        "    plt.plot(history.history['loss'])\n",
        "    plt.plot(history.history['val_loss'])\n",
        "    plt.title('Model - Loss')\n",
        "    plt.ylabel('loss')\n",
        "    plt.xlabel('Epoch')\n",
        "    plt.legend(['train', 'validation'], loc='upper left')\n",
        "    plt.show()"
      ],
      "execution_count": 14,
      "outputs": []
    },
    {
      "cell_type": "code",
      "metadata": {
        "colab": {
          "base_uri": "https://localhost:8080/",
          "height": 295
        },
        "id": "cPe0agcTGplj",
        "outputId": "72d8daf8-8319-4c3a-f682-18faa06dbe59"
      },
      "source": [
        "plotLosses(history)"
      ],
      "execution_count": 15,
      "outputs": [
        {
          "output_type": "display_data",
          "data": {
            "image/png": "[encoded data removed]",
            "text/plain": [
              "<Figure size 432x288 with 1 Axes>"
            ]
          },
          "metadata": {
            "tags": [],
            "needs_background": "light"
          }
        }
      ]
    },
    {
      "cell_type": "markdown",
      "metadata": {
        "id": "ARwuoaws0X3-"
      },
      "source": [
        "Observation:\n",
        "\n",
        "Both training and validation loss decrease as the number of epoch increase.\n",
        "\n",
        "Train loss sharply decarse after two epoches but validtion loss decrease slowly.\n",
        "\n",
        "After 14 epoch validation loss become almost stagnent."
      ]
    },
    {
      "cell_type": "markdown",
      "metadata": {
        "id": "yGc4zVYEKbLa"
      },
      "source": [
        "# Evaluating the MLP"
      ]
    },
    {
      "cell_type": "code",
      "metadata": {
        "colab": {
          "base_uri": "https://localhost:8080/"
        },
        "id": "4ZagGZ2AKfF5",
        "outputId": "0364eb23-8e50-47a6-8d0c-871aba8b1309"
      },
      "source": [
        "score = model.evaluate(X_test, y_test, batch_size=128, verbose=0)\n",
        "print(model.metrics_names)\n",
        "print(score)"
      ],
      "execution_count": 16,
      "outputs": [
        {
          "output_type": "stream",
          "text": [
            "['loss', 'accuracy']\n",
            "[1.4871087074279785, 0.4790000021457672]\n"
          ],
          "name": "stdout"
        }
      ]
    },
    {
      "cell_type": "markdown",
      "metadata": {
        "id": "YHsz1c7y1Llf"
      },
      "source": [
        "After implementing MLP we Observe accuracy 47% which is very low. \n",
        "\n",
        "so we will try different model and see wether accuarcy can be increased."
      ]
    },
    {
      "cell_type": "markdown",
      "metadata": {
        "id": "xJmMpJIeLY_Y"
      },
      "source": [
        "# **[b]- CNN (Convolutional Neural Network) Classifier**"
      ]
    },
    {
      "cell_type": "markdown",
      "metadata": {
        "id": "Jn78nhFLL-tS"
      },
      "source": [
        "# Dataset Preparation "
      ]
    },
    {
      "cell_type": "code",
      "metadata": {
        "colab": {
          "base_uri": "https://localhost:8080/"
        },
        "id": "jDBfnPok2qvp",
        "outputId": "0dead486-adcd-432f-dfec-24ac88ccb263"
      },
      "source": [
        "!pip install np_utils"
      ],
      "execution_count": 17,
      "outputs": [
        {
          "output_type": "stream",
          "text": [
            "Collecting np_utils\n",
            "\u001b[?25l  Downloading https://files.pythonhosted.org/packages/b6/18/5704a782fd72727a9e63198fcc76fadb86975f45bcdf579c10f668329508/np_utils-0.5.12.1.tar.gz (61kB)\n",
            "\r\u001b[K     |█████▍                          | 10kB 21.3MB/s eta 0:00:01\r\u001b[K     |██████████▊                     | 20kB 29.2MB/s eta 0:00:01\r\u001b[K     |████████████████                | 30kB 20.4MB/s eta 0:00:01\r\u001b[K     |█████████████████████▍          | 40kB 16.5MB/s eta 0:00:01\r\u001b[K     |██████████████████████████▊     | 51kB 8.6MB/s eta 0:00:01\r\u001b[K     |████████████████████████████████| 61kB 4.8MB/s \n",
            "\u001b[?25hRequirement already satisfied: numpy>=1.0 in /usr/local/lib/python3.7/dist-packages (from np_utils) (1.19.5)\n",
            "Requirement already satisfied: future>=0.16 in /usr/local/lib/python3.7/dist-packages (from np_utils) (0.16.0)\n",
            "Building wheels for collected packages: np-utils\n",
            "  Building wheel for np-utils (setup.py) ... \u001b[?25l\u001b[?25hdone\n",
            "  Created wheel for np-utils: filename=np_utils-0.5.12.1-cp37-none-any.whl size=57133 sha256=152e57effa283a7bd0b9069c9d29c7f5980aba8b624d8f34907b35026286d85a\n",
            "  Stored in directory: /root/.cache/pip/wheels/92/4b/81/206efd0d01330a96f3aebe5021d2d5f0b264b7ade827c306ef\n",
            "Successfully built np-utils\n",
            "Installing collected packages: np-utils\n",
            "Successfully installed np-utils-0.5.12.1\n"
          ],
          "name": "stdout"
        }
      ]
    },
    {
      "cell_type": "code",
      "metadata": {
        "id": "SlFgFEYkL8EU"
      },
      "source": [
        "from tensorflow.keras.utils import to_categorical\n",
        "#from keras.utils import to_categorical\n",
        "(X_train, y_train), (X_test, y_test) = cifar10.load_data()\n",
        "y_train = to_categorical(y_train, num_classes=10)# convert dta into categorical type\n",
        "y_test = to_categorical(y_test, num_classes=10)\n",
        "X_train = X_train.astype('float32')\n",
        "X_test = X_test.astype('float32')\n",
        "X_train /= 255\n",
        "X_test /= 255"
      ],
      "execution_count": 18,
      "outputs": []
    },
    {
      "cell_type": "code",
      "metadata": {
        "colab": {
          "base_uri": "https://localhost:8080/"
        },
        "id": "mZj6rTEbMmzF",
        "outputId": "bd93d469-db06-4223-a712-93365e25ee12"
      },
      "source": [
        "print(\"Shape of training data:\")\n",
        "print(X_train.shape)\n",
        "print(y_train.shape)\n",
        "print(\"Shape of test data:\")\n",
        "print(X_test.shape)\n",
        "print(y_test.shape)"
      ],
      "execution_count": 19,
      "outputs": [
        {
          "output_type": "stream",
          "text": [
            "Shape of training data:\n",
            "(50000, 32, 32, 3)\n",
            "(50000, 10)\n",
            "Shape of test data:\n",
            "(10000, 32, 32, 3)\n",
            "(10000, 10)\n"
          ],
          "name": "stdout"
        }
      ]
    },
    {
      "cell_type": "markdown",
      "metadata": {
        "id": "gfqQv-t3MsYX"
      },
      "source": [
        "# Creating CNN Model"
      ]
    },
    {
      "cell_type": "code",
      "metadata": {
        "id": "ulGRVPKGMyeE",
        "colab": {
          "base_uri": "https://localhost:8080/"
        },
        "outputId": "5dc58b82-498c-4860-f57f-16ca80b46852"
      },
      "source": [
        "from keras.layers import Dense, Flatten\n",
        "from keras.layers import Conv2D, MaxPooling2D\n",
        "\n",
        "model = Sequential()\n",
        "\n",
        "model.add(Conv2D(32, (3, 3), activation='relu', input_shape=(32, 32, 3)))\n",
        "model.add(Conv2D(32, (3, 3), activation='relu'))\n",
        "model.add(MaxPooling2D(pool_size=(2, 2)))\n",
        "\n",
        "model.add(Flatten())\n",
        "model.add(Dense(256, activation='relu'))\n",
        "model.add(Dense(10, activation='softmax'))\n",
        "\n",
        "sgd = SGD(learning_rate=0.01, decay=1e-6, momentum=0.9, nesterov=True)\n",
        "model.compile(loss='categorical_crossentropy', metrics=['accuracy'], optimizer=sgd)\n",
        "model.summary()"
      ],
      "execution_count": 20,
      "outputs": [
        {
          "output_type": "stream",
          "text": [
            "Model: \"sequential_1\"\n",
            "_________________________________________________________________\n",
            "Layer (type)                 Output Shape              Param #   \n",
            "=================================================================\n",
            "conv2d (Conv2D)              (None, 30, 30, 32)        896       \n",
            "_________________________________________________________________\n",
            "conv2d_1 (Conv2D)            (None, 28, 28, 32)        9248      \n",
            "_________________________________________________________________\n",
            "max_pooling2d (MaxPooling2D) (None, 14, 14, 32)        0         \n",
            "_________________________________________________________________\n",
            "flatten (Flatten)            (None, 6272)              0         \n",
            "_________________________________________________________________\n",
            "dense_3 (Dense)              (None, 256)               1605888   \n",
            "_________________________________________________________________\n",
            "dense_4 (Dense)              (None, 10)                2570      \n",
            "=================================================================\n",
            "Total params: 1,618,602\n",
            "Trainable params: 1,618,602\n",
            "Non-trainable params: 0\n",
            "_________________________________________________________________\n"
          ],
          "name": "stdout"
        }
      ]
    },
    {
      "cell_type": "markdown",
      "metadata": {
        "id": "5-nnVV4V6h3P"
      },
      "source": [
        "##Model description:"
      ]
    },
    {
      "cell_type": "code",
      "metadata": {
        "colab": {
          "base_uri": "https://localhost:8080/"
        },
        "id": "dWKbWTKk6ms6",
        "outputId": "f89a264c-9c99-4ca4-b502-7314e593e782"
      },
      "source": [
        "model.summary"
      ],
      "execution_count": 21,
      "outputs": [
        {
          "output_type": "execute_result",
          "data": {
            "text/plain": [
              "<bound method Model.summary of <keras.engine.sequential.Sequential object at 0x7ff4600c4590>>"
            ]
          },
          "metadata": {
            "tags": []
          },
          "execution_count": 21
        }
      ]
    },
    {
      "cell_type": "markdown",
      "metadata": {
        "id": "8tH2GB4LM6LR"
      },
      "source": [
        "# Training the CNN-"
      ]
    },
    {
      "cell_type": "code",
      "metadata": {
        "colab": {
          "base_uri": "https://localhost:8080/"
        },
        "id": "3L25LyjbM9xS",
        "outputId": "e72437c5-5305-4c35-a024-e2469cd8439d"
      },
      "source": [
        "history = model.fit(X_train, y_train, batch_size=32, epochs=15, verbose=2, validation_split=0.2)"
      ],
      "execution_count": 22,
      "outputs": [
        {
          "output_type": "stream",
          "text": [
            "Epoch 1/15\n",
            "1250/1250 - 34s - loss: 1.5415 - accuracy: 0.4430 - val_loss: 1.2737 - val_accuracy: 0.5505\n",
            "Epoch 2/15\n",
            "1250/1250 - 4s - loss: 1.1059 - accuracy: 0.6084 - val_loss: 1.0522 - val_accuracy: 0.6273\n",
            "Epoch 3/15\n",
            "1250/1250 - 4s - loss: 0.8690 - accuracy: 0.6938 - val_loss: 1.0013 - val_accuracy: 0.6573\n",
            "Epoch 4/15\n",
            "1250/1250 - 4s - loss: 0.6700 - accuracy: 0.7640 - val_loss: 1.0565 - val_accuracy: 0.6621\n",
            "Epoch 5/15\n",
            "1250/1250 - 4s - loss: 0.4666 - accuracy: 0.8376 - val_loss: 1.1325 - val_accuracy: 0.6597\n",
            "Epoch 6/15\n",
            "1250/1250 - 4s - loss: 0.3044 - accuracy: 0.8956 - val_loss: 1.3067 - val_accuracy: 0.6651\n",
            "Epoch 7/15\n",
            "1250/1250 - 4s - loss: 0.2016 - accuracy: 0.9302 - val_loss: 1.5339 - val_accuracy: 0.6561\n",
            "Epoch 8/15\n",
            "1250/1250 - 4s - loss: 0.1591 - accuracy: 0.9448 - val_loss: 1.6461 - val_accuracy: 0.6627\n",
            "Epoch 9/15\n",
            "1250/1250 - 4s - loss: 0.1238 - accuracy: 0.9572 - val_loss: 1.8127 - val_accuracy: 0.6525\n",
            "Epoch 10/15\n",
            "1250/1250 - 4s - loss: 0.1176 - accuracy: 0.9605 - val_loss: 1.9603 - val_accuracy: 0.6496\n",
            "Epoch 11/15\n",
            "1250/1250 - 3s - loss: 0.1002 - accuracy: 0.9671 - val_loss: 2.1198 - val_accuracy: 0.6470\n",
            "Epoch 12/15\n",
            "1250/1250 - 4s - loss: 0.0928 - accuracy: 0.9705 - val_loss: 2.2710 - val_accuracy: 0.6347\n",
            "Epoch 13/15\n",
            "1250/1250 - 3s - loss: 0.0852 - accuracy: 0.9715 - val_loss: 2.3528 - val_accuracy: 0.6521\n",
            "Epoch 14/15\n",
            "1250/1250 - 4s - loss: 0.0692 - accuracy: 0.9773 - val_loss: 2.5526 - val_accuracy: 0.6462\n",
            "Epoch 15/15\n",
            "1250/1250 - 4s - loss: 0.0564 - accuracy: 0.9818 - val_loss: 2.5808 - val_accuracy: 0.6601\n"
          ],
          "name": "stdout"
        }
      ]
    },
    {
      "cell_type": "markdown",
      "metadata": {
        "id": "FuoEizCC4ebm"
      },
      "source": [
        "## Plot the losses\n",
        "Train loss vs validation losses"
      ]
    },
    {
      "cell_type": "code",
      "metadata": {
        "colab": {
          "base_uri": "https://localhost:8080/",
          "height": 295
        },
        "id": "JrY0DuGnaXGn",
        "outputId": "170d21b1-9289-411c-de4d-4ee80b508598"
      },
      "source": [
        "plotLosses(history)"
      ],
      "execution_count": 23,
      "outputs": [
        {
          "output_type": "display_data",
          "data": {
            "image/png": "[encoded data removed]",
            "text/plain": [
              "<Figure size 432x288 with 1 Axes>"
            ]
          },
          "metadata": {
            "tags": [],
            "needs_background": "light"
          }
        }
      ]
    },
    {
      "cell_type": "markdown",
      "metadata": {
        "id": "4Z7_eKdd4g8A"
      },
      "source": [
        "Observation:\n",
        "\n",
        "-Training error is steady and very low, it is not changing with the number of epoch.\n",
        "\n",
        "-Validation error increase as the epoch increasing."
      ]
    },
    {
      "cell_type": "markdown",
      "metadata": {
        "id": "p8FncsFm49H6"
      },
      "source": [
        "# Evaluating the CNN"
      ]
    },
    {
      "cell_type": "code",
      "metadata": {
        "id": "If-WgX5Taaud"
      },
      "source": [
        "score1 = model.evaluate(X_test, y_test, batch_size=128, verbose=0)"
      ],
      "execution_count": 24,
      "outputs": []
    },
    {
      "cell_type": "code",
      "metadata": {
        "colab": {
          "base_uri": "https://localhost:8080/"
        },
        "id": "GJCgVRsLacy5",
        "outputId": "20fd41a6-c881-4ecf-97ba-9ecfbd5fed82"
      },
      "source": [
        "print(model.metrics_names)\n",
        "print(score1)"
      ],
      "execution_count": 25,
      "outputs": [
        {
          "output_type": "stream",
          "text": [
            "['loss', 'accuracy']\n",
            "[2.5866360664367676, 0.6467999815940857]\n"
          ],
          "name": "stdout"
        }
      ]
    },
    {
      "cell_type": "markdown",
      "metadata": {
        "id": "xAPQD7Jo5KzH"
      },
      "source": [
        "After implementing MLP we Observe accuracy 64% which is better than MLP model \n",
        "\n",
        "Still we will try different model and see wether accuarcy can be increased."
      ]
    },
    {
      "cell_type": "markdown",
      "metadata": {
        "id": "GtaggkzEx7o5"
      },
      "source": [
        "# **[c]- TensorFlow**\n",
        "\n",
        "We will do some changes in the model and try to implement again."
      ]
    },
    {
      "cell_type": "code",
      "metadata": {
        "colab": {
          "base_uri": "https://localhost:8080/"
        },
        "id": "SZYwOGE5yCQZ",
        "outputId": "71a1961c-aad4-43d6-9861-d099f044e6d4"
      },
      "source": [
        "import tensorflow as tf   \n",
        "  \n",
        "# Display the version\n",
        "print(tf.__version__)  "
      ],
      "execution_count": 26,
      "outputs": [
        {
          "output_type": "stream",
          "text": [
            "2.5.0\n"
          ],
          "name": "stdout"
        }
      ]
    },
    {
      "cell_type": "code",
      "metadata": {
        "id": "F3dGcky6yHjI"
      },
      "source": [
        "from tensorflow.keras.layers import Input, Conv2D, Dense, Flatten, Dropout\n",
        "from tensorflow.keras.layers import GlobalMaxPooling2D, MaxPooling2D\n",
        "from tensorflow.keras.layers import BatchNormalization\n",
        "from tensorflow.keras.models import Model"
      ],
      "execution_count": 27,
      "outputs": []
    },
    {
      "cell_type": "code",
      "metadata": {
        "colab": {
          "base_uri": "https://localhost:8080/"
        },
        "id": "Gd38SEocyK_G",
        "outputId": "30a3a81f-af80-467f-9847-e1f0e0727b6c"
      },
      "source": [
        "(X_train, y_train), (X_test, y_test) = datasets.cifar10.load_data()\n",
        "print(X_train.shape, y_train.shape, X_test.shape, y_test.shape)"
      ],
      "execution_count": 28,
      "outputs": [
        {
          "output_type": "stream",
          "text": [
            "(50000, 32, 32, 3) (50000, 1) (10000, 32, 32, 3) (10000, 1)\n"
          ],
          "name": "stdout"
        }
      ]
    },
    {
      "cell_type": "code",
      "metadata": {
        "id": "8bk36WT5zYzH"
      },
      "source": [
        "# Reduce pixel values\n",
        "\n",
        "X_train, X_test = X_train / 255.0, X_test / 255.0\n",
        "  \n",
        "# flatten the label values\n",
        "y_train, y_test = y_train.flatten(), y_test.flatten()"
      ],
      "execution_count": 29,
      "outputs": []
    },
    {
      "cell_type": "code",
      "metadata": {
        "colab": {
          "base_uri": "https://localhost:8080/",
          "height": 269
        },
        "id": "Y7kk9kspzh5U",
        "outputId": "5247553b-f2a6-4c6f-d53b-7edbd8662d43"
      },
      "source": [
        "# visualize data by plotting images\n",
        "fig, ax = plt.subplots(5, 5)\n",
        "\n",
        "k = 0\n",
        "  \n",
        "for i in range(5):\n",
        "    for j in range(5):\n",
        "        ax[i][j].imshow(X_train[k], aspect='auto')\n",
        "        k += 1\n",
        "  \n",
        "plt.show()"
      ],
      "execution_count": 30,
      "outputs": [
        {
          "output_type": "display_data",
          "data": {
            "image/png": "[encoded data removed]",
            "text/plain": [
              "<Figure size 432x288 with 25 Axes>"
            ]
          },
          "metadata": {
            "tags": [],
            "needs_background": "light"
          }
        }
      ]
    },
    {
      "cell_type": "code",
      "metadata": {
        "colab": {
          "base_uri": "https://localhost:8080/"
        },
        "id": "bNOBMX2Cz4iT",
        "outputId": "8f94c712-445d-4560-f7a1-0332bf038593"
      },
      "source": [
        "# number of classes\n",
        "K = len(set(y_train))\n",
        "  \n",
        "# calcutate total numer of clases \n",
        "# for output layer\n",
        "print(\"number of classes:\", K)"
      ],
      "execution_count": 31,
      "outputs": [
        {
          "output_type": "stream",
          "text": [
            "number of classes: 10\n"
          ],
          "name": "stdout"
        }
      ]
    },
    {
      "cell_type": "code",
      "metadata": {
        "colab": {
          "base_uri": "https://localhost:8080/"
        },
        "id": "RX51mapgz6o3",
        "outputId": "ea9ef694-9069-4d8c-bd0a-d8f176a3b8ea"
      },
      "source": [
        "# Build the model using the functional API\n",
        "# input layer\n",
        "i = Input(shape=X_train[0].shape)\n",
        "x = Conv2D(32, (3, 3), activation='relu', padding='same')(i)\n",
        "x = BatchNormalization()(x)\n",
        "x = Conv2D(32, (3, 3), activation='relu', padding='same')(x)\n",
        "x = BatchNormalization()(x)\n",
        "x = MaxPooling2D((2, 2))(x)\n",
        "\n",
        "x = Conv2D(64, (3, 3), activation='relu', padding='same')(x)\n",
        "x = BatchNormalization()(x)\n",
        "x = Conv2D(64, (3, 3), activation='relu', padding='same')(x)\n",
        "x = BatchNormalization()(x)\n",
        "x = MaxPooling2D((2, 2))(x)\n",
        "\n",
        "x = Conv2D(128, (3, 3), activation='relu', padding='same')(x)\n",
        "x = BatchNormalization()(x)\n",
        "x = Conv2D(128, (3, 3), activation='relu', padding='same')(x)\n",
        "x = BatchNormalization()(x)\n",
        "x = MaxPooling2D((2, 2))(x)\n",
        "\n",
        "x = Flatten()(x)\n",
        "x = Dropout(0.2)(x)\n",
        "\n",
        "# Hidden layer\n",
        "x = Dense(1024, activation='relu')(x)\n",
        "x = Dropout(0.2)(x)\n",
        "\n",
        "# last hidden layer i.e.. output layer\n",
        "x = Dense(K, activation='softmax')(x)\n",
        "\n",
        "model = Model(i, x)\n",
        "\n",
        "# model description\n",
        "model.summary()"
      ],
      "execution_count": 32,
      "outputs": [
        {
          "output_type": "stream",
          "text": [
            "Model: \"model\"\n",
            "_________________________________________________________________\n",
            "Layer (type)                 Output Shape              Param #   \n",
            "=================================================================\n",
            "input_1 (InputLayer)         [(None, 32, 32, 3)]       0         \n",
            "_________________________________________________________________\n",
            "conv2d (Conv2D)              (None, 32, 32, 32)        896       \n",
            "_________________________________________________________________\n",
            "batch_normalization (BatchNo (None, 32, 32, 32)        128       \n",
            "_________________________________________________________________\n",
            "conv2d_1 (Conv2D)            (None, 32, 32, 32)        9248      \n",
            "_________________________________________________________________\n",
            "batch_normalization_1 (Batch (None, 32, 32, 32)        128       \n",
            "_________________________________________________________________\n",
            "max_pooling2d (MaxPooling2D) (None, 16, 16, 32)        0         \n",
            "_________________________________________________________________\n",
            "conv2d_2 (Conv2D)            (None, 16, 16, 64)        18496     \n",
            "_________________________________________________________________\n",
            "batch_normalization_2 (Batch (None, 16, 16, 64)        256       \n",
            "_________________________________________________________________\n",
            "conv2d_3 (Conv2D)            (None, 16, 16, 64)        36928     \n",
            "_________________________________________________________________\n",
            "batch_normalization_3 (Batch (None, 16, 16, 64)        256       \n",
            "_________________________________________________________________\n",
            "max_pooling2d_1 (MaxPooling2 (None, 8, 8, 64)          0         \n",
            "_________________________________________________________________\n",
            "conv2d_4 (Conv2D)            (None, 8, 8, 128)         73856     \n",
            "_________________________________________________________________\n",
            "batch_normalization_4 (Batch (None, 8, 8, 128)         512       \n",
            "_________________________________________________________________\n",
            "conv2d_5 (Conv2D)            (None, 8, 8, 128)         147584    \n",
            "_________________________________________________________________\n",
            "batch_normalization_5 (Batch (None, 8, 8, 128)         512       \n",
            "_________________________________________________________________\n",
            "max_pooling2d_2 (MaxPooling2 (None, 4, 4, 128)         0         \n",
            "_________________________________________________________________\n",
            "flatten (Flatten)            (None, 2048)              0         \n",
            "_________________________________________________________________\n",
            "dropout (Dropout)            (None, 2048)              0         \n",
            "_________________________________________________________________\n",
            "dense (Dense)                (None, 1024)              2098176   \n",
            "_________________________________________________________________\n",
            "dropout_1 (Dropout)          (None, 1024)              0         \n",
            "_________________________________________________________________\n",
            "dense_1 (Dense)              (None, 10)                10250     \n",
            "=================================================================\n",
            "Total params: 2,397,226\n",
            "Trainable params: 2,396,330\n",
            "Non-trainable params: 896\n",
            "_________________________________________________________________\n"
          ],
          "name": "stdout"
        }
      ]
    },
    {
      "cell_type": "code",
      "metadata": {
        "id": "ywviaPYd0W7C"
      },
      "source": [
        "# Compile\n",
        "model.compile(optimizer='adam',\n",
        "              loss='sparse_categorical_crossentropy',\n",
        "              metrics=['accuracy'])"
      ],
      "execution_count": 33,
      "outputs": []
    },
    {
      "cell_type": "code",
      "metadata": {
        "colab": {
          "base_uri": "https://localhost:8080/"
        },
        "id": "vE23HJ_c0bvI",
        "outputId": "a93dd734-ea32-4050-ffb0-dfdfe9afb02c"
      },
      "source": [
        "# Fit\n",
        "r = model.fit(\n",
        "  X_train, y_train, validation_data=(X_test, y_test), epochs=50)"
      ],
      "execution_count": 34,
      "outputs": [
        {
          "output_type": "stream",
          "text": [
            "Epoch 1/50\n",
            "1563/1563 [==============================] - 12s 7ms/step - loss: 1.2841 - accuracy: 0.5600 - val_loss: 0.9669 - val_accuracy: 0.6526\n",
            "Epoch 2/50\n",
            "1563/1563 [==============================] - 10s 6ms/step - loss: 0.8320 - accuracy: 0.7088 - val_loss: 0.8385 - val_accuracy: 0.7061\n",
            "Epoch 3/50\n",
            "1563/1563 [==============================] - 10s 6ms/step - loss: 0.6836 - accuracy: 0.7650 - val_loss: 0.6813 - val_accuracy: 0.7714\n",
            "Epoch 4/50\n",
            "1563/1563 [==============================] - 10s 6ms/step - loss: 0.5802 - accuracy: 0.8017 - val_loss: 0.6532 - val_accuracy: 0.7750\n",
            "Epoch 5/50\n",
            "1563/1563 [==============================] - 10s 6ms/step - loss: 0.4878 - accuracy: 0.8311 - val_loss: 0.6402 - val_accuracy: 0.7897\n",
            "Epoch 6/50\n",
            "1563/1563 [==============================] - 10s 7ms/step - loss: 0.4192 - accuracy: 0.8562 - val_loss: 0.5992 - val_accuracy: 0.8074\n",
            "Epoch 7/50\n",
            "1563/1563 [==============================] - 11s 7ms/step - loss: 0.3514 - accuracy: 0.8794 - val_loss: 0.6492 - val_accuracy: 0.7983\n",
            "Epoch 8/50\n",
            "1563/1563 [==============================] - 10s 7ms/step - loss: 0.2985 - accuracy: 0.8957 - val_loss: 0.6532 - val_accuracy: 0.8053\n",
            "Epoch 9/50\n",
            "1563/1563 [==============================] - 10s 7ms/step - loss: 0.2570 - accuracy: 0.9110 - val_loss: 0.6309 - val_accuracy: 0.8202\n",
            "Epoch 10/50\n",
            "1563/1563 [==============================] - 11s 7ms/step - loss: 0.2226 - accuracy: 0.9237 - val_loss: 0.7214 - val_accuracy: 0.8195\n",
            "Epoch 11/50\n",
            "1563/1563 [==============================] - 11s 7ms/step - loss: 0.1907 - accuracy: 0.9346 - val_loss: 0.7138 - val_accuracy: 0.8208\n",
            "Epoch 12/50\n",
            "1563/1563 [==============================] - 10s 7ms/step - loss: 0.1770 - accuracy: 0.9394 - val_loss: 0.6700 - val_accuracy: 0.8231\n",
            "Epoch 13/50\n",
            "1563/1563 [==============================] - 10s 7ms/step - loss: 0.1553 - accuracy: 0.9466 - val_loss: 0.7170 - val_accuracy: 0.8122\n",
            "Epoch 14/50\n",
            "1563/1563 [==============================] - 11s 7ms/step - loss: 0.1393 - accuracy: 0.9530 - val_loss: 0.7276 - val_accuracy: 0.8254\n",
            "Epoch 15/50\n",
            "1563/1563 [==============================] - 10s 6ms/step - loss: 0.1385 - accuracy: 0.9535 - val_loss: 0.6802 - val_accuracy: 0.8330\n",
            "Epoch 16/50\n",
            "1563/1563 [==============================] - 10s 6ms/step - loss: 0.1193 - accuracy: 0.9601 - val_loss: 0.7365 - val_accuracy: 0.8277\n",
            "Epoch 17/50\n",
            "1563/1563 [==============================] - 10s 7ms/step - loss: 0.1126 - accuracy: 0.9631 - val_loss: 0.7308 - val_accuracy: 0.8350\n",
            "Epoch 18/50\n",
            "1563/1563 [==============================] - 11s 7ms/step - loss: 0.1074 - accuracy: 0.9635 - val_loss: 0.8473 - val_accuracy: 0.8192\n",
            "Epoch 19/50\n",
            "1563/1563 [==============================] - 10s 6ms/step - loss: 0.1116 - accuracy: 0.9629 - val_loss: 0.7174 - val_accuracy: 0.8313\n",
            "Epoch 20/50\n",
            "1563/1563 [==============================] - 11s 7ms/step - loss: 0.0919 - accuracy: 0.9699 - val_loss: 0.7388 - val_accuracy: 0.8392\n",
            "Epoch 21/50\n",
            "1563/1563 [==============================] - 11s 7ms/step - loss: 0.0891 - accuracy: 0.9711 - val_loss: 0.7741 - val_accuracy: 0.8325\n",
            "Epoch 22/50\n",
            "1563/1563 [==============================] - 11s 7ms/step - loss: 0.0929 - accuracy: 0.9686 - val_loss: 0.7892 - val_accuracy: 0.8390\n",
            "Epoch 23/50\n",
            "1563/1563 [==============================] - 10s 7ms/step - loss: 0.0845 - accuracy: 0.9730 - val_loss: 0.7176 - val_accuracy: 0.8352\n",
            "Epoch 24/50\n",
            "1563/1563 [==============================] - 11s 7ms/step - loss: 0.0845 - accuracy: 0.9721 - val_loss: 0.7504 - val_accuracy: 0.8416\n",
            "Epoch 25/50\n",
            "1563/1563 [==============================] - 10s 7ms/step - loss: 0.0745 - accuracy: 0.9751 - val_loss: 0.7614 - val_accuracy: 0.8368\n",
            "Epoch 26/50\n",
            "1563/1563 [==============================] - 11s 7ms/step - loss: 0.0743 - accuracy: 0.9758 - val_loss: 0.7414 - val_accuracy: 0.8347\n",
            "Epoch 27/50\n",
            "1563/1563 [==============================] - 11s 7ms/step - loss: 0.0651 - accuracy: 0.9792 - val_loss: 0.7620 - val_accuracy: 0.8364\n",
            "Epoch 28/50\n",
            "1563/1563 [==============================] - 11s 7ms/step - loss: 0.0720 - accuracy: 0.9765 - val_loss: 0.8114 - val_accuracy: 0.8421\n",
            "Epoch 29/50\n",
            "1563/1563 [==============================] - 10s 7ms/step - loss: 0.0646 - accuracy: 0.9788 - val_loss: 0.8034 - val_accuracy: 0.8402\n",
            "Epoch 30/50\n",
            "1563/1563 [==============================] - 11s 7ms/step - loss: 0.0633 - accuracy: 0.9791 - val_loss: 0.7703 - val_accuracy: 0.8448\n",
            "Epoch 31/50\n",
            "1563/1563 [==============================] - 11s 7ms/step - loss: 0.0647 - accuracy: 0.9794 - val_loss: 0.7901 - val_accuracy: 0.8393\n",
            "Epoch 32/50\n",
            "1563/1563 [==============================] - 10s 7ms/step - loss: 0.0619 - accuracy: 0.9798 - val_loss: 0.8297 - val_accuracy: 0.8287\n",
            "Epoch 33/50\n",
            "1563/1563 [==============================] - 10s 7ms/step - loss: 0.0568 - accuracy: 0.9813 - val_loss: 0.8322 - val_accuracy: 0.8382\n",
            "Epoch 34/50\n",
            "1563/1563 [==============================] - 11s 7ms/step - loss: 0.0600 - accuracy: 0.9807 - val_loss: 0.7741 - val_accuracy: 0.8302\n",
            "Epoch 35/50\n",
            "1563/1563 [==============================] - 11s 7ms/step - loss: 0.0531 - accuracy: 0.9833 - val_loss: 0.8310 - val_accuracy: 0.8446\n",
            "Epoch 36/50\n",
            "1563/1563 [==============================] - 10s 7ms/step - loss: 0.0490 - accuracy: 0.9836 - val_loss: 0.7825 - val_accuracy: 0.8333\n",
            "Epoch 37/50\n",
            "1563/1563 [==============================] - 10s 7ms/step - loss: 0.0529 - accuracy: 0.9829 - val_loss: 0.7485 - val_accuracy: 0.8460\n",
            "Epoch 38/50\n",
            "1563/1563 [==============================] - 10s 7ms/step - loss: 0.0536 - accuracy: 0.9831 - val_loss: 0.8521 - val_accuracy: 0.8420\n",
            "Epoch 39/50\n",
            "1563/1563 [==============================] - 10s 7ms/step - loss: 0.0499 - accuracy: 0.9843 - val_loss: 0.8531 - val_accuracy: 0.8483\n",
            "Epoch 40/50\n",
            "1563/1563 [==============================] - 10s 7ms/step - loss: 0.0475 - accuracy: 0.9837 - val_loss: 0.9008 - val_accuracy: 0.8423\n",
            "Epoch 41/50\n",
            "1563/1563 [==============================] - 10s 7ms/step - loss: 0.0453 - accuracy: 0.9852 - val_loss: 0.8369 - val_accuracy: 0.8436\n",
            "Epoch 42/50\n",
            "1563/1563 [==============================] - 11s 7ms/step - loss: 0.0475 - accuracy: 0.9845 - val_loss: 0.9018 - val_accuracy: 0.8416\n",
            "Epoch 43/50\n",
            "1563/1563 [==============================] - 10s 7ms/step - loss: 0.0487 - accuracy: 0.9846 - val_loss: 0.7906 - val_accuracy: 0.8405\n",
            "Epoch 44/50\n",
            "1563/1563 [==============================] - 10s 7ms/step - loss: 0.0433 - accuracy: 0.9859 - val_loss: 0.8404 - val_accuracy: 0.8406\n",
            "Epoch 45/50\n",
            "1563/1563 [==============================] - 10s 7ms/step - loss: 0.0416 - accuracy: 0.9864 - val_loss: 0.9406 - val_accuracy: 0.8279\n",
            "Epoch 46/50\n",
            "1563/1563 [==============================] - 10s 7ms/step - loss: 0.0439 - accuracy: 0.9859 - val_loss: 1.1154 - val_accuracy: 0.8044\n",
            "Epoch 47/50\n",
            "1563/1563 [==============================] - 10s 7ms/step - loss: 0.0427 - accuracy: 0.9867 - val_loss: 0.9162 - val_accuracy: 0.8388\n",
            "Epoch 48/50\n",
            "1563/1563 [==============================] - 11s 7ms/step - loss: 0.0430 - accuracy: 0.9867 - val_loss: 0.9946 - val_accuracy: 0.8308\n",
            "Epoch 49/50\n",
            "1563/1563 [==============================] - 10s 7ms/step - loss: 0.0418 - accuracy: 0.9866 - val_loss: 0.8437 - val_accuracy: 0.8511\n",
            "Epoch 50/50\n",
            "1563/1563 [==============================] - 11s 7ms/step - loss: 0.0390 - accuracy: 0.9882 - val_loss: 0.9313 - val_accuracy: 0.8443\n"
          ],
          "name": "stdout"
        }
      ]
    },
    {
      "cell_type": "code",
      "metadata": {
        "colab": {
          "base_uri": "https://localhost:8080/"
        },
        "id": "gg_SvGzD2LEb",
        "outputId": "978b200c-2460-4258-a84d-82bcb7e46b57"
      },
      "source": [
        "# Fit with data augmentation\n",
        "# Note: if you run this AFTER calling\n",
        "# the previous model.fit()\n",
        "# it will CONTINUE training where it left off\n",
        "batch_size = 32\n",
        "data_generator = tf.keras.preprocessing.image.ImageDataGenerator(\n",
        "  width_shift_range=0.1, height_shift_range=0.1, horizontal_flip=True)\n",
        "  \n",
        "train_generator = data_generator.flow(X_train, y_train, batch_size)\n",
        "steps_per_epoch = X_train.shape[0] // batch_size\n",
        "  \n",
        "r = model.fit(train_generator, validation_data=(X_test, y_test),\n",
        "              steps_per_epoch=steps_per_epoch, epochs=50)"
      ],
      "execution_count": 35,
      "outputs": [
        {
          "output_type": "stream",
          "text": [
            "Epoch 1/50\n",
            "1562/1562 [==============================] - 29s 18ms/step - loss: 0.5473 - accuracy: 0.8268 - val_loss: 0.4759 - val_accuracy: 0.8437\n",
            "Epoch 2/50\n",
            "1562/1562 [==============================] - 29s 18ms/step - loss: 0.4330 - accuracy: 0.8563 - val_loss: 0.4772 - val_accuracy: 0.8467\n",
            "Epoch 3/50\n",
            "1562/1562 [==============================] - 29s 18ms/step - loss: 0.4103 - accuracy: 0.8642 - val_loss: 0.4651 - val_accuracy: 0.8473\n",
            "Epoch 4/50\n",
            "1562/1562 [==============================] - 29s 19ms/step - loss: 0.3791 - accuracy: 0.8743 - val_loss: 0.4402 - val_accuracy: 0.8551\n",
            "Epoch 5/50\n",
            "1562/1562 [==============================] - 29s 18ms/step - loss: 0.3697 - accuracy: 0.8763 - val_loss: 0.4674 - val_accuracy: 0.8599\n",
            "Epoch 6/50\n",
            "1562/1562 [==============================] - 28s 18ms/step - loss: 0.3502 - accuracy: 0.8839 - val_loss: 0.4315 - val_accuracy: 0.8630\n",
            "Epoch 7/50\n",
            "1562/1562 [==============================] - 28s 18ms/step - loss: 0.3371 - accuracy: 0.8867 - val_loss: 0.4335 - val_accuracy: 0.8582\n",
            "Epoch 8/50\n",
            "1562/1562 [==============================] - 28s 18ms/step - loss: 0.3276 - accuracy: 0.8891 - val_loss: 0.5236 - val_accuracy: 0.8338\n",
            "Epoch 9/50\n",
            "1562/1562 [==============================] - 29s 18ms/step - loss: 0.3130 - accuracy: 0.8955 - val_loss: 0.4192 - val_accuracy: 0.8664\n",
            "Epoch 10/50\n",
            "1562/1562 [==============================] - 29s 18ms/step - loss: 0.3105 - accuracy: 0.8962 - val_loss: 0.4056 - val_accuracy: 0.8687\n",
            "Epoch 11/50\n",
            "1562/1562 [==============================] - 29s 18ms/step - loss: 0.2981 - accuracy: 0.8985 - val_loss: 0.3858 - val_accuracy: 0.8735\n",
            "Epoch 12/50\n",
            "1562/1562 [==============================] - 28s 18ms/step - loss: 0.2871 - accuracy: 0.9022 - val_loss: 0.3969 - val_accuracy: 0.8767\n",
            "Epoch 13/50\n",
            "1562/1562 [==============================] - 29s 19ms/step - loss: 0.2826 - accuracy: 0.9054 - val_loss: 0.4321 - val_accuracy: 0.8647\n",
            "Epoch 14/50\n",
            "1562/1562 [==============================] - 29s 19ms/step - loss: 0.2766 - accuracy: 0.9068 - val_loss: 0.4241 - val_accuracy: 0.8653\n",
            "Epoch 15/50\n",
            "1562/1562 [==============================] - 28s 18ms/step - loss: 0.2696 - accuracy: 0.9092 - val_loss: 0.4354 - val_accuracy: 0.8644\n",
            "Epoch 16/50\n",
            "1562/1562 [==============================] - 29s 18ms/step - loss: 0.2663 - accuracy: 0.9092 - val_loss: 0.3959 - val_accuracy: 0.8742\n",
            "Epoch 17/50\n",
            "1562/1562 [==============================] - 29s 18ms/step - loss: 0.2530 - accuracy: 0.9142 - val_loss: 0.3964 - val_accuracy: 0.8698\n",
            "Epoch 18/50\n",
            "1562/1562 [==============================] - 29s 18ms/step - loss: 0.2543 - accuracy: 0.9135 - val_loss: 0.3961 - val_accuracy: 0.8743\n",
            "Epoch 19/50\n",
            "1562/1562 [==============================] - 30s 19ms/step - loss: 0.2422 - accuracy: 0.9179 - val_loss: 0.4117 - val_accuracy: 0.8753\n",
            "Epoch 20/50\n",
            "1562/1562 [==============================] - 29s 18ms/step - loss: 0.2458 - accuracy: 0.9165 - val_loss: 0.3796 - val_accuracy: 0.8713\n",
            "Epoch 21/50\n",
            "1562/1562 [==============================] - 29s 19ms/step - loss: 0.2367 - accuracy: 0.9192 - val_loss: 0.4261 - val_accuracy: 0.8697\n",
            "Epoch 22/50\n",
            "1562/1562 [==============================] - 29s 19ms/step - loss: 0.2375 - accuracy: 0.9183 - val_loss: 0.4135 - val_accuracy: 0.8727\n",
            "Epoch 23/50\n",
            "1562/1562 [==============================] - 29s 19ms/step - loss: 0.2293 - accuracy: 0.9215 - val_loss: 0.4088 - val_accuracy: 0.8744\n",
            "Epoch 24/50\n",
            "1562/1562 [==============================] - 29s 18ms/step - loss: 0.2267 - accuracy: 0.9233 - val_loss: 0.4109 - val_accuracy: 0.8738\n",
            "Epoch 25/50\n",
            "1562/1562 [==============================] - 29s 19ms/step - loss: 0.2213 - accuracy: 0.9243 - val_loss: 0.4052 - val_accuracy: 0.8718\n",
            "Epoch 26/50\n",
            "1562/1562 [==============================] - 30s 19ms/step - loss: 0.2144 - accuracy: 0.9258 - val_loss: 0.4052 - val_accuracy: 0.8786\n",
            "Epoch 27/50\n",
            "1562/1562 [==============================] - 29s 19ms/step - loss: 0.2117 - accuracy: 0.9265 - val_loss: 0.4028 - val_accuracy: 0.8823\n",
            "Epoch 28/50\n",
            "1562/1562 [==============================] - 29s 19ms/step - loss: 0.2146 - accuracy: 0.9262 - val_loss: 0.4080 - val_accuracy: 0.8765\n",
            "Epoch 29/50\n",
            "1562/1562 [==============================] - 29s 19ms/step - loss: 0.2070 - accuracy: 0.9290 - val_loss: 0.4059 - val_accuracy: 0.8800\n",
            "Epoch 30/50\n",
            "1562/1562 [==============================] - 29s 18ms/step - loss: 0.2070 - accuracy: 0.9296 - val_loss: 0.4028 - val_accuracy: 0.8829\n",
            "Epoch 31/50\n",
            "1562/1562 [==============================] - 29s 18ms/step - loss: 0.2086 - accuracy: 0.9276 - val_loss: 0.4038 - val_accuracy: 0.8754\n",
            "Epoch 32/50\n",
            "1562/1562 [==============================] - 29s 18ms/step - loss: 0.1994 - accuracy: 0.9319 - val_loss: 0.3883 - val_accuracy: 0.8774\n",
            "Epoch 33/50\n",
            "1562/1562 [==============================] - 29s 19ms/step - loss: 0.1977 - accuracy: 0.9336 - val_loss: 0.3994 - val_accuracy: 0.8794\n",
            "Epoch 34/50\n",
            "1562/1562 [==============================] - 30s 19ms/step - loss: 0.1994 - accuracy: 0.9317 - val_loss: 0.4011 - val_accuracy: 0.8789\n",
            "Epoch 35/50\n",
            "1562/1562 [==============================] - 29s 19ms/step - loss: 0.1963 - accuracy: 0.9337 - val_loss: 0.3747 - val_accuracy: 0.8778\n",
            "Epoch 36/50\n",
            "1562/1562 [==============================] - 29s 19ms/step - loss: 0.1900 - accuracy: 0.9364 - val_loss: 0.3888 - val_accuracy: 0.8784\n",
            "Epoch 37/50\n",
            "1562/1562 [==============================] - 29s 18ms/step - loss: 0.1872 - accuracy: 0.9355 - val_loss: 0.4120 - val_accuracy: 0.8813\n",
            "Epoch 38/50\n",
            "1562/1562 [==============================] - 29s 19ms/step - loss: 0.1898 - accuracy: 0.9362 - val_loss: 0.3796 - val_accuracy: 0.8806\n",
            "Epoch 39/50\n",
            "1562/1562 [==============================] - 29s 19ms/step - loss: 0.1856 - accuracy: 0.9373 - val_loss: 0.3971 - val_accuracy: 0.8816\n",
            "Epoch 40/50\n",
            "1562/1562 [==============================] - 29s 19ms/step - loss: 0.1796 - accuracy: 0.9397 - val_loss: 0.3788 - val_accuracy: 0.8785\n",
            "Epoch 41/50\n",
            "1562/1562 [==============================] - 29s 19ms/step - loss: 0.1822 - accuracy: 0.9383 - val_loss: 0.4207 - val_accuracy: 0.8833\n",
            "Epoch 42/50\n",
            "1562/1562 [==============================] - 30s 19ms/step - loss: 0.1782 - accuracy: 0.9399 - val_loss: 0.4134 - val_accuracy: 0.8832\n",
            "Epoch 43/50\n",
            "1562/1562 [==============================] - 29s 19ms/step - loss: 0.1761 - accuracy: 0.9407 - val_loss: 0.4100 - val_accuracy: 0.8816\n",
            "Epoch 44/50\n",
            "1562/1562 [==============================] - 29s 18ms/step - loss: 0.1741 - accuracy: 0.9408 - val_loss: 0.4328 - val_accuracy: 0.8790\n",
            "Epoch 45/50\n",
            "1562/1562 [==============================] - 29s 18ms/step - loss: 0.1758 - accuracy: 0.9415 - val_loss: 0.4391 - val_accuracy: 0.8793\n",
            "Epoch 46/50\n",
            "1562/1562 [==============================] - 29s 18ms/step - loss: 0.1769 - accuracy: 0.9392 - val_loss: 0.4160 - val_accuracy: 0.8786\n",
            "Epoch 47/50\n",
            "1562/1562 [==============================] - 29s 19ms/step - loss: 0.1679 - accuracy: 0.9432 - val_loss: 0.4094 - val_accuracy: 0.8862\n",
            "Epoch 48/50\n",
            "1562/1562 [==============================] - 29s 19ms/step - loss: 0.1699 - accuracy: 0.9425 - val_loss: 0.3870 - val_accuracy: 0.8864\n",
            "Epoch 49/50\n",
            "1562/1562 [==============================] - 29s 19ms/step - loss: 0.1700 - accuracy: 0.9433 - val_loss: 0.4502 - val_accuracy: 0.8766\n",
            "Epoch 50/50\n",
            "1562/1562 [==============================] - 29s 18ms/step - loss: 0.1619 - accuracy: 0.9452 - val_loss: 0.4061 - val_accuracy: 0.8832\n"
          ],
          "name": "stdout"
        }
      ]
    },
    {
      "cell_type": "code",
      "metadata": {
        "colab": {
          "base_uri": "https://localhost:8080/",
          "height": 282
        },
        "id": "mDJQzOuE7YUn",
        "outputId": "f0524d02-6a55-4da8-e6c7-a24891abc324"
      },
      "source": [
        "# Plot accuracy per iteration\n",
        "plt.plot(r.history['accuracy'], label='acc', color='red')\n",
        "plt.plot(r.history['val_accuracy'], label='val_acc', color='green')\n",
        "plt.legend()"
      ],
      "execution_count": 36,
      "outputs": [
        {
          "output_type": "execute_result",
          "data": {
            "text/plain": [
              "<matplotlib.legend.Legend at 0x7ff40840ce10>"
            ]
          },
          "metadata": {
            "tags": []
          },
          "execution_count": 36
        },
        {
          "output_type": "display_data",
          "data": {
            "image/png": "[encoded data removed]",
            "text/plain": [
              "<Figure size 432x288 with 1 Axes>"
            ]
          },
          "metadata": {
            "tags": [],
            "needs_background": "light"
          }
        }
      ]
    },
    {
      "cell_type": "markdown",
      "metadata": {
        "id": "ss8yqfx19B67"
      },
      "source": [
        "OBSERVATION:\n",
        "\n",
        "-Validation accuracy and Accuracy increase on every epoch."
      ]
    },
    {
      "cell_type": "markdown",
      "metadata": {
        "id": "FZOcw3Mj_hzg"
      },
      "source": [
        "## TESTING ON SINGLE IMAGE INPUT"
      ]
    },
    {
      "cell_type": "code",
      "metadata": {
        "colab": {
          "base_uri": "https://localhost:8080/",
          "height": 283
        },
        "id": "mzSS7C9b7vO2",
        "outputId": "45937935-7266-47c5-a5c9-895c92955a9c"
      },
      "source": [
        "# label mapping\n",
        "  \n",
        "labels = '''airplane automobile bird cat deerdog frog horseship truck'''.split()\n",
        "  \n",
        "# select the image from our test dataset\n",
        "image_number = 0\n",
        "  \n",
        "# display the image\n",
        "plt.imshow(X_test[image_number])\n",
        "  \n",
        "# load the image in an array\n",
        "n = np.array(X_test[image_number])\n",
        "  \n",
        "# reshape it\n",
        "p = n.reshape(1, 32, 32, 3)\n",
        "  \n",
        "# pass in the network for prediction and \n",
        "# save the predicted label\n",
        "predicted_label = labels[model.predict(p).argmax()]\n",
        "  \n",
        "# load the original label\n",
        "original_label = labels[y_test[image_number]]\n",
        "  \n",
        "# display the result\n",
        "print(\"Originaxl label is {} and predicted label is {}\".format(\n",
        "    original_label, predicted_label))"
      ],
      "execution_count": 37,
      "outputs": [
        {
          "output_type": "stream",
          "text": [
            "Originaxl label is cat and predicted label is cat\n"
          ],
          "name": "stdout"
        },
        {
          "output_type": "display_data",
          "data": {
            "image/png": "[encoded data removed]",
            "text/plain": [
              "<Figure size 432x288 with 1 Axes>"
            ]
          },
          "metadata": {
            "tags": [],
            "needs_background": "light"
          }
        }
      ]
    },
    {
      "cell_type": "code",
      "metadata": {
        "id": "eSpUSUYf8Gak"
      },
      "source": [
        "# save the model\n",
        "model.save('Machine Learning Course Project.h5')"
      ],
      "execution_count": 38,
      "outputs": []
    },
    {
      "cell_type": "markdown",
      "metadata": {
        "id": "nYcLTrR-ztpL"
      },
      "source": [
        "# **[d]- Logistic Regression**"
      ]
    },
    {
      "cell_type": "markdown",
      "metadata": {
        "id": "Xvy7LctL6ZIx"
      },
      "source": [
        "\n",
        "\n",
        "*   List item\n",
        "*   List item\n",
        "\n",
        "\n",
        "First, we load our CIFAR-10 dataset.\n",
        "Then, we upload images in batches of 100 at a time.\n",
        "Then, we convert our images into 3x32x32 tensors. This makes our batch matrix 100 x 3 x 32 x 32 in dimensions.\n",
        "Then, we pass each batch into the CIFAR10 model, which converts the tensors from 100 x 3 x 32 x 32 to 100 x 3072.\n",
        "Then, we multiply it by the weights matrix, which is [10 x 3072], which is transposed to be multiplied by each tensor batch\n",
        "This multiplication gives a 100 x 10 results matrix, with logits, and we add the bias.\n",
        "Then, softmax is applied on the logits to convert them into probabilities\n",
        "Then, cross entropy is performed on the probabilites matrix to give a continuous and differentiable cost function.\n",
        "Then, cross entropy from all the different batches is combined to give a total training loss.\n",
        "Then we calculate the partial derivatives of this cross entropy function with respect to every one of the 10x3072 weights and biases.\n",
        "Then, we subtract the gradient (the vector of all 10x3072 partial derivatives) from the vector of current thetas, for each batch. (so, youre subtracting from theta 100 times)\n",
        "We do step 11 for each number of epochs.\n",
        "\n",
        "\n",
        "\n",
        "\n"
      ]
    },
    {
      "cell_type": "code",
      "metadata": {
        "id": "AdZWuXH5zydj"
      },
      "source": [
        "import torch\n",
        "from pathlib import Path\n",
        "import pandas as pd\n",
        "import io\n",
        "import matplotlib.pyplot as plt\n",
        "import numpy as np\n",
        "import torchvision\n",
        "import torchvision.transforms as transforms"
      ],
      "execution_count": 39,
      "outputs": []
    },
    {
      "cell_type": "code",
      "metadata": {
        "colab": {
          "base_uri": "https://localhost:8080/",
          "height": 185,
          "referenced_widgets": [
            "686a07f01b054c5fb27f8f6e0006a64b",
            "048d4ce69c5f41709ace8080b48e3df3",
            "663a3987d66f4517a7ed41ea34dd5542",
            "19569091c4a24e808781cb4e83b88a40",
            "faa6fca48aec478193d60ed229948b32",
            "86634bb131ad490783b3c44d26470b98",
            "e40f42ad6dcd4c97ba72c21e041cbc98",
            "5c41b6138d18480c8a485ed870a2d830"
          ]
        },
        "id": "1-OhpTU2z1Gl",
        "outputId": "8d8e7f63-7ad4-4fbc-c5e3-f53cd2632a7c"
      },
      "source": [
        "trainset = torchvision.datasets.CIFAR10(root='./data', train=True,\n",
        "                                        download=True)\n",
        "testset = torchvision.datasets.CIFAR10(root='./data', train=False,\n",
        "                                        download=True)\n",
        "# labels \n",
        "classes = ('airplane', 'automobile', 'bird', 'cat',\n",
        "           'deer', 'dog', 'frog', 'horse', 'ship', 'truck')\n",
        "print('-----------------------------')\n",
        "print('length of training set: ' + str(len(trainset)))\n",
        "print('length of test set: ' + str(len(testset)))\n",
        "print('-----------------------------')"
      ],
      "execution_count": 40,
      "outputs": [
        {
          "output_type": "stream",
          "text": [
            "Downloading https://www.cs.toronto.edu/~kriz/cifar-10-python.tar.gz to ./data/cifar-10-python.tar.gz\n"
          ],
          "name": "stdout"
        },
        {
          "output_type": "display_data",
          "data": {
            "application/vnd.jupyter.widget-view+json": {
              "model_id": "686a07f01b054c5fb27f8f6e0006a64b",
              "version_minor": 0,
              "version_major": 2
            },
            "text/plain": [
              "HBox(children=(FloatProgress(value=0.0, max=170498071.0), HTML(value='')))"
            ]
          },
          "metadata": {
            "tags": []
          }
        },
        {
          "output_type": "stream",
          "text": [
            "\n",
            "Extracting ./data/cifar-10-python.tar.gz to ./data\n",
            "Files already downloaded and verified\n",
            "-----------------------------\n",
            "length of training set: 50000\n",
            "length of test set: 10000\n",
            "-----------------------------\n"
          ],
          "name": "stdout"
        }
      ]
    },
    {
      "cell_type": "code",
      "metadata": {
        "colab": {
          "base_uri": "https://localhost:8080/"
        },
        "id": "rQP3GZev1Qz7",
        "outputId": "a99f36f4-f216-417f-c1ad-917f53cf0eab"
      },
      "source": [
        "trainset[0]"
      ],
      "execution_count": 41,
      "outputs": [
        {
          "output_type": "execute_result",
          "data": {
            "text/plain": [
              "(<PIL.Image.Image image mode=RGB size=32x32 at 0x7FF33443D510>, 6)"
            ]
          },
          "metadata": {
            "tags": []
          },
          "execution_count": 41
        }
      ]
    },
    {
      "cell_type": "code",
      "metadata": {
        "colab": {
          "base_uri": "https://localhost:8080/",
          "height": 300
        },
        "id": "j7dErLga1jz7",
        "outputId": "3a109fee-1a14-43b1-bc90-af2473ac0fb4"
      },
      "source": [
        "example = 0\n",
        "image, label = trainset[example] #since each element of the trainset list is itself a tuple with the image details, and then the label\n",
        "print(\"this is an image of a \" + classes[(trainset[example])[1]]) # first index into tuple in trainset, then the 2nd value (label), and then the classes\n",
        "plt.imshow(image)"
      ],
      "execution_count": 42,
      "outputs": [
        {
          "output_type": "stream",
          "text": [
            "this is an image of a frog\n"
          ],
          "name": "stdout"
        },
        {
          "output_type": "execute_result",
          "data": {
            "text/plain": [
              "<matplotlib.image.AxesImage at 0x7ff333146e10>"
            ]
          },
          "metadata": {
            "tags": []
          },
          "execution_count": 42
        },
        {
          "output_type": "display_data",
          "data": {
            "image/png": "[encoded data removed]",
            "text/plain": [
              "<Figure size 432x288 with 1 Axes>"
            ]
          },
          "metadata": {
            "tags": [],
            "needs_background": "light"
          }
        }
      ]
    },
    {
      "cell_type": "markdown",
      "metadata": {
        "id": "RwglLcfy2ClU"
      },
      "source": [
        "# Transforming images into matrices of color values"
      ]
    },
    {
      "cell_type": "code",
      "metadata": {
        "id": "qBDPTQJE1o2K"
      },
      "source": [
        "import torchvision.transforms as transforms"
      ],
      "execution_count": 43,
      "outputs": []
    },
    {
      "cell_type": "code",
      "metadata": {
        "colab": {
          "base_uri": "https://localhost:8080/"
        },
        "id": "K5GU3ikp1o93",
        "outputId": "b46a7ac8-6808-467e-a195-68c512e0dc78"
      },
      "source": [
        "datasetT = torchvision.datasets.CIFAR10(root='./data', train=True,\n",
        "                                        download=True, transform=transforms.ToTensor())"
      ],
      "execution_count": 44,
      "outputs": [
        {
          "output_type": "stream",
          "text": [
            "Files already downloaded and verified\n"
          ],
          "name": "stdout"
        }
      ]
    },
    {
      "cell_type": "code",
      "metadata": {
        "colab": {
          "base_uri": "https://localhost:8080/"
        },
        "id": "689lesZS2JX-",
        "outputId": "edfc5021-6e35-4d96-b468-527c05977189"
      },
      "source": [
        "example = 5\n",
        "imgTensor, label = datasetT[example]\n",
        "print('size of image matrix: ' + str(imgTensor.shape))\n",
        "print(\"this is an image of a \" + classes[(trainset[example])[1]])"
      ],
      "execution_count": 45,
      "outputs": [
        {
          "output_type": "stream",
          "text": [
            "size of image matrix: torch.Size([3, 32, 32])\n",
            "this is an image of a automobile\n"
          ],
          "name": "stdout"
        }
      ]
    },
    {
      "cell_type": "code",
      "metadata": {
        "colab": {
          "base_uri": "https://localhost:8080/"
        },
        "id": "znHC_J8u2JfN",
        "outputId": "fff1f49b-90f3-435b-9537-7e0f97cdc794"
      },
      "source": [
        "print(imgTensor[:, 0:2, 0:2])"
      ],
      "execution_count": 46,
      "outputs": [
        {
          "output_type": "stream",
          "text": [
            "tensor([[[0.6235, 0.5882],\n",
            "         [0.5569, 0.5725]],\n",
            "\n",
            "        [[0.4000, 0.3569],\n",
            "         [0.2941, 0.2824]],\n",
            "\n",
            "        [[0.3961, 0.3725],\n",
            "         [0.2667, 0.2588]]])\n"
          ],
          "name": "stdout"
        }
      ]
    },
    {
      "cell_type": "code",
      "metadata": {
        "colab": {
          "base_uri": "https://localhost:8080/",
          "height": 283
        },
        "id": "OoQXInuY2zwt",
        "outputId": "8d8678a1-f29f-4900-f84e-5c7397e8e9da"
      },
      "source": [
        "example = 21344\n",
        "imgTensor, label = datasetT[example]\n",
        "plt.imshow(imgTensor[1, 0:32, 0:32], cmap='Greens')\n",
        "# change the 0 to 1 or 2 for different color channels.\n",
        "print(\"R channel of image 0 in dataset\")"
      ],
      "execution_count": 47,
      "outputs": [
        {
          "output_type": "stream",
          "text": [
            "R channel of image 0 in dataset\n"
          ],
          "name": "stdout"
        },
        {
          "output_type": "display_data",
          "data": {
            "image/png": "[encoded data removed]",
            "text/plain": [
              "<Figure size 432x288 with 1 Axes>"
            ]
          },
          "metadata": {
            "tags": [],
            "needs_background": "light"
          }
        }
      ]
    },
    {
      "cell_type": "markdown",
      "metadata": {
        "id": "Rwl7gvjm3Awz"
      },
      "source": [
        "# Splitting up dataset into Training and Validation sets"
      ]
    },
    {
      "cell_type": "code",
      "metadata": {
        "colab": {
          "base_uri": "https://localhost:8080/"
        },
        "id": "Ib6HM1lE24YT",
        "outputId": "740df56a-370b-4805-b17e-d4341e79e2b5"
      },
      "source": [
        "#length of training examples.\n",
        "m = 50000 \n",
        "\n",
        "#percentage of m dedicated to CV.  \n",
        "pCV = 0.2\n",
        "\n",
        "# give the amount of examples dedicated to CV. \n",
        "mCV = int(m*pCV)\n",
        "print(\"amount of training examples: \" + str(m - mCV))\n",
        "print(\"amount of cross validation examples: \" + str(mCV))"
      ],
      "execution_count": 48,
      "outputs": [
        {
          "output_type": "stream",
          "text": [
            "amount of training examples: 40000\n",
            "amount of cross validation examples: 10000\n"
          ],
          "name": "stdout"
        }
      ]
    },
    {
      "cell_type": "code",
      "metadata": {
        "id": "q32HKfxQ24b1"
      },
      "source": [
        "def splitIndices(m, pCV):\n",
        "  \"\"\" randomly shuffle a training set's indices, then split the indices into training and cross validation sets.\n",
        "   Pass in 'm', length of training set, and 'pCV', the percentage of the training set you would like \n",
        "   to dedicate to cross validation.\"\"\"\n",
        "   \n",
        "  # determine size of CV set.\n",
        "  mCV = int(m*pCV)\n",
        "\n",
        "  #create random permutation of 0 to m-1 - randomly shuffle all values from 0 to m.\n",
        "  indices = np.random.permutation(m)\n",
        "\n",
        "  #pick first mCV indices for training, and then validation.\n",
        "  return indices[mCV:], indices[:mCV]"
      ],
      "execution_count": 49,
      "outputs": []
    },
    {
      "cell_type": "code",
      "metadata": {
        "colab": {
          "base_uri": "https://localhost:8080/"
        },
        "id": "Pd3yfepZ24gg",
        "outputId": "09dbc3a3-ad7c-4357-d825-22d0e8198d02"
      },
      "source": [
        "trainIndices, valIndices = splitIndices(m, pCV)\n",
        "\n",
        "# print the first few indices of the training set, and first few of the validation set, as a sanity check to see that they are shuffled.\n",
        "print(\"length of training set: \" + str(len(trainIndices)))\n",
        "print(\"length of cross validation set: \" + str(len(valIndices)))\n",
        "print()\n",
        "print('sample validation indices: ' + str(list(valIndices[0:8])))\n",
        "print('sample educational indices: ' + str(list(trainIndices[0:8])))"
      ],
      "execution_count": 50,
      "outputs": [
        {
          "output_type": "stream",
          "text": [
            "length of training set: 40000\n",
            "length of cross validation set: 10000\n",
            "\n",
            "sample validation indices: [2893, 37178, 43173, 22394, 17259, 7171, 30602, 21252]\n",
            "sample educational indices: [21496, 15838, 49232, 39383, 21964, 21584, 1666, 9388]\n"
          ],
          "name": "stdout"
        }
      ]
    },
    {
      "cell_type": "markdown",
      "metadata": {
        "id": "TJqAMwlb3-pK"
      },
      "source": [
        "# The below code does the same as the above."
      ]
    },
    {
      "cell_type": "code",
      "metadata": {
        "id": "kIcVDcXp3kyf"
      },
      "source": [
        "from torch.utils.data.sampler import SubsetRandomSampler\n",
        "from torch.utils.data.dataloader import DataLoader"
      ],
      "execution_count": 51,
      "outputs": []
    },
    {
      "cell_type": "code",
      "metadata": {
        "colab": {
          "base_uri": "https://localhost:8080/"
        },
        "id": "4smF49_A3k14",
        "outputId": "ee61d0b6-9c67-4584-ba71-40000d977387"
      },
      "source": [
        "batchSize = 100\n",
        "\n",
        "# TRAIN SET\n",
        "\n",
        "# training sampler and data loader - creates a SubsetRandomSampler object that takes random samples of the numbers in trainIndices, or random indices.\n",
        "trainSampler = SubsetRandomSampler(trainIndices)\n",
        "\n",
        "\n",
        "# training loader - creates a dataloader object which takes the indices from trainSampler, \n",
        "# and when given batchSize, takes random batches of batchSize from the indices list, and then pairs it with\n",
        "# the respective dataset in datasetT\n",
        "trainLoader = DataLoader(datasetT, batchSize, sampler=trainSampler)\n",
        "\n",
        "print(list(trainLoader))\n",
        "\n",
        "# VALIDATION SET\n",
        "\n",
        "valSampler = SubsetRandomSampler(valIndices)\n",
        "valLoader = DataLoader(datasetT, batchSize, sampler=valSampler)"
      ],
      "execution_count": 52,
      "outputs": [
        {
          "output_type": "stream",
          "text": [
            "IOPub data rate exceeded.\n",
            "The notebook server will temporarily stop sending output\n",
            "to the client in order to avoid crashing it.\n",
            "To change this limit, set the config variable\n",
            "`--NotebookApp.iopub_data_rate_limit`.\n",
            "\n",
            "Current values:\n",
            "NotebookApp.iopub_data_rate_limit=1000000.0 (bytes/sec)\n",
            "NotebookApp.rate_limit_window=3.0 (secs)\n",
            "\n"
          ],
          "name": "stderr"
        }
      ]
    },
    {
      "cell_type": "markdown",
      "metadata": {
        "id": "Wd6XfZ5e4fiL"
      },
      "source": [
        "# LOGISTIC REGRESSION MODEL"
      ]
    },
    {
      "cell_type": "code",
      "metadata": {
        "colab": {
          "base_uri": "https://localhost:8080/"
        },
        "id": "l1Ql-Dyb4UOf",
        "outputId": "748435f7-6777-42f9-92d1-c6e28ab76680"
      },
      "source": [
        "import torch.nn as nn\n",
        "\n",
        "# this will dictate the rows of the theta matrix\n",
        "inputSize = 3*32*32\n",
        "\n",
        "# this will dictate the columns of the theta matrix\n",
        "numClasses = 10\n",
        "\n",
        "# create our linear regression model (nn.Linear creates bias terms for us)\n",
        "model = nn.Linear(inputSize, numClasses)\n",
        "\n",
        "print('dimensions of weight matrix: ' + str(model.weight.shape))\n",
        "print(model.weight)\n",
        "\n",
        "# BELOW LIST OF LEARN WEIGHT"
      ],
      "execution_count": 53,
      "outputs": [
        {
          "output_type": "stream",
          "text": [
            "dimensions of weight matrix: torch.Size([10, 3072])\n",
            "Parameter containing:\n",
            "tensor([[-0.0041, -0.0067, -0.0065,  ..., -0.0088, -0.0176, -0.0101],\n",
            "        [-0.0126, -0.0035,  0.0063,  ...,  0.0045, -0.0180, -0.0135],\n",
            "        [ 0.0165,  0.0095, -0.0060,  ..., -0.0137, -0.0126,  0.0165],\n",
            "        ...,\n",
            "        [ 0.0103, -0.0032,  0.0077,  ..., -0.0043, -0.0111, -0.0078],\n",
            "        [-0.0069, -0.0056,  0.0070,  ...,  0.0006,  0.0029, -0.0110],\n",
            "        [ 0.0070, -0.0021, -0.0051,  ..., -0.0130,  0.0013, -0.0082]],\n",
            "       requires_grad=True)\n"
          ],
          "name": "stdout"
        }
      ]
    },
    {
      "cell_type": "code",
      "metadata": {
        "colab": {
          "base_uri": "https://localhost:8080/"
        },
        "id": "GO5l30154UT5",
        "outputId": "a9cfd0d1-cd16-4298-dc4c-8d7849ca70ac"
      },
      "source": [
        "#PRINT THE LABEL WITH CORRESPONDING IMAGES.\n",
        "for images, labels in trainLoader: \n",
        "   print(labels)\n",
        "   "
      ],
      "execution_count": 54,
      "outputs": [
        {
          "output_type": "stream",
          "text": [
            "tensor([1, 6, 4, 5, 2, 7, 0, 1, 9, 9, 2, 0, 4, 7, 4, 9, 8, 9, 8, 0, 7, 9, 5, 3,\n",
            "        4, 7, 4, 8, 7, 1, 2, 5, 5, 7, 6, 1, 4, 8, 1, 1, 3, 4, 5, 7, 7, 9, 1, 5,\n",
            "        7, 0, 5, 9, 7, 5, 0, 1, 8, 2, 6, 9, 7, 3, 2, 9, 5, 1, 7, 3, 0, 9, 6, 5,\n",
            "        3, 9, 7, 2, 7, 1, 7, 7, 2, 6, 0, 0, 8, 2, 7, 0, 4, 2, 9, 6, 2, 7, 0, 2,\n",
            "        1, 9, 3, 9])\n",
            "tensor([5, 2, 7, 1, 1, 1, 6, 0, 1, 7, 0, 6, 6, 4, 8, 3, 4, 3, 2, 8, 1, 9, 9, 0,\n",
            "        8, 3, 0, 6, 7, 7, 3, 6, 4, 7, 9, 0, 1, 8, 0, 9, 1, 4, 4, 6, 1, 3, 9, 2,\n",
            "        5, 3, 3, 4, 4, 7, 7, 9, 7, 4, 4, 0, 2, 1, 1, 8, 6, 8, 1, 0, 8, 3, 1, 3,\n",
            "        5, 3, 3, 7, 9, 2, 1, 7, 6, 2, 2, 9, 4, 1, 9, 9, 2, 9, 0, 3, 2, 0, 1, 2,\n",
            "        9, 7, 1, 3])\n",
            "tensor([7, 4, 4, 7, 0, 9, 2, 3, 5, 1, 9, 2, 8, 5, 0, 2, 1, 0, 4, 4, 2, 6, 4, 4,\n",
            "        2, 2, 3, 0, 3, 6, 0, 0, 4, 4, 7, 3, 8, 0, 9, 0, 6, 7, 2, 6, 8, 7, 8, 4,\n",
            "        7, 4, 4, 5, 1, 1, 5, 9, 1, 7, 0, 3, 7, 9, 9, 2, 9, 6, 9, 7, 9, 1, 4, 5,\n",
            "        1, 5, 3, 2, 5, 4, 5, 9, 1, 7, 9, 7, 9, 6, 5, 6, 8, 3, 4, 5, 7, 6, 4, 4,\n",
            "        5, 0, 4, 9])\n",
            "tensor([0, 4, 8, 4, 9, 8, 3, 7, 2, 9, 4, 9, 3, 7, 6, 7, 2, 4, 9, 2, 5, 2, 4, 4,\n",
            "        0, 7, 7, 6, 0, 7, 1, 8, 2, 5, 8, 6, 5, 0, 0, 3, 3, 7, 4, 1, 2, 6, 1, 5,\n",
            "        4, 0, 3, 9, 2, 4, 9, 5, 1, 0, 1, 0, 3, 5, 8, 3, 7, 9, 7, 3, 4, 5, 2, 5,\n",
            "        7, 4, 2, 1, 6, 2, 1, 6, 9, 7, 7, 4, 2, 2, 9, 4, 2, 7, 3, 8, 8, 6, 8, 3,\n",
            "        1, 0, 6, 9])\n",
            "tensor([0, 0, 8, 2, 4, 9, 8, 9, 5, 9, 7, 8, 3, 7, 5, 1, 1, 5, 1, 0, 3, 5, 8, 1,\n",
            "        7, 9, 8, 3, 8, 9, 9, 2, 0, 9, 7, 3, 1, 9, 1, 4, 5, 0, 6, 7, 2, 6, 3, 5,\n",
            "        0, 5, 9, 2, 7, 2, 3, 1, 8, 2, 1, 2, 0, 4, 9, 1, 7, 1, 1, 6, 6, 5, 1, 9,\n",
            "        6, 2, 4, 5, 1, 2, 5, 1, 7, 3, 1, 6, 4, 9, 4, 8, 9, 3, 3, 4, 8, 6, 7, 9,\n",
            "        6, 4, 3, 1])\n",
            "tensor([6, 7, 0, 5, 7, 7, 5, 8, 4, 3, 0, 2, 0, 8, 7, 4, 1, 8, 4, 9, 7, 6, 9, 0,\n",
            "        6, 2, 3, 6, 9, 8, 7, 4, 5, 8, 8, 7, 3, 3, 0, 8, 5, 1, 6, 3, 4, 1, 1, 0,\n",
            "        2, 3, 6, 4, 7, 0, 1, 9, 1, 2, 6, 3, 5, 8, 6, 3, 2, 8, 0, 2, 3, 6, 0, 4,\n",
            "        2, 5, 9, 0, 2, 1, 3, 0, 2, 6, 8, 8, 9, 9, 4, 2, 1, 5, 2, 5, 0, 1, 1, 8,\n",
            "        5, 9, 0, 6])\n",
            "tensor([3, 6, 9, 9, 5, 5, 6, 1, 7, 3, 9, 5, 3, 1, 6, 9, 7, 5, 3, 3, 3, 5, 0, 8,\n",
            "        2, 5, 2, 5, 0, 2, 2, 0, 4, 1, 6, 1, 3, 5, 3, 3, 5, 2, 4, 8, 0, 0, 6, 0,\n",
            "        1, 5, 6, 5, 1, 3, 4, 0, 9, 7, 3, 2, 3, 5, 7, 0, 9, 4, 0, 3, 1, 9, 8, 5,\n",
            "        0, 3, 7, 3, 8, 6, 6, 4, 5, 4, 8, 6, 1, 0, 4, 0, 7, 1, 1, 6, 6, 5, 6, 0,\n",
            "        5, 8, 6, 2])\n",
            "tensor([7, 7, 0, 6, 5, 5, 6, 2, 0, 5, 7, 8, 6, 5, 9, 1, 2, 0, 2, 2, 4, 7, 7, 8,\n",
            "        3, 7, 1, 0, 6, 7, 6, 4, 8, 8, 3, 8, 5, 5, 4, 5, 5, 7, 0, 0, 1, 5, 2, 2,\n",
            "        1, 3, 6, 0, 7, 3, 3, 1, 7, 6, 2, 7, 1, 6, 0, 2, 2, 5, 3, 7, 4, 8, 1, 0,\n",
            "        3, 6, 1, 7, 8, 9, 8, 6, 3, 2, 6, 8, 2, 8, 6, 2, 7, 9, 9, 3, 8, 7, 1, 3,\n",
            "        6, 6, 1, 2])\n",
            "tensor([6, 2, 1, 4, 6, 4, 9, 3, 8, 2, 0, 4, 7, 7, 5, 3, 0, 1, 0, 4, 7, 8, 2, 2,\n",
            "        2, 5, 8, 0, 2, 8, 5, 5, 7, 8, 0, 7, 6, 6, 0, 1, 0, 1, 4, 7, 5, 3, 1, 6,\n",
            "        2, 3, 3, 8, 2, 7, 1, 8, 9, 6, 2, 7, 5, 7, 1, 8, 5, 2, 5, 7, 2, 1, 6, 2,\n",
            "        4, 3, 1, 4, 7, 1, 6, 4, 2, 8, 9, 3, 0, 0, 5, 0, 6, 6, 6, 8, 5, 6, 7, 5,\n",
            "        7, 0, 5, 8])\n",
            "tensor([6, 1, 9, 8, 3, 8, 9, 9, 2, 4, 4, 3, 7, 9, 5, 1, 2, 2, 4, 6, 8, 0, 9, 1,\n",
            "        7, 9, 7, 7, 4, 2, 7, 5, 6, 2, 4, 2, 0, 5, 8, 6, 5, 8, 8, 5, 5, 3, 0, 3,\n",
            "        2, 4, 5, 1, 2, 0, 3, 6, 9, 7, 5, 9, 0, 5, 1, 9, 2, 6, 7, 5, 2, 1, 9, 5,\n",
            "        7, 5, 4, 8, 7, 3, 7, 8, 8, 9, 0, 5, 6, 3, 5, 6, 8, 3, 6, 4, 3, 9, 1, 6,\n",
            "        3, 5, 6, 6])\n",
            "tensor([2, 1, 7, 7, 8, 5, 9, 0, 6, 9, 0, 5, 2, 6, 1, 3, 2, 3, 8, 8, 6, 0, 9, 8,\n",
            "        0, 4, 4, 8, 0, 9, 3, 5, 3, 5, 8, 2, 3, 7, 1, 9, 4, 3, 6, 8, 2, 5, 8, 5,\n",
            "        1, 7, 3, 4, 6, 7, 4, 5, 9, 6, 4, 2, 5, 1, 3, 9, 4, 1, 5, 6, 5, 9, 9, 3,\n",
            "        3, 6, 8, 6, 3, 2, 4, 0, 1, 5, 3, 2, 1, 7, 6, 8, 8, 6, 1, 7, 3, 9, 5, 1,\n",
            "        6, 7, 0, 0])\n",
            "tensor([0, 5, 9, 1, 5, 6, 4, 6, 3, 6, 9, 6, 6, 6, 7, 4, 5, 0, 3, 4, 0, 1, 8, 7,\n",
            "        6, 4, 1, 1, 1, 6, 6, 8, 2, 5, 2, 8, 3, 3, 7, 6, 3, 1, 7, 1, 6, 7, 4, 3,\n",
            "        2, 3, 8, 5, 5, 7, 9, 8, 4, 4, 7, 9, 7, 5, 1, 8, 4, 5, 7, 5, 7, 8, 0, 7,\n",
            "        6, 4, 3, 7, 6, 8, 5, 2, 8, 8, 2, 0, 5, 6, 3, 8, 5, 8, 9, 7, 6, 1, 8, 0,\n",
            "        4, 9, 5, 4])\n",
            "tensor([2, 8, 8, 9, 2, 4, 2, 0, 9, 9, 3, 5, 0, 2, 4, 9, 9, 4, 7, 6, 8, 5, 9, 8,\n",
            "        0, 3, 1, 0, 3, 7, 6, 0, 3, 5, 3, 2, 2, 7, 6, 8, 5, 8, 7, 1, 4, 9, 6, 3,\n",
            "        2, 1, 5, 7, 7, 5, 7, 4, 5, 4, 4, 5, 2, 5, 2, 3, 2, 2, 5, 1, 7, 4, 9, 5,\n",
            "        8, 5, 9, 2, 2, 8, 6, 3, 9, 9, 0, 4, 8, 5, 4, 3, 5, 1, 5, 6, 3, 8, 9, 5,\n",
            "        8, 6, 5, 3])\n",
            "tensor([3, 2, 3, 5, 8, 3, 3, 9, 3, 2, 6, 4, 1, 0, 9, 1, 6, 9, 9, 4, 4, 4, 5, 8,\n",
            "        0, 7, 0, 4, 1, 4, 0, 1, 8, 5, 3, 6, 9, 6, 1, 7, 9, 8, 8, 8, 8, 5, 2, 4,\n",
            "        3, 4, 3, 2, 0, 7, 7, 6, 2, 4, 4, 5, 4, 9, 9, 6, 2, 9, 8, 5, 8, 2, 2, 1,\n",
            "        3, 1, 9, 2, 4, 7, 3, 0, 7, 4, 3, 7, 0, 2, 5, 5, 0, 1, 1, 0, 8, 3, 6, 8,\n",
            "        5, 2, 5, 4])\n",
            "tensor([6, 9, 4, 2, 5, 4, 1, 2, 4, 8, 8, 4, 3, 1, 3, 8, 9, 4, 6, 1, 5, 2, 8, 5,\n",
            "        3, 2, 3, 5, 8, 8, 6, 7, 2, 3, 7, 2, 9, 1, 4, 4, 9, 8, 6, 2, 5, 8, 9, 4,\n",
            "        3, 5, 7, 4, 8, 9, 6, 0, 1, 6, 9, 3, 0, 8, 2, 5, 6, 4, 8, 4, 5, 1, 1, 3,\n",
            "        3, 5, 4, 7, 7, 3, 6, 3, 0, 2, 3, 7, 7, 2, 4, 2, 2, 1, 7, 1, 9, 0, 4, 4,\n",
            "        6, 9, 8, 7])\n",
            "tensor([5, 0, 5, 1, 9, 3, 4, 0, 1, 3, 2, 2, 6, 2, 5, 4, 3, 8, 6, 6, 2, 5, 0, 1,\n",
            "        8, 4, 7, 3, 4, 7, 7, 5, 2, 4, 8, 9, 5, 3, 6, 4, 0, 1, 0, 7, 0, 3, 7, 5,\n",
            "        3, 3, 4, 0, 3, 1, 5, 7, 6, 1, 3, 4, 8, 9, 1, 0, 4, 2, 8, 3, 9, 2, 3, 0,\n",
            "        4, 8, 5, 2, 2, 3, 9, 3, 2, 2, 9, 6, 3, 7, 4, 5, 3, 3, 4, 7, 6, 5, 4, 2,\n",
            "        0, 5, 4, 7])\n",
            "tensor([2, 1, 6, 0, 1, 8, 5, 1, 1, 3, 6, 2, 2, 9, 9, 8, 0, 1, 4, 4, 7, 3, 3, 0,\n",
            "        4, 5, 7, 6, 0, 0, 4, 7, 4, 8, 1, 8, 7, 0, 5, 3, 9, 2, 8, 1, 1, 9, 3, 5,\n",
            "        5, 7, 9, 7, 5, 0, 4, 9, 0, 2, 4, 5, 9, 9, 1, 8, 5, 7, 3, 8, 1, 4, 0, 4,\n",
            "        7, 5, 9, 2, 1, 4, 9, 1, 3, 0, 4, 1, 7, 8, 8, 7, 8, 3, 4, 6, 9, 4, 6, 7,\n",
            "        5, 9, 4, 5])\n",
            "tensor([5, 3, 3, 0, 4, 8, 1, 4, 1, 3, 6, 4, 8, 4, 5, 9, 1, 2, 7, 8, 5, 2, 8, 3,\n",
            "        6, 2, 0, 4, 1, 9, 6, 3, 8, 5, 9, 0, 1, 3, 5, 7, 5, 9, 5, 7, 1, 6, 7, 2,\n",
            "        5, 2, 5, 2, 7, 3, 1, 0, 2, 3, 3, 5, 7, 2, 2, 2, 4, 7, 3, 2, 2, 6, 5, 3,\n",
            "        3, 2, 3, 8, 9, 6, 3, 0, 5, 8, 9, 0, 1, 9, 7, 7, 2, 1, 3, 2, 4, 0, 3, 1,\n",
            "        1, 5, 0, 0])\n",
            "tensor([3, 1, 3, 0, 2, 1, 6, 2, 5, 3, 2, 8, 7, 2, 1, 7, 1, 3, 8, 5, 1, 7, 3, 2,\n",
            "        3, 2, 5, 4, 3, 6, 8, 7, 6, 4, 4, 5, 4, 6, 0, 3, 0, 5, 0, 1, 6, 3, 2, 9,\n",
            "        5, 6, 3, 0, 5, 5, 9, 3, 0, 8, 7, 1, 9, 0, 9, 0, 9, 1, 4, 5, 5, 3, 0, 6,\n",
            "        0, 3, 7, 4, 2, 8, 3, 6, 6, 5, 2, 9, 4, 7, 2, 8, 7, 8, 6, 2, 6, 5, 9, 2,\n",
            "        9, 1, 2, 3])\n",
            "tensor([7, 4, 3, 4, 0, 6, 0, 5, 8, 9, 8, 5, 8, 1, 6, 7, 6, 5, 3, 1, 1, 3, 9, 7,\n",
            "        2, 0, 5, 5, 8, 6, 5, 4, 1, 6, 9, 7, 2, 0, 5, 6, 0, 8, 5, 0, 6, 6, 1, 8,\n",
            "        1, 6, 7, 5, 0, 6, 2, 9, 5, 3, 2, 3, 1, 5, 6, 9, 1, 8, 9, 6, 8, 3, 1, 7,\n",
            "        8, 1, 0, 9, 7, 6, 7, 4, 6, 4, 7, 9, 7, 3, 8, 7, 4, 1, 3, 7, 2, 1, 4, 4,\n",
            "        7, 6, 7, 6])\n",
            "tensor([3, 0, 5, 1, 5, 2, 8, 2, 6, 7, 5, 4, 1, 4, 1, 5, 0, 6, 3, 0, 2, 2, 7, 3,\n",
            "        6, 8, 1, 0, 1, 4, 3, 5, 2, 2, 6, 6, 0, 4, 0, 9, 2, 6, 0, 5, 5, 7, 0, 6,\n",
            "        6, 0, 0, 6, 3, 3, 6, 2, 1, 8, 1, 7, 4, 0, 4, 4, 2, 1, 8, 2, 9, 2, 3, 8,\n",
            "        7, 6, 3, 7, 7, 3, 6, 8, 7, 9, 0, 8, 4, 9, 3, 9, 9, 3, 4, 0, 8, 8, 7, 4,\n",
            "        2, 1, 3, 0])\n",
            "tensor([2, 8, 0, 1, 6, 0, 8, 8, 3, 8, 9, 0, 8, 3, 2, 2, 1, 2, 2, 5, 5, 1, 9, 6,\n",
            "        7, 2, 7, 9, 4, 2, 3, 1, 7, 4, 3, 1, 7, 8, 8, 3, 4, 0, 2, 0, 0, 6, 5, 5,\n",
            "        4, 7, 9, 3, 0, 5, 3, 1, 1, 8, 1, 6, 2, 5, 8, 8, 7, 9, 3, 7, 2, 2, 1, 2,\n",
            "        0, 6, 2, 7, 3, 4, 5, 7, 0, 2, 6, 8, 0, 0, 0, 3, 2, 2, 9, 9, 8, 3, 4, 6,\n",
            "        7, 5, 8, 7])\n",
            "tensor([6, 4, 0, 2, 0, 0, 1, 6, 4, 9, 2, 3, 3, 0, 3, 8, 1, 8, 1, 6, 5, 6, 7, 2,\n",
            "        2, 6, 0, 8, 7, 2, 7, 3, 6, 3, 0, 4, 2, 1, 1, 0, 9, 1, 7, 8, 2, 1, 8, 0,\n",
            "        9, 4, 2, 3, 4, 7, 5, 0, 0, 3, 7, 4, 5, 0, 1, 1, 0, 5, 1, 2, 2, 6, 3, 8,\n",
            "        7, 5, 6, 9, 6, 3, 6, 4, 6, 1, 7, 5, 4, 0, 5, 4, 5, 3, 7, 1, 1, 2, 5, 6,\n",
            "        6, 2, 9, 8])\n",
            "tensor([0, 4, 5, 0, 0, 6, 9, 4, 7, 8, 2, 8, 7, 7, 5, 6, 6, 7, 9, 6, 1, 5, 1, 1,\n",
            "        8, 0, 0, 9, 2, 4, 5, 5, 5, 2, 3, 2, 2, 1, 0, 7, 7, 9, 7, 4, 4, 1, 4, 3,\n",
            "        5, 6, 8, 6, 9, 9, 9, 2, 6, 4, 8, 1, 0, 0, 5, 1, 1, 2, 1, 1, 1, 7, 9, 1,\n",
            "        4, 1, 3, 6, 0, 0, 3, 5, 0, 2, 0, 3, 7, 0, 0, 0, 9, 9, 5, 5, 3, 6, 2, 8,\n",
            "        1, 8, 8, 4])\n",
            "tensor([0, 9, 1, 6, 1, 9, 6, 8, 1, 7, 8, 5, 5, 0, 1, 8, 0, 2, 4, 4, 6, 3, 5, 0,\n",
            "        9, 3, 8, 1, 1, 6, 9, 5, 6, 9, 0, 3, 6, 5, 1, 6, 6, 8, 5, 4, 8, 8, 5, 9,\n",
            "        3, 1, 5, 2, 6, 9, 9, 0, 6, 1, 8, 1, 8, 9, 6, 1, 9, 9, 4, 1, 0, 7, 9, 2,\n",
            "        6, 8, 8, 9, 3, 7, 2, 2, 1, 3, 0, 5, 9, 5, 2, 1, 2, 1, 2, 1, 0, 0, 3, 4,\n",
            "        9, 0, 5, 7])\n",
            "tensor([6, 8, 7, 9, 3, 5, 4, 5, 7, 0, 4, 5, 8, 9, 9, 6, 8, 9, 1, 0, 8, 2, 8, 0,\n",
            "        7, 0, 4, 8, 1, 3, 8, 5, 4, 0, 6, 1, 1, 2, 2, 0, 0, 2, 9, 7, 6, 2, 2, 0,\n",
            "        3, 4, 1, 9, 3, 0, 7, 8, 0, 9, 9, 3, 9, 6, 3, 0, 8, 7, 9, 3, 4, 3, 9, 2,\n",
            "        7, 4, 3, 3, 2, 6, 0, 7, 0, 6, 2, 0, 0, 4, 2, 0, 3, 0, 5, 8, 4, 9, 9, 4,\n",
            "        3, 4, 4, 6])\n",
            "tensor([6, 8, 7, 8, 3, 6, 2, 5, 1, 4, 7, 6, 9, 5, 3, 1, 3, 1, 1, 1, 6, 1, 6, 7,\n",
            "        7, 8, 0, 3, 5, 9, 1, 3, 1, 5, 2, 2, 5, 7, 3, 7, 3, 7, 5, 3, 7, 3, 7, 6,\n",
            "        2, 1, 2, 8, 5, 6, 9, 3, 1, 3, 9, 8, 0, 8, 7, 1, 6, 3, 7, 2, 4, 9, 1, 2,\n",
            "        6, 6, 8, 3, 5, 5, 7, 2, 7, 7, 0, 9, 9, 0, 3, 4, 5, 5, 5, 4, 0, 0, 7, 1,\n",
            "        1, 0, 3, 9])\n",
            "tensor([9, 8, 3, 3, 6, 0, 1, 2, 0, 3, 6, 1, 9, 9, 9, 8, 2, 5, 1, 2, 4, 2, 5, 0,\n",
            "        5, 4, 2, 9, 5, 6, 4, 3, 6, 0, 8, 5, 0, 7, 2, 5, 3, 5, 0, 0, 7, 6, 1, 7,\n",
            "        3, 8, 9, 2, 8, 6, 6, 0, 9, 4, 3, 2, 1, 4, 4, 2, 0, 5, 6, 5, 5, 9, 7, 3,\n",
            "        8, 1, 9, 2, 4, 0, 7, 6, 4, 8, 6, 2, 8, 0, 2, 7, 3, 7, 7, 6, 8, 8, 7, 5,\n",
            "        7, 2, 4, 2])\n",
            "tensor([5, 6, 1, 4, 1, 5, 6, 5, 4, 9, 8, 3, 4, 8, 4, 6, 5, 4, 4, 4, 4, 1, 1, 2,\n",
            "        8, 2, 7, 2, 1, 8, 1, 5, 7, 4, 6, 1, 4, 7, 5, 6, 1, 1, 4, 9, 4, 2, 2, 3,\n",
            "        3, 0, 9, 6, 3, 3, 0, 6, 3, 3, 7, 9, 9, 0, 3, 5, 1, 9, 1, 3, 4, 2, 9, 5,\n",
            "        8, 4, 2, 3, 5, 5, 4, 6, 7, 5, 4, 6, 4, 9, 8, 4, 8, 9, 4, 3, 2, 5, 6, 4,\n",
            "        7, 7, 1, 5])\n",
            "tensor([7, 3, 9, 1, 5, 6, 1, 8, 4, 1, 1, 1, 7, 6, 3, 0, 2, 0, 8, 8, 5, 4, 9, 9,\n",
            "        4, 5, 8, 1, 1, 3, 1, 4, 1, 7, 2, 8, 2, 6, 9, 6, 4, 5, 1, 1, 7, 2, 1, 6,\n",
            "        1, 7, 2, 6, 6, 2, 7, 8, 6, 0, 9, 7, 5, 4, 2, 2, 7, 4, 4, 2, 5, 8, 0, 8,\n",
            "        5, 6, 6, 1, 0, 3, 6, 2, 5, 0, 0, 6, 5, 1, 1, 2, 6, 0, 1, 2, 1, 7, 3, 3,\n",
            "        8, 9, 0, 2])\n",
            "tensor([1, 8, 9, 5, 7, 3, 4, 4, 7, 0, 6, 8, 3, 8, 8, 7, 6, 1, 2, 8, 5, 3, 8, 0,\n",
            "        8, 6, 5, 1, 4, 7, 6, 6, 9, 2, 3, 6, 3, 8, 7, 3, 4, 3, 9, 7, 2, 8, 8, 6,\n",
            "        2, 2, 0, 9, 3, 4, 9, 6, 0, 2, 0, 0, 8, 5, 3, 3, 1, 9, 8, 8, 4, 1, 0, 2,\n",
            "        1, 0, 7, 1, 7, 4, 6, 7, 0, 9, 9, 6, 4, 1, 0, 3, 1, 2, 2, 2, 2, 5, 5, 2,\n",
            "        5, 5, 2, 2])\n",
            "tensor([9, 9, 7, 8, 3, 8, 3, 4, 3, 3, 3, 4, 6, 8, 4, 4, 9, 0, 4, 1, 9, 2, 1, 7,\n",
            "        4, 3, 4, 5, 9, 6, 5, 2, 9, 1, 9, 1, 3, 8, 5, 6, 3, 9, 3, 4, 0, 7, 8, 5,\n",
            "        1, 1, 1, 3, 0, 3, 3, 5, 1, 5, 3, 1, 4, 0, 4, 4, 8, 9, 3, 7, 3, 6, 0, 9,\n",
            "        2, 9, 0, 1, 5, 9, 9, 5, 8, 8, 6, 2, 1, 9, 8, 3, 5, 5, 8, 6, 8, 6, 8, 7,\n",
            "        7, 9, 4, 8])\n",
            "tensor([9, 1, 3, 6, 1, 1, 8, 9, 6, 8, 8, 1, 1, 1, 4, 5, 3, 5, 4, 7, 7, 7, 6, 0,\n",
            "        4, 4, 6, 4, 3, 7, 5, 1, 7, 9, 0, 8, 0, 9, 1, 6, 6, 0, 3, 6, 7, 8, 1, 9,\n",
            "        4, 4, 1, 2, 9, 6, 8, 7, 4, 8, 1, 4, 1, 8, 6, 3, 0, 7, 7, 8, 5, 7, 9, 1,\n",
            "        0, 3, 6, 9, 2, 1, 8, 6, 8, 3, 5, 0, 9, 8, 4, 4, 3, 1, 8, 4, 7, 2, 3, 4,\n",
            "        1, 6, 0, 1])\n",
            "tensor([5, 4, 8, 1, 6, 1, 7, 1, 9, 5, 0, 3, 9, 1, 0, 0, 9, 0, 9, 3, 6, 3, 1, 9,\n",
            "        0, 8, 5, 3, 8, 9, 5, 2, 7, 2, 7, 1, 3, 9, 7, 0, 0, 5, 7, 7, 6, 3, 0, 1,\n",
            "        6, 8, 3, 4, 7, 5, 1, 4, 9, 0, 7, 3, 5, 3, 0, 7, 9, 4, 0, 9, 8, 8, 3, 1,\n",
            "        1, 5, 2, 4, 3, 9, 4, 9, 1, 9, 1, 4, 8, 0, 5, 3, 0, 4, 6, 7, 2, 6, 2, 1,\n",
            "        9, 2, 8, 6])\n",
            "tensor([7, 0, 9, 5, 2, 8, 9, 6, 7, 3, 8, 1, 0, 5, 8, 8, 9, 0, 5, 2, 6, 3, 9, 2,\n",
            "        7, 7, 5, 8, 7, 2, 4, 1, 7, 9, 9, 2, 4, 1, 7, 9, 9, 9, 3, 8, 1, 0, 7, 3,\n",
            "        9, 8, 9, 6, 3, 7, 9, 9, 3, 5, 7, 6, 1, 5, 7, 4, 2, 8, 3, 5, 6, 0, 4, 1,\n",
            "        5, 8, 8, 1, 3, 0, 2, 8, 6, 0, 1, 3, 8, 6, 8, 5, 2, 8, 3, 0, 0, 5, 5, 8,\n",
            "        8, 1, 3, 5])\n",
            "tensor([4, 7, 3, 9, 3, 0, 0, 9, 0, 5, 7, 0, 2, 6, 9, 8, 4, 2, 6, 7, 0, 4, 5, 0,\n",
            "        9, 2, 8, 1, 2, 8, 4, 5, 7, 4, 6, 9, 4, 2, 1, 0, 5, 9, 8, 8, 6, 7, 9, 5,\n",
            "        8, 6, 8, 9, 0, 2, 8, 6, 4, 3, 7, 5, 5, 6, 1, 1, 3, 2, 6, 9, 8, 9, 4, 4,\n",
            "        1, 2, 1, 4, 4, 9, 5, 6, 0, 8, 2, 9, 2, 9, 5, 1, 4, 2, 9, 5, 4, 3, 2, 8,\n",
            "        8, 7, 6, 3])\n",
            "tensor([3, 2, 3, 2, 4, 6, 4, 3, 2, 9, 6, 2, 9, 9, 3, 3, 6, 2, 3, 0, 9, 9, 2, 0,\n",
            "        3, 8, 3, 4, 5, 4, 0, 5, 5, 7, 7, 9, 9, 7, 2, 4, 3, 5, 7, 4, 1, 5, 2, 7,\n",
            "        2, 1, 9, 6, 4, 8, 6, 8, 1, 6, 9, 9, 3, 9, 8, 5, 0, 0, 6, 4, 9, 8, 4, 1,\n",
            "        7, 7, 7, 3, 6, 4, 4, 8, 7, 2, 2, 9, 8, 8, 7, 7, 1, 3, 3, 7, 8, 3, 1, 9,\n",
            "        0, 3, 1, 4])\n",
            "tensor([7, 9, 8, 5, 9, 2, 2, 8, 3, 8, 7, 5, 0, 8, 3, 1, 3, 3, 4, 4, 7, 3, 8, 3,\n",
            "        5, 1, 7, 4, 2, 5, 6, 6, 7, 1, 7, 1, 0, 7, 8, 9, 2, 7, 6, 4, 9, 5, 9, 8,\n",
            "        7, 7, 9, 6, 9, 6, 3, 2, 6, 9, 2, 9, 7, 8, 8, 3, 9, 5, 6, 5, 9, 5, 3, 6,\n",
            "        4, 6, 0, 4, 7, 4, 8, 2, 1, 9, 1, 0, 2, 1, 2, 1, 4, 6, 9, 8, 7, 8, 9, 8,\n",
            "        9, 7, 9, 0])\n",
            "tensor([5, 3, 5, 6, 8, 5, 5, 4, 7, 1, 6, 7, 4, 5, 6, 3, 4, 2, 5, 5, 4, 4, 3, 9,\n",
            "        4, 9, 6, 6, 1, 1, 0, 9, 4, 2, 6, 3, 6, 3, 8, 8, 0, 0, 5, 4, 1, 2, 8, 3,\n",
            "        1, 2, 4, 1, 0, 9, 4, 1, 8, 4, 4, 2, 2, 0, 8, 6, 6, 2, 1, 7, 1, 0, 0, 1,\n",
            "        0, 5, 3, 6, 6, 2, 9, 3, 6, 7, 1, 9, 1, 4, 2, 9, 5, 1, 7, 5, 6, 0, 2, 9,\n",
            "        3, 2, 0, 7])\n",
            "tensor([9, 8, 4, 2, 4, 0, 6, 4, 1, 0, 6, 4, 4, 8, 3, 1, 8, 1, 2, 1, 9, 5, 5, 4,\n",
            "        9, 2, 8, 8, 0, 0, 5, 1, 6, 2, 3, 8, 1, 4, 1, 8, 5, 7, 2, 8, 9, 2, 4, 4,\n",
            "        9, 5, 6, 7, 3, 8, 0, 3, 5, 4, 6, 8, 3, 7, 0, 8, 8, 4, 2, 0, 9, 4, 7, 2,\n",
            "        3, 7, 2, 9, 7, 5, 3, 6, 2, 0, 4, 1, 8, 3, 1, 8, 7, 1, 8, 1, 8, 7, 0, 8,\n",
            "        9, 0, 0, 7])\n",
            "tensor([3, 1, 0, 5, 8, 8, 4, 6, 8, 6, 3, 0, 8, 1, 6, 2, 7, 1, 2, 4, 7, 2, 2, 9,\n",
            "        9, 6, 6, 9, 4, 2, 9, 2, 4, 9, 2, 6, 9, 0, 5, 1, 9, 5, 3, 9, 7, 3, 3, 1,\n",
            "        2, 2, 6, 1, 5, 6, 2, 9, 8, 3, 7, 3, 6, 7, 2, 8, 4, 7, 0, 4, 5, 6, 1, 0,\n",
            "        2, 4, 3, 5, 4, 2, 8, 9, 7, 3, 7, 0, 6, 2, 9, 3, 3, 8, 9, 9, 7, 4, 2, 8,\n",
            "        5, 4, 2, 7])\n",
            "tensor([6, 6, 2, 2, 6, 9, 0, 8, 5, 6, 1, 3, 2, 7, 1, 7, 2, 9, 0, 6, 3, 9, 3, 7,\n",
            "        3, 8, 1, 1, 1, 9, 9, 2, 1, 1, 6, 1, 8, 9, 1, 3, 0, 1, 2, 5, 4, 3, 3, 5,\n",
            "        9, 7, 7, 9, 0, 7, 3, 7, 9, 4, 7, 6, 6, 0, 4, 8, 5, 6, 8, 0, 7, 2, 5, 7,\n",
            "        7, 5, 8, 4, 5, 1, 0, 9, 8, 2, 7, 7, 1, 7, 9, 9, 7, 7, 9, 7, 8, 0, 2, 4,\n",
            "        4, 0, 2, 0])\n",
            "tensor([5, 3, 2, 4, 5, 4, 9, 1, 4, 0, 5, 8, 9, 5, 0, 2, 3, 8, 7, 1, 0, 3, 4, 7,\n",
            "        7, 1, 6, 9, 4, 7, 3, 8, 5, 4, 4, 5, 1, 0, 9, 3, 0, 8, 9, 5, 4, 9, 2, 4,\n",
            "        7, 0, 7, 2, 8, 6, 3, 1, 9, 5, 0, 0, 9, 6, 4, 1, 9, 7, 2, 5, 1, 5, 9, 3,\n",
            "        1, 4, 1, 7, 7, 2, 8, 2, 0, 9, 1, 8, 3, 1, 7, 6, 5, 1, 1, 2, 6, 2, 9, 2,\n",
            "        5, 1, 9, 4])\n",
            "tensor([2, 9, 6, 0, 1, 0, 2, 0, 5, 0, 5, 3, 1, 7, 3, 8, 1, 3, 7, 7, 0, 5, 4, 4,\n",
            "        9, 2, 4, 1, 5, 3, 1, 3, 9, 7, 2, 4, 2, 9, 4, 9, 2, 3, 0, 7, 2, 3, 1, 2,\n",
            "        6, 4, 1, 8, 8, 8, 6, 4, 0, 1, 1, 5, 5, 1, 5, 5, 8, 6, 2, 8, 9, 4, 1, 7,\n",
            "        7, 0, 6, 8, 8, 1, 2, 6, 2, 8, 9, 7, 4, 0, 2, 7, 2, 6, 2, 4, 9, 5, 0, 9,\n",
            "        4, 9, 7, 4])\n",
            "tensor([8, 1, 6, 8, 1, 0, 0, 3, 7, 9, 5, 8, 6, 0, 1, 8, 8, 8, 6, 8, 9, 5, 7, 2,\n",
            "        8, 1, 2, 9, 2, 4, 0, 3, 0, 9, 1, 3, 5, 3, 8, 7, 9, 7, 9, 6, 1, 2, 2, 8,\n",
            "        1, 0, 5, 2, 3, 4, 3, 7, 2, 4, 8, 9, 5, 9, 5, 5, 4, 3, 6, 3, 5, 3, 8, 2,\n",
            "        6, 6, 0, 6, 6, 7, 9, 6, 0, 3, 0, 0, 6, 9, 7, 0, 4, 7, 0, 1, 3, 3, 5, 7,\n",
            "        3, 8, 9, 8])\n",
            "tensor([5, 4, 6, 1, 6, 2, 3, 8, 8, 8, 1, 2, 3, 2, 8, 7, 3, 3, 7, 7, 1, 1, 9, 5,\n",
            "        5, 7, 5, 1, 9, 8, 2, 4, 6, 8, 4, 1, 3, 2, 2, 5, 5, 9, 1, 9, 6, 8, 6, 3,\n",
            "        9, 1, 6, 4, 3, 8, 3, 9, 0, 0, 2, 0, 8, 1, 4, 6, 3, 8, 0, 4, 1, 8, 1, 8,\n",
            "        9, 9, 4, 5, 3, 2, 9, 0, 4, 9, 9, 3, 1, 0, 8, 4, 4, 1, 6, 9, 3, 3, 6, 4,\n",
            "        0, 2, 3, 5])\n",
            "tensor([2, 3, 9, 9, 3, 3, 4, 8, 5, 7, 3, 0, 6, 3, 9, 6, 5, 3, 8, 6, 4, 9, 4, 9,\n",
            "        8, 7, 4, 8, 8, 7, 1, 1, 4, 6, 5, 8, 2, 0, 6, 6, 1, 9, 9, 2, 9, 6, 4, 0,\n",
            "        2, 8, 2, 8, 5, 8, 5, 1, 4, 4, 9, 4, 4, 1, 9, 5, 9, 1, 3, 7, 5, 3, 6, 8,\n",
            "        0, 3, 3, 7, 7, 5, 2, 7, 6, 5, 5, 5, 9, 4, 9, 0, 7, 4, 4, 7, 7, 3, 4, 6,\n",
            "        4, 0, 3, 4])\n",
            "tensor([8, 0, 7, 4, 9, 5, 6, 0, 7, 0, 1, 4, 2, 1, 9, 6, 4, 6, 2, 1, 5, 5, 3, 0,\n",
            "        3, 0, 8, 8, 9, 0, 8, 9, 1, 3, 1, 8, 3, 1, 3, 8, 7, 7, 3, 3, 3, 1, 6, 7,\n",
            "        2, 4, 8, 4, 7, 3, 5, 8, 4, 4, 4, 5, 4, 7, 8, 3, 8, 6, 5, 7, 5, 2, 7, 6,\n",
            "        0, 3, 6, 9, 5, 8, 1, 2, 7, 6, 6, 0, 3, 7, 3, 6, 6, 4, 5, 9, 2, 7, 6, 7,\n",
            "        8, 4, 2, 8])\n",
            "tensor([0, 3, 0, 0, 1, 9, 8, 6, 6, 0, 5, 3, 8, 0, 6, 6, 0, 4, 9, 2, 8, 9, 3, 9,\n",
            "        8, 1, 4, 4, 9, 8, 9, 7, 6, 1, 0, 4, 6, 2, 7, 9, 8, 6, 4, 6, 8, 7, 0, 7,\n",
            "        6, 9, 3, 1, 1, 3, 1, 4, 8, 3, 4, 7, 6, 7, 4, 6, 3, 6, 3, 8, 1, 8, 3, 6,\n",
            "        7, 0, 0, 3, 5, 5, 0, 3, 6, 9, 7, 9, 1, 2, 4, 0, 5, 1, 0, 9, 2, 6, 5, 8,\n",
            "        5, 3, 5, 8])\n",
            "tensor([4, 7, 7, 1, 9, 3, 6, 4, 3, 2, 6, 5, 0, 0, 6, 0, 3, 6, 4, 4, 2, 2, 3, 6,\n",
            "        6, 1, 4, 0, 9, 8, 4, 4, 9, 8, 4, 1, 5, 7, 7, 2, 9, 8, 5, 1, 7, 1, 8, 7,\n",
            "        2, 3, 1, 0, 7, 3, 2, 1, 1, 5, 5, 0, 2, 5, 2, 4, 4, 5, 7, 3, 9, 5, 7, 8,\n",
            "        7, 2, 6, 7, 7, 2, 9, 4, 4, 1, 4, 9, 9, 3, 3, 7, 5, 4, 4, 5, 3, 6, 5, 7,\n",
            "        4, 4, 0, 4])\n",
            "tensor([4, 6, 3, 7, 7, 8, 4, 8, 6, 0, 9, 3, 4, 6, 1, 1, 4, 8, 9, 8, 6, 1, 4, 8,\n",
            "        7, 2, 2, 1, 6, 3, 5, 3, 1, 3, 8, 6, 0, 7, 5, 3, 8, 7, 6, 1, 6, 3, 5, 2,\n",
            "        9, 5, 7, 2, 1, 0, 3, 1, 9, 7, 1, 2, 8, 3, 8, 5, 0, 7, 3, 6, 1, 0, 8, 5,\n",
            "        0, 7, 0, 2, 4, 6, 9, 6, 7, 7, 4, 1, 7, 9, 8, 3, 0, 3, 4, 8, 8, 9, 7, 9,\n",
            "        5, 4, 2, 7])\n",
            "tensor([1, 2, 2, 7, 0, 1, 3, 6, 8, 8, 0, 8, 1, 0, 4, 7, 3, 3, 2, 7, 9, 0, 0, 9,\n",
            "        6, 3, 4, 7, 3, 6, 5, 6, 8, 8, 7, 1, 7, 1, 2, 6, 6, 1, 8, 4, 5, 6, 1, 0,\n",
            "        3, 3, 4, 0, 0, 7, 8, 3, 7, 0, 9, 5, 0, 0, 1, 3, 6, 1, 3, 2, 1, 1, 2, 6,\n",
            "        9, 9, 2, 3, 4, 2, 2, 1, 7, 3, 3, 0, 2, 3, 6, 5, 3, 5, 4, 3, 5, 0, 0, 5,\n",
            "        0, 3, 7, 4])\n",
            "tensor([7, 1, 3, 4, 3, 1, 2, 2, 1, 4, 6, 5, 6, 8, 5, 4, 9, 3, 2, 2, 0, 1, 7, 6,\n",
            "        3, 1, 4, 5, 8, 3, 2, 5, 9, 9, 3, 6, 6, 3, 5, 3, 9, 0, 2, 3, 1, 1, 8, 1,\n",
            "        1, 1, 5, 2, 1, 8, 3, 4, 3, 9, 6, 4, 6, 0, 2, 8, 7, 6, 5, 7, 5, 9, 9, 6,\n",
            "        5, 5, 7, 9, 0, 9, 3, 2, 6, 4, 2, 7, 6, 2, 1, 5, 3, 4, 8, 9, 7, 7, 5, 8,\n",
            "        5, 8, 0, 3])\n",
            "tensor([0, 1, 4, 1, 5, 9, 0, 8, 4, 3, 5, 8, 3, 6, 4, 8, 5, 0, 1, 0, 6, 4, 3, 4,\n",
            "        9, 2, 3, 7, 1, 6, 1, 7, 7, 6, 0, 5, 3, 6, 0, 1, 0, 7, 9, 3, 0, 6, 4, 7,\n",
            "        0, 5, 2, 1, 4, 6, 0, 7, 3, 8, 7, 0, 9, 1, 7, 7, 8, 5, 0, 3, 5, 8, 4, 4,\n",
            "        8, 0, 4, 6, 6, 0, 9, 7, 7, 9, 0, 7, 6, 0, 7, 9, 7, 1, 6, 0, 7, 2, 3, 7,\n",
            "        7, 2, 8, 3])\n",
            "tensor([6, 3, 2, 1, 1, 0, 3, 3, 2, 1, 1, 1, 8, 1, 7, 7, 5, 8, 4, 2, 3, 8, 0, 8,\n",
            "        6, 3, 9, 5, 7, 4, 8, 4, 3, 0, 1, 1, 8, 3, 9, 6, 7, 1, 8, 0, 4, 2, 9, 4,\n",
            "        2, 6, 8, 9, 3, 4, 9, 6, 2, 3, 4, 5, 4, 2, 4, 1, 7, 2, 4, 8, 9, 6, 6, 7,\n",
            "        9, 0, 0, 5, 5, 9, 9, 8, 3, 6, 5, 2, 4, 5, 0, 6, 0, 6, 1, 2, 5, 3, 4, 3,\n",
            "        5, 2, 8, 8])\n",
            "tensor([8, 0, 4, 5, 1, 0, 1, 7, 0, 9, 3, 4, 9, 5, 7, 4, 6, 6, 8, 3, 5, 9, 3, 8,\n",
            "        0, 6, 4, 8, 8, 1, 1, 2, 1, 1, 1, 9, 9, 6, 2, 5, 6, 9, 8, 8, 8, 0, 5, 5,\n",
            "        9, 4, 0, 7, 5, 0, 7, 4, 1, 2, 5, 0, 8, 7, 8, 8, 1, 8, 0, 2, 5, 8, 6, 1,\n",
            "        0, 0, 7, 3, 3, 9, 2, 2, 1, 7, 5, 8, 1, 5, 6, 3, 5, 3, 2, 8, 6, 8, 7, 3,\n",
            "        9, 2, 2, 4])\n",
            "tensor([7, 5, 4, 2, 3, 5, 5, 0, 4, 2, 4, 1, 7, 1, 9, 5, 5, 0, 6, 4, 0, 8, 1, 5,\n",
            "        4, 1, 5, 3, 6, 0, 7, 5, 5, 5, 0, 9, 6, 6, 2, 2, 1, 9, 2, 3, 9, 0, 5, 0,\n",
            "        7, 1, 4, 1, 7, 4, 6, 6, 6, 8, 9, 7, 5, 9, 7, 7, 3, 2, 7, 2, 7, 0, 9, 9,\n",
            "        1, 6, 9, 2, 2, 2, 9, 1, 5, 7, 9, 4, 3, 9, 1, 2, 6, 9, 7, 6, 3, 8, 2, 5,\n",
            "        3, 7, 8, 6])\n",
            "tensor([1, 0, 2, 8, 0, 4, 1, 7, 7, 7, 3, 6, 3, 2, 3, 5, 7, 2, 1, 4, 2, 0, 2, 6,\n",
            "        7, 1, 8, 6, 5, 6, 2, 1, 6, 2, 8, 4, 1, 7, 1, 4, 0, 5, 9, 4, 1, 6, 1, 1,\n",
            "        5, 3, 2, 6, 4, 8, 3, 0, 3, 7, 8, 9, 0, 5, 0, 7, 3, 5, 2, 4, 5, 8, 5, 5,\n",
            "        6, 2, 0, 0, 9, 9, 6, 0, 9, 0, 8, 4, 4, 4, 7, 6, 1, 7, 3, 4, 7, 3, 7, 0,\n",
            "        6, 2, 0, 8])\n",
            "tensor([4, 5, 3, 3, 0, 9, 6, 0, 0, 6, 8, 2, 6, 1, 9, 3, 4, 4, 4, 4, 8, 4, 1, 6,\n",
            "        2, 3, 4, 7, 9, 1, 7, 8, 4, 4, 2, 0, 4, 4, 8, 2, 0, 0, 7, 4, 7, 8, 6, 1,\n",
            "        5, 7, 4, 5, 9, 8, 3, 3, 4, 8, 8, 5, 1, 4, 2, 1, 6, 8, 6, 1, 4, 5, 8, 9,\n",
            "        5, 0, 0, 2, 7, 4, 3, 1, 4, 7, 4, 9, 0, 6, 8, 7, 2, 2, 3, 4, 9, 6, 3, 3,\n",
            "        8, 0, 5, 2])\n",
            "tensor([5, 4, 0, 5, 3, 1, 7, 0, 0, 8, 1, 0, 0, 4, 1, 1, 9, 8, 1, 4, 1, 9, 2, 3,\n",
            "        9, 4, 2, 2, 3, 2, 2, 9, 2, 5, 6, 9, 6, 3, 8, 1, 0, 5, 0, 6, 8, 2, 3, 1,\n",
            "        4, 6, 3, 1, 2, 4, 2, 3, 8, 9, 3, 7, 0, 5, 7, 6, 4, 6, 6, 2, 1, 9, 1, 9,\n",
            "        2, 8, 7, 6, 1, 4, 3, 7, 7, 9, 1, 0, 1, 8, 0, 6, 7, 2, 3, 2, 4, 2, 6, 5,\n",
            "        4, 4, 5, 2])\n",
            "tensor([0, 0, 9, 5, 0, 7, 8, 3, 8, 5, 9, 0, 3, 5, 7, 7, 6, 0, 7, 3, 7, 8, 1, 3,\n",
            "        1, 8, 8, 0, 5, 8, 5, 2, 6, 7, 5, 9, 1, 7, 4, 6, 6, 2, 1, 4, 7, 3, 5, 2,\n",
            "        0, 7, 9, 0, 7, 7, 4, 0, 5, 7, 5, 3, 1, 0, 0, 7, 2, 5, 0, 7, 9, 7, 8, 2,\n",
            "        4, 3, 9, 8, 0, 0, 9, 7, 1, 2, 2, 4, 1, 6, 4, 0, 8, 3, 0, 0, 3, 5, 0, 5,\n",
            "        6, 5, 7, 6])\n",
            "tensor([1, 0, 9, 8, 4, 9, 0, 5, 9, 9, 1, 5, 7, 4, 7, 8, 3, 4, 8, 0, 9, 1, 5, 1,\n",
            "        0, 7, 3, 8, 3, 9, 5, 5, 0, 5, 2, 7, 9, 2, 0, 0, 1, 5, 1, 2, 5, 6, 0, 2,\n",
            "        6, 7, 2, 6, 5, 4, 4, 0, 3, 9, 9, 9, 5, 9, 4, 8, 2, 1, 5, 5, 8, 0, 2, 9,\n",
            "        0, 7, 4, 6, 0, 0, 7, 9, 5, 1, 9, 6, 4, 1, 5, 0, 0, 4, 9, 9, 8, 6, 8, 6,\n",
            "        5, 7, 4, 0])\n",
            "tensor([5, 2, 3, 2, 5, 4, 8, 8, 6, 0, 5, 4, 4, 8, 9, 2, 9, 9, 5, 3, 0, 7, 3, 9,\n",
            "        0, 3, 4, 7, 2, 8, 6, 1, 5, 5, 0, 0, 5, 2, 3, 5, 3, 6, 7, 2, 7, 1, 4, 9,\n",
            "        3, 0, 5, 2, 3, 5, 9, 8, 7, 9, 1, 6, 9, 4, 3, 4, 0, 2, 1, 2, 4, 0, 2, 6,\n",
            "        2, 9, 7, 8, 1, 0, 9, 7, 1, 7, 5, 2, 3, 9, 5, 6, 4, 2, 0, 4, 2, 5, 9, 4,\n",
            "        7, 1, 2, 6])\n",
            "tensor([2, 1, 6, 9, 6, 3, 8, 3, 7, 6, 2, 1, 3, 9, 7, 2, 5, 3, 4, 0, 1, 5, 7, 2,\n",
            "        0, 3, 7, 8, 8, 6, 5, 8, 6, 0, 4, 0, 5, 4, 7, 9, 6, 7, 6, 1, 9, 8, 3, 9,\n",
            "        8, 7, 0, 9, 4, 8, 2, 7, 0, 0, 6, 9, 4, 4, 2, 2, 9, 2, 1, 0, 9, 0, 1, 2,\n",
            "        7, 1, 6, 2, 7, 1, 5, 3, 1, 3, 6, 4, 4, 7, 1, 7, 4, 1, 2, 4, 9, 8, 5, 8,\n",
            "        8, 4, 8, 2])\n",
            "tensor([4, 7, 3, 5, 8, 4, 0, 5, 8, 0, 1, 0, 5, 5, 4, 6, 5, 4, 0, 4, 2, 8, 8, 9,\n",
            "        2, 0, 4, 7, 8, 3, 7, 9, 3, 2, 4, 0, 2, 9, 9, 0, 4, 5, 4, 1, 3, 9, 1, 2,\n",
            "        4, 2, 3, 9, 1, 7, 2, 6, 7, 2, 9, 7, 2, 4, 2, 2, 7, 7, 2, 1, 0, 3, 3, 6,\n",
            "        1, 1, 8, 2, 4, 7, 3, 2, 5, 8, 8, 8, 9, 8, 1, 9, 4, 7, 6, 6, 7, 5, 0, 6,\n",
            "        2, 9, 0, 5])\n",
            "tensor([4, 1, 2, 6, 3, 9, 4, 9, 1, 0, 3, 3, 9, 9, 2, 4, 7, 2, 8, 3, 4, 9, 9, 8,\n",
            "        9, 6, 3, 9, 5, 5, 3, 0, 1, 2, 1, 7, 2, 8, 4, 3, 8, 7, 0, 7, 3, 1, 0, 5,\n",
            "        9, 0, 0, 0, 0, 0, 6, 6, 7, 4, 7, 3, 4, 3, 2, 5, 4, 2, 7, 5, 3, 1, 9, 6,\n",
            "        9, 8, 7, 0, 8, 7, 1, 4, 4, 2, 1, 1, 9, 3, 6, 1, 1, 4, 3, 9, 5, 4, 8, 7,\n",
            "        7, 3, 9, 7])\n",
            "tensor([9, 9, 3, 4, 1, 8, 2, 8, 1, 9, 2, 9, 5, 9, 0, 3, 7, 3, 3, 3, 2, 3, 8, 9,\n",
            "        3, 2, 3, 5, 3, 5, 5, 5, 8, 4, 4, 2, 4, 2, 0, 7, 0, 7, 9, 8, 6, 4, 7, 2,\n",
            "        5, 4, 2, 2, 4, 4, 3, 2, 5, 1, 9, 5, 7, 8, 6, 5, 1, 0, 5, 8, 3, 3, 0, 9,\n",
            "        2, 9, 7, 8, 3, 9, 7, 4, 2, 6, 6, 8, 6, 3, 3, 7, 6, 5, 6, 7, 9, 7, 5, 2,\n",
            "        9, 1, 2, 2])\n",
            "tensor([7, 6, 4, 9, 8, 5, 7, 3, 5, 5, 5, 6, 2, 0, 8, 1, 1, 5, 5, 6, 4, 2, 1, 1,\n",
            "        3, 7, 6, 7, 5, 3, 3, 9, 9, 3, 1, 2, 4, 9, 6, 5, 4, 4, 2, 1, 7, 3, 8, 7,\n",
            "        5, 3, 7, 0, 1, 4, 2, 7, 8, 4, 3, 0, 8, 1, 4, 8, 8, 7, 5, 0, 7, 0, 0, 9,\n",
            "        7, 2, 1, 5, 3, 3, 7, 7, 4, 0, 0, 5, 4, 4, 8, 0, 8, 6, 5, 3, 2, 8, 6, 5,\n",
            "        9, 0, 8, 3])\n",
            "tensor([0, 0, 8, 2, 1, 9, 1, 5, 7, 5, 8, 3, 8, 0, 4, 7, 2, 6, 9, 0, 1, 5, 6, 4,\n",
            "        3, 6, 4, 4, 1, 6, 5, 7, 1, 1, 2, 8, 2, 0, 1, 5, 5, 7, 7, 3, 9, 4, 6, 6,\n",
            "        0, 3, 3, 2, 2, 7, 5, 5, 9, 9, 6, 8, 3, 4, 6, 4, 1, 5, 7, 6, 5, 7, 3, 1,\n",
            "        7, 5, 1, 9, 3, 7, 6, 7, 5, 6, 8, 5, 0, 2, 8, 0, 7, 8, 9, 6, 8, 0, 9, 0,\n",
            "        4, 9, 2, 2])\n",
            "tensor([5, 4, 1, 3, 5, 2, 6, 6, 7, 6, 3, 4, 4, 4, 4, 0, 9, 0, 0, 9, 8, 7, 1, 6,\n",
            "        9, 5, 6, 9, 4, 1, 8, 1, 2, 1, 4, 3, 8, 8, 0, 6, 9, 2, 9, 3, 6, 4, 5, 6,\n",
            "        0, 0, 7, 8, 6, 6, 3, 0, 7, 3, 5, 5, 2, 6, 1, 9, 4, 4, 1, 5, 9, 7, 0, 0,\n",
            "        0, 3, 7, 8, 3, 8, 4, 2, 9, 1, 5, 2, 4, 8, 2, 2, 6, 0, 2, 2, 9, 7, 6, 0,\n",
            "        4, 4, 4, 8])\n",
            "tensor([5, 4, 0, 7, 9, 0, 9, 9, 8, 9, 3, 2, 9, 3, 1, 0, 7, 1, 5, 1, 9, 9, 2, 5,\n",
            "        3, 9, 7, 4, 3, 4, 2, 9, 0, 8, 5, 3, 6, 1, 7, 1, 1, 6, 4, 5, 1, 6, 7, 9,\n",
            "        1, 4, 1, 9, 7, 5, 9, 3, 8, 1, 8, 4, 7, 4, 6, 0, 9, 0, 5, 8, 4, 6, 2, 2,\n",
            "        0, 3, 7, 2, 1, 2, 9, 7, 7, 3, 9, 8, 1, 9, 4, 5, 8, 8, 9, 7, 6, 0, 4, 4,\n",
            "        6, 1, 7, 7])\n",
            "tensor([9, 9, 4, 5, 8, 9, 4, 6, 6, 6, 5, 9, 2, 2, 0, 5, 1, 1, 1, 2, 9, 5, 2, 9,\n",
            "        7, 3, 0, 3, 5, 6, 9, 5, 9, 7, 9, 2, 1, 5, 1, 6, 4, 4, 3, 1, 9, 4, 6, 5,\n",
            "        9, 7, 8, 5, 9, 9, 2, 8, 3, 2, 7, 4, 7, 6, 8, 6, 6, 2, 0, 5, 9, 0, 3, 4,\n",
            "        6, 0, 6, 9, 7, 7, 0, 5, 0, 1, 9, 1, 0, 8, 0, 3, 1, 7, 4, 4, 0, 4, 8, 9,\n",
            "        9, 5, 5, 6])\n",
            "tensor([0, 5, 1, 3, 5, 3, 7, 7, 2, 1, 2, 0, 0, 3, 2, 1, 3, 2, 2, 0, 8, 3, 8, 9,\n",
            "        6, 1, 5, 4, 1, 3, 1, 8, 7, 1, 6, 0, 6, 7, 0, 4, 0, 1, 5, 6, 0, 5, 6, 1,\n",
            "        7, 4, 2, 7, 5, 9, 1, 8, 8, 5, 8, 1, 4, 0, 3, 2, 8, 9, 1, 6, 4, 1, 3, 1,\n",
            "        5, 5, 5, 1, 3, 4, 6, 0, 5, 4, 1, 7, 5, 4, 5, 0, 6, 6, 0, 6, 3, 7, 5, 4,\n",
            "        1, 1, 2, 2])\n",
            "tensor([5, 2, 0, 5, 7, 2, 2, 7, 6, 4, 1, 5, 4, 4, 2, 7, 1, 0, 7, 0, 5, 8, 0, 6,\n",
            "        4, 5, 2, 6, 2, 7, 7, 4, 8, 2, 9, 8, 8, 2, 9, 5, 5, 5, 6, 5, 9, 0, 6, 8,\n",
            "        4, 8, 4, 1, 0, 7, 1, 1, 8, 3, 4, 9, 9, 2, 8, 3, 1, 8, 3, 3, 2, 1, 9, 6,\n",
            "        9, 1, 7, 9, 8, 6, 4, 0, 4, 2, 8, 9, 7, 4, 5, 9, 4, 9, 6, 2, 5, 8, 2, 4,\n",
            "        7, 7, 5, 9])\n",
            "tensor([8, 1, 5, 6, 5, 5, 2, 1, 0, 5, 0, 0, 1, 8, 5, 8, 2, 0, 6, 0, 8, 9, 6, 9,\n",
            "        9, 4, 6, 4, 3, 3, 1, 3, 5, 4, 8, 4, 3, 1, 2, 4, 1, 5, 2, 5, 6, 0, 5, 4,\n",
            "        6, 9, 3, 3, 8, 8, 5, 8, 2, 6, 9, 3, 4, 5, 7, 2, 2, 0, 8, 0, 6, 9, 2, 5,\n",
            "        7, 9, 8, 4, 8, 0, 7, 0, 0, 6, 9, 4, 3, 7, 2, 2, 5, 7, 8, 5, 4, 2, 2, 9,\n",
            "        5, 4, 9, 8])\n",
            "tensor([0, 1, 4, 3, 1, 7, 1, 6, 5, 0, 4, 4, 3, 6, 1, 8, 4, 3, 7, 1, 7, 9, 9, 9,\n",
            "        7, 3, 6, 9, 7, 2, 0, 8, 9, 4, 6, 8, 4, 8, 4, 4, 3, 9, 4, 7, 9, 8, 3, 2,\n",
            "        4, 3, 4, 8, 1, 3, 5, 0, 0, 8, 9, 9, 0, 9, 3, 4, 2, 8, 7, 5, 2, 0, 5, 5,\n",
            "        5, 8, 8, 7, 9, 0, 1, 1, 9, 0, 0, 1, 3, 1, 1, 3, 1, 2, 9, 0, 2, 7, 9, 8,\n",
            "        0, 2, 6, 8])\n",
            "tensor([9, 8, 4, 0, 0, 4, 4, 3, 7, 6, 2, 3, 4, 7, 3, 0, 3, 2, 2, 9, 3, 9, 0, 9,\n",
            "        3, 4, 2, 4, 8, 2, 0, 7, 0, 3, 8, 2, 4, 7, 4, 3, 6, 3, 6, 4, 6, 0, 9, 0,\n",
            "        3, 4, 7, 1, 3, 2, 1, 5, 9, 6, 2, 9, 5, 8, 8, 3, 4, 3, 1, 2, 2, 1, 8, 9,\n",
            "        1, 8, 3, 6, 7, 3, 1, 5, 3, 6, 9, 3, 9, 9, 2, 8, 7, 6, 5, 6, 0, 8, 5, 2,\n",
            "        8, 9, 4, 9])\n",
            "tensor([7, 3, 5, 3, 3, 8, 4, 5, 8, 3, 5, 7, 0, 9, 4, 3, 3, 3, 9, 0, 6, 9, 7, 2,\n",
            "        9, 8, 6, 8, 8, 9, 4, 8, 4, 1, 8, 5, 7, 5, 0, 1, 0, 9, 8, 5, 7, 4, 0, 2,\n",
            "        1, 1, 5, 0, 7, 8, 7, 9, 1, 1, 2, 1, 2, 2, 6, 3, 2, 9, 6, 6, 4, 4, 8, 5,\n",
            "        7, 8, 1, 3, 4, 1, 8, 0, 3, 4, 5, 5, 0, 4, 6, 6, 0, 2, 8, 4, 7, 0, 1, 4,\n",
            "        4, 1, 6, 3])\n",
            "tensor([7, 8, 9, 1, 7, 4, 0, 4, 8, 5, 5, 5, 8, 3, 0, 4, 6, 6, 5, 8, 6, 5, 8, 5,\n",
            "        9, 2, 0, 5, 0, 8, 4, 4, 6, 5, 9, 6, 1, 0, 6, 3, 0, 5, 0, 8, 0, 4, 7, 7,\n",
            "        5, 7, 4, 4, 1, 9, 9, 8, 6, 6, 2, 5, 8, 6, 4, 2, 5, 7, 8, 0, 8, 7, 1, 3,\n",
            "        0, 0, 1, 9, 5, 3, 6, 2, 7, 5, 5, 9, 8, 3, 5, 0, 4, 2, 8, 2, 2, 9, 3, 7,\n",
            "        4, 2, 7, 7])\n",
            "tensor([3, 4, 7, 5, 1, 0, 3, 5, 0, 2, 0, 4, 9, 6, 0, 6, 0, 8, 3, 7, 8, 4, 3, 0,\n",
            "        6, 1, 1, 1, 4, 0, 0, 5, 0, 5, 6, 6, 9, 2, 6, 5, 7, 1, 4, 5, 1, 4, 1, 6,\n",
            "        6, 3, 9, 4, 0, 8, 0, 6, 9, 8, 6, 8, 3, 6, 4, 7, 8, 4, 5, 1, 9, 9, 5, 0,\n",
            "        6, 6, 9, 7, 3, 2, 5, 7, 4, 2, 1, 3, 9, 1, 5, 5, 8, 9, 5, 7, 5, 3, 4, 0,\n",
            "        6, 5, 3, 4])\n",
            "tensor([0, 6, 0, 0, 5, 8, 1, 0, 0, 4, 6, 9, 2, 7, 9, 3, 9, 5, 3, 4, 6, 6, 0, 3,\n",
            "        0, 4, 8, 8, 8, 4, 1, 2, 3, 7, 8, 1, 2, 5, 9, 8, 7, 5, 1, 8, 3, 8, 6, 8,\n",
            "        8, 7, 3, 4, 3, 5, 6, 5, 4, 4, 1, 6, 5, 2, 1, 9, 4, 4, 8, 1, 8, 4, 9, 8,\n",
            "        2, 9, 5, 2, 2, 2, 6, 0, 5, 0, 3, 3, 5, 4, 1, 5, 1, 9, 0, 2, 3, 9, 7, 4,\n",
            "        4, 3, 0, 0])\n",
            "tensor([6, 0, 1, 1, 1, 0, 1, 3, 9, 1, 9, 3, 8, 7, 1, 7, 2, 1, 3, 1, 4, 2, 4, 8,\n",
            "        2, 2, 0, 1, 7, 6, 8, 4, 1, 3, 1, 2, 0, 1, 4, 7, 2, 8, 0, 0, 0, 1, 6, 8,\n",
            "        5, 3, 2, 7, 3, 6, 0, 0, 9, 1, 1, 6, 8, 1, 4, 4, 2, 3, 8, 3, 5, 0, 5, 5,\n",
            "        0, 8, 9, 2, 7, 6, 1, 3, 9, 4, 4, 4, 8, 2, 2, 4, 1, 2, 6, 4, 7, 4, 9, 1,\n",
            "        7, 1, 1, 9])\n",
            "tensor([3, 7, 5, 3, 6, 2, 7, 9, 1, 1, 1, 1, 2, 9, 4, 8, 4, 2, 1, 2, 6, 6, 4, 0,\n",
            "        8, 8, 5, 7, 5, 8, 2, 7, 0, 9, 0, 6, 9, 9, 3, 8, 0, 6, 0, 0, 5, 6, 9, 8,\n",
            "        9, 1, 4, 9, 2, 0, 7, 3, 3, 0, 4, 2, 5, 5, 8, 3, 8, 6, 9, 8, 4, 8, 7, 1,\n",
            "        5, 4, 1, 3, 9, 0, 1, 8, 6, 1, 1, 5, 5, 9, 1, 1, 3, 4, 2, 9, 0, 9, 2, 4,\n",
            "        1, 5, 9, 4])\n",
            "tensor([3, 9, 1, 8, 7, 2, 7, 2, 3, 3, 5, 7, 8, 5, 2, 9, 9, 0, 7, 5, 2, 3, 6, 1,\n",
            "        4, 9, 5, 0, 6, 3, 8, 3, 7, 5, 7, 7, 7, 7, 7, 9, 6, 4, 9, 3, 2, 3, 8, 0,\n",
            "        0, 7, 6, 8, 3, 4, 2, 8, 8, 2, 6, 7, 7, 0, 1, 5, 9, 1, 8, 1, 5, 3, 8, 1,\n",
            "        5, 1, 9, 5, 9, 6, 0, 4, 0, 3, 5, 9, 7, 3, 2, 7, 6, 3, 0, 2, 9, 0, 4, 1,\n",
            "        1, 1, 6, 7])\n",
            "tensor([9, 0, 1, 2, 0, 7, 4, 8, 5, 0, 3, 8, 4, 4, 2, 9, 2, 5, 3, 2, 5, 9, 7, 9,\n",
            "        3, 5, 7, 8, 9, 6, 7, 9, 6, 5, 8, 5, 8, 3, 7, 9, 7, 7, 2, 1, 2, 8, 2, 8,\n",
            "        6, 2, 4, 3, 8, 4, 0, 1, 8, 4, 3, 8, 4, 2, 3, 7, 5, 5, 2, 5, 6, 5, 6, 3,\n",
            "        2, 7, 9, 7, 3, 8, 6, 3, 4, 2, 0, 4, 7, 8, 4, 5, 6, 7, 3, 8, 8, 2, 7, 7,\n",
            "        4, 0, 5, 6])\n",
            "tensor([6, 8, 1, 8, 4, 1, 1, 1, 7, 2, 5, 0, 5, 2, 2, 7, 7, 7, 3, 8, 8, 1, 3, 6,\n",
            "        5, 8, 7, 1, 7, 8, 3, 2, 2, 3, 5, 9, 2, 4, 4, 8, 1, 8, 5, 1, 1, 1, 0, 5,\n",
            "        6, 4, 0, 4, 7, 7, 9, 1, 8, 7, 7, 5, 6, 9, 3, 4, 8, 4, 7, 3, 6, 9, 3, 9,\n",
            "        2, 0, 0, 1, 0, 2, 2, 2, 4, 9, 9, 4, 6, 3, 1, 1, 7, 2, 0, 4, 8, 8, 1, 5,\n",
            "        1, 8, 5, 9])\n",
            "tensor([8, 2, 3, 0, 5, 0, 6, 1, 4, 8, 6, 5, 0, 6, 0, 2, 5, 4, 7, 3, 0, 7, 0, 3,\n",
            "        7, 5, 7, 7, 9, 8, 5, 2, 4, 8, 1, 9, 7, 2, 0, 3, 7, 5, 4, 9, 4, 3, 2, 1,\n",
            "        2, 7, 2, 2, 0, 4, 7, 5, 6, 8, 3, 3, 0, 6, 6, 8, 0, 2, 7, 4, 8, 6, 0, 2,\n",
            "        0, 7, 1, 1, 0, 2, 9, 7, 5, 5, 2, 9, 9, 2, 9, 3, 0, 4, 6, 1, 7, 1, 9, 6,\n",
            "        1, 6, 3, 4])\n",
            "tensor([4, 6, 5, 8, 8, 8, 4, 8, 7, 8, 9, 8, 1, 1, 6, 0, 9, 9, 8, 4, 6, 1, 0, 7,\n",
            "        6, 3, 9, 1, 0, 9, 9, 0, 6, 1, 5, 4, 6, 0, 1, 8, 0, 1, 1, 5, 4, 8, 8, 0,\n",
            "        3, 6, 4, 0, 6, 2, 1, 3, 5, 5, 6, 2, 2, 6, 9, 0, 7, 0, 6, 5, 8, 7, 4, 4,\n",
            "        9, 4, 0, 2, 2, 0, 4, 0, 5, 5, 2, 7, 6, 5, 7, 2, 4, 9, 7, 4, 1, 2, 3, 3,\n",
            "        7, 7, 7, 1])\n",
            "tensor([7, 8, 2, 8, 2, 1, 5, 8, 3, 5, 3, 8, 1, 6, 3, 5, 9, 1, 7, 6, 1, 7, 9, 6,\n",
            "        5, 0, 0, 7, 7, 7, 5, 2, 2, 8, 3, 2, 0, 8, 3, 9, 3, 0, 6, 9, 8, 1, 7, 2,\n",
            "        5, 0, 7, 8, 5, 3, 3, 5, 6, 4, 7, 0, 9, 9, 5, 6, 2, 7, 8, 5, 1, 9, 8, 1,\n",
            "        2, 9, 7, 6, 0, 3, 3, 2, 3, 3, 0, 4, 6, 3, 8, 7, 7, 6, 5, 3, 5, 2, 3, 0,\n",
            "        3, 1, 4, 7])\n",
            "tensor([5, 4, 3, 7, 2, 0, 5, 1, 5, 9, 7, 7, 0, 9, 6, 9, 3, 5, 7, 5, 9, 9, 8, 7,\n",
            "        5, 7, 0, 6, 1, 6, 2, 9, 1, 8, 3, 4, 9, 9, 6, 7, 2, 1, 3, 2, 2, 9, 7, 0,\n",
            "        6, 1, 3, 1, 0, 8, 0, 8, 0, 1, 7, 8, 2, 0, 4, 5, 3, 1, 3, 0, 6, 6, 0, 8,\n",
            "        2, 1, 1, 5, 3, 1, 5, 6, 1, 4, 0, 2, 6, 8, 6, 9, 4, 8, 7, 4, 7, 7, 4, 1,\n",
            "        0, 1, 2, 1])\n",
            "tensor([3, 0, 3, 1, 4, 2, 3, 6, 9, 0, 9, 8, 6, 2, 4, 8, 9, 0, 9, 5, 6, 6, 0, 4,\n",
            "        7, 0, 9, 8, 5, 6, 1, 2, 8, 8, 4, 8, 4, 5, 6, 3, 5, 2, 9, 9, 0, 4, 7, 2,\n",
            "        4, 1, 3, 3, 9, 5, 3, 9, 6, 2, 0, 0, 2, 6, 6, 2, 4, 9, 4, 7, 4, 2, 3, 6,\n",
            "        4, 8, 2, 7, 9, 2, 4, 1, 7, 3, 5, 4, 3, 3, 6, 2, 7, 2, 4, 2, 2, 5, 7, 1,\n",
            "        2, 8, 4, 0])\n",
            "tensor([1, 4, 7, 2, 4, 7, 3, 2, 0, 2, 4, 3, 8, 4, 8, 6, 9, 4, 7, 4, 9, 0, 1, 8,\n",
            "        3, 8, 9, 9, 0, 7, 2, 8, 6, 4, 8, 2, 1, 3, 1, 1, 4, 8, 8, 1, 4, 5, 6, 8,\n",
            "        3, 8, 2, 1, 7, 3, 0, 7, 5, 9, 1, 6, 3, 3, 5, 6, 0, 0, 8, 7, 3, 2, 5, 9,\n",
            "        9, 5, 0, 5, 3, 1, 3, 5, 4, 6, 3, 4, 8, 5, 6, 1, 1, 6, 1, 9, 7, 3, 0, 0,\n",
            "        6, 3, 8, 9])\n",
            "tensor([2, 8, 6, 3, 8, 7, 2, 7, 7, 3, 5, 6, 2, 4, 2, 3, 2, 5, 4, 0, 0, 5, 3, 2,\n",
            "        8, 5, 2, 4, 5, 0, 4, 3, 0, 4, 1, 9, 1, 1, 9, 0, 3, 8, 3, 9, 7, 1, 6, 1,\n",
            "        1, 0, 6, 9, 0, 9, 3, 8, 6, 6, 0, 8, 0, 4, 1, 3, 4, 4, 4, 1, 2, 7, 3, 6,\n",
            "        3, 5, 2, 5, 0, 4, 3, 6, 1, 2, 2, 5, 5, 0, 7, 5, 0, 1, 8, 7, 3, 0, 7, 8,\n",
            "        0, 4, 5, 9])\n",
            "tensor([1, 6, 9, 0, 4, 8, 7, 2, 0, 5, 1, 2, 4, 2, 7, 5, 4, 2, 5, 9, 5, 8, 0, 9,\n",
            "        8, 6, 0, 7, 3, 2, 4, 5, 5, 2, 1, 2, 1, 0, 0, 7, 1, 4, 1, 5, 7, 0, 7, 8,\n",
            "        8, 1, 2, 4, 6, 6, 5, 1, 7, 3, 6, 9, 8, 6, 7, 2, 9, 4, 7, 4, 2, 0, 8, 9,\n",
            "        8, 0, 1, 5, 5, 7, 5, 7, 9, 8, 8, 1, 0, 2, 0, 6, 7, 0, 1, 4, 7, 2, 1, 0,\n",
            "        2, 8, 7, 9])\n",
            "tensor([6, 4, 2, 8, 9, 5, 4, 7, 0, 9, 1, 8, 9, 6, 6, 9, 0, 4, 8, 7, 2, 8, 7, 2,\n",
            "        0, 1, 0, 6, 4, 6, 1, 4, 0, 8, 9, 4, 9, 1, 2, 3, 7, 7, 5, 1, 9, 5, 2, 9,\n",
            "        6, 6, 2, 6, 7, 3, 7, 9, 0, 2, 2, 6, 4, 1, 8, 4, 7, 1, 8, 3, 2, 4, 2, 7,\n",
            "        7, 6, 1, 5, 4, 1, 7, 1, 8, 5, 7, 5, 8, 7, 0, 3, 1, 2, 7, 8, 0, 1, 7, 4,\n",
            "        3, 7, 7, 8])\n",
            "tensor([2, 2, 1, 1, 6, 9, 9, 9, 9, 0, 7, 4, 8, 2, 3, 9, 1, 8, 2, 7, 8, 5, 3, 4,\n",
            "        3, 5, 8, 0, 1, 8, 9, 2, 3, 6, 2, 1, 4, 2, 4, 8, 1, 3, 7, 7, 4, 6, 0, 4,\n",
            "        1, 3, 3, 8, 8, 2, 2, 2, 7, 7, 4, 0, 2, 5, 6, 2, 1, 6, 7, 1, 7, 3, 8, 6,\n",
            "        0, 9, 6, 5, 3, 4, 4, 0, 9, 4, 3, 2, 7, 1, 6, 5, 4, 4, 0, 0, 0, 5, 4, 2,\n",
            "        7, 9, 3, 0])\n",
            "tensor([1, 3, 6, 3, 3, 6, 3, 3, 8, 0, 2, 1, 5, 4, 2, 0, 0, 7, 6, 5, 8, 9, 8, 6,\n",
            "        2, 8, 9, 3, 3, 3, 4, 7, 9, 8, 9, 5, 1, 2, 4, 9, 8, 0, 9, 0, 6, 8, 7, 9,\n",
            "        3, 8, 7, 5, 6, 6, 7, 6, 7, 3, 6, 5, 0, 9, 4, 7, 4, 5, 0, 9, 7, 7, 3, 2,\n",
            "        7, 9, 7, 9, 8, 6, 3, 8, 3, 2, 4, 2, 3, 6, 6, 0, 6, 9, 0, 0, 2, 5, 1, 0,\n",
            "        2, 3, 2, 0])\n",
            "tensor([5, 3, 8, 9, 4, 1, 6, 6, 7, 7, 5, 6, 4, 8, 3, 7, 6, 9, 8, 0, 6, 8, 2, 1,\n",
            "        1, 9, 1, 2, 0, 5, 1, 9, 0, 4, 4, 2, 1, 9, 7, 9, 2, 9, 5, 5, 4, 1, 2, 8,\n",
            "        8, 1, 6, 8, 3, 6, 1, 8, 7, 4, 3, 9, 7, 5, 5, 3, 9, 4, 1, 0, 1, 3, 8, 8,\n",
            "        0, 8, 6, 5, 3, 2, 7, 7, 8, 4, 1, 8, 9, 5, 9, 8, 8, 8, 8, 7, 7, 4, 7, 8,\n",
            "        5, 4, 2, 3])\n",
            "tensor([8, 4, 1, 9, 6, 1, 0, 1, 2, 8, 7, 6, 4, 2, 8, 3, 9, 2, 7, 2, 0, 2, 0, 4,\n",
            "        7, 7, 9, 3, 8, 9, 8, 3, 9, 4, 5, 6, 1, 4, 7, 7, 9, 0, 8, 5, 2, 6, 1, 8,\n",
            "        4, 6, 6, 4, 0, 5, 6, 7, 7, 3, 9, 2, 9, 7, 0, 6, 1, 4, 2, 9, 9, 3, 4, 4,\n",
            "        0, 2, 2, 2, 0, 2, 2, 5, 3, 1, 9, 7, 8, 1, 8, 6, 7, 5, 5, 2, 2, 7, 4, 3,\n",
            "        0, 7, 4, 6])\n",
            "tensor([1, 5, 0, 6, 2, 2, 0, 2, 8, 0, 9, 7, 5, 5, 4, 9, 9, 0, 8, 8, 2, 6, 1, 5,\n",
            "        0, 2, 5, 0, 8, 5, 8, 3, 4, 9, 3, 4, 1, 7, 2, 2, 3, 2, 7, 4, 6, 5, 9, 5,\n",
            "        4, 7, 8, 8, 1, 0, 7, 0, 7, 0, 2, 3, 9, 2, 9, 5, 8, 3, 1, 0, 5, 7, 6, 9,\n",
            "        7, 1, 6, 8, 5, 2, 4, 2, 6, 1, 5, 7, 9, 3, 4, 8, 9, 3, 3, 6, 6, 0, 6, 8,\n",
            "        0, 7, 0, 2])\n",
            "tensor([7, 7, 1, 7, 8, 4, 8, 1, 1, 5, 0, 9, 9, 4, 3, 7, 1, 0, 5, 8, 2, 1, 2, 5,\n",
            "        1, 6, 1, 4, 6, 3, 8, 7, 0, 1, 8, 1, 4, 0, 1, 9, 2, 0, 8, 1, 9, 3, 4, 5,\n",
            "        4, 3, 4, 7, 1, 9, 1, 9, 1, 3, 8, 6, 0, 2, 2, 5, 6, 9, 0, 2, 7, 2, 3, 8,\n",
            "        5, 5, 3, 7, 4, 1, 2, 3, 7, 9, 7, 7, 3, 9, 5, 9, 2, 6, 1, 6, 1, 0, 7, 5,\n",
            "        4, 0, 8, 4])\n",
            "tensor([6, 3, 6, 5, 3, 8, 3, 1, 6, 4, 6, 0, 7, 9, 6, 3, 7, 9, 9, 0, 1, 7, 3, 2,\n",
            "        0, 0, 6, 0, 4, 3, 9, 9, 0, 9, 4, 3, 0, 3, 5, 1, 1, 3, 8, 1, 9, 4, 8, 5,\n",
            "        8, 4, 3, 7, 9, 8, 8, 3, 0, 6, 7, 5, 1, 1, 0, 2, 8, 1, 5, 0, 4, 2, 7, 7,\n",
            "        2, 1, 9, 3, 3, 7, 5, 9, 1, 0, 0, 9, 1, 4, 8, 3, 1, 8, 2, 6, 5, 7, 5, 4,\n",
            "        3, 5, 4, 7])\n",
            "tensor([0, 2, 8, 1, 9, 4, 0, 3, 0, 4, 0, 3, 6, 4, 2, 7, 1, 9, 5, 5, 7, 1, 0, 9,\n",
            "        8, 7, 2, 0, 9, 9, 1, 2, 6, 6, 9, 2, 7, 7, 0, 7, 3, 7, 7, 6, 0, 0, 5, 6,\n",
            "        9, 2, 6, 2, 7, 3, 4, 6, 7, 0, 0, 5, 6, 3, 9, 1, 0, 6, 1, 5, 7, 1, 9, 9,\n",
            "        6, 4, 1, 1, 7, 7, 7, 1, 9, 9, 6, 0, 2, 4, 6, 2, 8, 8, 8, 8, 4, 1, 2, 2,\n",
            "        8, 9, 2, 3])\n",
            "tensor([3, 6, 2, 2, 8, 3, 1, 9, 9, 9, 4, 0, 4, 3, 7, 4, 6, 9, 8, 6, 0, 7, 8, 6,\n",
            "        8, 5, 6, 5, 7, 7, 6, 7, 4, 0, 6, 9, 8, 3, 4, 2, 3, 7, 4, 0, 8, 1, 2, 3,\n",
            "        0, 7, 2, 2, 3, 3, 6, 4, 3, 4, 9, 6, 3, 8, 3, 5, 9, 5, 7, 2, 7, 2, 4, 3,\n",
            "        7, 5, 5, 1, 9, 5, 6, 8, 4, 7, 0, 9, 9, 6, 9, 9, 7, 8, 0, 0, 6, 3, 2, 1,\n",
            "        3, 1, 6, 5])\n",
            "tensor([6, 4, 7, 8, 3, 1, 0, 5, 8, 8, 9, 9, 6, 9, 1, 8, 4, 4, 0, 7, 1, 5, 1, 8,\n",
            "        7, 4, 1, 7, 9, 1, 9, 7, 9, 6, 5, 6, 5, 3, 5, 9, 1, 6, 3, 9, 6, 8, 1, 8,\n",
            "        7, 7, 4, 6, 9, 7, 2, 6, 5, 1, 7, 3, 3, 8, 6, 2, 0, 2, 4, 0, 8, 9, 8, 9,\n",
            "        8, 5, 6, 9, 8, 4, 9, 1, 3, 7, 4, 4, 5, 0, 8, 4, 9, 7, 8, 1, 9, 5, 8, 3,\n",
            "        7, 0, 6, 9])\n",
            "tensor([6, 3, 8, 3, 4, 2, 9, 7, 8, 9, 5, 9, 3, 4, 7, 7, 8, 7, 4, 1, 9, 9, 7, 0,\n",
            "        5, 6, 9, 9, 6, 9, 6, 3, 5, 3, 9, 6, 0, 0, 2, 5, 9, 6, 3, 4, 9, 5, 7, 8,\n",
            "        5, 9, 0, 8, 3, 2, 4, 3, 9, 5, 5, 9, 9, 8, 5, 0, 3, 9, 6, 6, 9, 5, 3, 4,\n",
            "        4, 8, 5, 5, 5, 4, 9, 9, 0, 9, 1, 4, 6, 7, 8, 9, 7, 8, 6, 0, 7, 8, 1, 8,\n",
            "        7, 1, 1, 9])\n",
            "tensor([2, 6, 1, 2, 2, 7, 8, 6, 3, 8, 1, 2, 1, 7, 7, 8, 6, 5, 7, 7, 2, 3, 4, 6,\n",
            "        5, 5, 8, 0, 2, 6, 1, 3, 1, 3, 8, 1, 3, 7, 2, 6, 4, 4, 0, 2, 1, 8, 6, 6,\n",
            "        8, 2, 7, 8, 4, 7, 3, 3, 4, 9, 6, 2, 2, 8, 1, 6, 5, 8, 0, 0, 6, 3, 7, 8,\n",
            "        4, 2, 1, 3, 7, 8, 3, 2, 1, 2, 9, 2, 9, 9, 4, 9, 2, 6, 8, 6, 4, 4, 5, 7,\n",
            "        0, 2, 7, 1])\n",
            "tensor([1, 5, 5, 7, 4, 8, 3, 1, 0, 8, 3, 1, 9, 0, 0, 8, 3, 1, 4, 3, 7, 6, 9, 9,\n",
            "        3, 1, 9, 5, 5, 6, 6, 7, 3, 0, 6, 1, 3, 1, 5, 7, 4, 2, 4, 9, 6, 3, 8, 4,\n",
            "        5, 7, 8, 7, 9, 8, 0, 4, 0, 2, 7, 6, 2, 3, 0, 8, 0, 1, 6, 1, 5, 9, 2, 5,\n",
            "        6, 7, 5, 4, 3, 3, 5, 6, 8, 1, 8, 0, 1, 2, 5, 7, 5, 9, 7, 4, 1, 9, 4, 2,\n",
            "        5, 4, 4, 3])\n",
            "tensor([7, 0, 2, 4, 5, 2, 3, 8, 0, 8, 9, 0, 3, 7, 4, 1, 7, 2, 5, 8, 1, 4, 2, 8,\n",
            "        8, 3, 2, 6, 0, 6, 4, 9, 5, 4, 2, 9, 8, 7, 8, 8, 4, 6, 7, 7, 0, 1, 4, 5,\n",
            "        0, 8, 6, 1, 6, 0, 5, 9, 7, 2, 2, 5, 4, 0, 8, 2, 9, 3, 1, 7, 9, 1, 6, 1,\n",
            "        5, 1, 6, 6, 2, 1, 0, 8, 7, 4, 8, 7, 4, 5, 4, 8, 8, 0, 6, 5, 4, 4, 0, 9,\n",
            "        6, 3, 5, 6])\n",
            "tensor([8, 3, 1, 2, 9, 6, 2, 0, 8, 1, 6, 0, 7, 5, 2, 5, 3, 2, 4, 9, 4, 7, 1, 5,\n",
            "        0, 3, 8, 9, 0, 9, 6, 4, 7, 5, 4, 5, 9, 5, 4, 0, 6, 8, 8, 3, 5, 2, 4, 6,\n",
            "        6, 0, 5, 0, 5, 1, 6, 9, 1, 6, 4, 1, 5, 7, 8, 0, 5, 2, 0, 5, 9, 3, 3, 1,\n",
            "        9, 3, 3, 2, 5, 4, 3, 2, 7, 7, 5, 1, 4, 7, 1, 5, 4, 0, 7, 0, 1, 5, 5, 2,\n",
            "        1, 4, 8, 3])\n",
            "tensor([8, 4, 7, 6, 0, 7, 0, 2, 7, 2, 6, 9, 9, 9, 0, 4, 3, 2, 6, 7, 6, 5, 4, 4,\n",
            "        6, 7, 4, 4, 1, 8, 6, 5, 1, 8, 6, 4, 7, 0, 0, 6, 1, 9, 2, 1, 0, 8, 1, 2,\n",
            "        6, 2, 1, 6, 2, 3, 5, 9, 6, 0, 9, 6, 4, 0, 5, 7, 8, 3, 8, 6, 6, 3, 7, 3,\n",
            "        9, 5, 3, 1, 4, 2, 0, 7, 7, 5, 9, 2, 4, 6, 4, 5, 1, 3, 6, 5, 0, 3, 0, 6,\n",
            "        4, 1, 0, 0])\n",
            "tensor([6, 1, 4, 6, 1, 9, 6, 8, 6, 1, 7, 9, 3, 7, 8, 9, 9, 5, 4, 3, 6, 5, 6, 2,\n",
            "        1, 0, 9, 6, 8, 4, 5, 3, 0, 9, 5, 0, 9, 4, 4, 2, 9, 9, 0, 3, 0, 4, 9, 8,\n",
            "        6, 7, 4, 1, 3, 3, 8, 3, 1, 0, 5, 8, 2, 6, 7, 9, 0, 7, 1, 5, 1, 4, 3, 2,\n",
            "        2, 4, 3, 1, 5, 2, 7, 3, 3, 5, 1, 1, 5, 1, 0, 5, 6, 8, 7, 1, 8, 2, 6, 9,\n",
            "        5, 8, 3, 3])\n",
            "tensor([8, 8, 0, 8, 7, 3, 5, 2, 5, 4, 2, 4, 1, 7, 2, 6, 6, 5, 9, 8, 4, 3, 7, 9,\n",
            "        4, 6, 5, 1, 6, 6, 8, 0, 8, 1, 3, 5, 6, 2, 2, 9, 3, 7, 3, 3, 7, 8, 6, 0,\n",
            "        8, 7, 1, 6, 0, 4, 4, 9, 6, 0, 5, 8, 0, 6, 7, 3, 9, 6, 6, 4, 2, 1, 4, 8,\n",
            "        6, 8, 3, 2, 9, 8, 1, 2, 3, 3, 8, 3, 2, 8, 0, 9, 3, 4, 3, 8, 4, 1, 2, 0,\n",
            "        0, 9, 9, 3])\n",
            "tensor([6, 1, 2, 4, 9, 5, 5, 0, 5, 0, 8, 4, 5, 1, 4, 3, 2, 4, 8, 1, 4, 7, 6, 8,\n",
            "        6, 4, 7, 4, 7, 5, 2, 9, 8, 5, 4, 2, 3, 8, 4, 3, 2, 3, 2, 0, 6, 8, 2, 2,\n",
            "        6, 9, 8, 4, 9, 0, 2, 0, 7, 6, 5, 3, 2, 4, 9, 3, 8, 5, 9, 9, 1, 4, 6, 5,\n",
            "        1, 3, 1, 4, 3, 7, 8, 6, 3, 1, 2, 1, 8, 5, 2, 1, 7, 4, 7, 4, 4, 3, 1, 7,\n",
            "        7, 4, 1, 1])\n",
            "tensor([1, 7, 9, 5, 4, 0, 2, 3, 1, 1, 2, 8, 8, 4, 7, 9, 7, 4, 3, 7, 8, 2, 5, 6,\n",
            "        9, 7, 8, 6, 2, 2, 9, 3, 9, 9, 7, 6, 7, 5, 4, 6, 9, 7, 2, 6, 1, 2, 8, 5,\n",
            "        9, 9, 6, 3, 3, 0, 5, 8, 5, 1, 7, 1, 3, 1, 4, 6, 0, 2, 2, 0, 5, 8, 6, 1,\n",
            "        8, 3, 2, 1, 5, 9, 2, 0, 1, 0, 0, 5, 9, 7, 8, 3, 8, 8, 6, 8, 5, 7, 0, 6,\n",
            "        3, 3, 7, 6])\n",
            "tensor([8, 0, 6, 9, 0, 4, 3, 1, 3, 6, 6, 7, 7, 9, 1, 5, 2, 7, 9, 1, 7, 7, 3, 2,\n",
            "        7, 2, 3, 6, 1, 6, 2, 0, 6, 8, 4, 9, 3, 0, 1, 7, 6, 6, 3, 8, 0, 3, 6, 2,\n",
            "        1, 9, 4, 7, 2, 6, 7, 3, 7, 2, 0, 9, 2, 1, 5, 6, 9, 1, 0, 3, 9, 4, 8, 7,\n",
            "        3, 2, 0, 4, 8, 0, 6, 6, 8, 4, 7, 0, 2, 6, 1, 0, 8, 4, 4, 6, 3, 2, 2, 6,\n",
            "        7, 7, 5, 0])\n",
            "tensor([2, 3, 8, 5, 4, 9, 4, 3, 9, 1, 3, 9, 0, 0, 1, 4, 5, 9, 1, 8, 2, 7, 8, 6,\n",
            "        1, 0, 1, 0, 0, 6, 7, 4, 3, 3, 3, 7, 6, 0, 3, 7, 0, 1, 3, 3, 8, 2, 2, 0,\n",
            "        3, 6, 0, 3, 3, 4, 0, 7, 6, 9, 8, 7, 1, 3, 6, 5, 9, 4, 7, 8, 3, 3, 0, 3,\n",
            "        9, 6, 4, 1, 9, 6, 6, 0, 7, 9, 0, 5, 7, 5, 5, 9, 1, 2, 3, 4, 7, 3, 9, 1,\n",
            "        8, 0, 3, 9])\n",
            "tensor([6, 3, 2, 8, 4, 5, 9, 2, 7, 1, 3, 2, 3, 6, 7, 1, 6, 8, 9, 9, 5, 5, 6, 1,\n",
            "        4, 0, 4, 8, 3, 7, 8, 5, 8, 8, 9, 4, 6, 4, 5, 7, 9, 5, 1, 2, 5, 6, 1, 3,\n",
            "        9, 0, 3, 4, 4, 0, 3, 2, 5, 1, 5, 0, 4, 5, 0, 4, 9, 6, 5, 5, 4, 8, 7, 2,\n",
            "        2, 0, 5, 5, 2, 0, 5, 7, 9, 3, 4, 7, 5, 5, 5, 7, 8, 8, 5, 8, 0, 6, 7, 2,\n",
            "        3, 9, 9, 7])\n",
            "tensor([9, 4, 6, 6, 6, 3, 6, 4, 3, 0, 5, 4, 7, 7, 0, 7, 7, 4, 7, 8, 0, 1, 6, 0,\n",
            "        3, 2, 8, 9, 5, 4, 2, 3, 3, 9, 2, 6, 9, 5, 4, 6, 3, 0, 0, 4, 3, 1, 1, 2,\n",
            "        1, 0, 5, 8, 4, 5, 0, 1, 8, 9, 4, 5, 8, 4, 7, 2, 0, 0, 9, 3, 3, 0, 9, 0,\n",
            "        2, 1, 7, 5, 6, 3, 9, 2, 8, 8, 8, 2, 0, 9, 4, 8, 2, 2, 2, 1, 9, 2, 3, 0,\n",
            "        6, 0, 9, 1])\n",
            "tensor([5, 6, 9, 8, 8, 8, 8, 5, 6, 9, 4, 5, 8, 0, 6, 2, 3, 0, 0, 9, 8, 0, 2, 9,\n",
            "        8, 2, 7, 4, 9, 2, 3, 6, 6, 2, 9, 8, 0, 5, 9, 8, 2, 1, 3, 9, 1, 3, 5, 4,\n",
            "        5, 6, 2, 5, 1, 3, 3, 0, 1, 4, 4, 2, 4, 5, 7, 6, 7, 5, 9, 9, 7, 5, 4, 7,\n",
            "        1, 6, 7, 5, 9, 6, 0, 2, 5, 8, 7, 2, 9, 1, 1, 4, 7, 6, 9, 6, 1, 8, 2, 2,\n",
            "        2, 0, 5, 6])\n",
            "tensor([6, 8, 3, 5, 9, 3, 1, 9, 1, 7, 3, 1, 6, 4, 7, 7, 9, 8, 2, 7, 3, 4, 1, 7,\n",
            "        9, 1, 3, 5, 8, 6, 0, 0, 9, 6, 0, 6, 7, 6, 1, 1, 5, 4, 9, 5, 4, 9, 5, 3,\n",
            "        7, 4, 7, 7, 9, 1, 2, 6, 0, 8, 0, 1, 4, 1, 5, 3, 0, 1, 5, 2, 6, 0, 3, 4,\n",
            "        2, 3, 0, 3, 7, 1, 4, 7, 7, 2, 0, 6, 5, 6, 9, 6, 3, 3, 2, 2, 9, 6, 7, 1,\n",
            "        3, 5, 6, 4])\n",
            "tensor([5, 1, 0, 7, 4, 5, 4, 9, 0, 4, 7, 4, 9, 5, 3, 0, 2, 5, 7, 4, 7, 6, 7, 5,\n",
            "        7, 3, 2, 2, 1, 4, 4, 1, 0, 1, 7, 8, 6, 8, 4, 9, 2, 9, 3, 0, 3, 2, 7, 5,\n",
            "        4, 1, 6, 7, 6, 0, 4, 1, 6, 8, 2, 1, 7, 9, 8, 3, 0, 9, 4, 4, 6, 4, 5, 7,\n",
            "        2, 6, 5, 9, 7, 9, 2, 7, 6, 4, 5, 1, 8, 8, 5, 1, 9, 8, 6, 3, 2, 0, 7, 6,\n",
            "        1, 1, 5, 8])\n",
            "tensor([2, 6, 4, 9, 8, 5, 9, 0, 0, 6, 2, 0, 7, 0, 7, 8, 8, 4, 4, 4, 5, 4, 5, 4,\n",
            "        0, 3, 1, 7, 2, 9, 9, 7, 5, 6, 8, 1, 7, 2, 3, 3, 1, 2, 8, 2, 9, 5, 4, 2,\n",
            "        1, 2, 6, 3, 6, 4, 7, 5, 9, 6, 0, 8, 7, 6, 8, 9, 5, 2, 3, 5, 4, 2, 2, 8,\n",
            "        7, 3, 8, 5, 3, 0, 8, 3, 0, 4, 5, 2, 3, 5, 7, 9, 9, 6, 9, 1, 2, 8, 8, 4,\n",
            "        8, 8, 3, 1])\n",
            "tensor([5, 6, 8, 4, 1, 5, 8, 5, 0, 7, 6, 8, 7, 1, 6, 2, 2, 9, 2, 1, 6, 3, 5, 1,\n",
            "        1, 6, 5, 8, 7, 1, 6, 5, 9, 1, 8, 3, 9, 5, 8, 1, 6, 5, 7, 0, 2, 9, 5, 1,\n",
            "        0, 0, 7, 5, 3, 5, 8, 8, 7, 5, 4, 1, 4, 6, 1, 6, 8, 0, 5, 2, 4, 0, 2, 5,\n",
            "        0, 8, 0, 5, 8, 3, 1, 3, 3, 8, 6, 8, 3, 2, 3, 0, 6, 5, 6, 2, 2, 6, 2, 6,\n",
            "        9, 5, 3, 2])\n",
            "tensor([8, 9, 0, 7, 4, 1, 8, 7, 3, 8, 7, 1, 0, 1, 0, 5, 3, 9, 0, 4, 8, 8, 1, 6,\n",
            "        3, 9, 4, 4, 6, 0, 6, 6, 8, 4, 8, 2, 0, 9, 6, 0, 5, 5, 1, 0, 7, 9, 2, 0,\n",
            "        5, 8, 6, 4, 2, 3, 4, 6, 4, 8, 7, 7, 8, 3, 4, 1, 5, 9, 6, 3, 4, 8, 0, 1,\n",
            "        9, 7, 6, 9, 1, 0, 9, 6, 0, 9, 5, 8, 3, 1, 3, 8, 5, 9, 8, 5, 9, 4, 9, 0,\n",
            "        3, 1, 1, 4])\n",
            "tensor([3, 8, 2, 9, 8, 3, 6, 8, 4, 4, 2, 1, 9, 6, 5, 3, 3, 8, 4, 3, 4, 0, 5, 3,\n",
            "        9, 5, 8, 1, 5, 9, 7, 7, 4, 2, 0, 1, 5, 5, 7, 1, 2, 5, 7, 5, 6, 1, 4, 6,\n",
            "        4, 5, 4, 6, 2, 7, 3, 0, 5, 1, 2, 3, 6, 9, 1, 6, 7, 6, 4, 1, 0, 0, 6, 4,\n",
            "        7, 8, 1, 7, 0, 3, 2, 1, 8, 3, 6, 4, 0, 8, 1, 4, 9, 7, 1, 5, 1, 2, 7, 4,\n",
            "        3, 4, 1, 5])\n",
            "tensor([8, 2, 7, 3, 6, 1, 0, 2, 4, 6, 7, 0, 4, 4, 4, 0, 0, 2, 7, 5, 2, 5, 7, 2,\n",
            "        0, 0, 4, 5, 0, 0, 4, 5, 4, 0, 2, 5, 1, 4, 0, 1, 7, 8, 9, 1, 1, 8, 3, 3,\n",
            "        5, 5, 0, 7, 8, 9, 6, 5, 6, 5, 9, 3, 6, 6, 0, 9, 8, 9, 3, 0, 9, 9, 8, 2,\n",
            "        6, 1, 4, 5, 2, 9, 4, 1, 5, 0, 1, 6, 0, 0, 5, 9, 0, 2, 3, 3, 9, 4, 0, 1,\n",
            "        9, 3, 3, 9])\n",
            "tensor([0, 0, 2, 9, 6, 5, 1, 7, 5, 5, 4, 3, 8, 3, 1, 9, 6, 0, 9, 8, 5, 2, 7, 0,\n",
            "        7, 7, 7, 5, 4, 4, 7, 4, 5, 9, 2, 2, 6, 0, 9, 9, 3, 2, 1, 2, 6, 1, 0, 2,\n",
            "        9, 2, 2, 6, 2, 3, 4, 3, 9, 7, 2, 6, 6, 4, 7, 4, 4, 7, 5, 1, 4, 0, 5, 9,\n",
            "        6, 4, 0, 9, 3, 3, 4, 3, 3, 3, 0, 4, 0, 4, 0, 4, 4, 6, 5, 2, 4, 5, 1, 6,\n",
            "        0, 5, 6, 4])\n",
            "tensor([1, 4, 7, 9, 8, 4, 9, 9, 0, 5, 3, 1, 4, 2, 3, 9, 6, 2, 3, 9, 5, 7, 8, 0,\n",
            "        9, 0, 8, 9, 3, 2, 1, 9, 9, 0, 3, 3, 3, 6, 8, 7, 4, 3, 8, 3, 0, 8, 9, 9,\n",
            "        3, 7, 9, 0, 9, 7, 7, 2, 0, 8, 0, 6, 2, 3, 1, 3, 1, 6, 5, 7, 7, 6, 5, 2,\n",
            "        7, 6, 6, 5, 4, 5, 5, 6, 9, 3, 5, 9, 3, 1, 4, 5, 5, 7, 2, 7, 0, 7, 3, 2,\n",
            "        8, 8, 6, 5])\n",
            "tensor([6, 1, 9, 5, 7, 6, 0, 7, 3, 0, 1, 3, 6, 3, 4, 5, 4, 7, 3, 6, 0, 1, 4, 5,\n",
            "        3, 0, 0, 1, 7, 4, 1, 6, 8, 7, 1, 5, 7, 3, 8, 3, 4, 5, 5, 4, 7, 7, 8, 3,\n",
            "        4, 8, 3, 9, 5, 8, 2, 9, 9, 9, 4, 1, 3, 3, 9, 2, 7, 6, 3, 0, 3, 1, 5, 1,\n",
            "        5, 2, 4, 1, 3, 9, 5, 4, 0, 0, 2, 3, 6, 1, 4, 0, 2, 6, 0, 6, 7, 7, 6, 7,\n",
            "        1, 6, 3, 8])\n",
            "tensor([2, 9, 8, 4, 9, 4, 8, 6, 5, 0, 9, 3, 3, 8, 8, 2, 9, 7, 3, 8, 5, 1, 0, 1,\n",
            "        1, 9, 5, 0, 7, 1, 5, 3, 5, 5, 6, 7, 4, 7, 6, 1, 9, 5, 4, 7, 5, 0, 1, 2,\n",
            "        8, 3, 1, 6, 3, 0, 5, 9, 1, 2, 3, 7, 8, 5, 8, 3, 8, 4, 2, 0, 0, 3, 0, 0,\n",
            "        2, 3, 8, 8, 1, 1, 6, 3, 5, 9, 6, 2, 5, 8, 8, 3, 7, 7, 5, 3, 5, 5, 8, 0,\n",
            "        1, 7, 8, 9])\n",
            "tensor([8, 8, 3, 0, 6, 5, 0, 3, 0, 1, 8, 1, 3, 1, 1, 0, 7, 6, 5, 2, 4, 5, 5, 1,\n",
            "        9, 6, 2, 4, 9, 0, 5, 8, 9, 1, 8, 4, 4, 1, 8, 0, 9, 3, 3, 0, 0, 7, 9, 1,\n",
            "        1, 8, 2, 4, 4, 5, 7, 7, 4, 1, 2, 2, 9, 2, 1, 0, 4, 4, 1, 7, 3, 8, 0, 5,\n",
            "        1, 8, 9, 8, 4, 6, 8, 4, 0, 6, 6, 1, 5, 2, 1, 0, 9, 9, 5, 7, 7, 0, 2, 2,\n",
            "        7, 0, 3, 0])\n",
            "tensor([4, 2, 7, 2, 5, 6, 2, 4, 5, 5, 5, 2, 4, 0, 7, 6, 5, 2, 0, 7, 9, 6, 3, 2,\n",
            "        1, 8, 5, 2, 4, 7, 2, 1, 1, 9, 2, 9, 1, 4, 7, 8, 3, 4, 3, 0, 2, 4, 9, 3,\n",
            "        6, 8, 1, 3, 5, 6, 7, 8, 5, 6, 7, 7, 5, 9, 9, 0, 1, 7, 0, 1, 7, 7, 1, 9,\n",
            "        8, 4, 1, 4, 5, 2, 3, 4, 1, 9, 6, 8, 5, 3, 7, 9, 3, 8, 1, 4, 6, 2, 1, 4,\n",
            "        9, 7, 2, 3])\n",
            "tensor([3, 8, 4, 2, 4, 3, 0, 1, 0, 7, 3, 0, 0, 9, 4, 7, 6, 9, 0, 7, 2, 3, 4, 7,\n",
            "        2, 6, 9, 1, 6, 2, 9, 1, 9, 1, 5, 0, 6, 7, 7, 7, 4, 1, 3, 2, 6, 5, 6, 9,\n",
            "        8, 3, 5, 9, 1, 8, 6, 3, 3, 1, 3, 1, 1, 9, 7, 2, 6, 0, 1, 9, 9, 8, 2, 7,\n",
            "        1, 5, 8, 4, 8, 7, 8, 7, 0, 0, 9, 2, 7, 7, 6, 2, 6, 6, 3, 0, 3, 6, 9, 5,\n",
            "        8, 8, 4, 5])\n",
            "tensor([8, 1, 8, 5, 7, 0, 7, 4, 2, 1, 1, 7, 0, 3, 4, 1, 4, 4, 2, 6, 4, 6, 6, 6,\n",
            "        6, 2, 9, 9, 4, 5, 4, 7, 4, 2, 1, 0, 3, 7, 9, 2, 0, 7, 2, 4, 5, 3, 8, 2,\n",
            "        9, 4, 2, 7, 8, 4, 5, 1, 5, 3, 2, 1, 0, 2, 9, 2, 9, 5, 1, 9, 6, 3, 6, 9,\n",
            "        6, 4, 4, 9, 6, 2, 7, 3, 2, 1, 1, 7, 3, 4, 7, 7, 1, 0, 2, 0, 5, 7, 9, 3,\n",
            "        5, 0, 8, 3])\n",
            "tensor([2, 2, 0, 1, 5, 2, 5, 9, 1, 3, 4, 5, 0, 7, 8, 0, 2, 6, 1, 2, 1, 8, 9, 3,\n",
            "        9, 1, 4, 1, 3, 8, 8, 4, 5, 0, 4, 6, 5, 6, 9, 2, 7, 2, 7, 8, 9, 1, 1, 8,\n",
            "        7, 3, 0, 4, 5, 5, 0, 6, 0, 4, 6, 7, 2, 6, 0, 0, 1, 9, 3, 9, 9, 7, 5, 1,\n",
            "        1, 2, 6, 9, 3, 8, 0, 3, 6, 8, 9, 4, 2, 3, 2, 0, 0, 2, 2, 7, 1, 1, 7, 1,\n",
            "        8, 8, 3, 8])\n",
            "tensor([6, 4, 5, 0, 5, 8, 3, 7, 5, 8, 4, 4, 4, 7, 5, 4, 2, 2, 7, 6, 6, 5, 0, 7,\n",
            "        4, 4, 2, 9, 8, 4, 9, 7, 2, 5, 8, 3, 2, 1, 7, 0, 3, 8, 7, 6, 4, 9, 0, 6,\n",
            "        0, 4, 6, 8, 6, 0, 0, 8, 7, 0, 7, 9, 6, 6, 1, 2, 3, 4, 2, 6, 4, 4, 4, 5,\n",
            "        6, 6, 9, 1, 2, 4, 2, 7, 0, 5, 1, 0, 1, 8, 5, 9, 3, 8, 7, 9, 1, 5, 6, 5,\n",
            "        7, 3, 0, 1])\n",
            "tensor([7, 2, 9, 4, 7, 0, 0, 3, 4, 2, 8, 9, 0, 7, 1, 6, 3, 7, 0, 0, 4, 3, 5, 8,\n",
            "        4, 8, 7, 4, 6, 6, 7, 4, 1, 9, 1, 7, 8, 6, 1, 9, 9, 8, 1, 1, 5, 7, 0, 0,\n",
            "        0, 6, 0, 1, 0, 9, 6, 6, 1, 8, 6, 0, 8, 4, 0, 7, 1, 5, 4, 1, 3, 5, 7, 7,\n",
            "        1, 4, 7, 5, 7, 3, 2, 6, 8, 4, 0, 7, 7, 5, 6, 8, 4, 8, 0, 4, 0, 2, 0, 9,\n",
            "        5, 7, 2, 3])\n",
            "tensor([9, 4, 1, 0, 3, 5, 2, 8, 0, 2, 9, 0, 1, 0, 9, 6, 2, 8, 4, 4, 7, 6, 2, 7,\n",
            "        4, 5, 9, 4, 4, 2, 9, 1, 8, 2, 8, 3, 9, 9, 5, 7, 4, 2, 8, 4, 1, 1, 1, 0,\n",
            "        4, 2, 4, 0, 6, 2, 3, 2, 0, 3, 4, 7, 5, 8, 5, 7, 6, 3, 8, 8, 1, 0, 2, 8,\n",
            "        8, 9, 2, 2, 9, 0, 0, 0, 1, 0, 3, 2, 1, 2, 1, 5, 0, 4, 3, 0, 3, 7, 4, 1,\n",
            "        1, 8, 9, 4])\n",
            "tensor([2, 4, 8, 8, 1, 7, 3, 0, 5, 5, 0, 2, 2, 8, 8, 9, 5, 5, 3, 6, 6, 7, 9, 2,\n",
            "        4, 6, 4, 4, 6, 2, 9, 7, 5, 1, 7, 0, 5, 9, 5, 1, 3, 2, 5, 4, 2, 1, 5, 5,\n",
            "        2, 2, 2, 3, 3, 6, 5, 1, 3, 3, 0, 7, 9, 4, 0, 9, 4, 1, 6, 6, 2, 6, 4, 5,\n",
            "        8, 6, 7, 7, 8, 8, 0, 5, 9, 0, 1, 6, 1, 6, 7, 5, 7, 4, 8, 0, 6, 1, 7, 3,\n",
            "        0, 2, 0, 2])\n",
            "tensor([1, 0, 3, 1, 0, 9, 7, 1, 5, 6, 0, 2, 3, 1, 0, 2, 5, 9, 1, 0, 2, 2, 4, 7,\n",
            "        4, 3, 0, 5, 5, 8, 7, 0, 0, 7, 1, 4, 4, 5, 6, 8, 4, 6, 0, 3, 3, 3, 4, 9,\n",
            "        8, 9, 5, 0, 8, 7, 6, 0, 9, 9, 4, 3, 4, 9, 4, 9, 3, 9, 5, 7, 4, 4, 3, 7,\n",
            "        1, 5, 7, 1, 7, 2, 5, 9, 3, 5, 6, 5, 1, 8, 7, 5, 3, 2, 6, 2, 4, 9, 3, 3,\n",
            "        9, 4, 3, 5])\n",
            "tensor([4, 8, 2, 1, 4, 4, 2, 7, 2, 8, 7, 8, 5, 0, 6, 2, 6, 4, 3, 3, 4, 6, 7, 8,\n",
            "        9, 5, 3, 9, 9, 1, 9, 0, 3, 7, 4, 4, 6, 6, 8, 5, 1, 8, 8, 7, 0, 7, 4, 0,\n",
            "        9, 1, 4, 9, 1, 2, 8, 3, 9, 9, 4, 7, 8, 6, 1, 9, 2, 7, 0, 1, 2, 0, 6, 9,\n",
            "        9, 3, 4, 4, 1, 2, 1, 6, 4, 2, 5, 8, 9, 3, 5, 3, 8, 9, 6, 6, 5, 8, 9, 2,\n",
            "        8, 9, 7, 6])\n",
            "tensor([1, 7, 7, 1, 2, 4, 8, 6, 8, 2, 8, 8, 3, 7, 9, 3, 0, 0, 4, 0, 4, 7, 9, 1,\n",
            "        3, 4, 8, 5, 4, 0, 6, 2, 2, 4, 7, 9, 0, 5, 4, 6, 3, 7, 6, 6, 7, 5, 4, 7,\n",
            "        1, 7, 4, 8, 6, 8, 1, 3, 4, 5, 7, 1, 1, 7, 1, 4, 0, 8, 2, 1, 3, 9, 0, 2,\n",
            "        1, 9, 5, 7, 5, 5, 1, 3, 3, 5, 7, 5, 8, 0, 4, 5, 4, 8, 6, 7, 7, 2, 1, 4,\n",
            "        5, 7, 0, 1])\n",
            "tensor([9, 5, 3, 9, 7, 5, 2, 6, 0, 3, 3, 0, 2, 1, 4, 6, 6, 6, 4, 9, 9, 3, 3, 5,\n",
            "        3, 4, 3, 9, 2, 8, 8, 6, 5, 9, 9, 6, 1, 4, 7, 5, 8, 6, 1, 0, 9, 0, 1, 0,\n",
            "        6, 2, 1, 0, 0, 4, 2, 5, 4, 1, 0, 1, 1, 3, 2, 7, 4, 8, 2, 7, 7, 8, 4, 0,\n",
            "        8, 9, 7, 9, 4, 4, 4, 2, 3, 4, 6, 1, 6, 1, 9, 3, 4, 5, 6, 5, 6, 1, 3, 1,\n",
            "        5, 3, 8, 8])\n",
            "tensor([3, 9, 9, 6, 1, 1, 3, 9, 0, 4, 2, 5, 4, 3, 3, 5, 2, 2, 2, 6, 6, 6, 7, 7,\n",
            "        2, 3, 4, 9, 9, 4, 3, 0, 1, 5, 0, 5, 3, 2, 6, 6, 5, 1, 6, 4, 5, 1, 2, 8,\n",
            "        1, 9, 9, 5, 1, 8, 0, 7, 2, 2, 0, 8, 1, 2, 0, 4, 7, 3, 4, 0, 9, 9, 7, 4,\n",
            "        3, 3, 5, 1, 6, 6, 7, 7, 1, 8, 5, 7, 9, 2, 9, 0, 8, 0, 1, 3, 6, 5, 5, 8,\n",
            "        3, 8, 0, 7])\n",
            "tensor([6, 0, 8, 7, 5, 0, 1, 3, 9, 1, 5, 5, 7, 6, 3, 7, 7, 5, 6, 8, 5, 8, 4, 6,\n",
            "        0, 8, 7, 5, 8, 2, 9, 2, 7, 6, 2, 3, 0, 5, 1, 3, 1, 3, 0, 7, 2, 5, 0, 1,\n",
            "        4, 3, 1, 5, 2, 4, 7, 0, 3, 3, 0, 7, 4, 9, 8, 5, 5, 2, 4, 3, 5, 9, 5, 8,\n",
            "        5, 0, 9, 4, 1, 2, 9, 5, 6, 0, 6, 3, 3, 2, 3, 9, 8, 0, 7, 2, 0, 1, 4, 8,\n",
            "        4, 4, 1, 1])\n",
            "tensor([4, 2, 9, 5, 3, 6, 0, 8, 1, 1, 2, 3, 0, 0, 0, 9, 6, 4, 5, 0, 6, 3, 2, 9,\n",
            "        1, 6, 7, 4, 9, 5, 7, 5, 4, 1, 0, 8, 3, 0, 5, 6, 2, 6, 8, 2, 8, 5, 7, 5,\n",
            "        8, 1, 4, 6, 8, 8, 9, 6, 3, 1, 9, 6, 2, 8, 8, 0, 8, 4, 1, 9, 6, 7, 0, 8,\n",
            "        4, 9, 2, 2, 1, 1, 9, 9, 7, 5, 7, 5, 7, 2, 5, 7, 5, 9, 4, 8, 6, 9, 4, 5,\n",
            "        5, 3, 4, 9])\n",
            "tensor([8, 7, 7, 1, 9, 3, 6, 8, 7, 7, 3, 3, 8, 8, 1, 5, 9, 7, 2, 3, 6, 0, 3, 6,\n",
            "        2, 6, 9, 3, 5, 7, 4, 2, 7, 4, 6, 4, 3, 7, 9, 7, 4, 7, 2, 7, 7, 9, 1, 1,\n",
            "        5, 9, 8, 8, 4, 6, 0, 3, 8, 5, 7, 8, 8, 6, 1, 0, 2, 4, 5, 4, 2, 5, 1, 0,\n",
            "        8, 0, 0, 9, 3, 6, 9, 6, 6, 6, 3, 6, 5, 5, 0, 8, 8, 3, 1, 7, 4, 1, 1, 9,\n",
            "        1, 1, 5, 7])\n",
            "tensor([6, 6, 7, 5, 6, 7, 8, 8, 2, 7, 1, 9, 8, 1, 1, 0, 5, 2, 6, 6, 7, 1, 5, 5,\n",
            "        7, 4, 4, 2, 8, 4, 2, 5, 4, 1, 6, 2, 4, 3, 0, 9, 2, 5, 9, 8, 9, 2, 9, 8,\n",
            "        2, 2, 5, 1, 3, 7, 8, 0, 4, 8, 2, 6, 7, 3, 2, 8, 2, 9, 9, 8, 7, 2, 4, 5,\n",
            "        4, 8, 7, 7, 0, 3, 2, 3, 5, 5, 6, 4, 0, 8, 6, 5, 0, 0, 1, 2, 4, 0, 5, 5,\n",
            "        4, 4, 1, 0])\n",
            "tensor([9, 1, 3, 9, 5, 1, 2, 3, 2, 8, 7, 4, 6, 3, 8, 7, 6, 8, 0, 4, 1, 8, 7, 3,\n",
            "        0, 9, 6, 1, 6, 1, 4, 4, 2, 8, 5, 4, 4, 2, 4, 9, 4, 1, 2, 4, 1, 2, 8, 1,\n",
            "        7, 2, 6, 4, 9, 6, 5, 7, 6, 7, 0, 2, 1, 9, 1, 1, 7, 3, 0, 4, 9, 7, 2, 4,\n",
            "        7, 8, 6, 1, 0, 5, 4, 9, 4, 9, 5, 4, 4, 0, 9, 5, 9, 6, 2, 7, 7, 2, 6, 7,\n",
            "        2, 7, 9, 0])\n",
            "tensor([9, 3, 7, 7, 2, 9, 1, 9, 3, 0, 5, 2, 5, 9, 5, 7, 8, 0, 9, 8, 8, 1, 6, 4,\n",
            "        1, 8, 6, 1, 0, 2, 0, 6, 5, 9, 3, 5, 1, 7, 6, 0, 2, 3, 1, 2, 2, 2, 7, 9,\n",
            "        1, 8, 4, 0, 0, 6, 6, 6, 0, 0, 9, 7, 9, 5, 0, 1, 1, 4, 3, 0, 5, 0, 1, 8,\n",
            "        8, 9, 9, 4, 0, 2, 5, 2, 1, 5, 2, 0, 5, 1, 8, 7, 3, 4, 6, 8, 9, 2, 3, 2,\n",
            "        7, 7, 6, 9])\n",
            "tensor([4, 0, 0, 3, 5, 5, 4, 1, 6, 6, 1, 0, 7, 6, 3, 5, 5, 3, 5, 4, 9, 5, 4, 7,\n",
            "        5, 8, 8, 9, 9, 9, 3, 4, 2, 4, 4, 0, 9, 2, 3, 0, 1, 8, 9, 0, 3, 3, 1, 6,\n",
            "        2, 4, 8, 9, 5, 2, 7, 6, 8, 2, 6, 3, 1, 4, 3, 7, 4, 8, 9, 6, 0, 7, 3, 4,\n",
            "        9, 8, 8, 0, 5, 7, 5, 0, 1, 5, 6, 9, 7, 9, 9, 7, 7, 7, 3, 5, 7, 9, 8, 6,\n",
            "        7, 0, 2, 4])\n",
            "tensor([6, 2, 4, 2, 8, 2, 3, 5, 4, 3, 7, 0, 3, 6, 9, 5, 7, 1, 1, 0, 4, 3, 4, 5,\n",
            "        6, 1, 1, 8, 4, 0, 4, 7, 5, 7, 8, 5, 9, 4, 6, 7, 0, 9, 8, 5, 5, 7, 8, 3,\n",
            "        3, 7, 1, 3, 2, 9, 8, 0, 1, 9, 6, 2, 5, 2, 6, 8, 4, 5, 6, 8, 8, 2, 5, 9,\n",
            "        7, 1, 0, 4, 0, 7, 7, 0, 3, 5, 1, 6, 6, 6, 2, 9, 1, 7, 9, 3, 3, 4, 7, 4,\n",
            "        2, 5, 7, 9])\n",
            "tensor([2, 7, 5, 8, 2, 4, 6, 0, 8, 2, 4, 9, 6, 4, 5, 8, 5, 8, 0, 0, 1, 0, 0, 7,\n",
            "        7, 7, 6, 5, 2, 8, 8, 6, 1, 3, 8, 0, 6, 6, 4, 4, 9, 9, 6, 4, 8, 9, 9, 6,\n",
            "        7, 0, 4, 7, 2, 8, 5, 4, 9, 4, 8, 4, 4, 2, 8, 3, 4, 7, 3, 0, 0, 4, 7, 6,\n",
            "        9, 3, 4, 7, 2, 8, 1, 6, 3, 4, 8, 3, 6, 5, 8, 3, 1, 8, 4, 6, 8, 6, 6, 4,\n",
            "        8, 0, 8, 3])\n",
            "tensor([9, 7, 4, 3, 4, 1, 0, 7, 7, 3, 8, 9, 0, 3, 1, 0, 7, 2, 7, 6, 9, 1, 6, 7,\n",
            "        7, 5, 9, 4, 8, 1, 2, 9, 0, 6, 5, 2, 4, 9, 9, 4, 0, 8, 0, 1, 6, 7, 8, 2,\n",
            "        5, 1, 8, 6, 8, 9, 4, 4, 0, 7, 9, 7, 1, 7, 9, 5, 0, 6, 3, 7, 2, 3, 2, 8,\n",
            "        0, 4, 1, 2, 3, 0, 3, 9, 7, 2, 0, 8, 9, 5, 6, 1, 3, 3, 0, 6, 8, 6, 0, 5,\n",
            "        7, 6, 5, 0])\n",
            "tensor([7, 1, 3, 4, 9, 8, 5, 3, 2, 9, 9, 6, 8, 7, 3, 6, 0, 1, 5, 3, 4, 7, 6, 9,\n",
            "        8, 2, 6, 5, 2, 9, 0, 5, 8, 5, 9, 2, 8, 7, 6, 3, 0, 1, 9, 5, 0, 5, 9, 0,\n",
            "        6, 9, 6, 1, 3, 3, 0, 7, 2, 7, 1, 5, 0, 7, 9, 3, 9, 4, 2, 9, 6, 5, 0, 9,\n",
            "        3, 2, 2, 0, 6, 8, 0, 3, 2, 5, 0, 2, 6, 3, 1, 0, 6, 8, 2, 7, 9, 9, 6, 9,\n",
            "        7, 1, 3, 5])\n",
            "tensor([4, 5, 9, 1, 1, 6, 4, 5, 6, 8, 1, 7, 0, 5, 5, 6, 3, 7, 7, 1, 1, 2, 1, 3,\n",
            "        7, 5, 4, 5, 5, 9, 7, 1, 1, 8, 1, 5, 2, 7, 6, 8, 4, 5, 9, 6, 7, 2, 1, 2,\n",
            "        5, 2, 1, 7, 0, 9, 0, 0, 9, 2, 1, 9, 6, 4, 1, 0, 0, 0, 0, 8, 3, 9, 4, 1,\n",
            "        6, 9, 7, 0, 5, 6, 6, 4, 5, 1, 9, 4, 8, 0, 7, 5, 6, 1, 5, 3, 8, 6, 8, 2,\n",
            "        0, 1, 3, 2])\n",
            "tensor([0, 1, 7, 6, 3, 4, 1, 2, 5, 1, 4, 3, 2, 6, 5, 0, 5, 8, 2, 8, 4, 6, 5, 4,\n",
            "        7, 8, 9, 0, 8, 1, 3, 3, 2, 7, 0, 2, 5, 3, 3, 9, 8, 4, 2, 5, 6, 2, 7, 7,\n",
            "        9, 9, 1, 4, 7, 9, 6, 9, 1, 6, 7, 9, 0, 8, 9, 8, 1, 8, 5, 4, 8, 3, 4, 9,\n",
            "        6, 6, 0, 8, 0, 3, 8, 5, 1, 0, 2, 2, 5, 1, 9, 3, 3, 0, 0, 5, 1, 1, 6, 1,\n",
            "        8, 6, 4, 7])\n",
            "tensor([5, 8, 3, 4, 6, 0, 2, 5, 2, 4, 1, 1, 6, 4, 2, 7, 6, 2, 4, 0, 6, 1, 6, 3,\n",
            "        8, 1, 0, 5, 4, 0, 0, 2, 3, 6, 9, 9, 3, 1, 5, 1, 7, 8, 0, 9, 4, 1, 4, 8,\n",
            "        3, 7, 0, 8, 7, 2, 5, 6, 5, 1, 6, 9, 8, 2, 2, 6, 2, 9, 9, 8, 4, 8, 9, 6,\n",
            "        9, 9, 9, 7, 7, 0, 8, 1, 9, 4, 8, 3, 4, 1, 3, 6, 4, 4, 3, 1, 2, 2, 9, 3,\n",
            "        5, 2, 0, 0])\n",
            "tensor([0, 9, 7, 1, 8, 2, 4, 5, 5, 7, 9, 7, 1, 3, 3, 3, 1, 3, 1, 7, 4, 8, 8, 4,\n",
            "        1, 4, 2, 5, 5, 0, 1, 1, 0, 8, 4, 9, 6, 5, 9, 9, 8, 0, 1, 0, 7, 2, 8, 5,\n",
            "        2, 2, 9, 9, 2, 8, 9, 4, 4, 9, 4, 1, 1, 3, 2, 8, 3, 5, 7, 8, 4, 0, 7, 3,\n",
            "        5, 4, 0, 9, 6, 7, 3, 6, 9, 4, 7, 1, 2, 2, 5, 2, 8, 4, 5, 6, 5, 7, 9, 0,\n",
            "        2, 4, 4, 9])\n",
            "tensor([6, 3, 5, 8, 6, 0, 3, 2, 9, 6, 8, 5, 1, 4, 0, 5, 2, 7, 5, 6, 3, 9, 3, 9,\n",
            "        5, 9, 0, 8, 0, 5, 4, 0, 6, 4, 4, 1, 3, 3, 9, 5, 7, 0, 4, 5, 8, 4, 7, 6,\n",
            "        7, 3, 8, 8, 6, 9, 2, 7, 8, 3, 4, 5, 2, 8, 7, 8, 8, 2, 5, 7, 2, 6, 7, 4,\n",
            "        0, 0, 9, 4, 4, 8, 4, 1, 1, 9, 1, 1, 4, 9, 3, 9, 2, 7, 6, 2, 9, 7, 4, 4,\n",
            "        2, 3, 8, 6])\n",
            "tensor([7, 3, 5, 3, 1, 4, 7, 7, 4, 3, 4, 4, 9, 2, 0, 9, 2, 5, 3, 2, 0, 0, 9, 5,\n",
            "        9, 9, 4, 5, 1, 5, 2, 6, 6, 2, 5, 7, 5, 7, 0, 4, 6, 1, 5, 4, 7, 4, 6, 9,\n",
            "        0, 5, 8, 9, 6, 8, 7, 7, 4, 6, 4, 9, 9, 9, 5, 1, 0, 8, 0, 1, 6, 1, 2, 3,\n",
            "        2, 1, 6, 4, 1, 2, 7, 4, 5, 4, 7, 7, 4, 7, 6, 1, 6, 9, 2, 3, 5, 2, 0, 9,\n",
            "        0, 4, 2, 6])\n",
            "tensor([1, 5, 6, 4, 9, 8, 8, 7, 7, 0, 0, 8, 9, 0, 7, 1, 4, 7, 8, 2, 7, 5, 1, 1,\n",
            "        9, 6, 3, 4, 1, 0, 2, 9, 1, 2, 0, 7, 1, 6, 5, 0, 6, 2, 0, 8, 9, 0, 2, 0,\n",
            "        0, 0, 6, 0, 4, 6, 2, 9, 2, 4, 7, 9, 2, 2, 1, 2, 5, 7, 0, 4, 4, 8, 8, 5,\n",
            "        9, 3, 9, 4, 3, 1, 2, 3, 3, 0, 0, 1, 7, 8, 8, 2, 3, 3, 8, 6, 2, 2, 5, 1,\n",
            "        4, 3, 3, 0])\n",
            "tensor([8, 2, 5, 4, 8, 9, 4, 8, 9, 3, 7, 8, 3, 5, 6, 1, 0, 8, 9, 2, 1, 0, 3, 9,\n",
            "        0, 4, 2, 4, 1, 8, 4, 8, 0, 1, 1, 4, 1, 3, 4, 9, 5, 5, 6, 9, 5, 1, 3, 5,\n",
            "        8, 9, 5, 8, 3, 0, 0, 0, 4, 9, 1, 2, 8, 5, 6, 5, 4, 9, 0, 4, 7, 1, 3, 4,\n",
            "        6, 1, 1, 0, 1, 1, 1, 0, 3, 6, 2, 9, 3, 7, 4, 3, 2, 9, 3, 6, 8, 5, 1, 8,\n",
            "        5, 4, 6, 4])\n",
            "tensor([9, 9, 2, 0, 1, 9, 2, 3, 6, 3, 3, 5, 1, 4, 9, 9, 9, 5, 8, 0, 6, 2, 7, 4,\n",
            "        5, 4, 1, 0, 6, 0, 5, 3, 5, 6, 9, 5, 0, 1, 8, 4, 9, 5, 4, 3, 3, 8, 2, 6,\n",
            "        9, 4, 9, 1, 0, 1, 1, 6, 0, 8, 8, 5, 3, 3, 2, 1, 4, 4, 7, 0, 6, 6, 8, 8,\n",
            "        0, 1, 3, 9, 1, 8, 1, 2, 2, 3, 3, 3, 8, 3, 9, 4, 5, 3, 2, 6, 8, 3, 8, 0,\n",
            "        2, 8, 4, 4])\n",
            "tensor([9, 3, 6, 3, 6, 4, 5, 2, 8, 5, 8, 6, 8, 3, 4, 8, 6, 4, 6, 0, 3, 6, 5, 7,\n",
            "        4, 0, 2, 6, 7, 7, 2, 0, 7, 5, 7, 1, 8, 7, 4, 2, 5, 5, 0, 0, 5, 6, 3, 2,\n",
            "        9, 9, 8, 5, 8, 8, 7, 6, 8, 4, 4, 9, 8, 5, 5, 0, 1, 9, 8, 9, 6, 1, 4, 4,\n",
            "        7, 4, 1, 4, 9, 9, 5, 9, 3, 1, 1, 4, 7, 0, 3, 6, 8, 2, 2, 5, 8, 4, 3, 7,\n",
            "        2, 6, 7, 9])\n",
            "tensor([3, 2, 7, 4, 5, 1, 4, 0, 8, 0, 9, 3, 6, 2, 2, 8, 0, 9, 7, 5, 3, 5, 5, 9,\n",
            "        8, 9, 2, 3, 7, 3, 7, 7, 0, 8, 0, 1, 9, 3, 3, 0, 3, 1, 2, 4, 6, 2, 4, 8,\n",
            "        9, 0, 6, 0, 0, 4, 2, 1, 8, 8, 5, 6, 9, 8, 7, 7, 5, 7, 2, 9, 6, 6, 7, 6,\n",
            "        9, 4, 0, 1, 0, 6, 1, 2, 4, 9, 4, 4, 6, 7, 7, 5, 3, 1, 8, 3, 5, 5, 9, 3,\n",
            "        5, 3, 2, 1])\n",
            "tensor([3, 3, 3, 7, 6, 2, 7, 9, 7, 9, 0, 9, 0, 2, 6, 2, 2, 8, 2, 0, 7, 4, 2, 4,\n",
            "        4, 8, 1, 8, 0, 0, 9, 9, 5, 6, 9, 0, 2, 7, 1, 5, 4, 9, 7, 5, 8, 0, 0, 3,\n",
            "        8, 4, 9, 9, 2, 8, 5, 9, 0, 2, 5, 2, 0, 5, 7, 0, 7, 8, 0, 9, 5, 7, 1, 1,\n",
            "        7, 9, 2, 5, 1, 4, 4, 6, 6, 6, 2, 3, 1, 5, 0, 1, 6, 5, 7, 7, 7, 4, 3, 7,\n",
            "        0, 4, 0, 3])\n",
            "tensor([4, 8, 0, 8, 1, 7, 4, 2, 3, 6, 4, 6, 0, 1, 3, 1, 9, 2, 5, 6, 9, 3, 8, 9,\n",
            "        6, 0, 0, 2, 4, 0, 3, 0, 4, 3, 7, 2, 7, 7, 3, 6, 9, 8, 9, 4, 3, 1, 1, 1,\n",
            "        2, 6, 8, 5, 8, 7, 4, 0, 5, 9, 7, 0, 2, 3, 4, 3, 6, 5, 2, 8, 4, 7, 4, 4,\n",
            "        6, 7, 4, 3, 7, 7, 5, 3, 9, 9, 3, 9, 2, 1, 8, 7, 7, 9, 6, 4, 4, 4, 8, 3,\n",
            "        3, 5, 7, 0])\n",
            "tensor([0, 4, 9, 0, 1, 1, 8, 0, 4, 6, 2, 6, 2, 0, 2, 9, 9, 2, 1, 2, 3, 6, 9, 2,\n",
            "        4, 7, 5, 3, 7, 1, 2, 0, 7, 1, 2, 0, 7, 9, 9, 1, 8, 2, 6, 9, 5, 1, 7, 2,\n",
            "        2, 2, 1, 7, 8, 3, 7, 4, 8, 7, 4, 1, 2, 6, 4, 7, 4, 1, 2, 1, 5, 0, 6, 0,\n",
            "        1, 9, 8, 6, 4, 6, 3, 5, 8, 0, 6, 4, 3, 9, 1, 6, 2, 0, 0, 6, 8, 9, 5, 1,\n",
            "        6, 7, 6, 8])\n",
            "tensor([3, 6, 5, 8, 2, 8, 9, 8, 2, 8, 2, 0, 8, 8, 0, 4, 7, 1, 1, 9, 4, 1, 3, 3,\n",
            "        2, 4, 9, 3, 1, 0, 7, 9, 6, 1, 3, 9, 0, 0, 3, 9, 4, 2, 7, 6, 9, 2, 0, 2,\n",
            "        2, 8, 2, 9, 5, 8, 2, 4, 3, 3, 8, 3, 0, 1, 6, 2, 4, 9, 2, 7, 6, 8, 2, 2,\n",
            "        0, 3, 3, 9, 4, 4, 0, 8, 9, 7, 1, 0, 9, 6, 5, 4, 7, 5, 6, 4, 9, 5, 5, 5,\n",
            "        1, 3, 4, 6])\n",
            "tensor([9, 4, 9, 9, 0, 5, 9, 3, 0, 2, 1, 4, 4, 1, 4, 0, 7, 4, 6, 4, 0, 0, 2, 7,\n",
            "        2, 8, 2, 3, 4, 0, 9, 6, 2, 0, 5, 8, 0, 8, 4, 6, 5, 6, 2, 4, 0, 2, 0, 1,\n",
            "        8, 9, 5, 0, 5, 5, 2, 3, 7, 1, 6, 5, 6, 1, 0, 7, 3, 5, 8, 3, 5, 0, 5, 6,\n",
            "        9, 9, 2, 8, 3, 2, 1, 4, 4, 0, 6, 5, 8, 3, 6, 6, 6, 5, 5, 2, 9, 8, 6, 4,\n",
            "        4, 9, 4, 4])\n",
            "tensor([1, 4, 8, 0, 9, 1, 4, 0, 5, 0, 3, 4, 8, 4, 3, 0, 7, 2, 4, 1, 9, 9, 3, 5,\n",
            "        6, 8, 2, 0, 3, 9, 0, 1, 8, 5, 8, 5, 7, 2, 2, 3, 7, 3, 7, 1, 9, 6, 0, 4,\n",
            "        6, 0, 6, 0, 3, 6, 2, 0, 2, 3, 8, 3, 9, 0, 6, 8, 3, 9, 8, 2, 6, 9, 0, 7,\n",
            "        6, 8, 8, 6, 5, 4, 9, 6, 0, 0, 6, 9, 8, 3, 8, 9, 4, 2, 9, 8, 9, 3, 3, 2,\n",
            "        4, 0, 7, 3])\n",
            "tensor([7, 7, 4, 9, 6, 0, 1, 9, 8, 5, 3, 9, 6, 8, 7, 3, 0, 8, 9, 6, 4, 0, 8, 1,\n",
            "        6, 8, 7, 9, 7, 6, 8, 0, 4, 6, 9, 4, 3, 4, 9, 6, 1, 1, 6, 4, 3, 4, 8, 9,\n",
            "        7, 1, 9, 2, 1, 9, 6, 9, 5, 3, 8, 7, 4, 1, 3, 1, 7, 5, 3, 8, 3, 8, 9, 3,\n",
            "        7, 1, 4, 1, 7, 0, 4, 3, 7, 8, 8, 6, 0, 1, 7, 1, 9, 8, 5, 1, 7, 8, 7, 5,\n",
            "        9, 8, 8, 7])\n",
            "tensor([8, 8, 5, 9, 8, 7, 5, 6, 8, 5, 1, 3, 7, 0, 8, 9, 8, 0, 8, 1, 2, 4, 1, 4,\n",
            "        1, 4, 2, 0, 0, 0, 6, 1, 5, 3, 7, 1, 2, 7, 8, 5, 5, 7, 9, 7, 4, 4, 9, 8,\n",
            "        7, 1, 9, 1, 9, 7, 1, 7, 7, 0, 0, 9, 2, 7, 3, 8, 7, 2, 9, 2, 2, 6, 3, 4,\n",
            "        6, 6, 8, 6, 8, 6, 8, 7, 2, 8, 8, 5, 7, 7, 4, 6, 0, 0, 2, 2, 3, 6, 2, 9,\n",
            "        0, 1, 5, 6])\n",
            "tensor([4, 9, 2, 9, 9, 4, 9, 0, 7, 1, 5, 6, 7, 2, 6, 2, 7, 8, 5, 4, 3, 9, 8, 6,\n",
            "        6, 6, 1, 4, 7, 6, 8, 1, 6, 9, 8, 0, 8, 6, 8, 1, 2, 9, 3, 3, 0, 0, 8, 1,\n",
            "        5, 2, 9, 3, 3, 3, 7, 7, 2, 3, 4, 7, 8, 5, 9, 7, 4, 8, 0, 4, 6, 8, 8, 8,\n",
            "        4, 0, 5, 9, 3, 4, 4, 5, 0, 0, 1, 6, 8, 5, 9, 7, 0, 1, 5, 3, 0, 4, 7, 4,\n",
            "        2, 5, 0, 0])\n",
            "tensor([6, 4, 3, 7, 5, 8, 5, 1, 2, 4, 2, 5, 2, 4, 4, 4, 4, 4, 1, 9, 7, 3, 2, 9,\n",
            "        9, 6, 8, 2, 2, 0, 9, 5, 9, 8, 5, 0, 2, 7, 2, 2, 4, 7, 3, 5, 4, 2, 1, 6,\n",
            "        1, 4, 9, 2, 2, 3, 1, 4, 5, 1, 1, 5, 9, 8, 9, 7, 3, 8, 0, 7, 4, 0, 9, 0,\n",
            "        5, 9, 8, 7, 2, 8, 7, 9, 7, 3, 7, 0, 4, 6, 8, 8, 3, 5, 4, 7, 6, 3, 2, 2,\n",
            "        4, 0, 7, 6])\n",
            "tensor([1, 2, 7, 5, 4, 0, 7, 7, 4, 0, 5, 2, 6, 6, 5, 2, 3, 9, 6, 0, 3, 1, 9, 8,\n",
            "        5, 1, 7, 5, 4, 1, 6, 9, 8, 9, 6, 0, 2, 5, 6, 6, 1, 2, 3, 7, 5, 3, 5, 2,\n",
            "        1, 2, 7, 9, 2, 5, 0, 5, 1, 1, 1, 4, 3, 5, 8, 0, 5, 3, 9, 7, 9, 8, 1, 2,\n",
            "        8, 9, 8, 7, 9, 4, 4, 8, 3, 2, 4, 8, 1, 6, 4, 2, 3, 3, 7, 8, 1, 7, 7, 1,\n",
            "        3, 3, 4, 2])\n",
            "tensor([1, 8, 6, 6, 6, 5, 3, 5, 6, 2, 4, 5, 2, 9, 2, 8, 6, 8, 4, 8, 5, 7, 6, 9,\n",
            "        6, 3, 8, 3, 5, 1, 9, 4, 5, 4, 7, 4, 9, 3, 9, 8, 7, 3, 3, 4, 0, 8, 1, 0,\n",
            "        7, 5, 1, 2, 2, 3, 1, 9, 5, 4, 9, 1, 0, 1, 7, 3, 1, 0, 4, 1, 5, 5, 3, 3,\n",
            "        2, 7, 3, 3, 9, 2, 6, 0, 7, 3, 6, 4, 8, 9, 3, 0, 0, 1, 4, 1, 2, 3, 2, 5,\n",
            "        2, 0, 3, 0])\n",
            "tensor([5, 6, 5, 9, 0, 2, 3, 3, 9, 6, 4, 1, 6, 5, 6, 6, 7, 4, 0, 3, 5, 4, 1, 8,\n",
            "        6, 9, 6, 4, 8, 3, 1, 7, 6, 8, 0, 3, 9, 8, 6, 3, 2, 4, 4, 3, 2, 5, 3, 6,\n",
            "        8, 4, 5, 3, 7, 4, 3, 6, 3, 8, 5, 0, 1, 1, 4, 0, 2, 8, 3, 6, 8, 3, 0, 3,\n",
            "        1, 9, 4, 2, 1, 2, 3, 5, 8, 1, 4, 9, 6, 2, 6, 6, 6, 1, 3, 6, 8, 6, 7, 9,\n",
            "        2, 8, 0, 7])\n",
            "tensor([5, 2, 4, 5, 1, 1, 5, 4, 8, 1, 9, 8, 9, 4, 0, 1, 3, 9, 7, 8, 8, 9, 4, 2,\n",
            "        5, 2, 8, 6, 3, 8, 0, 3, 0, 4, 5, 3, 7, 9, 2, 3, 6, 9, 5, 6, 5, 0, 0, 6,\n",
            "        7, 5, 2, 3, 2, 0, 4, 2, 8, 9, 9, 8, 2, 3, 7, 1, 2, 8, 9, 7, 3, 7, 8, 8,\n",
            "        5, 8, 8, 0, 7, 3, 6, 3, 2, 7, 1, 6, 7, 3, 0, 8, 5, 1, 8, 3, 8, 1, 5, 6,\n",
            "        6, 1, 3, 6])\n",
            "tensor([2, 6, 9, 5, 7, 8, 0, 6, 6, 2, 0, 7, 7, 0, 4, 3, 1, 7, 1, 5, 1, 0, 8, 9,\n",
            "        1, 5, 3, 6, 3, 8, 3, 0, 1, 9, 6, 1, 7, 1, 8, 6, 7, 6, 5, 4, 7, 0, 4, 4,\n",
            "        4, 9, 3, 0, 1, 2, 4, 5, 7, 9, 0, 4, 4, 7, 3, 5, 5, 2, 3, 0, 2, 7, 2, 7,\n",
            "        9, 8, 5, 1, 6, 7, 2, 1, 7, 4, 5, 6, 3, 1, 8, 7, 5, 5, 1, 2, 0, 8, 8, 1,\n",
            "        9, 9, 6, 0])\n",
            "tensor([5, 2, 5, 8, 6, 5, 2, 6, 9, 1, 3, 8, 1, 2, 6, 5, 2, 1, 0, 1, 9, 9, 5, 7,\n",
            "        7, 6, 3, 3, 0, 6, 5, 6, 6, 7, 3, 7, 3, 8, 7, 4, 4, 8, 5, 0, 4, 4, 9, 7,\n",
            "        8, 5, 8, 3, 3, 2, 1, 8, 0, 1, 9, 4, 6, 9, 1, 7, 1, 5, 4, 1, 0, 5, 4, 0,\n",
            "        4, 2, 2, 8, 2, 2, 9, 4, 9, 8, 3, 5, 4, 2, 5, 1, 0, 9, 7, 8, 4, 9, 7, 6,\n",
            "        1, 6, 3, 2])\n",
            "tensor([8, 1, 3, 6, 2, 7, 7, 1, 6, 9, 2, 4, 1, 0, 4, 1, 7, 1, 3, 1, 5, 6, 0, 2,\n",
            "        0, 2, 9, 0, 1, 6, 3, 7, 6, 6, 9, 0, 3, 8, 8, 1, 5, 1, 1, 0, 4, 7, 3, 6,\n",
            "        9, 3, 8, 8, 7, 7, 3, 9, 8, 8, 4, 8, 3, 6, 9, 9, 2, 2, 4, 6, 2, 2, 4, 9,\n",
            "        2, 6, 1, 9, 6, 5, 4, 0, 7, 0, 0, 1, 5, 6, 8, 7, 4, 7, 1, 9, 2, 6, 4, 5,\n",
            "        1, 6, 0, 0])\n",
            "tensor([7, 9, 3, 9, 9, 8, 4, 2, 6, 2, 7, 3, 1, 9, 5, 7, 4, 4, 2, 5, 1, 2, 3, 0,\n",
            "        4, 0, 1, 4, 2, 2, 7, 2, 3, 5, 1, 0, 9, 9, 8, 5, 2, 8, 2, 8, 1, 2, 5, 7,\n",
            "        1, 2, 9, 5, 3, 3, 1, 1, 7, 7, 5, 4, 8, 8, 2, 2, 1, 1, 6, 0, 8, 0, 9, 9,\n",
            "        8, 8, 0, 8, 9, 5, 4, 2, 6, 6, 1, 3, 1, 4, 5, 6, 5, 9, 1, 2, 1, 9, 0, 8,\n",
            "        2, 7, 8, 5])\n",
            "tensor([0, 8, 3, 8, 6, 4, 6, 3, 5, 7, 8, 4, 9, 4, 3, 7, 3, 3, 9, 2, 8, 1, 9, 2,\n",
            "        5, 6, 0, 4, 2, 0, 7, 1, 3, 2, 7, 2, 3, 1, 6, 7, 6, 8, 3, 3, 1, 6, 6, 0,\n",
            "        7, 2, 5, 9, 9, 5, 2, 1, 6, 8, 6, 0, 5, 3, 6, 2, 3, 4, 3, 8, 0, 1, 1, 2,\n",
            "        0, 4, 2, 0, 3, 6, 9, 7, 1, 5, 5, 0, 6, 9, 3, 9, 3, 1, 6, 8, 1, 2, 5, 2,\n",
            "        0, 0, 0, 0])\n",
            "tensor([1, 6, 7, 3, 5, 8, 9, 7, 9, 2, 5, 4, 1, 2, 6, 1, 9, 9, 8, 5, 6, 0, 5, 7,\n",
            "        3, 3, 4, 7, 9, 3, 4, 7, 4, 3, 4, 9, 5, 1, 6, 0, 0, 6, 0, 8, 9, 1, 3, 1,\n",
            "        6, 8, 1, 6, 9, 1, 1, 7, 4, 5, 5, 5, 4, 6, 4, 9, 2, 3, 0, 1, 0, 8, 9, 2,\n",
            "        8, 8, 2, 7, 2, 5, 5, 9, 6, 2, 8, 6, 2, 0, 0, 1, 1, 6, 0, 9, 4, 3, 7, 3,\n",
            "        7, 3, 0, 9])\n",
            "tensor([5, 4, 5, 2, 1, 7, 6, 7, 8, 3, 1, 1, 5, 2, 5, 5, 0, 3, 4, 2, 4, 4, 4, 3,\n",
            "        0, 7, 1, 4, 2, 5, 9, 6, 6, 4, 2, 9, 9, 8, 4, 2, 9, 6, 3, 5, 0, 8, 9, 6,\n",
            "        5, 2, 9, 6, 9, 2, 4, 6, 1, 1, 4, 5, 8, 0, 4, 6, 8, 9, 1, 6, 5, 3, 5, 8,\n",
            "        1, 8, 1, 1, 0, 7, 4, 5, 4, 6, 9, 7, 2, 7, 6, 3, 7, 1, 6, 7, 5, 6, 6, 4,\n",
            "        5, 6, 4, 1])\n",
            "tensor([6, 9, 8, 0, 0, 8, 8, 2, 0, 1, 1, 2, 9, 2, 3, 2, 3, 5, 0, 9, 6, 6, 4, 5,\n",
            "        8, 0, 0, 0, 6, 1, 8, 5, 7, 8, 9, 0, 1, 6, 8, 4, 4, 1, 0, 4, 6, 8, 0, 2,\n",
            "        4, 9, 3, 0, 2, 5, 8, 7, 8, 3, 7, 8, 5, 3, 4, 7, 3, 9, 3, 3, 7, 5, 8, 2,\n",
            "        7, 4, 6, 5, 3, 8, 6, 6, 9, 2, 0, 9, 1, 3, 0, 8, 2, 9, 7, 3, 9, 3, 6, 7,\n",
            "        4, 8, 2, 6])\n",
            "tensor([8, 0, 3, 5, 5, 6, 1, 8, 6, 3, 6, 8, 1, 0, 1, 8, 9, 4, 9, 9, 2, 5, 9, 4,\n",
            "        5, 1, 7, 0, 9, 3, 0, 5, 8, 9, 8, 9, 0, 0, 4, 7, 3, 6, 8, 8, 4, 8, 8, 5,\n",
            "        1, 5, 1, 2, 3, 3, 4, 8, 0, 3, 9, 7, 6, 2, 8, 1, 7, 9, 9, 6, 6, 1, 0, 1,\n",
            "        0, 4, 7, 7, 8, 9, 8, 1, 8, 4, 1, 2, 7, 6, 1, 6, 0, 4, 8, 4, 5, 0, 4, 6,\n",
            "        8, 0, 0, 4])\n",
            "tensor([0, 6, 8, 9, 5, 1, 3, 6, 5, 8, 3, 8, 6, 2, 9, 0, 8, 6, 8, 6, 8, 3, 5, 3,\n",
            "        4, 2, 8, 2, 8, 5, 9, 7, 2, 1, 1, 9, 8, 3, 9, 5, 0, 5, 6, 2, 5, 0, 5, 8,\n",
            "        2, 6, 5, 1, 4, 0, 4, 0, 3, 4, 6, 1, 8, 5, 8, 4, 9, 8, 6, 0, 8, 1, 9, 9,\n",
            "        7, 5, 8, 4, 5, 5, 6, 3, 8, 7, 8, 9, 9, 3, 9, 2, 6, 4, 1, 1, 7, 5, 3, 4,\n",
            "        0, 2, 5, 5])\n",
            "tensor([7, 4, 3, 1, 5, 8, 8, 3, 3, 7, 7, 8, 4, 8, 4, 2, 2, 2, 5, 8, 9, 4, 5, 5,\n",
            "        5, 2, 3, 3, 2, 0, 2, 2, 2, 7, 0, 9, 1, 2, 8, 7, 5, 5, 8, 4, 5, 8, 4, 5,\n",
            "        9, 2, 6, 9, 7, 5, 2, 4, 6, 1, 8, 5, 9, 8, 2, 7, 3, 8, 1, 2, 2, 9, 5, 4,\n",
            "        3, 7, 8, 2, 2, 0, 3, 0, 6, 3, 1, 3, 1, 9, 5, 7, 1, 8, 1, 1, 1, 2, 1, 6,\n",
            "        4, 8, 9, 9])\n",
            "tensor([0, 5, 6, 4, 7, 0, 6, 6, 4, 2, 8, 6, 4, 9, 4, 2, 2, 7, 5, 4, 5, 5, 1, 9,\n",
            "        1, 2, 9, 6, 7, 1, 9, 8, 8, 3, 6, 4, 7, 0, 8, 8, 7, 7, 5, 6, 2, 5, 2, 9,\n",
            "        7, 2, 3, 1, 2, 0, 1, 9, 6, 4, 1, 9, 5, 9, 0, 2, 0, 5, 6, 2, 5, 1, 0, 1,\n",
            "        9, 8, 4, 7, 4, 4, 3, 1, 9, 1, 5, 6, 8, 6, 0, 4, 2, 1, 8, 2, 5, 6, 2, 2,\n",
            "        2, 2, 0, 6])\n",
            "tensor([2, 3, 3, 7, 3, 8, 9, 0, 2, 7, 1, 6, 9, 0, 8, 0, 9, 5, 7, 2, 0, 1, 1, 1,\n",
            "        7, 2, 2, 9, 1, 6, 4, 6, 2, 7, 5, 9, 6, 4, 8, 1, 4, 7, 0, 0, 7, 3, 5, 6,\n",
            "        6, 6, 3, 6, 9, 7, 8, 1, 8, 9, 1, 0, 2, 7, 9, 8, 0, 6, 8, 1, 5, 8, 3, 5,\n",
            "        2, 3, 6, 4, 5, 5, 8, 3, 9, 7, 9, 6, 8, 4, 9, 0, 7, 6, 6, 2, 0, 4, 2, 4,\n",
            "        0, 9, 0, 7])\n",
            "tensor([7, 3, 0, 3, 1, 4, 6, 7, 0, 0, 9, 9, 3, 8, 1, 1, 2, 3, 0, 5, 0, 1, 5, 3,\n",
            "        0, 9, 8, 3, 4, 4, 9, 9, 4, 7, 3, 2, 3, 7, 3, 3, 7, 9, 6, 2, 3, 7, 2, 2,\n",
            "        4, 7, 8, 0, 2, 3, 2, 1, 1, 4, 2, 9, 8, 6, 6, 3, 5, 2, 7, 6, 8, 3, 4, 3,\n",
            "        5, 0, 2, 0, 2, 2, 4, 6, 3, 0, 1, 8, 6, 7, 7, 6, 3, 8, 4, 0, 8, 5, 9, 8,\n",
            "        4, 8, 4, 2])\n",
            "tensor([8, 8, 5, 4, 7, 9, 4, 6, 8, 5, 8, 4, 2, 3, 6, 0, 7, 2, 9, 7, 0, 5, 7, 0,\n",
            "        8, 0, 6, 2, 7, 3, 1, 4, 0, 2, 7, 4, 9, 1, 9, 1, 2, 7, 6, 6, 0, 2, 7, 8,\n",
            "        3, 4, 7, 8, 4, 7, 9, 0, 1, 7, 3, 3, 7, 6, 3, 2, 4, 5, 3, 8, 0, 2, 2, 4,\n",
            "        3, 5, 3, 3, 2, 4, 3, 7, 1, 0, 1, 9, 0, 3, 5, 2, 1, 3, 6, 5, 3, 1, 5, 4,\n",
            "        1, 1, 9, 3])\n",
            "tensor([6, 7, 4, 1, 2, 5, 6, 1, 6, 4, 8, 3, 6, 1, 0, 8, 2, 3, 3, 9, 5, 9, 1, 5,\n",
            "        5, 5, 6, 3, 7, 4, 1, 0, 4, 7, 1, 4, 7, 5, 8, 1, 2, 3, 2, 3, 1, 2, 5, 7,\n",
            "        0, 7, 9, 7, 0, 8, 3, 8, 0, 1, 2, 1, 4, 2, 6, 3, 7, 9, 5, 5, 5, 4, 3, 5,\n",
            "        9, 4, 3, 5, 5, 3, 0, 4, 6, 4, 6, 3, 3, 1, 5, 5, 0, 4, 8, 4, 1, 5, 7, 3,\n",
            "        7, 6, 6, 7])\n",
            "tensor([1, 8, 0, 9, 1, 2, 4, 8, 2, 5, 9, 3, 5, 1, 1, 2, 9, 3, 4, 3, 8, 1, 3, 9,\n",
            "        1, 0, 2, 9, 1, 3, 6, 2, 5, 7, 0, 4, 8, 8, 0, 9, 2, 4, 6, 0, 1, 6, 1, 2,\n",
            "        1, 0, 2, 8, 4, 8, 5, 6, 2, 7, 0, 9, 9, 2, 3, 1, 6, 9, 8, 9, 3, 6, 9, 6,\n",
            "        8, 1, 0, 9, 5, 3, 4, 8, 4, 6, 2, 4, 6, 3, 0, 9, 8, 6, 2, 5, 5, 4, 3, 4,\n",
            "        5, 5, 7, 4])\n",
            "tensor([2, 2, 2, 1, 6, 4, 8, 9, 2, 8, 1, 1, 8, 1, 9, 7, 4, 7, 2, 3, 5, 7, 6, 5,\n",
            "        3, 9, 4, 7, 7, 0, 4, 9, 4, 5, 1, 5, 5, 0, 0, 1, 2, 2, 7, 0, 1, 1, 3, 4,\n",
            "        6, 0, 4, 2, 2, 3, 0, 1, 0, 4, 6, 2, 6, 3, 9, 1, 5, 5, 9, 9, 6, 4, 7, 6,\n",
            "        4, 1, 4, 6, 9, 4, 8, 2, 6, 5, 3, 0, 4, 2, 5, 3, 3, 9, 6, 5, 1, 5, 5, 7,\n",
            "        3, 1, 1, 5])\n",
            "tensor([9, 0, 7, 7, 9, 7, 3, 9, 6, 1, 3, 2, 1, 4, 8, 7, 6, 5, 6, 3, 4, 1, 8, 1,\n",
            "        0, 3, 1, 6, 7, 9, 9, 5, 7, 1, 5, 8, 2, 7, 0, 1, 7, 4, 9, 6, 0, 7, 1, 7,\n",
            "        7, 3, 0, 0, 2, 3, 0, 9, 7, 8, 3, 4, 9, 3, 5, 8, 0, 5, 6, 1, 5, 4, 8, 9,\n",
            "        2, 6, 3, 0, 5, 3, 3, 8, 2, 8, 1, 0, 0, 8, 3, 5, 6, 7, 2, 9, 1, 4, 6, 6,\n",
            "        5, 8, 0, 5])\n",
            "tensor([9, 0, 5, 8, 6, 6, 6, 8, 5, 7, 5, 2, 7, 6, 0, 1, 4, 9, 1, 9, 7, 5, 2, 0,\n",
            "        2, 5, 6, 8, 3, 7, 2, 5, 9, 6, 2, 5, 5, 7, 6, 7, 4, 5, 3, 9, 5, 0, 9, 3,\n",
            "        7, 4, 7, 9, 5, 5, 1, 7, 5, 8, 3, 9, 6, 7, 1, 7, 9, 9, 5, 5, 1, 6, 9, 5,\n",
            "        4, 3, 8, 7, 6, 0, 5, 4, 8, 7, 7, 4, 3, 5, 7, 3, 1, 1, 9, 2, 9, 8, 8, 5,\n",
            "        8, 3, 4, 2])\n",
            "tensor([2, 2, 8, 4, 4, 2, 1, 9, 4, 2, 9, 0, 4, 2, 6, 5, 2, 1, 9, 2, 8, 2, 1, 3,\n",
            "        2, 3, 7, 3, 9, 1, 0, 8, 2, 5, 1, 6, 4, 1, 5, 7, 8, 3, 9, 6, 9, 2, 9, 1,\n",
            "        0, 0, 5, 2, 8, 3, 8, 8, 4, 2, 1, 9, 1, 7, 5, 3, 9, 5, 0, 9, 1, 4, 0, 3,\n",
            "        1, 3, 2, 1, 5, 7, 3, 6, 9, 2, 3, 6, 5, 9, 3, 8, 8, 4, 2, 2, 0, 6, 0, 6,\n",
            "        8, 3, 6, 5])\n",
            "tensor([1, 1, 2, 0, 6, 5, 7, 2, 1, 0, 6, 1, 9, 6, 7, 7, 4, 8, 2, 4, 8, 0, 5, 8,\n",
            "        7, 0, 7, 8, 2, 4, 0, 0, 2, 9, 3, 6, 0, 8, 6, 9, 0, 8, 0, 2, 5, 0, 3, 0,\n",
            "        2, 1, 2, 5, 7, 3, 1, 3, 5, 4, 0, 1, 9, 7, 6, 8, 1, 0, 0, 8, 7, 5, 4, 8,\n",
            "        1, 3, 5, 5, 8, 4, 4, 8, 5, 8, 4, 4, 1, 3, 3, 3, 8, 3, 4, 0, 2, 4, 0, 5,\n",
            "        6, 1, 4, 8])\n",
            "tensor([3, 5, 6, 7, 8, 3, 7, 2, 8, 6, 6, 6, 5, 6, 5, 6, 3, 4, 3, 0, 2, 9, 7, 9,\n",
            "        2, 3, 6, 6, 6, 5, 1, 1, 1, 8, 4, 8, 0, 5, 8, 7, 3, 8, 6, 1, 8, 1, 6, 7,\n",
            "        2, 6, 0, 3, 8, 2, 0, 7, 1, 0, 9, 0, 3, 2, 6, 1, 0, 0, 0, 1, 4, 2, 7, 6,\n",
            "        3, 7, 0, 5, 8, 3, 7, 0, 4, 2, 2, 2, 8, 2, 4, 9, 5, 5, 2, 2, 1, 5, 2, 7,\n",
            "        1, 2, 3, 8])\n",
            "tensor([8, 9, 8, 7, 2, 7, 3, 6, 1, 3, 4, 1, 0, 0, 8, 4, 3, 7, 3, 1, 9, 9, 8, 6,\n",
            "        0, 4, 0, 2, 2, 2, 9, 7, 9, 2, 7, 4, 5, 5, 1, 1, 0, 0, 3, 1, 5, 1, 9, 8,\n",
            "        5, 4, 2, 2, 4, 5, 4, 8, 3, 4, 0, 3, 9, 1, 0, 7, 7, 8, 1, 5, 4, 3, 7, 2,\n",
            "        7, 2, 7, 2, 0, 0, 5, 9, 6, 7, 5, 8, 0, 9, 3, 6, 5, 0, 8, 5, 9, 5, 3, 9,\n",
            "        0, 5, 1, 1])\n",
            "tensor([5, 4, 0, 9, 2, 9, 4, 9, 6, 9, 6, 4, 8, 6, 7, 4, 9, 1, 2, 4, 8, 1, 8, 2,\n",
            "        6, 0, 6, 1, 2, 8, 3, 5, 4, 6, 4, 1, 1, 5, 3, 2, 0, 0, 0, 6, 1, 8, 1, 0,\n",
            "        6, 4, 4, 9, 5, 9, 2, 9, 6, 4, 7, 9, 3, 4, 2, 1, 2, 9, 9, 4, 5, 0, 8, 0,\n",
            "        8, 4, 0, 2, 1, 5, 1, 0, 3, 5, 6, 5, 6, 2, 7, 0, 2, 0, 3, 3, 7, 3, 0, 9,\n",
            "        7, 2, 2, 3])\n",
            "tensor([8, 6, 4, 3, 6, 3, 9, 7, 9, 8, 5, 9, 4, 5, 8, 6, 2, 6, 2, 0, 4, 4, 4, 5,\n",
            "        9, 5, 1, 9, 9, 1, 7, 3, 1, 0, 8, 8, 1, 1, 8, 2, 3, 9, 2, 3, 3, 3, 0, 7,\n",
            "        1, 0, 6, 5, 9, 9, 6, 0, 6, 1, 3, 8, 3, 1, 4, 5, 3, 7, 3, 3, 1, 3, 1, 6,\n",
            "        7, 0, 8, 9, 1, 2, 7, 9, 8, 8, 0, 2, 4, 1, 3, 9, 0, 2, 2, 4, 4, 3, 5, 7,\n",
            "        2, 4, 2, 9])\n",
            "tensor([3, 0, 7, 4, 4, 4, 8, 1, 2, 8, 1, 6, 1, 1, 9, 0, 4, 8, 7, 3, 4, 1, 4, 3,\n",
            "        2, 3, 7, 0, 5, 8, 1, 0, 2, 9, 9, 0, 9, 2, 3, 3, 5, 1, 9, 3, 3, 4, 7, 4,\n",
            "        0, 4, 2, 7, 6, 4, 7, 4, 2, 8, 2, 1, 0, 5, 7, 4, 2, 4, 7, 5, 9, 8, 5, 2,\n",
            "        7, 6, 6, 4, 9, 9, 5, 0, 6, 1, 3, 4, 7, 0, 3, 2, 0, 7, 3, 9, 5, 7, 3, 9,\n",
            "        8, 2, 4, 0])\n",
            "tensor([5, 5, 9, 8, 0, 5, 2, 4, 7, 3, 3, 7, 6, 9, 1, 1, 4, 9, 7, 5, 6, 2, 8, 2,\n",
            "        9, 5, 6, 4, 3, 5, 1, 2, 7, 3, 6, 2, 3, 6, 5, 7, 7, 4, 4, 3, 7, 2, 0, 4,\n",
            "        1, 2, 0, 7, 1, 5, 7, 0, 9, 7, 8, 4, 0, 8, 2, 5, 2, 6, 3, 7, 6, 0, 6, 5,\n",
            "        4, 5, 8, 1, 9, 7, 3, 3, 2, 3, 1, 2, 6, 9, 8, 9, 6, 3, 2, 2, 2, 0, 2, 1,\n",
            "        9, 3, 7, 3])\n",
            "tensor([8, 4, 1, 5, 1, 0, 2, 5, 7, 1, 0, 0, 2, 3, 9, 5, 3, 6, 2, 0, 0, 2, 0, 9,\n",
            "        3, 5, 0, 7, 0, 1, 8, 1, 5, 9, 7, 5, 5, 1, 6, 5, 8, 2, 6, 3, 8, 6, 7, 3,\n",
            "        3, 5, 8, 8, 4, 4, 6, 1, 9, 9, 6, 5, 0, 2, 1, 3, 9, 9, 3, 3, 5, 1, 8, 8,\n",
            "        4, 7, 6, 1, 7, 0, 8, 6, 8, 7, 3, 9, 4, 0, 3, 7, 6, 0, 5, 5, 7, 8, 8, 4,\n",
            "        8, 4, 8, 9])\n",
            "tensor([8, 6, 6, 4, 4, 1, 4, 9, 4, 0, 2, 6, 5, 2, 4, 9, 8, 2, 1, 9, 6, 0, 3, 9,\n",
            "        4, 0, 6, 9, 2, 7, 5, 7, 6, 3, 1, 0, 9, 1, 0, 9, 3, 4, 8, 2, 5, 9, 7, 8,\n",
            "        4, 1, 9, 8, 7, 9, 6, 8, 2, 1, 3, 3, 4, 9, 3, 0, 7, 2, 8, 9, 6, 9, 8, 0,\n",
            "        1, 8, 2, 9, 5, 2, 1, 0, 3, 6, 6, 4, 9, 3, 5, 9, 2, 3, 5, 9, 3, 2, 4, 5,\n",
            "        4, 2, 5, 0])\n",
            "tensor([1, 7, 3, 4, 7, 4, 2, 2, 1, 2, 3, 9, 6, 8, 6, 3, 4, 1, 6, 8, 7, 3, 1, 4,\n",
            "        1, 8, 1, 2, 6, 2, 5, 4, 8, 3, 9, 7, 0, 9, 3, 0, 8, 4, 4, 9, 5, 7, 5, 2,\n",
            "        9, 3, 9, 1, 5, 7, 0, 9, 6, 0, 7, 6, 8, 4, 8, 8, 2, 3, 3, 2, 0, 7, 6, 4,\n",
            "        2, 6, 1, 9, 6, 2, 8, 1, 5, 9, 1, 6, 1, 5, 5, 0, 3, 1, 0, 5, 1, 6, 1, 0,\n",
            "        9, 4, 6, 9])\n",
            "tensor([9, 7, 1, 6, 6, 2, 1, 3, 5, 7, 2, 7, 4, 7, 2, 3, 7, 6, 3, 6, 8, 6, 0, 5,\n",
            "        8, 7, 6, 6, 2, 7, 3, 7, 7, 1, 3, 9, 8, 7, 5, 8, 9, 4, 5, 4, 7, 9, 9, 8,\n",
            "        3, 1, 4, 4, 0, 7, 8, 8, 0, 6, 3, 8, 9, 5, 7, 1, 4, 8, 1, 1, 2, 3, 0, 5,\n",
            "        3, 9, 4, 9, 9, 9, 4, 7, 8, 4, 3, 4, 0, 5, 2, 2, 0, 1, 3, 9, 4, 5, 8, 3,\n",
            "        2, 6, 3, 0])\n",
            "tensor([9, 2, 0, 4, 0, 2, 1, 8, 2, 7, 2, 0, 7, 4, 6, 0, 7, 4, 6, 0, 0, 9, 5, 4,\n",
            "        6, 4, 9, 1, 8, 5, 9, 1, 2, 2, 0, 7, 4, 7, 7, 2, 8, 0, 4, 6, 7, 1, 0, 0,\n",
            "        3, 1, 3, 8, 0, 8, 3, 5, 8, 0, 8, 1, 8, 9, 7, 5, 4, 9, 7, 3, 9, 8, 9, 3,\n",
            "        5, 5, 4, 6, 2, 2, 0, 0, 0, 3, 4, 6, 6, 5, 3, 5, 6, 3, 4, 2, 4, 2, 5, 9,\n",
            "        8, 2, 1, 9])\n",
            "tensor([7, 4, 0, 8, 6, 7, 7, 6, 1, 5, 8, 8, 4, 3, 3, 9, 3, 5, 8, 7, 3, 5, 3, 2,\n",
            "        6, 9, 2, 7, 1, 4, 9, 4, 9, 8, 9, 4, 7, 2, 6, 1, 2, 5, 5, 4, 0, 8, 2, 8,\n",
            "        0, 1, 2, 1, 5, 3, 7, 4, 4, 3, 1, 3, 8, 9, 8, 7, 3, 2, 8, 8, 2, 6, 4, 3,\n",
            "        5, 5, 1, 7, 7, 4, 0, 9, 7, 1, 1, 2, 6, 2, 6, 6, 5, 1, 6, 0, 6, 6, 4, 9,\n",
            "        3, 1, 3, 9])\n",
            "tensor([7, 9, 2, 4, 2, 9, 1, 7, 2, 6, 9, 1, 8, 1, 0, 7, 6, 7, 7, 2, 9, 5, 4, 8,\n",
            "        0, 1, 6, 4, 3, 0, 3, 1, 2, 9, 7, 7, 1, 2, 5, 2, 7, 7, 6, 6, 4, 2, 0, 2,\n",
            "        6, 4, 1, 0, 6, 1, 7, 1, 7, 8, 3, 5, 6, 2, 0, 8, 9, 4, 5, 6, 5, 1, 4, 7,\n",
            "        4, 1, 4, 3, 4, 5, 7, 9, 4, 6, 1, 2, 8, 2, 0, 0, 3, 3, 7, 5, 9, 3, 6, 7,\n",
            "        0, 1, 3, 6])\n",
            "tensor([2, 1, 5, 7, 0, 5, 0, 5, 5, 9, 0, 0, 0, 7, 5, 9, 3, 8, 9, 8, 9, 6, 7, 0,\n",
            "        7, 8, 2, 0, 2, 0, 0, 3, 6, 5, 5, 5, 1, 8, 5, 4, 1, 2, 9, 8, 3, 8, 6, 4,\n",
            "        5, 9, 1, 5, 2, 6, 1, 6, 8, 7, 2, 9, 6, 6, 2, 0, 6, 7, 5, 2, 7, 0, 5, 0,\n",
            "        0, 3, 1, 8, 3, 4, 2, 6, 3, 4, 8, 3, 3, 5, 1, 0, 6, 7, 1, 5, 1, 0, 0, 6,\n",
            "        1, 6, 2, 6])\n",
            "tensor([8, 1, 9, 4, 8, 1, 6, 7, 6, 6, 0, 0, 0, 5, 4, 8, 7, 6, 5, 3, 4, 6, 6, 5,\n",
            "        4, 6, 1, 9, 4, 7, 0, 3, 8, 4, 4, 0, 9, 4, 7, 3, 4, 6, 0, 2, 5, 7, 2, 8,\n",
            "        3, 2, 3, 2, 9, 5, 9, 0, 3, 5, 7, 3, 7, 8, 6, 8, 4, 2, 4, 2, 9, 9, 6, 5,\n",
            "        8, 8, 9, 8, 2, 0, 9, 6, 8, 4, 8, 3, 1, 3, 4, 9, 8, 3, 7, 4, 5, 5, 6, 2,\n",
            "        4, 6, 0, 3])\n",
            "tensor([1, 3, 8, 8, 2, 4, 3, 6, 0, 2, 5, 7, 7, 5, 7, 2, 7, 9, 5, 7, 5, 8, 0, 6,\n",
            "        8, 5, 8, 5, 3, 4, 3, 6, 6, 5, 4, 0, 6, 5, 4, 3, 3, 0, 5, 3, 1, 3, 5, 5,\n",
            "        3, 5, 9, 9, 1, 7, 1, 1, 9, 5, 5, 5, 0, 8, 7, 7, 6, 8, 8, 2, 1, 8, 7, 7,\n",
            "        8, 1, 1, 8, 2, 7, 4, 5, 6, 7, 2, 7, 6, 9, 5, 6, 0, 0, 4, 9, 5, 1, 2, 3,\n",
            "        0, 0, 6, 8])\n",
            "tensor([9, 8, 3, 6, 4, 4, 9, 6, 0, 8, 8, 4, 3, 2, 3, 8, 7, 2, 7, 6, 1, 0, 0, 5,\n",
            "        4, 4, 4, 0, 4, 8, 9, 3, 0, 7, 8, 1, 5, 0, 9, 4, 1, 3, 9, 8, 4, 0, 1, 1,\n",
            "        9, 7, 0, 9, 5, 8, 1, 0, 9, 7, 2, 9, 3, 3, 9, 6, 5, 0, 4, 2, 1, 0, 6, 8,\n",
            "        2, 4, 6, 4, 9, 2, 6, 5, 1, 8, 2, 0, 3, 9, 0, 4, 1, 0, 3, 4, 4, 1, 6, 7,\n",
            "        6, 5, 7, 4])\n",
            "tensor([6, 4, 0, 7, 9, 4, 7, 6, 3, 9, 5, 5, 1, 6, 7, 5, 7, 5, 6, 6, 5, 0, 2, 8,\n",
            "        8, 5, 5, 8, 1, 3, 3, 0, 5, 9, 4, 0, 2, 1, 0, 3, 4, 2, 2, 6, 7, 8, 4, 1,\n",
            "        8, 7, 9, 1, 5, 6, 9, 6, 1, 1, 5, 8, 3, 3, 4, 8, 4, 5, 1, 1, 1, 2, 1, 8,\n",
            "        7, 1, 5, 0, 2, 1, 5, 4, 5, 4, 7, 5, 8, 3, 1, 7, 1, 0, 1, 5, 5, 1, 4, 9,\n",
            "        5, 3, 8, 8])\n",
            "tensor([0, 6, 8, 7, 1, 9, 0, 7, 2, 1, 5, 2, 6, 8, 7, 9, 0, 9, 5, 2, 7, 9, 5, 5,\n",
            "        5, 0, 2, 6, 9, 8, 0, 6, 2, 5, 0, 5, 3, 4, 4, 5, 3, 6, 5, 5, 7, 7, 2, 8,\n",
            "        9, 4, 0, 8, 0, 6, 1, 9, 0, 4, 1, 6, 5, 3, 8, 5, 7, 9, 5, 8, 2, 3, 2, 7,\n",
            "        6, 0, 3, 8, 5, 3, 3, 5, 1, 9, 5, 4, 3, 2, 1, 6, 8, 5, 5, 8, 3, 5, 3, 9,\n",
            "        4, 4, 6, 2])\n",
            "tensor([0, 5, 4, 7, 8, 4, 9, 1, 0, 2, 7, 5, 0, 8, 1, 4, 7, 1, 0, 2, 2, 8, 8, 5,\n",
            "        9, 7, 8, 6, 7, 5, 1, 8, 0, 3, 2, 8, 3, 9, 6, 6, 5, 8, 9, 4, 5, 8, 8, 5,\n",
            "        1, 9, 2, 5, 6, 8, 9, 3, 9, 8, 9, 0, 3, 2, 1, 7, 6, 0, 1, 6, 3, 2, 3, 2,\n",
            "        5, 3, 8, 9, 3, 5, 0, 0, 4, 8, 7, 0, 4, 2, 0, 5, 6, 3, 3, 1, 3, 1, 9, 8,\n",
            "        1, 4, 4, 5])\n",
            "tensor([7, 6, 9, 1, 9, 0, 2, 8, 7, 8, 8, 9, 2, 3, 0, 8, 2, 3, 3, 3, 6, 3, 1, 8,\n",
            "        1, 0, 7, 0, 1, 6, 9, 1, 3, 3, 5, 9, 1, 8, 2, 7, 1, 6, 1, 1, 7, 3, 0, 1,\n",
            "        4, 4, 3, 0, 6, 9, 1, 6, 7, 2, 6, 2, 4, 5, 0, 5, 1, 5, 0, 1, 3, 7, 2, 6,\n",
            "        8, 7, 0, 3, 2, 6, 8, 4, 5, 1, 2, 0, 1, 4, 8, 8, 5, 9, 6, 5, 3, 7, 6, 7,\n",
            "        6, 6, 2, 4])\n",
            "tensor([5, 1, 8, 1, 0, 6, 1, 0, 8, 0, 8, 5, 3, 8, 8, 2, 4, 1, 3, 2, 5, 5, 0, 8,\n",
            "        0, 8, 6, 2, 3, 7, 8, 3, 1, 9, 9, 3, 9, 9, 8, 4, 2, 7, 8, 4, 1, 1, 5, 4,\n",
            "        0, 5, 1, 6, 2, 5, 8, 4, 8, 7, 3, 0, 3, 0, 5, 4, 6, 4, 5, 3, 8, 0, 4, 4,\n",
            "        6, 1, 9, 6, 8, 0, 5, 7, 5, 2, 9, 5, 7, 8, 9, 1, 5, 6, 9, 9, 2, 7, 2, 9,\n",
            "        0, 8, 9, 8])\n",
            "tensor([7, 4, 4, 1, 2, 9, 8, 0, 0, 0, 2, 9, 1, 3, 9, 4, 1, 7, 6, 7, 1, 0, 5, 4,\n",
            "        5, 0, 2, 6, 6, 9, 5, 7, 5, 1, 0, 0, 3, 5, 8, 9, 2, 4, 8, 5, 4, 5, 0, 4,\n",
            "        3, 0, 5, 9, 4, 9, 2, 5, 9, 2, 3, 4, 5, 4, 2, 3, 5, 9, 3, 5, 3, 8, 8, 4,\n",
            "        3, 3, 1, 3, 3, 9, 5, 8, 1, 8, 5, 0, 6, 5, 7, 8, 5, 4, 6, 8, 5, 9, 2, 9,\n",
            "        7, 4, 9, 7])\n",
            "tensor([9, 0, 3, 7, 8, 2, 0, 5, 2, 9, 0, 4, 2, 7, 9, 6, 7, 9, 5, 4, 2, 8, 6, 4,\n",
            "        0, 8, 5, 8, 0, 3, 2, 6, 8, 8, 2, 0, 3, 7, 9, 6, 1, 8, 9, 3, 2, 8, 9, 1,\n",
            "        9, 5, 1, 2, 6, 6, 7, 2, 0, 0, 3, 5, 4, 7, 3, 5, 1, 0, 5, 6, 2, 9, 3, 3,\n",
            "        4, 0, 8, 9, 8, 9, 1, 9, 8, 4, 6, 1, 0, 9, 8, 2, 0, 8, 4, 5, 9, 6, 0, 8,\n",
            "        0, 4, 2, 2])\n",
            "tensor([2, 5, 3, 1, 9, 2, 7, 0, 6, 9, 0, 7, 4, 3, 4, 4, 2, 2, 6, 7, 8, 3, 9, 4,\n",
            "        2, 0, 5, 1, 6, 6, 9, 2, 3, 8, 2, 6, 9, 1, 2, 8, 3, 3, 5, 6, 9, 3, 0, 2,\n",
            "        3, 5, 9, 4, 3, 7, 1, 1, 4, 3, 8, 0, 4, 2, 9, 2, 4, 9, 5, 7, 5, 0, 4, 1,\n",
            "        5, 7, 3, 5, 6, 3, 5, 4, 0, 1, 2, 4, 2, 6, 0, 5, 6, 5, 0, 9, 0, 3, 1, 2,\n",
            "        1, 8, 5, 5])\n",
            "tensor([1, 9, 1, 1, 9, 1, 0, 1, 8, 7, 4, 8, 1, 3, 7, 4, 9, 2, 7, 7, 6, 1, 4, 0,\n",
            "        5, 6, 9, 3, 4, 9, 9, 0, 2, 1, 6, 9, 7, 3, 9, 0, 0, 7, 4, 1, 6, 5, 5, 9,\n",
            "        5, 0, 6, 1, 2, 3, 5, 0, 7, 7, 6, 9, 1, 9, 1, 9, 9, 5, 5, 6, 0, 3, 8, 8,\n",
            "        3, 2, 3, 9, 6, 3, 8, 0, 4, 3, 5, 6, 7, 8, 4, 1, 6, 7, 9, 1, 9, 9, 5, 5,\n",
            "        2, 5, 1, 9])\n",
            "tensor([8, 7, 1, 6, 9, 2, 7, 6, 0, 2, 4, 3, 8, 1, 2, 4, 6, 3, 8, 1, 1, 3, 7, 2,\n",
            "        5, 2, 8, 0, 0, 6, 6, 1, 9, 7, 5, 5, 6, 8, 6, 1, 3, 8, 2, 8, 0, 1, 2, 1,\n",
            "        9, 4, 0, 5, 7, 6, 6, 5, 0, 1, 9, 3, 7, 6, 9, 0, 3, 2, 6, 6, 8, 4, 5, 4,\n",
            "        2, 2, 2, 5, 0, 4, 2, 0, 2, 4, 2, 7, 0, 0, 6, 0, 7, 1, 0, 9, 2, 9, 3, 4,\n",
            "        4, 8, 1, 4])\n",
            "tensor([2, 4, 1, 3, 1, 9, 3, 9, 2, 6, 0, 5, 1, 8, 0, 8, 4, 2, 5, 8, 5, 5, 0, 1,\n",
            "        4, 4, 9, 8, 7, 8, 2, 2, 7, 7, 8, 0, 9, 8, 7, 0, 1, 8, 6, 4, 6, 6, 2, 5,\n",
            "        0, 4, 4, 5, 7, 9, 6, 9, 3, 5, 6, 4, 4, 1, 8, 7, 3, 6, 7, 7, 8, 5, 6, 1,\n",
            "        0, 1, 5, 6, 3, 8, 3, 3, 3, 3, 9, 8, 9, 4, 7, 9, 9, 9, 7, 9, 6, 7, 2, 7,\n",
            "        0, 3, 8, 3])\n",
            "tensor([9, 6, 6, 5, 5, 2, 0, 4, 8, 6, 2, 3, 0, 2, 4, 8, 1, 8, 3, 8, 2, 6, 4, 3,\n",
            "        8, 0, 2, 7, 1, 7, 6, 5, 5, 4, 9, 4, 8, 2, 4, 1, 9, 1, 5, 8, 8, 6, 3, 8,\n",
            "        3, 6, 7, 4, 1, 1, 5, 9, 6, 9, 2, 5, 2, 3, 1, 2, 9, 7, 1, 3, 1, 0, 1, 9,\n",
            "        5, 1, 5, 4, 7, 9, 9, 1, 0, 6, 6, 7, 7, 0, 5, 7, 7, 3, 6, 7, 7, 8, 2, 3,\n",
            "        9, 4, 3, 4])\n",
            "tensor([6, 6, 3, 6, 6, 9, 3, 0, 2, 3, 6, 8, 0, 4, 1, 2, 6, 4, 7, 6, 9, 5, 9, 8,\n",
            "        9, 1, 2, 8, 4, 1, 1, 4, 7, 6, 6, 0, 5, 6, 1, 4, 3, 0, 4, 2, 7, 4, 0, 9,\n",
            "        7, 5, 3, 0, 2, 1, 0, 6, 9, 0, 9, 9, 3, 4, 9, 7, 0, 3, 0, 9, 0, 3, 5, 4,\n",
            "        2, 5, 7, 0, 9, 0, 3, 6, 9, 7, 3, 0, 1, 2, 0, 6, 7, 5, 2, 0, 5, 8, 5, 2,\n",
            "        8, 2, 0, 9])\n",
            "tensor([1, 1, 1, 9, 4, 5, 1, 8, 4, 5, 4, 8, 8, 5, 8, 6, 1, 0, 6, 2, 8, 4, 6, 4,\n",
            "        5, 2, 5, 7, 0, 7, 5, 5, 6, 9, 8, 2, 7, 0, 5, 7, 8, 8, 9, 4, 1, 4, 8, 4,\n",
            "        8, 4, 1, 0, 2, 9, 3, 5, 8, 3, 5, 5, 3, 7, 4, 3, 4, 4, 3, 9, 2, 2, 8, 4,\n",
            "        0, 6, 3, 6, 5, 6, 9, 8, 8, 6, 5, 0, 0, 7, 5, 9, 1, 7, 3, 6, 2, 9, 8, 0,\n",
            "        4, 1, 9, 5])\n",
            "tensor([6, 6, 1, 8, 7, 4, 4, 2, 2, 3, 1, 7, 1, 1, 8, 5, 7, 2, 3, 7, 7, 2, 8, 0,\n",
            "        8, 6, 4, 6, 3, 8, 6, 7, 2, 0, 6, 5, 2, 5, 7, 0, 9, 8, 6, 6, 2, 9, 8, 7,\n",
            "        8, 7, 5, 4, 9, 0, 9, 1, 3, 8, 0, 4, 3, 8, 3, 0, 1, 8, 7, 4, 5, 6, 6, 4,\n",
            "        3, 0, 0, 9, 3, 6, 5, 5, 2, 5, 2, 1, 2, 8, 7, 1, 5, 2, 8, 7, 2, 1, 8, 4,\n",
            "        6, 7, 9, 5])\n",
            "tensor([2, 4, 0, 2, 9, 0, 4, 1, 3, 7, 3, 5, 1, 7, 4, 3, 0, 3, 8, 6, 1, 0, 6, 6,\n",
            "        7, 9, 1, 0, 5, 6, 4, 7, 8, 3, 2, 9, 4, 7, 1, 7, 8, 8, 8, 2, 2, 7, 2, 8,\n",
            "        8, 6, 2, 7, 4, 6, 2, 1, 6, 1, 2, 4, 0, 4, 9, 0, 0, 3, 2, 1, 4, 8, 4, 2,\n",
            "        7, 4, 7, 1, 9, 9, 1, 4, 4, 4, 6, 3, 5, 9, 9, 3, 3, 5, 7, 4, 0, 0, 3, 5,\n",
            "        3, 8, 5, 8])\n",
            "tensor([0, 6, 5, 0, 9, 5, 2, 2, 3, 8, 5, 9, 8, 0, 3, 2, 0, 7, 1, 5, 2, 1, 4, 3,\n",
            "        7, 9, 9, 8, 9, 9, 6, 3, 2, 6, 1, 6, 4, 6, 7, 4, 3, 4, 2, 0, 2, 8, 4, 1,\n",
            "        4, 3, 5, 2, 4, 4, 9, 4, 7, 2, 5, 3, 9, 0, 9, 9, 8, 4, 5, 2, 6, 0, 7, 5,\n",
            "        5, 7, 5, 5, 8, 8, 1, 8, 4, 0, 8, 3, 5, 6, 2, 1, 7, 9, 7, 4, 4, 4, 8, 6,\n",
            "        3, 9, 0, 8])\n",
            "tensor([2, 9, 5, 4, 9, 2, 0, 9, 6, 6, 6, 8, 4, 1, 7, 7, 3, 7, 0, 2, 7, 2, 4, 8,\n",
            "        6, 8, 6, 9, 7, 6, 5, 0, 6, 0, 2, 6, 3, 5, 7, 8, 9, 5, 1, 3, 3, 6, 3, 3,\n",
            "        9, 0, 6, 5, 4, 3, 3, 8, 5, 0, 0, 1, 4, 6, 1, 3, 7, 6, 7, 6, 9, 2, 5, 6,\n",
            "        7, 7, 6, 0, 6, 2, 3, 4, 2, 1, 9, 6, 9, 3, 9, 4, 4, 8, 0, 3, 5, 2, 3, 7,\n",
            "        6, 0, 8, 0])\n",
            "tensor([8, 6, 1, 2, 0, 5, 1, 7, 5, 6, 4, 4, 3, 8, 7, 1, 9, 2, 8, 8, 3, 2, 6, 1,\n",
            "        6, 7, 6, 4, 1, 2, 8, 8, 4, 7, 3, 1, 2, 7, 8, 5, 4, 8, 2, 9, 5, 7, 1, 2,\n",
            "        7, 0, 7, 4, 9, 2, 2, 2, 3, 8, 0, 1, 0, 9, 4, 8, 7, 3, 0, 3, 6, 3, 5, 3,\n",
            "        3, 6, 0, 4, 3, 1, 8, 6, 7, 3, 3, 5, 4, 7, 3, 3, 2, 9, 2, 9, 8, 6, 2, 4,\n",
            "        5, 2, 7, 9])\n",
            "tensor([7, 4, 9, 6, 0, 0, 1, 1, 6, 5, 9, 6, 2, 3, 2, 6, 5, 2, 3, 9, 9, 5, 4, 7,\n",
            "        8, 1, 0, 1, 0, 9, 2, 0, 1, 0, 8, 9, 3, 4, 9, 6, 7, 3, 5, 6, 2, 8, 0, 2,\n",
            "        3, 9, 7, 4, 6, 0, 3, 4, 3, 1, 3, 0, 2, 7, 2, 4, 2, 8, 7, 8, 1, 7, 1, 8,\n",
            "        9, 0, 5, 6, 8, 1, 5, 3, 2, 1, 9, 8, 8, 1, 0, 4, 4, 3, 3, 4, 7, 6, 2, 7,\n",
            "        1, 1, 5, 5])\n",
            "tensor([9, 1, 5, 6, 4, 2, 7, 9, 2, 8, 1, 2, 9, 6, 6, 5, 0, 7, 6, 1, 7, 4, 5, 6,\n",
            "        1, 1, 0, 6, 8, 9, 4, 2, 6, 0, 1, 9, 2, 8, 4, 4, 9, 5, 2, 1, 2, 2, 1, 2,\n",
            "        9, 7, 1, 0, 1, 0, 0, 7, 3, 1, 2, 5, 0, 3, 8, 5, 9, 9, 5, 3, 7, 0, 3, 7,\n",
            "        4, 2, 6, 4, 4, 1, 7, 0, 9, 6, 2, 7, 9, 2, 3, 2, 8, 8, 2, 3, 1, 1, 1, 3,\n",
            "        1, 0, 4, 2])\n",
            "tensor([9, 7, 2, 8, 6, 1, 0, 3, 1, 9, 9, 9, 1, 5, 6, 9, 0, 6, 7, 1, 6, 2, 9, 5,\n",
            "        5, 9, 9, 2, 4, 9, 1, 9, 4, 8, 3, 5, 5, 5, 8, 4, 2, 8, 3, 3, 1, 0, 5, 4,\n",
            "        4, 1, 8, 1, 6, 0, 7, 7, 4, 8, 2, 8, 0, 4, 0, 0, 0, 4, 8, 6, 2, 1, 1, 6,\n",
            "        6, 0, 7, 3, 2, 4, 7, 8, 3, 6, 4, 8, 7, 2, 7, 0, 2, 4, 9, 1, 6, 1, 9, 9,\n",
            "        5, 1, 8, 3])\n",
            "tensor([3, 1, 5, 1, 8, 5, 2, 4, 8, 8, 4, 4, 0, 4, 1, 8, 3, 4, 9, 6, 0, 4, 7, 9,\n",
            "        2, 0, 6, 1, 4, 9, 6, 3, 4, 3, 4, 2, 5, 5, 4, 9, 2, 2, 0, 5, 2, 3, 1, 3,\n",
            "        5, 7, 2, 7, 0, 7, 7, 5, 6, 5, 8, 0, 1, 2, 6, 4, 4, 3, 2, 7, 5, 9, 2, 5,\n",
            "        3, 6, 0, 1, 2, 4, 0, 5, 5, 3, 6, 9, 1, 3, 3, 4, 8, 1, 8, 8, 8, 2, 0, 4,\n",
            "        0, 6, 2, 7])\n",
            "tensor([2, 5, 6, 5, 1, 3, 0, 6, 1, 2, 3, 9, 7, 1, 7, 6, 5, 7, 4, 0, 9, 3, 4, 1,\n",
            "        6, 0, 0, 0, 4, 1, 4, 0, 2, 2, 9, 4, 7, 8, 8, 1, 0, 0, 1, 1, 5, 8, 6, 4,\n",
            "        9, 2, 5, 1, 4, 6, 5, 2, 7, 5, 7, 6, 5, 2, 1, 3, 2, 1, 2, 1, 1, 1, 7, 5,\n",
            "        5, 5, 9, 2, 0, 9, 0, 2, 8, 5, 9, 0, 0, 8, 8, 6, 4, 4, 4, 6, 3, 1, 1, 2,\n",
            "        4, 1, 6, 7])\n",
            "tensor([4, 9, 0, 2, 1, 8, 0, 4, 8, 5, 6, 2, 8, 7, 0, 8, 3, 5, 4, 3, 6, 4, 7, 2,\n",
            "        5, 7, 3, 8, 3, 2, 6, 9, 8, 0, 2, 2, 9, 9, 6, 0, 7, 6, 8, 8, 6, 7, 5, 9,\n",
            "        5, 9, 1, 1, 0, 8, 4, 8, 0, 7, 0, 0, 1, 8, 2, 6, 5, 7, 0, 8, 4, 4, 6, 5,\n",
            "        2, 8, 1, 1, 9, 1, 6, 8, 0, 4, 5, 0, 9, 1, 4, 5, 6, 3, 3, 2, 8, 8, 4, 6,\n",
            "        6, 3, 3, 2])\n",
            "tensor([5, 6, 5, 7, 7, 7, 7, 2, 6, 4, 2, 4, 7, 7, 7, 1, 3, 0, 5, 3, 9, 9, 5, 2,\n",
            "        3, 2, 3, 1, 6, 2, 0, 9, 1, 7, 6, 1, 2, 1, 4, 3, 4, 1, 1, 7, 8, 1, 3, 4,\n",
            "        2, 4, 7, 1, 5, 3, 2, 9, 3, 9, 4, 3, 7, 2, 4, 6, 7, 2, 5, 0, 6, 1, 4, 6,\n",
            "        3, 6, 2, 1, 2, 4, 0, 3, 6, 3, 5, 5, 7, 1, 5, 3, 7, 4, 9, 3, 0, 3, 4, 5,\n",
            "        0, 4, 2, 4])\n",
            "tensor([3, 3, 9, 4, 8, 8, 8, 9, 8, 6, 7, 4, 5, 2, 4, 9, 3, 8, 0, 8, 5, 3, 5, 5,\n",
            "        9, 0, 6, 0, 7, 3, 2, 8, 1, 3, 4, 4, 4, 0, 4, 8, 2, 0, 5, 0, 5, 9, 6, 7,\n",
            "        3, 7, 0, 8, 9, 4, 3, 6, 3, 0, 0, 4, 0, 6, 9, 0, 8, 8, 2, 3, 7, 7, 1, 1,\n",
            "        5, 1, 4, 2, 2, 7, 8, 2, 0, 3, 8, 0, 5, 3, 4, 9, 2, 1, 7, 2, 5, 2, 2, 6,\n",
            "        7, 4, 1, 6])\n",
            "tensor([0, 1, 7, 6, 5, 9, 1, 5, 1, 9, 8, 7, 3, 7, 7, 7, 8, 4, 4, 4, 8, 7, 2, 3,\n",
            "        9, 2, 8, 4, 3, 0, 5, 9, 5, 7, 5, 2, 8, 1, 9, 6, 4, 6, 5, 5, 4, 4, 8, 4,\n",
            "        1, 8, 5, 2, 7, 6, 3, 9, 3, 6, 9, 6, 6, 2, 9, 7, 6, 1, 7, 8, 2, 3, 9, 6,\n",
            "        4, 1, 0, 1, 1, 0, 3, 8, 6, 1, 1, 6, 4, 9, 7, 6, 7, 6, 7, 1, 7, 3, 1, 8,\n",
            "        7, 6, 3, 1])\n",
            "tensor([1, 4, 7, 2, 5, 6, 4, 8, 1, 5, 3, 0, 8, 6, 2, 8, 6, 2, 7, 5, 1, 5, 0, 2,\n",
            "        8, 9, 6, 6, 0, 8, 3, 2, 0, 0, 0, 0, 4, 4, 5, 0, 1, 1, 3, 3, 1, 0, 4, 1,\n",
            "        6, 9, 4, 4, 6, 4, 1, 9, 5, 3, 0, 4, 2, 9, 9, 5, 1, 0, 9, 7, 7, 7, 9, 7,\n",
            "        9, 5, 8, 3, 7, 5, 1, 4, 9, 8, 9, 6, 6, 5, 1, 5, 1, 8, 5, 6, 6, 4, 4, 6,\n",
            "        3, 4, 6, 4])\n",
            "tensor([9, 5, 8, 8, 4, 5, 0, 9, 4, 4, 0, 6, 0, 4, 6, 2, 9, 0, 2, 8, 8, 9, 8, 8,\n",
            "        0, 1, 6, 9, 0, 2, 7, 1, 8, 1, 4, 7, 0, 3, 6, 6, 4, 0, 4, 4, 2, 4, 8, 0,\n",
            "        2, 8, 2, 7, 5, 6, 7, 9, 6, 8, 1, 8, 4, 8, 8, 1, 6, 6, 5, 5, 3, 2, 1, 9,\n",
            "        0, 0, 7, 9, 0, 3, 2, 7, 8, 5, 5, 2, 0, 7, 4, 3, 5, 2, 5, 6, 6, 4, 1, 2,\n",
            "        3, 9, 6, 1])\n",
            "tensor([1, 0, 6, 1, 8, 7, 4, 3, 2, 2, 6, 2, 8, 5, 8, 7, 5, 1, 9, 8, 1, 5, 1, 3,\n",
            "        2, 2, 8, 8, 0, 0, 6, 3, 3, 4, 7, 9, 8, 1, 6, 7, 5, 4, 3, 9, 2, 0, 4, 7,\n",
            "        2, 4, 3, 5, 2, 8, 5, 9, 3, 7, 9, 2, 2, 8, 9, 6, 3, 5, 6, 6, 8, 9, 0, 6,\n",
            "        1, 4, 9, 2, 9, 2, 4, 6, 7, 4, 8, 3, 2, 0, 2, 3, 1, 1, 3, 8, 2, 4, 8, 8,\n",
            "        6, 3, 1, 1])\n",
            "tensor([9, 4, 7, 6, 9, 2, 3, 5, 1, 8, 6, 9, 9, 0, 6, 2, 2, 3, 5, 3, 0, 4, 6, 1,\n",
            "        7, 9, 1, 5, 9, 6, 8, 1, 1, 1, 0, 1, 5, 9, 5, 8, 6, 3, 1, 6, 8, 1, 4, 0,\n",
            "        6, 0, 7, 6, 8, 7, 7, 6, 0, 1, 5, 4, 9, 6, 5, 3, 9, 0, 9, 0, 1, 5, 8, 9,\n",
            "        7, 7, 7, 6, 8, 8, 7, 8, 6, 8, 1, 1, 0, 8, 2, 4, 5, 6, 2, 8, 7, 3, 3, 3,\n",
            "        7, 8, 5, 7])\n",
            "tensor([6, 4, 6, 4, 0, 9, 6, 6, 0, 5, 2, 9, 6, 2, 3, 6, 2, 4, 8, 4, 3, 0, 5, 2,\n",
            "        6, 7, 9, 0, 2, 9, 7, 4, 3, 3, 0, 8, 1, 3, 6, 0, 2, 9, 0, 9, 5, 8, 4, 5,\n",
            "        9, 9, 8, 7, 7, 3, 4, 5, 1, 4, 1, 8, 7, 7, 7, 2, 0, 2, 8, 0, 5, 4, 1, 3,\n",
            "        8, 2, 1, 3, 1, 7, 6, 4, 8, 1, 8, 6, 8, 9, 1, 7, 1, 8, 1, 2, 0, 8, 7, 7,\n",
            "        5, 5, 7, 6])\n",
            "tensor([7, 8, 9, 8, 0, 5, 8, 3, 6, 5, 2, 2, 3, 8, 8, 1, 1, 2, 6, 4, 5, 3, 4, 9,\n",
            "        1, 1, 5, 1, 8, 9, 0, 7, 4, 6, 1, 7, 5, 2, 6, 0, 7, 4, 2, 8, 0, 4, 5, 9,\n",
            "        5, 4, 2, 2, 0, 2, 4, 5, 6, 5, 4, 1, 9, 4, 1, 4, 6, 6, 3, 3, 6, 1, 2, 2,\n",
            "        7, 3, 9, 7, 7, 3, 3, 2, 0, 7, 5, 9, 1, 7, 7, 3, 6, 7, 0, 5, 5, 2, 2, 7,\n",
            "        7, 0, 9, 2])\n",
            "tensor([1, 6, 8, 9, 4, 0, 1, 1, 7, 3, 1, 0, 4, 5, 3, 9, 7, 6, 0, 1, 3, 5, 9, 2,\n",
            "        6, 1, 3, 5, 2, 9, 8, 2, 4, 5, 0, 6, 2, 5, 5, 6, 7, 7, 5, 9, 5, 2, 1, 2,\n",
            "        6, 7, 4, 4, 9, 5, 4, 4, 1, 9, 3, 7, 2, 4, 3, 7, 4, 4, 5, 1, 6, 7, 8, 7,\n",
            "        3, 3, 3, 7, 0, 9, 6, 3, 6, 3, 4, 5, 6, 9, 1, 6, 2, 7, 3, 7, 5, 7, 8, 5,\n",
            "        7, 5, 5, 5])\n",
            "tensor([4, 0, 6, 6, 9, 1, 3, 4, 0, 1, 3, 7, 2, 8, 6, 5, 5, 6, 4, 3, 0, 6, 9, 3,\n",
            "        8, 3, 8, 7, 3, 8, 4, 0, 7, 7, 3, 8, 2, 5, 4, 3, 4, 7, 1, 4, 1, 3, 2, 1,\n",
            "        2, 6, 4, 4, 8, 7, 0, 0, 8, 0, 7, 1, 5, 2, 6, 6, 9, 3, 4, 8, 1, 7, 4, 8,\n",
            "        0, 7, 3, 2, 0, 3, 2, 5, 5, 4, 9, 0, 7, 4, 0, 1, 2, 2, 3, 3, 1, 1, 2, 0,\n",
            "        8, 5, 9, 8])\n",
            "tensor([4, 9, 4, 5, 2, 5, 2, 4, 9, 1, 4, 4, 0, 8, 6, 5, 0, 5, 4, 6, 7, 1, 3, 5,\n",
            "        8, 0, 1, 9, 7, 3, 0, 8, 6, 8, 3, 3, 6, 9, 7, 0, 0, 4, 9, 5, 1, 2, 0, 2,\n",
            "        4, 9, 4, 9, 9, 8, 7, 4, 0, 1, 8, 5, 8, 0, 6, 9, 7, 5, 7, 5, 2, 2, 5, 1,\n",
            "        3, 5, 2, 8, 2, 1, 0, 3, 1, 0, 8, 5, 3, 0, 9, 5, 1, 5, 7, 6, 9, 2, 8, 7,\n",
            "        4, 2, 3, 5])\n",
            "tensor([7, 8, 7, 7, 5, 6, 2, 2, 0, 3, 1, 7, 2, 2, 5, 3, 3, 3, 6, 2, 8, 3, 9, 6,\n",
            "        3, 7, 7, 5, 5, 5, 4, 0, 3, 1, 5, 4, 3, 2, 0, 9, 9, 2, 4, 4, 9, 9, 5, 6,\n",
            "        8, 8, 2, 5, 3, 6, 2, 5, 3, 1, 6, 9, 6, 3, 5, 1, 8, 3, 4, 8, 0, 4, 8, 1,\n",
            "        3, 5, 2, 0, 8, 0, 2, 8, 6, 2, 2, 6, 4, 9, 6, 9, 9, 8, 1, 7, 1, 8, 8, 8,\n",
            "        8, 7, 6, 7])\n",
            "tensor([8, 9, 5, 3, 4, 0, 3, 3, 9, 6, 9, 1, 9, 8, 4, 9, 2, 8, 6, 1, 7, 5, 0, 6,\n",
            "        1, 8, 3, 3, 8, 1, 2, 9, 9, 0, 5, 3, 3, 3, 8, 4, 7, 2, 4, 8, 2, 1, 3, 8,\n",
            "        6, 2, 4, 6, 1, 2, 3, 6, 7, 0, 2, 5, 2, 6, 4, 4, 8, 7, 7, 7, 7, 8, 1, 6,\n",
            "        8, 9, 6, 8, 8, 8, 8, 5, 5, 7, 0, 9, 2, 9, 1, 9, 3, 9, 0, 8, 9, 3, 7, 6,\n",
            "        9, 9, 1, 7])\n",
            "tensor([9, 6, 8, 5, 4, 8, 2, 0, 9, 0, 4, 2, 5, 5, 4, 8, 5, 3, 0, 1, 3, 1, 9, 7,\n",
            "        6, 3, 0, 3, 6, 5, 6, 7, 9, 7, 7, 2, 1, 2, 2, 5, 9, 7, 3, 6, 2, 4, 4, 4,\n",
            "        6, 2, 4, 5, 6, 9, 7, 0, 0, 0, 3, 2, 0, 0, 7, 4, 9, 1, 7, 2, 9, 6, 8, 3,\n",
            "        5, 4, 0, 7, 8, 4, 2, 3, 5, 3, 5, 2, 5, 7, 7, 8, 1, 9, 0, 5, 2, 6, 7, 6,\n",
            "        0, 6, 0, 8])\n",
            "tensor([7, 8, 8, 6, 9, 8, 3, 8, 5, 2, 5, 8, 4, 9, 2, 7, 8, 0, 6, 6, 3, 0, 7, 5,\n",
            "        6, 2, 4, 9, 9, 7, 5, 5, 0, 5, 7, 3, 1, 1, 0, 3, 2, 2, 4, 4, 5, 8, 8, 7,\n",
            "        4, 0, 2, 9, 7, 9, 8, 4, 5, 3, 5, 8, 4, 3, 9, 4, 4, 8, 0, 8, 4, 1, 7, 1,\n",
            "        6, 7, 5, 7, 0, 2, 6, 1, 6, 4, 9, 5, 6, 5, 2, 4, 0, 3, 6, 3, 8, 1, 7, 3,\n",
            "        5, 1, 4, 7])\n",
            "tensor([0, 7, 1, 6, 8, 2, 4, 3, 8, 2, 2, 7, 9, 0, 0, 1, 3, 7, 0, 6, 3, 7, 3, 2,\n",
            "        9, 2, 8, 2, 8, 2, 9, 7, 2, 5, 3, 5, 3, 0, 2, 1, 1, 1, 8, 8, 9, 0, 1, 0,\n",
            "        2, 9, 3, 5, 6, 0, 5, 1, 8, 0, 8, 9, 8, 5, 9, 5, 5, 6, 4, 2, 4, 3, 4, 2,\n",
            "        0, 1, 7, 2, 0, 1, 4, 3, 4, 3, 3, 8, 4, 8, 6, 5, 2, 1, 9, 5, 2, 5, 9, 9,\n",
            "        8, 5, 5, 6])\n",
            "tensor([0, 4, 7, 3, 7, 8, 8, 1, 3, 6, 0, 3, 9, 1, 2, 6, 6, 1, 9, 3, 5, 5, 4, 2,\n",
            "        4, 6, 6, 0, 1, 0, 9, 7, 5, 0, 3, 2, 8, 6, 3, 3, 3, 7, 8, 6, 1, 7, 2, 3,\n",
            "        8, 2, 6, 3, 3, 4, 9, 8, 6, 6, 9, 6, 1, 6, 7, 8, 5, 0, 6, 3, 6, 5, 7, 0,\n",
            "        5, 1, 4, 1, 9, 9, 5, 1, 4, 4, 6, 0, 7, 0, 1, 3, 7, 0, 8, 7, 7, 2, 9, 3,\n",
            "        3, 6, 2, 0])\n",
            "tensor([6, 6, 7, 8, 7, 6, 9, 8, 3, 0, 2, 3, 6, 4, 7, 2, 0, 3, 3, 2, 7, 9, 5, 6,\n",
            "        4, 7, 3, 4, 1, 5, 4, 3, 6, 6, 8, 1, 0, 9, 5, 3, 4, 7, 2, 1, 2, 3, 3, 0,\n",
            "        6, 5, 8, 3, 8, 2, 8, 1, 4, 5, 8, 0, 5, 7, 0, 3, 2, 3, 2, 6, 5, 9, 4, 9,\n",
            "        1, 8, 5, 2, 5, 4, 3, 7, 9, 9, 2, 3, 5, 6, 7, 0, 3, 3, 1, 5, 1, 4, 2, 4,\n",
            "        3, 5, 7, 6])\n",
            "tensor([2, 2, 5, 1, 3, 7, 0, 0, 1, 3, 4, 2, 1, 0, 1, 6, 5, 4, 6, 9, 5, 3, 2, 6,\n",
            "        0, 7, 1, 9, 8, 7, 1, 3, 5, 5, 7, 5, 2, 5, 8, 8, 5, 0, 7, 9, 4, 5, 8, 2,\n",
            "        6, 4, 1, 2, 9, 2, 4, 3, 7, 7, 0, 5, 2, 4, 2, 8, 6, 4, 4, 2, 4, 5, 5, 3,\n",
            "        8, 5, 8, 4, 9, 7, 5, 3, 4, 0, 9, 8, 1, 0, 9, 5, 1, 4, 4, 9, 9, 2, 7, 8,\n",
            "        0, 9, 5, 1])\n",
            "tensor([1, 3, 6, 4, 2, 4, 3, 8, 3, 2, 7, 8, 8, 7, 7, 2, 0, 5, 0, 4, 0, 6, 1, 6,\n",
            "        1, 6, 2, 0, 1, 1, 9, 5, 5, 1, 9, 9, 7, 1, 8, 0, 9, 9, 9, 5, 0, 3, 9, 0,\n",
            "        7, 2, 7, 0, 5, 3, 2, 8, 5, 5, 9, 7, 6, 6, 6, 5, 2, 5, 1, 2, 1, 2, 4, 7,\n",
            "        5, 7, 9, 7, 6, 0, 9, 2, 3, 6, 6, 7, 0, 9, 8, 9, 8, 4, 4, 6, 9, 0, 8, 9,\n",
            "        3, 8, 1, 2])\n",
            "tensor([0, 2, 0, 1, 2, 9, 7, 3, 0, 6, 7, 8, 5, 9, 5, 6, 0, 0, 8, 5, 5, 9, 3, 7,\n",
            "        2, 4, 3, 1, 9, 7, 5, 4, 6, 7, 2, 4, 4, 0, 4, 3, 2, 0, 8, 9, 3, 1, 0, 0,\n",
            "        6, 0, 5, 3, 2, 2, 0, 6, 8, 9, 5, 4, 3, 5, 4, 0, 7, 6, 0, 2, 8, 3, 8, 7,\n",
            "        3, 1, 2, 1, 6, 4, 3, 5, 0, 3, 6, 8, 6, 6, 0, 8, 5, 5, 2, 0, 0, 6, 3, 4,\n",
            "        7, 9, 8, 6])\n",
            "tensor([4, 6, 4, 9, 7, 1, 2, 3, 0, 0, 7, 9, 9, 8, 6, 2, 9, 8, 2, 7, 3, 4, 7, 4,\n",
            "        7, 7, 6, 6, 6, 3, 9, 1, 4, 3, 0, 8, 8, 9, 7, 2, 2, 6, 1, 1, 5, 0, 1, 7,\n",
            "        5, 1, 8, 0, 0, 3, 5, 5, 3, 4, 2, 8, 3, 0, 4, 2, 4, 7, 0, 1, 1, 0, 4, 2,\n",
            "        8, 8, 2, 4, 3, 0, 0, 0, 6, 6, 5, 1, 4, 4, 8, 5, 3, 2, 2, 8, 8, 9, 5, 9,\n",
            "        8, 6, 4, 2])\n",
            "tensor([2, 4, 0, 4, 2, 0, 0, 9, 1, 6, 1, 6, 0, 1, 0, 7, 0, 1, 5, 5, 9, 0, 3, 5,\n",
            "        2, 0, 7, 2, 9, 5, 2, 4, 2, 7, 5, 2, 7, 1, 5, 0, 7, 5, 8, 1, 6, 4, 4, 8,\n",
            "        2, 8, 6, 5, 5, 1, 4, 5, 1, 5, 5, 8, 3, 1, 7, 2, 8, 6, 2, 7, 3, 2, 1, 7,\n",
            "        0, 7, 8, 9, 0, 9, 2, 9, 6, 1, 4, 7, 0, 3, 1, 9, 9, 3, 5, 8, 9, 4, 8, 0,\n",
            "        5, 0, 5, 2])\n",
            "tensor([2, 1, 4, 2, 5, 8, 4, 4, 0, 6, 3, 7, 4, 5, 5, 7, 0, 8, 8, 9, 8, 6, 6, 4,\n",
            "        8, 4, 8, 8, 0, 7, 9, 7, 0, 6, 2, 4, 3, 0, 6, 2, 7, 1, 1, 7, 6, 1, 4, 3,\n",
            "        7, 2, 0, 1, 3, 7, 4, 3, 7, 0, 3, 9, 8, 0, 7, 1, 3, 6, 6, 7, 6, 5, 4, 8,\n",
            "        6, 6, 2, 0, 8, 8, 4, 4, 8, 2, 6, 0, 5, 8, 9, 8, 4, 2, 4, 9, 5, 1, 1, 7,\n",
            "        2, 7, 8, 8])\n",
            "tensor([6, 9, 8, 2, 7, 9, 8, 9, 5, 6, 3, 6, 4, 4, 1, 7, 0, 8, 7, 1, 2, 7, 8, 5,\n",
            "        4, 0, 2, 4, 0, 1, 0, 4, 9, 2, 8, 6, 0, 8, 9, 8, 9, 4, 3, 4, 1, 5, 0, 7,\n",
            "        4, 4, 6, 9, 1, 6, 9, 5, 6, 4, 8, 0, 9, 4, 6, 1, 5, 9, 1, 7, 1, 9, 2, 1,\n",
            "        9, 4, 2, 4, 3, 5, 4, 1, 4, 3, 1, 8, 5, 1, 6, 9, 6, 2, 8, 4, 8, 0, 2, 5,\n",
            "        0, 8, 2, 5])\n",
            "tensor([7, 1, 6, 7, 2, 5, 3, 1, 2, 9, 2, 4, 3, 9, 1, 0, 1, 1, 6, 1, 3, 2, 9, 0,\n",
            "        4, 7, 3, 5, 1, 6, 9, 9, 4, 1, 9, 1, 5, 5, 5, 1, 2, 3, 2, 3, 8, 2, 7, 0,\n",
            "        6, 9, 7, 4, 0, 0, 6, 3, 8, 4, 9, 8, 6, 3, 9, 1, 2, 5, 9, 5, 8, 1, 2, 9,\n",
            "        5, 2, 4, 8, 7, 8, 7, 1, 9, 2, 0, 0, 0, 7, 9, 0, 0, 2, 5, 6, 4, 3, 4, 0,\n",
            "        6, 4, 4, 9])\n",
            "tensor([5, 1, 5, 5, 2, 4, 9, 3, 4, 1, 1, 7, 3, 3, 9, 0, 6, 1, 2, 8, 3, 4, 0, 8,\n",
            "        0, 3, 9, 3, 5, 3, 4, 4, 9, 9, 0, 8, 4, 0, 5, 6, 3, 7, 0, 2, 3, 3, 9, 5,\n",
            "        4, 4, 8, 9, 8, 1, 9, 6, 1, 8, 4, 1, 8, 0, 9, 7, 3, 3, 3, 4, 7, 3, 1, 8,\n",
            "        8, 8, 8, 9, 9, 0, 9, 5, 4, 7, 1, 3, 7, 3, 7, 3, 6, 6, 4, 7, 9, 5, 7, 9,\n",
            "        3, 2, 1, 2])\n",
            "tensor([5, 7, 3, 6, 2, 8, 4, 3, 8, 8, 6, 4, 6, 9, 2, 1, 2, 2, 4, 1, 4, 1, 9, 3,\n",
            "        9, 8, 1, 7, 2, 6, 9, 4, 0, 7, 6, 4, 5, 6, 9, 3, 0, 2, 4, 7, 8, 5, 5, 0,\n",
            "        3, 1, 3, 5, 3, 6, 9, 3, 9, 3, 5, 7, 4, 6, 4, 2, 3, 0, 7, 9, 5, 2, 0, 6,\n",
            "        6, 6, 3, 5, 4, 0, 0, 1, 4, 0, 0, 5, 8, 6, 2, 3, 4, 8, 3, 4, 9, 6, 1, 9,\n",
            "        2, 1, 8, 0])\n",
            "tensor([4, 9, 4, 4, 9, 7, 4, 5, 0, 5, 5, 1, 0, 4, 3, 7, 2, 4, 6, 3, 3, 9, 5, 0,\n",
            "        5, 0, 1, 5, 6, 5, 5, 6, 6, 0, 5, 1, 5, 7, 5, 5, 6, 6, 2, 3, 5, 6, 4, 2,\n",
            "        3, 4, 7, 6, 7, 0, 3, 2, 7, 7, 4, 3, 1, 7, 2, 9, 1, 7, 5, 1, 7, 8, 8, 0,\n",
            "        8, 5, 8, 2, 4, 1, 2, 0, 3, 8, 1, 4, 5, 3, 8, 6, 8, 2, 1, 4, 5, 6, 7, 5,\n",
            "        2, 4, 7, 1])\n",
            "tensor([0, 3, 6, 4, 7, 8, 9, 5, 5, 8, 5, 7, 6, 9, 6, 0, 7, 1, 7, 4, 0, 6, 6, 0,\n",
            "        2, 3, 8, 3, 5, 4, 0, 2, 8, 4, 7, 7, 3, 7, 6, 9, 2, 6, 4, 3, 3, 3, 4, 1,\n",
            "        5, 0, 2, 2, 0, 2, 9, 2, 3, 4, 5, 0, 8, 5, 6, 0, 1, 0, 7, 5, 6, 5, 3, 0,\n",
            "        7, 4, 0, 5, 1, 5, 9, 1, 1, 2, 0, 6, 3, 2, 4, 0, 4, 4, 4, 5, 5, 2, 9, 0,\n",
            "        2, 0, 9, 0])\n",
            "tensor([1, 7, 9, 7, 1, 0, 6, 5, 7, 3, 3, 7, 3, 1, 2, 7, 2, 9, 8, 7, 2, 7, 1, 8,\n",
            "        0, 9, 4, 3, 2, 1, 5, 5, 9, 9, 7, 6, 0, 7, 9, 6, 9, 4, 7, 6, 9, 3, 1, 1,\n",
            "        8, 3, 9, 8, 7, 8, 9, 6, 6, 7, 0, 1, 2, 1, 6, 7, 0, 4, 0, 8, 5, 1, 6, 2,\n",
            "        8, 7, 4, 5, 6, 4, 5, 6, 9, 2, 5, 2, 0, 8, 7, 1, 2, 8, 9, 0, 5, 7, 0, 3,\n",
            "        2, 4, 5, 3])\n",
            "tensor([7, 1, 3, 3, 6, 1, 9, 8, 4, 2, 8, 4, 1, 1, 0, 9, 0, 8, 0, 4, 0, 2, 8, 9,\n",
            "        2, 3, 1, 9, 1, 3, 3, 2, 6, 5, 1, 8, 7, 1, 7, 8, 6, 4, 1, 9, 9, 9, 2, 5,\n",
            "        6, 6, 0, 9, 2, 3, 0, 5, 8, 4, 5, 3, 6, 0, 4, 3, 1, 5, 8, 1, 3, 3, 6, 3,\n",
            "        4, 5, 2, 6, 6, 5, 3, 8, 8, 6, 0, 2, 0, 7, 7, 4, 3, 7, 2, 1, 7, 9, 2, 3,\n",
            "        3, 7, 8, 1])\n",
            "tensor([7, 1, 6, 5, 8, 0, 7, 8, 7, 7, 4, 0, 9, 7, 0, 8, 1, 2, 9, 7, 0, 5, 7, 2,\n",
            "        6, 0, 7, 1, 4, 7, 4, 4, 1, 6, 9, 6, 9, 0, 1, 0, 3, 1, 1, 4, 3, 8, 1, 9,\n",
            "        9, 2, 4, 2, 4, 2, 1, 2, 5, 8, 4, 5, 3, 7, 2, 4, 5, 6, 1, 4, 3, 6, 4, 7,\n",
            "        5, 2, 4, 8, 3, 2, 1, 7, 3, 8, 5, 5, 3, 2, 5, 0, 6, 8, 8, 1, 5, 0, 8, 3,\n",
            "        9, 5, 2, 9])\n",
            "tensor([9, 7, 3, 4, 6, 9, 7, 8, 4, 5, 0, 1, 9, 4, 0, 1, 3, 8, 5, 2, 3, 6, 1, 8,\n",
            "        3, 0, 6, 6, 8, 4, 5, 5, 6, 6, 5, 6, 6, 6, 9, 9, 2, 5, 2, 1, 2, 5, 6, 3,\n",
            "        6, 6, 3, 0, 1, 5, 9, 6, 2, 2, 7, 4, 2, 4, 9, 3, 6, 1, 6, 7, 1, 2, 3, 4,\n",
            "        3, 7, 1, 5, 7, 6, 8, 7, 3, 4, 3, 1, 8, 6, 2, 5, 1, 8, 7, 5, 7, 0, 4, 2,\n",
            "        1, 4, 1, 3])\n",
            "tensor([5, 8, 2, 3, 8, 1, 3, 8, 4, 7, 4, 6, 9, 4, 0, 2, 9, 2, 3, 7, 1, 2, 3, 7,\n",
            "        4, 0, 6, 3, 5, 8, 6, 3, 9, 5, 9, 4, 9, 6, 7, 9, 7, 8, 6, 2, 6, 2, 5, 9,\n",
            "        7, 5, 8, 6, 5, 8, 5, 7, 8, 0, 4, 6, 1, 2, 5, 6, 0, 4, 8, 1, 7, 1, 3, 9,\n",
            "        3, 1, 4, 5, 1, 1, 1, 6, 7, 0, 1, 6, 8, 8, 5, 5, 2, 4, 0, 9, 4, 9, 9, 6,\n",
            "        1, 2, 7, 6])\n",
            "tensor([7, 9, 1, 5, 3, 4, 1, 1, 6, 4, 7, 5, 8, 0, 8, 5, 6, 0, 1, 2, 5, 6, 3, 0,\n",
            "        0, 0, 0, 8, 9, 4, 5, 5, 9, 4, 7, 8, 4, 2, 6, 1, 7, 5, 2, 3, 8, 0, 2, 4,\n",
            "        0, 5, 9, 8, 8, 6, 9, 0, 7, 5, 5, 1, 9, 4, 6, 6, 9, 3, 6, 0, 8, 6, 7, 7,\n",
            "        2, 2, 0, 9, 0, 4, 8, 7, 2, 3, 6, 7, 5, 6, 3, 0, 9, 5, 8, 1, 7, 8, 0, 6,\n",
            "        3, 2, 9, 7])\n",
            "tensor([8, 2, 2, 4, 3, 6, 9, 8, 6, 7, 4, 5, 3, 9, 2, 6, 8, 6, 2, 3, 2, 0, 6, 1,\n",
            "        8, 6, 6, 1, 5, 8, 0, 1, 3, 5, 3, 5, 5, 8, 7, 1, 0, 7, 1, 9, 8, 3, 8, 0,\n",
            "        0, 7, 2, 0, 1, 7, 9, 6, 7, 5, 7, 9, 6, 5, 6, 1, 5, 9, 9, 3, 2, 8, 2, 4,\n",
            "        0, 7, 1, 0, 4, 2, 9, 7, 5, 2, 9, 5, 0, 3, 0, 2, 9, 7, 0, 8, 2, 7, 1, 9,\n",
            "        5, 7, 5, 8])\n",
            "tensor([6, 6, 0, 3, 9, 1, 5, 1, 2, 7, 9, 1, 4, 0, 4, 9, 8, 0, 9, 9, 6, 1, 2, 8,\n",
            "        6, 5, 1, 9, 6, 3, 1, 7, 0, 3, 0, 9, 4, 7, 0, 4, 1, 2, 3, 4, 1, 6, 4, 1,\n",
            "        2, 8, 3, 7, 4, 8, 4, 6, 6, 9, 8, 5, 9, 8, 5, 0, 6, 7, 6, 7, 0, 7, 1, 8,\n",
            "        6, 0, 6, 4, 4, 1, 5, 1, 3, 9, 8, 6, 4, 9, 8, 4, 2, 8, 3, 6, 8, 9, 8, 7,\n",
            "        0, 9, 1, 9])\n",
            "tensor([6, 8, 0, 7, 7, 0, 6, 5, 6, 0, 7, 7, 6, 6, 2, 5, 7, 5, 6, 1, 9, 6, 5, 7,\n",
            "        8, 7, 5, 4, 9, 9, 5, 2, 3, 2, 8, 7, 0, 1, 8, 7, 1, 5, 7, 8, 5, 9, 0, 7,\n",
            "        6, 8, 9, 5, 4, 5, 7, 2, 4, 6, 2, 9, 9, 2, 9, 5, 3, 4, 1, 3, 1, 0, 0, 1,\n",
            "        9, 2, 2, 8, 9, 8, 3, 2, 4, 5, 7, 5, 5, 3, 7, 7, 5, 3, 7, 5, 6, 5, 7, 0,\n",
            "        5, 3, 1, 0])\n",
            "tensor([1, 1, 2, 1, 2, 8, 9, 7, 8, 7, 5, 0, 2, 3, 0, 7, 1, 1, 2, 7, 2, 3, 9, 2,\n",
            "        1, 6, 7, 3, 1, 7, 8, 5, 2, 2, 5, 6, 8, 2, 6, 7, 8, 9, 8, 1, 2, 6, 9, 2,\n",
            "        3, 2, 9, 7, 2, 1, 3, 0, 4, 3, 7, 0, 1, 8, 0, 9, 1, 9, 9, 7, 0, 3, 4, 9,\n",
            "        2, 2, 4, 7, 8, 6, 9, 4, 7, 7, 5, 3, 5, 6, 4, 6, 4, 0, 2, 2, 4, 6, 0, 0,\n",
            "        4, 0, 0, 4])\n",
            "tensor([0, 3, 9, 3, 7, 2, 0, 6, 7, 2, 9, 8, 6, 4, 0, 7, 3, 1, 0, 3, 9, 8, 1, 1,\n",
            "        6, 3, 3, 4, 6, 4, 9, 3, 4, 6, 3, 6, 7, 5, 8, 5, 3, 8, 7, 2, 9, 5, 6, 1,\n",
            "        4, 7, 1, 5, 2, 4, 8, 0, 8, 7, 1, 7, 7, 9, 6, 8, 4, 7, 1, 8, 3, 9, 0, 2,\n",
            "        4, 5, 7, 5, 1, 2, 4, 4, 0, 4, 3, 5, 1, 8, 5, 2, 3, 1, 8, 1, 4, 2, 2, 5,\n",
            "        3, 7, 8, 0])\n",
            "tensor([5, 6, 5, 9, 7, 4, 0, 4, 4, 4, 2, 7, 1, 0, 3, 6, 8, 8, 2, 7, 7, 3, 4, 2,\n",
            "        4, 5, 8, 4, 6, 9, 5, 4, 3, 6, 9, 4, 3, 5, 8, 4, 7, 5, 1, 1, 5, 2, 4, 4,\n",
            "        8, 0, 1, 6, 2, 4, 0, 0, 4, 1, 3, 7, 5, 8, 5, 3, 6, 1, 1, 0, 1, 2, 1, 5,\n",
            "        8, 6, 9, 6, 3, 6, 1, 6, 9, 7, 3, 1, 4, 7, 8, 5, 9, 1, 8, 9, 7, 4, 2, 2,\n",
            "        2, 1, 9, 5])\n",
            "tensor([9, 1, 8, 4, 4, 4, 0, 3, 2, 9, 4, 2, 6, 8, 5, 0, 1, 6, 4, 6, 9, 2, 5, 3,\n",
            "        6, 9, 3, 4, 4, 4, 2, 1, 1, 6, 2, 2, 3, 8, 7, 8, 6, 9, 7, 5, 0, 5, 3, 5,\n",
            "        4, 7, 5, 3, 0, 9, 0, 4, 0, 7, 6, 4, 6, 2, 2, 9, 6, 6, 7, 3, 9, 8, 5, 1,\n",
            "        8, 9, 3, 2, 5, 2, 4, 8, 7, 4, 1, 7, 6, 4, 3, 1, 7, 5, 7, 3, 2, 9, 2, 4,\n",
            "        2, 1, 5, 5])\n",
            "tensor([3, 1, 5, 9, 9, 5, 4, 0, 5, 0, 6, 5, 6, 0, 3, 4, 0, 6, 5, 5, 4, 8, 5, 8,\n",
            "        5, 9, 2, 6, 4, 2, 8, 4, 1, 7, 8, 7, 5, 2, 3, 1, 1, 9, 0, 3, 1, 9, 4, 5,\n",
            "        5, 2, 5, 8, 4, 1, 6, 3, 7, 2, 7, 8, 8, 0, 1, 5, 7, 1, 6, 5, 4, 0, 0, 6,\n",
            "        0, 7, 2, 8, 6, 1, 5, 5, 8, 5, 9, 9, 7, 7, 1, 7, 9, 7, 6, 1, 7, 7, 0, 4,\n",
            "        3, 4, 5, 9])\n",
            "tensor([5, 9, 1, 8, 3, 7, 8, 7, 3, 1, 2, 0, 0, 1, 1, 6, 4, 7, 0, 0, 9, 0, 4, 6,\n",
            "        1, 4, 3, 2, 1, 4, 8, 8, 5, 2, 9, 5, 5, 2, 3, 7, 3, 4, 0, 2, 5, 1, 4, 4,\n",
            "        3, 4, 1, 5, 9, 3, 5, 2, 2, 3, 3, 9, 7, 2, 8, 6, 3, 8, 3, 4, 3, 4, 4, 1,\n",
            "        4, 3, 6, 0, 1, 5, 6, 7, 1, 4, 3, 7, 9, 6, 0, 5, 8, 9, 4, 8, 0, 0, 0, 8,\n",
            "        7, 4, 4, 1])\n",
            "tensor([0, 3, 4, 7, 5, 5, 1, 6, 1, 2, 0, 3, 6, 6, 0, 2, 5, 6, 7, 7, 1, 0, 0, 5,\n",
            "        1, 0, 9, 7, 4, 7, 0, 5, 2, 0, 7, 5, 5, 9, 6, 6, 2, 9, 2, 5, 9, 5, 7, 4,\n",
            "        5, 3, 2, 0, 6, 5, 6, 1, 5, 9, 2, 2, 9, 8, 6, 1, 3, 3, 5, 9, 2, 7, 3, 9,\n",
            "        2, 7, 6, 5, 3, 9, 6, 5, 3, 4, 3, 9, 8, 9, 0, 3, 5, 0, 0, 5, 4, 3, 7, 2,\n",
            "        4, 1, 1, 5])\n",
            "tensor([6, 4, 4, 1, 7, 6, 8, 7, 1, 4, 4, 5, 1, 0, 3, 5, 6, 9, 5, 5, 1, 9, 2, 1,\n",
            "        0, 4, 3, 0, 4, 5, 2, 9, 5, 3, 7, 3, 6, 8, 9, 1, 6, 8, 1, 9, 2, 2, 8, 6,\n",
            "        1, 0, 7, 3, 5, 8, 9, 1, 9, 0, 0, 6, 2, 8, 4, 3, 0, 1, 8, 0, 9, 0, 5, 6,\n",
            "        9, 2, 0, 1, 0, 1, 8, 0, 3, 4, 7, 9, 6, 3, 6, 9, 5, 6, 2, 9, 8, 7, 6, 4,\n",
            "        0, 5, 7, 3])\n",
            "tensor([1, 7, 2, 8, 8, 4, 0, 7, 7, 2, 0, 3, 7, 2, 4, 3, 3, 9, 4, 0, 6, 2, 7, 4,\n",
            "        0, 2, 3, 4, 7, 5, 5, 5, 1, 9, 4, 8, 9, 3, 8, 0, 9, 4, 1, 7, 6, 7, 4, 7,\n",
            "        2, 3, 7, 0, 8, 0, 9, 0, 5, 3, 9, 2, 8, 3, 7, 7, 4, 2, 9, 1, 8, 5, 4, 3,\n",
            "        1, 5, 1, 1, 1, 3, 2, 4, 2, 3, 4, 1, 2, 3, 9, 6, 9, 1, 8, 6, 9, 0, 4, 5,\n",
            "        0, 8, 6, 7])\n",
            "tensor([3, 4, 9, 5, 0, 2, 0, 7, 7, 3, 2, 7, 3, 7, 9, 9, 2, 8, 2, 5, 0, 2, 7, 7,\n",
            "        5, 6, 8, 4, 8, 0, 8, 3, 6, 2, 9, 3, 8, 7, 5, 7, 1, 3, 8, 6, 9, 3, 5, 2,\n",
            "        8, 4, 6, 4, 9, 1, 4, 0, 3, 7, 4, 4, 3, 9, 1, 2, 6, 4, 5, 4, 8, 0, 6, 5,\n",
            "        4, 0, 6, 9, 2, 6, 3, 6, 6, 5, 0, 8, 6, 7, 8, 2, 3, 1, 0, 1, 6, 2, 5, 8,\n",
            "        0, 5, 0, 9])\n",
            "tensor([1, 3, 6, 2, 6, 0, 1, 4, 9, 5, 5, 2, 1, 1, 8, 3, 6, 6, 3, 7, 3, 7, 6, 6,\n",
            "        3, 6, 9, 2, 7, 0, 2, 9, 3, 8, 8, 0, 9, 8, 2, 1, 0, 9, 6, 4, 3, 1, 6, 6,\n",
            "        9, 0, 4, 0, 8, 0, 8, 8, 2, 3, 2, 1, 2, 3, 7, 3, 6, 4, 6, 0, 8, 3, 9, 0,\n",
            "        6, 8, 3, 9, 6, 5, 3, 9, 2, 0, 3, 0, 6, 2, 0, 3, 9, 8, 6, 4, 7, 2, 4, 0,\n",
            "        6, 9, 3, 1])\n",
            "tensor([5, 8, 7, 0, 7, 5, 6, 8, 6, 1, 7, 7, 4, 7, 8, 2, 1, 3, 2, 8, 2, 5, 0, 1,\n",
            "        8, 4, 6, 2, 9, 0, 6, 1, 9, 8, 2, 3, 5, 1, 8, 9, 8, 4, 4, 5, 5, 7, 8, 1,\n",
            "        8, 2, 6, 8, 4, 0, 5, 8, 2, 0, 9, 5, 0, 5, 2, 6, 8, 9, 8, 1, 3, 8, 0, 6,\n",
            "        8, 5, 3, 3, 6, 5, 8, 6, 7, 4, 4, 8, 3, 3, 3, 7, 6, 9, 4, 8, 9, 8, 3, 0,\n",
            "        6, 5, 0, 4])\n",
            "tensor([8, 8, 8, 8, 4, 9, 0, 7, 3, 4, 1, 9, 6, 1, 4, 4, 6, 1, 6, 4, 5, 8, 5, 2,\n",
            "        0, 9, 0, 2, 3, 1, 7, 8, 2, 6, 2, 3, 6, 0, 9, 6, 2, 3, 2, 3, 2, 7, 9, 7,\n",
            "        6, 5, 9, 3, 3, 8, 4, 1, 5, 1, 0, 3, 3, 1, 7, 1, 6, 1, 1, 7, 0, 2, 0, 6,\n",
            "        6, 9, 3, 0, 2, 1, 7, 0, 2, 1, 6, 1, 3, 8, 7, 6, 0, 7, 9, 9, 5, 1, 6, 8,\n",
            "        8, 2, 9, 1])\n",
            "tensor([4, 8, 1, 3, 5, 4, 1, 5, 9, 2, 5, 7, 3, 6, 0, 6, 6, 2, 6, 2, 7, 9, 2, 5,\n",
            "        3, 6, 9, 0, 8, 7, 2, 2, 1, 9, 9, 9, 9, 7, 0, 7, 0, 9, 7, 6, 5, 7, 9, 9,\n",
            "        8, 5, 3, 0, 2, 0, 3, 0, 4, 7, 2, 5, 9, 2, 7, 9, 3, 3, 9, 6, 2, 2, 7, 8,\n",
            "        4, 4, 2, 6, 0, 2, 9, 9, 7, 8, 9, 4, 7, 3, 2, 8, 6, 6, 4, 4, 0, 1, 7, 6,\n",
            "        8, 2, 2, 0])\n",
            "tensor([9, 0, 9, 9, 2, 3, 6, 3, 5, 5, 7, 7, 0, 6, 9, 3, 2, 0, 1, 5, 1, 4, 6, 6,\n",
            "        3, 5, 5, 7, 0, 4, 7, 4, 5, 2, 0, 4, 1, 7, 3, 1, 4, 2, 0, 6, 5, 4, 5, 8,\n",
            "        2, 5, 8, 8, 6, 9, 0, 9, 5, 2, 3, 1, 3, 6, 7, 0, 2, 9, 5, 1, 3, 3, 2, 9,\n",
            "        8, 0, 6, 3, 0, 7, 5, 2, 1, 2, 0, 2, 3, 0, 8, 4, 5, 6, 4, 5, 3, 7, 8, 6,\n",
            "        1, 6, 4, 1])\n",
            "tensor([9, 5, 3, 9, 3, 5, 3, 9, 9, 1, 3, 8, 0, 7, 3, 3, 7, 5, 8, 8, 6, 2, 7, 7,\n",
            "        8, 8, 2, 2, 6, 4, 6, 6, 6, 5, 6, 9, 4, 6, 5, 1, 7, 3, 0, 5, 2, 8, 1, 2,\n",
            "        2, 3, 9, 9, 5, 0, 1, 0, 1, 2, 9, 8, 7, 2, 4, 2, 9, 6, 4, 5, 3, 3, 6, 3,\n",
            "        2, 6, 0, 2, 3, 8, 7, 9, 8, 7, 2, 8, 5, 4, 7, 6, 4, 1, 9, 2, 3, 3, 1, 6,\n",
            "        4, 5, 0, 7])\n",
            "tensor([1, 8, 3, 8, 1, 0, 0, 8, 0, 5, 3, 9, 2, 9, 8, 4, 4, 5, 5, 2, 1, 4, 0, 0,\n",
            "        0, 5, 0, 4, 8, 5, 2, 3, 2, 0, 0, 0, 3, 2, 6, 6, 7, 0, 4, 8, 1, 1, 5, 4,\n",
            "        0, 8, 0, 3, 2, 4, 2, 8, 4, 1, 3, 8, 2, 1, 5, 4, 6, 6, 5, 0, 3, 7, 2, 3,\n",
            "        3, 0, 8, 5, 6, 7, 1, 9, 4, 9, 1, 3, 3, 5, 6, 2, 3, 4, 5, 6, 1, 7, 8, 5,\n",
            "        2, 5, 6, 9])\n",
            "tensor([3, 4, 2, 2, 8, 8, 3, 4, 1, 8, 8, 9, 5, 5, 3, 5, 0, 9, 5, 0, 1, 6, 0, 3,\n",
            "        3, 6, 7, 3, 8, 4, 6, 4, 5, 1, 5, 9, 2, 3, 5, 0, 5, 6, 8, 9, 6, 0, 3, 9,\n",
            "        6, 6, 0, 3, 9, 4, 4, 5, 7, 5, 2, 2, 8, 8, 5, 8, 0, 4, 7, 0, 5, 6, 5, 9,\n",
            "        4, 8, 2, 0, 1, 8, 0, 9, 8, 4, 9, 4, 3, 1, 9, 8, 9, 7, 7, 1, 4, 9, 2, 6,\n",
            "        7, 3, 3, 0])\n",
            "tensor([8, 8, 8, 9, 3, 2, 8, 0, 6, 3, 6, 1, 7, 8, 0, 0, 5, 7, 8, 1, 1, 1, 7, 3,\n",
            "        5, 2, 1, 7, 1, 1, 0, 8, 6, 1, 6, 1, 1, 7, 0, 2, 3, 6, 2, 5, 4, 5, 4, 9,\n",
            "        7, 4, 6, 6, 5, 1, 2, 6, 8, 3, 8, 4, 6, 3, 6, 9, 2, 4, 9, 1, 5, 3, 7, 9,\n",
            "        0, 0, 2, 9, 9, 7, 6, 4, 1, 6, 6, 2, 5, 7, 6, 2, 2, 6, 4, 0, 6, 8, 8, 7,\n",
            "        7, 1, 9, 3])\n",
            "tensor([0, 7, 2, 8, 9, 8, 3, 7, 4, 0, 9, 1, 5, 1, 7, 4, 5, 2, 0, 9, 0, 1, 2, 4,\n",
            "        6, 5, 9, 5, 9, 9, 1, 5, 4, 6, 8, 6, 4, 1, 1, 7, 2, 6, 6, 3, 2, 2, 6, 3,\n",
            "        4, 0, 3, 2, 6, 7, 4, 9, 6, 0, 8, 4, 6, 0, 8, 8, 9, 4, 1, 2, 4, 3, 3, 3,\n",
            "        6, 2, 1, 1, 3, 7, 0, 2, 0, 8, 3, 7, 5, 4, 2, 4, 9, 2, 9, 3, 3, 1, 3, 6,\n",
            "        7, 5, 3, 9])\n",
            "tensor([0, 1, 9, 2, 0, 0, 7, 1, 4, 6, 7, 9, 7, 6, 3, 1, 7, 1, 5, 2, 3, 8, 7, 3,\n",
            "        2, 8, 3, 3, 3, 1, 2, 3, 0, 8, 2, 7, 2, 2, 3, 1, 4, 9, 7, 9, 7, 1, 0, 9,\n",
            "        9, 8, 3, 5, 4, 6, 5, 7, 5, 1, 8, 4, 1, 1, 5, 7, 0, 1, 9, 7, 7, 6, 8, 6,\n",
            "        2, 7, 1, 8, 7, 0, 7, 4, 0, 5, 1, 9, 4, 6, 4, 0, 7, 4, 5, 7, 5, 2, 3, 1,\n",
            "        9, 4, 2, 6])\n",
            "tensor([6, 2, 7, 5, 9, 8, 4, 3, 2, 2, 1, 4, 4, 9, 0, 3, 9, 1, 4, 2, 8, 8, 3, 7,\n",
            "        2, 4, 7, 7, 9, 6, 6, 4, 6, 0, 2, 1, 4, 7, 2, 9, 3, 7, 7, 7, 3, 1, 3, 2,\n",
            "        9, 5, 2, 6, 6, 7, 4, 1, 6, 5, 7, 9, 7, 7, 0, 3, 6, 0, 4, 1, 6, 7, 9, 2,\n",
            "        3, 0, 0, 3, 3, 6, 4, 6, 1, 4, 3, 7, 3, 1, 6, 0, 4, 0, 0, 9, 1, 3, 3, 6,\n",
            "        6, 7, 2, 9])\n",
            "tensor([1, 9, 1, 6, 3, 4, 0, 2, 8, 7, 7, 5, 6, 9, 2, 6, 5, 1, 6, 5, 9, 0, 2, 6,\n",
            "        3, 8, 1, 6, 4, 3, 7, 1, 2, 0, 9, 2, 6, 4, 2, 2, 5, 7, 4, 3, 7, 0, 5, 6,\n",
            "        4, 1, 9, 2, 5, 1, 8, 5, 2, 7, 5, 3, 0, 0, 4, 7, 5, 4, 6, 5, 9, 9, 1, 6,\n",
            "        7, 3, 1, 9, 5, 5, 3, 1, 9, 9, 2, 5, 6, 6, 2, 7, 3, 8, 8, 1, 8, 4, 4, 8,\n",
            "        6, 0, 4, 0])\n",
            "tensor([4, 9, 4, 8, 6, 0, 3, 0, 2, 1, 0, 4, 7, 2, 0, 5, 8, 2, 2, 6, 9, 3, 7, 3,\n",
            "        5, 2, 0, 1, 9, 5, 9, 6, 8, 9, 5, 8, 5, 9, 0, 7, 0, 3, 9, 6, 2, 0, 5, 2,\n",
            "        2, 2, 2, 4, 6, 0, 1, 6, 6, 1, 3, 2, 0, 3, 1, 3, 8, 0, 8, 5, 4, 7, 1, 5,\n",
            "        5, 8, 1, 8, 1, 1, 8, 1, 7, 9, 2, 8, 3, 3, 1, 1, 1, 2, 1, 1, 4, 1, 4, 1,\n",
            "        6, 0, 7, 3])\n",
            "tensor([3, 4, 9, 7, 4, 5, 8, 7, 1, 9, 0, 4, 0, 8, 4, 2, 2, 5, 6, 1, 5, 3, 7, 7,\n",
            "        8, 3, 2, 8, 3, 7, 4, 2, 3, 8, 1, 6, 1, 7, 2, 0, 9, 5, 9, 0, 2, 8, 3, 9,\n",
            "        2, 1, 4, 7, 5, 2, 1, 6, 3, 7, 6, 3, 8, 8, 7, 1, 7, 5, 8, 1, 0, 6, 6, 2,\n",
            "        8, 7, 8, 7, 6, 4, 9, 5, 2, 7, 0, 8, 0, 9, 4, 8, 6, 6, 4, 2, 7, 0, 7, 6,\n",
            "        2, 9, 6, 1])\n",
            "tensor([0, 9, 5, 2, 6, 7, 5, 3, 3, 5, 4, 2, 3, 2, 3, 8, 9, 9, 8, 1, 8, 9, 4, 9,\n",
            "        2, 0, 4, 2, 4, 0, 9, 8, 4, 1, 5, 6, 5, 6, 0, 9, 2, 9, 3, 6, 3, 6, 9, 5,\n",
            "        9, 9, 9, 5, 3, 2, 0, 1, 3, 2, 6, 3, 7, 1, 7, 1, 1, 6, 0, 1, 9, 6, 6, 3,\n",
            "        2, 0, 8, 1, 1, 8, 0, 6, 1, 0, 5, 3, 0, 8, 6, 0, 4, 4, 5, 9, 6, 9, 8, 7,\n",
            "        2, 2, 4, 9])\n",
            "tensor([0, 1, 0, 7, 5, 4, 4, 7, 3, 8, 7, 1, 5, 1, 6, 1, 3, 5, 8, 5, 4, 4, 7, 1,\n",
            "        8, 4, 1, 7, 8, 5, 9, 6, 1, 8, 9, 2, 1, 9, 7, 5, 2, 1, 6, 1, 0, 2, 3, 7,\n",
            "        7, 6, 4, 5, 8, 6, 6, 7, 7, 5, 0, 1, 2, 8, 1, 8, 3, 3, 5, 8, 4, 0, 2, 7,\n",
            "        5, 9, 5, 3, 2, 2, 3, 4, 3, 9, 1, 8, 4, 7, 3, 1, 6, 8, 8, 3, 6, 8, 4, 4,\n",
            "        5, 9, 0, 2])\n",
            "tensor([8, 3, 1, 7, 4, 4, 0, 1, 5, 0, 4, 7, 9, 4, 6, 7, 0, 3, 3, 5, 6, 0, 2, 3,\n",
            "        7, 3, 0, 7, 4, 1, 7, 0, 4, 1, 3, 0, 3, 4, 2, 1, 2, 9, 2, 6, 0, 4, 5, 5,\n",
            "        9, 5, 6, 5, 2, 8, 1, 8, 6, 8, 1, 8, 0, 3, 0, 1, 7, 9, 8, 4, 6, 9, 6, 5,\n",
            "        5, 4, 9, 8, 6, 5, 0, 8, 1, 5, 3, 3, 7, 1, 1, 1, 7, 6, 4, 1, 0, 9, 7, 5,\n",
            "        9, 4, 1, 9])\n",
            "tensor([2, 8, 3, 3, 4, 5, 5, 5, 9, 6, 1, 5, 1, 8, 3, 9, 3, 0, 0, 6, 3, 8, 5, 8,\n",
            "        1, 6, 3, 2, 0, 3, 6, 2, 1, 5, 0, 7, 6, 9, 7, 9, 2, 9, 1, 9, 9, 4, 7, 3,\n",
            "        2, 5, 7, 7, 1, 3, 1, 9, 3, 7, 4, 6, 3, 7, 0, 7, 7, 1, 9, 3, 8, 5, 5, 2,\n",
            "        8, 8, 9, 9, 0, 0, 8, 0, 1, 6, 8, 3, 3, 6, 6, 8, 7, 6, 8, 4, 9, 6, 6, 1,\n",
            "        2, 7, 9, 8])\n",
            "tensor([6, 1, 0, 8, 9, 8, 1, 3, 7, 3, 6, 1, 0, 0, 4, 0, 9, 6, 6, 7, 4, 2, 4, 4,\n",
            "        7, 3, 4, 3, 4, 8, 4, 7, 6, 9, 0, 9, 3, 6, 5, 5, 7, 5, 0, 3, 7, 5, 4, 2,\n",
            "        0, 8, 3, 6, 7, 7, 8, 0, 4, 9, 1, 0, 9, 0, 2, 5, 2, 0, 7, 7, 9, 1, 4, 6,\n",
            "        6, 1, 0, 6, 4, 4, 3, 1, 0, 9, 1, 1, 3, 0, 9, 5, 9, 0, 3, 3, 0, 5, 8, 3,\n",
            "        8, 7, 7, 7])\n",
            "tensor([5, 0, 1, 5, 5, 6, 2, 1, 3, 5, 9, 4, 1, 4, 2, 2, 9, 2, 0, 1, 6, 4, 7, 4,\n",
            "        1, 2, 2, 6, 8, 6, 6, 1, 4, 8, 2, 6, 0, 3, 9, 2, 3, 2, 4, 2, 5, 4, 8, 3,\n",
            "        1, 6, 0, 1, 7, 9, 3, 4, 7, 9, 2, 3, 7, 5, 3, 6, 5, 5, 9, 8, 9, 3, 8, 0,\n",
            "        9, 3, 7, 1, 2, 1, 1, 1, 0, 6, 1, 2, 3, 9, 6, 6, 9, 1, 5, 2, 8, 7, 3, 2,\n",
            "        1, 0, 3, 7])\n",
            "tensor([2, 5, 7, 3, 7, 7, 9, 9, 7, 3, 6, 4, 8, 8, 5, 6, 8, 0, 6, 0, 9, 6, 5, 3,\n",
            "        4, 2, 1, 5, 1, 5, 2, 2, 6, 4, 2, 9, 0, 9, 0, 1, 9, 1, 3, 3, 9, 5, 6, 8,\n",
            "        2, 7, 3, 3, 7, 0, 3, 0, 7, 6, 9, 6, 4, 7, 8, 9, 5, 4, 4, 0, 2, 5, 7, 1,\n",
            "        6, 9, 8, 6, 9, 8, 1, 1, 5, 6, 3, 6, 5, 6, 9, 6, 3, 4, 5, 9, 3, 3, 3, 9,\n",
            "        7, 6, 8, 4])\n",
            "tensor([6, 7, 0, 1, 9, 6, 4, 4, 1, 7, 6, 4, 3, 5, 9, 9, 8, 3, 1, 8, 9, 0, 0, 3,\n",
            "        4, 2, 7, 1, 8, 4, 6, 8, 5, 6, 3, 2, 9, 8, 6, 1, 3, 6, 4, 6, 0, 2, 4, 8,\n",
            "        9, 4, 1, 5, 3, 8, 2, 7, 9, 4, 4, 7, 2, 3, 6, 3, 9, 2, 5, 4, 0, 8, 0, 6,\n",
            "        1, 3, 5, 7, 3, 9, 8, 7, 1, 9, 2, 5, 0, 4, 7, 1, 5, 0, 7, 8, 1, 9, 4, 5,\n",
            "        7, 6, 6, 0])\n",
            "tensor([9, 2, 9, 8, 7, 6, 0, 1, 0, 1, 6, 1, 4, 8, 8, 1, 2, 5, 6, 2, 9, 5, 6, 7,\n",
            "        8, 5, 6, 5, 5, 8, 8, 1, 8, 4, 6, 8, 1, 1, 2, 6, 5, 9, 0, 8, 1, 7, 7, 4,\n",
            "        9, 0, 4, 6, 9, 8, 1, 6, 8, 3, 3, 6, 8, 0, 9, 4, 8, 5, 4, 3, 3, 1, 6, 4,\n",
            "        7, 9, 6, 4, 4, 6, 0, 9, 3, 2, 1, 2, 3, 6, 9, 6, 2, 6, 1, 4, 8, 4, 7, 4,\n",
            "        6, 1, 6, 4])\n",
            "tensor([1, 6, 2, 9, 1, 4, 4, 8, 1, 8, 3, 3, 2, 8, 8, 4, 2, 8, 9, 3, 8, 3, 0, 5,\n",
            "        2, 1, 6, 9, 5, 0, 7, 5, 9, 6, 1, 0, 7, 2, 7, 0, 0, 8, 2, 8, 0, 0, 4, 4,\n",
            "        7, 4, 7, 4, 8, 5, 4, 4, 7, 8, 3, 5, 3, 1, 1, 0, 9, 9, 7, 5, 8, 0, 4, 3,\n",
            "        8, 6, 9, 1, 0, 3, 0, 4, 0, 0, 1, 5, 8, 3, 5, 9, 2, 6, 6, 9, 2, 0, 4, 9,\n",
            "        0, 7, 0, 5])\n",
            "tensor([5, 0, 6, 1, 4, 5, 1, 7, 1, 3, 5, 5, 3, 6, 2, 4, 5, 5, 0, 6, 6, 2, 9, 6,\n",
            "        0, 9, 9, 7, 9, 4, 3, 4, 9, 2, 6, 1, 5, 7, 2, 9, 4, 5, 6, 6, 2, 1, 3, 8,\n",
            "        0, 7, 4, 1, 9, 9, 6, 0, 3, 1, 4, 0, 7, 1, 2, 0, 8, 3, 5, 7, 9, 6, 9, 1,\n",
            "        5, 5, 9, 1, 6, 9, 5, 9, 2, 8, 0, 5, 6, 2, 6, 7, 9, 6, 5, 6, 0, 4, 6, 1,\n",
            "        9, 0, 2, 9])\n",
            "tensor([4, 8, 8, 8, 1, 8, 2, 4, 9, 9, 4, 9, 4, 6, 2, 1, 1, 2, 5, 9, 5, 9, 5, 4,\n",
            "        3, 0, 0, 1, 8, 9, 3, 7, 3, 1, 2, 2, 8, 1, 7, 9, 1, 7, 0, 3, 2, 4, 3, 1,\n",
            "        7, 8, 4, 0, 4, 5, 5, 5, 0, 6, 5, 2, 0, 8, 1, 9, 4, 4, 9, 3, 7, 7, 6, 3,\n",
            "        6, 4, 6, 2, 2, 0, 0, 5, 4, 0, 3, 6, 3, 5, 4, 8, 7, 2, 6, 5, 8, 0, 1, 2,\n",
            "        1, 5, 5, 1])\n",
            "tensor([2, 6, 6, 1, 8, 2, 9, 3, 9, 7, 0, 2, 0, 9, 8, 5, 7, 4, 2, 1, 1, 0, 8, 4,\n",
            "        2, 2, 3, 2, 0, 3, 6, 6, 6, 7, 8, 9, 3, 3, 1, 8, 6, 4, 9, 8, 1, 9, 8, 8,\n",
            "        1, 9, 8, 6, 0, 9, 0, 6, 4, 2, 5, 7, 5, 1, 9, 6, 1, 9, 9, 2, 8, 7, 9, 0,\n",
            "        3, 3, 3, 0, 9, 4, 9, 1, 5, 5, 0, 6, 7, 2, 3, 9, 2, 4, 7, 2, 8, 2, 9, 4,\n",
            "        5, 7, 9, 3])\n",
            "tensor([2, 0, 3, 3, 7, 7, 3, 6, 2, 0, 8, 8, 9, 4, 7, 1, 9, 7, 3, 6, 4, 1, 7, 3,\n",
            "        1, 0, 7, 1, 9, 7, 3, 8, 0, 9, 8, 8, 8, 2, 7, 0, 6, 3, 8, 1, 0, 4, 2, 0,\n",
            "        8, 2, 6, 8, 8, 7, 0, 8, 1, 5, 7, 0, 0, 6, 9, 4, 4, 6, 1, 2, 4, 3, 3, 4,\n",
            "        4, 5, 2, 6, 8, 9, 1, 2, 8, 0, 5, 9, 4, 5, 6, 2, 2, 6, 9, 7, 8, 4, 4, 1,\n",
            "        4, 3, 8, 1])\n",
            "tensor([5, 9, 8, 7, 1, 7, 7, 2, 4, 4, 2, 8, 3, 8, 1, 8, 7, 7, 0, 9, 6, 6, 0, 5,\n",
            "        4, 5, 5, 7, 0, 0, 5, 3, 7, 5, 5, 6, 6, 8, 1, 5, 0, 9, 5, 1, 8, 5, 7, 4,\n",
            "        5, 6, 3, 7, 1, 2, 0, 3, 4, 3, 2, 4, 6, 8, 6, 6, 9, 4, 5, 8, 8, 2, 7, 8,\n",
            "        8, 8, 9, 0, 3, 0, 1, 0, 1, 0, 6, 3, 7, 0, 5, 5, 5, 3, 8, 0, 8, 8, 8, 5,\n",
            "        4, 9, 0, 6])\n",
            "tensor([0, 1, 3, 5, 7, 6, 4, 5, 5, 4, 3, 2, 5, 8, 7, 4, 4, 9, 4, 3, 4, 1, 3, 3,\n",
            "        8, 5, 9, 0, 5, 8, 4, 7, 5, 9, 9, 6, 0, 6, 0, 9, 1, 0, 7, 9, 6, 6, 0, 1,\n",
            "        4, 9, 7, 1, 1, 9, 9, 0, 0, 1, 0, 4, 7, 9, 3, 1, 4, 9, 7, 5, 9, 0, 0, 0,\n",
            "        9, 6, 4, 5, 8, 7, 1, 0, 6, 3, 5, 5, 4, 5, 9, 6, 8, 1, 7, 7, 6, 6, 4, 6,\n",
            "        3, 6, 7, 2])\n",
            "tensor([3, 3, 8, 5, 4, 2, 9, 9, 1, 5, 0, 8, 2, 1, 8, 5, 9, 5, 1, 8, 2, 4, 9, 8,\n",
            "        7, 2, 5, 6, 3, 7, 9, 7, 7, 5, 1, 3, 2, 6, 6, 3, 0, 9, 0, 3, 0, 7, 0, 3,\n",
            "        1, 7, 2, 8, 9, 5, 9, 2, 0, 8, 9, 9, 1, 7, 9, 8, 3, 3, 6, 9, 5, 6, 7, 2,\n",
            "        5, 8, 1, 1, 9, 9, 0, 7, 4, 9, 0, 5, 9, 8, 0, 0, 8, 0, 1, 0, 2, 2, 4, 6,\n",
            "        0, 0, 7, 0])\n",
            "tensor([6, 4, 4, 4, 0, 9, 3, 1, 1, 3, 4, 6, 6, 3, 1, 3, 5, 7, 1, 0, 6, 4, 0, 3,\n",
            "        7, 2, 5, 9, 1, 1, 5, 0, 5, 0, 5, 2, 0, 7, 4, 5, 4, 6, 2, 6, 0, 3, 3, 5,\n",
            "        1, 3, 6, 7, 9, 3, 9, 9, 0, 4, 7, 9, 3, 0, 2, 4, 3, 9, 2, 8, 0, 2, 5, 5,\n",
            "        8, 1, 3, 6, 4, 3, 9, 2, 6, 7, 3, 5, 2, 5, 0, 1, 9, 8, 9, 2, 0, 5, 9, 7,\n",
            "        5, 6, 8, 8])\n",
            "tensor([8, 8, 8, 9, 0, 2, 2, 5, 4, 8, 2, 7, 8, 5, 8, 5, 6, 6, 4, 9, 4, 3, 4, 2,\n",
            "        1, 9, 0, 3, 0, 7, 9, 7, 5, 1, 2, 4, 7, 6, 6, 9, 7, 7, 2, 4, 6, 8, 4, 1,\n",
            "        9, 7, 8, 6, 5, 8, 2, 5, 6, 9, 5, 2, 1, 1, 5, 6, 4, 1, 5, 8, 1, 3, 2, 3,\n",
            "        5, 7, 5, 3, 3, 8, 8, 2, 1, 8, 6, 4, 2, 6, 2, 4, 0, 2, 8, 1, 9, 2, 0, 0,\n",
            "        1, 3, 8, 8])\n",
            "tensor([8, 1, 0, 2, 1, 3, 5, 1, 8, 0, 5, 3, 0, 8, 9, 3, 1, 3, 2, 0, 3, 5, 2, 1,\n",
            "        3, 2, 9, 3, 1, 5, 0, 2, 5, 0, 5, 1, 1, 0, 2, 5, 9, 5, 3, 0, 4, 7, 1, 8,\n",
            "        8, 6, 5, 3, 3, 0, 9, 3, 2, 4, 2, 9, 0, 0, 9, 7, 1, 9, 2, 9, 6, 4, 5, 2,\n",
            "        4, 5, 6, 5, 9, 7, 4, 3, 6, 1, 5, 1, 7, 2, 9, 2, 3, 6, 4, 1, 5, 5, 2, 6,\n",
            "        0, 5, 7, 7])\n",
            "tensor([6, 3, 5, 8, 0, 1, 4, 8, 8, 6, 6, 9, 9, 7, 0, 5, 6, 6, 8, 9, 7, 2, 0, 6,\n",
            "        2, 6, 2, 8, 8, 4, 9, 0, 3, 6, 8, 9, 6, 4, 9, 6, 8, 9, 2, 0, 2, 3, 5, 4,\n",
            "        0, 0, 6, 7, 4, 5, 9, 0, 9, 0, 1, 6, 7, 9, 2, 5, 9, 8, 5, 9, 1, 0, 9, 5,\n",
            "        1, 1, 5, 2, 4, 4, 0, 7, 3, 9, 9, 0, 6, 8, 4, 2, 1, 9, 2, 7, 9, 1, 9, 3,\n",
            "        6, 1, 2, 1])\n",
            "tensor([1, 2, 7, 3, 9, 5, 1, 5, 3, 8, 4, 4, 0, 0, 3, 2, 3, 7, 2, 1, 8, 6, 4, 5,\n",
            "        6, 4, 2, 0, 2, 2, 2, 3, 9, 1, 2, 5, 5, 0, 5, 7, 1, 8, 5, 0, 4, 5, 6, 1,\n",
            "        7, 3, 1, 3, 4, 0, 6, 6, 5, 6, 4, 9, 5, 3, 8, 7, 6, 8, 7, 3, 2, 2, 7, 7,\n",
            "        8, 7, 3, 6, 5, 5, 6, 2, 0, 9, 0, 9, 8, 3, 3, 8, 1, 9, 7, 1, 2, 9, 5, 0,\n",
            "        9, 7, 2, 6])\n",
            "tensor([9, 4, 4, 5, 1, 1, 9, 3, 0, 1, 8, 3, 8, 3, 9, 8, 8, 1, 7, 7, 5, 1, 3, 5,\n",
            "        8, 4, 5, 5, 8, 2, 2, 5, 9, 4, 5, 3, 8, 5, 5, 6, 4, 6, 3, 7, 8, 2, 0, 2,\n",
            "        6, 9, 8, 7, 5, 5, 5, 7, 0, 7, 0, 7, 8, 4, 7, 0, 7, 7, 2, 8, 5, 2, 4, 5,\n",
            "        2, 5, 8, 7, 5, 9, 3, 7, 6, 4, 3, 3, 5, 5, 8, 0, 2, 2, 6, 3, 6, 5, 9, 6,\n",
            "        8, 3, 1, 8])\n",
            "tensor([1, 7, 6, 5, 3, 5, 4, 7, 2, 3, 1, 8, 5, 8, 5, 0, 8, 4, 4, 3, 2, 7, 6, 4,\n",
            "        9, 2, 8, 4, 0, 7, 6, 7, 6, 5, 5, 2, 1, 8, 6, 0, 8, 8, 5, 7, 7, 1, 7, 0,\n",
            "        8, 7, 1, 7, 4, 3, 7, 5, 3, 2, 1, 4, 6, 7, 0, 3, 7, 4, 1, 1, 8, 4, 8, 6,\n",
            "        2, 9, 0, 0, 3, 5, 9, 1, 0, 3, 9, 0, 8, 9, 7, 9, 9, 0, 9, 0, 7, 6, 1, 9,\n",
            "        0, 0, 1, 6])\n",
            "tensor([3, 5, 4, 7, 1, 9, 1, 0, 9, 7, 6, 9, 5, 5, 3, 6, 0, 6, 9, 3, 7, 1, 0, 3,\n",
            "        3, 8, 6, 5, 3, 2, 5, 1, 8, 2, 8, 4, 4, 2, 7, 8, 5, 9, 7, 3, 3, 2, 8, 0,\n",
            "        6, 1, 9, 2, 8, 6, 3, 3, 1, 6, 7, 7, 4, 1, 7, 4, 4, 9, 5, 8, 8, 9, 3, 4,\n",
            "        1, 6, 8, 0, 1, 1, 1, 2, 6, 9, 9, 7, 3, 0, 9, 5, 8, 9, 8, 6, 9, 4, 6, 5,\n",
            "        3, 6, 7, 8])\n",
            "tensor([5, 4, 1, 4, 8, 6, 7, 6, 5, 2, 5, 3, 1, 6, 0, 3, 9, 1, 0, 0, 5, 9, 1, 8,\n",
            "        2, 3, 7, 0, 6, 0, 9, 6, 1, 5, 2, 7, 9, 5, 9, 6, 2, 0, 7, 2, 8, 7, 6, 4,\n",
            "        8, 5, 2, 8, 1, 3, 8, 0, 2, 9, 2, 0, 2, 8, 3, 1, 0, 2, 3, 2, 6, 3, 7, 5,\n",
            "        9, 7, 2, 9, 0, 2, 4, 8, 6, 6, 6, 4, 7, 3, 0, 3, 1, 6, 2, 6, 1, 3, 7, 5,\n",
            "        7, 8, 7, 5])\n",
            "tensor([4, 6, 2, 8, 2, 5, 5, 6, 1, 3, 3, 1, 6, 8, 4, 2, 4, 7, 2, 0, 2, 3, 4, 2,\n",
            "        4, 1, 2, 9, 2, 4, 2, 6, 8, 0, 0, 8, 7, 9, 3, 4, 5, 7, 5, 4, 8, 2, 4, 6,\n",
            "        4, 4, 5, 3, 8, 6, 3, 7, 3, 5, 0, 4, 4, 5, 3, 9, 6, 9, 7, 3, 0, 2, 4, 4,\n",
            "        3, 1, 1, 9, 0, 0, 8, 0, 8, 4, 2, 7, 9, 9, 6, 6, 5, 0, 1, 9, 1, 0, 8, 6,\n",
            "        3, 3, 6, 9])\n",
            "tensor([8, 0, 8, 6, 0, 7, 0, 2, 4, 3, 3, 6, 3, 5, 7, 6, 9, 0, 2, 6, 0, 2, 8, 1,\n",
            "        8, 6, 5, 8, 5, 9, 0, 1, 8, 6, 9, 8, 7, 6, 0, 9, 2, 0, 6, 6, 5, 7, 6, 7,\n",
            "        3, 0, 4, 2, 7, 3, 6, 0, 3, 1, 6, 6, 8, 6, 0, 1, 1, 2, 9, 7, 5, 5, 8, 6,\n",
            "        2, 5, 3, 8, 8, 5, 8, 4, 4, 9, 5, 9, 1, 8, 7, 7, 0, 5, 5, 1, 1, 3, 6, 8,\n",
            "        7, 6, 6, 1])\n",
            "tensor([6, 4, 8, 0, 9, 7, 2, 9, 3, 1, 4, 7, 8, 8, 8, 7, 0, 2, 9, 0, 5, 3, 3, 0,\n",
            "        0, 8, 0, 5, 7, 2, 8, 2, 8, 7, 4, 5, 9, 2, 3, 9, 0, 9, 2, 3, 4, 6, 9, 4,\n",
            "        6, 2, 4, 6, 6, 0, 3, 1, 9, 9, 7, 0, 5, 2, 4, 7, 9, 2, 8, 5, 2, 0, 7, 8,\n",
            "        2, 1, 3, 5, 2, 2, 1, 5, 9, 3, 0, 5, 5, 2, 5, 4, 7, 1, 7, 2, 3, 6, 8, 3,\n",
            "        9, 5, 1, 7])\n",
            "tensor([7, 1, 0, 8, 7, 6, 1, 4, 3, 7, 9, 1, 3, 4, 5, 5, 4, 5, 7, 9, 0, 3, 3, 3,\n",
            "        0, 1, 6, 5, 6, 1, 9, 4, 3, 5, 4, 1, 0, 0, 5, 2, 3, 7, 3, 6, 9, 3, 4, 5,\n",
            "        2, 3, 4, 1, 9, 8, 5, 8, 8, 3, 7, 2, 0, 3, 7, 4, 3, 3, 6, 8, 5, 5, 4, 2,\n",
            "        5, 4, 1, 8, 0, 3, 7, 3, 7, 6, 9, 9, 0, 4, 5, 1, 4, 5, 3, 2, 2, 3, 7, 2,\n",
            "        3, 5, 2, 5])\n",
            "tensor([1, 2, 0, 9, 0, 4, 4, 2, 6, 5, 2, 2, 4, 2, 2, 7, 8, 4, 2, 8, 6, 3, 9, 5,\n",
            "        8, 4, 3, 5, 7, 5, 1, 1, 3, 6, 5, 7, 0, 7, 2, 4, 8, 8, 7, 4, 0, 6, 2, 1,\n",
            "        4, 9, 1, 9, 3, 9, 4, 7, 0, 9, 0, 7, 2, 5, 4, 0, 1, 8, 6, 9, 0, 6, 5, 4,\n",
            "        3, 3, 3, 7, 6, 9, 7, 2, 7, 0, 8, 5, 7, 6, 9, 7, 2, 7, 3, 3, 6, 1, 5, 3,\n",
            "        8, 9, 8, 6])\n",
            "tensor([8, 7, 5, 0, 2, 3, 4, 5, 2, 0, 2, 5, 5, 5, 7, 9, 6, 1, 7, 0, 6, 1, 6, 0,\n",
            "        1, 4, 6, 9, 2, 9, 3, 8, 9, 0, 3, 6, 9, 0, 3, 2, 7, 0, 9, 2, 1, 2, 0, 6,\n",
            "        1, 0, 8, 9, 0, 5, 7, 2, 8, 4, 4, 4, 6, 4, 0, 1, 5, 3, 1, 8, 1, 9, 4, 8,\n",
            "        9, 6, 8, 0, 6, 1, 2, 2, 5, 1, 8, 0, 8, 8, 1, 8, 2, 7, 6, 9, 8, 3, 2, 1,\n",
            "        8, 4, 8, 3])\n",
            "tensor([7, 6, 1, 6, 0, 9, 1, 1, 1, 6, 9, 3, 1, 5, 3, 0, 6, 3, 9, 3, 8, 1, 6, 4,\n",
            "        0, 7, 6, 1, 7, 4, 5, 9, 8, 7, 7, 0, 2, 9, 9, 2, 9, 1, 4, 4, 3, 4, 7, 3,\n",
            "        5, 4, 5, 8, 2, 4, 5, 1, 0, 0, 3, 6, 1, 3, 2, 0, 4, 6, 7, 4, 3, 9, 5, 7,\n",
            "        6, 0, 5, 7, 0, 6, 5, 6, 6, 7, 6, 8, 0, 9, 1, 5, 1, 5, 2, 0, 0, 1, 6, 3,\n",
            "        9, 6, 0, 0])\n",
            "tensor([1, 9, 4, 3, 2, 7, 4, 2, 7, 7, 4, 2, 4, 7, 2, 7, 3, 7, 6, 9, 7, 7, 9, 8,\n",
            "        5, 3, 9, 7, 0, 6, 5, 0, 6, 4, 9, 4, 2, 7, 1, 5, 9, 4, 7, 1, 5, 4, 5, 7,\n",
            "        2, 3, 2, 3, 9, 4, 4, 7, 5, 2, 4, 0, 8, 8, 8, 6, 5, 8, 7, 7, 4, 3, 2, 2,\n",
            "        2, 9, 3, 2, 9, 8, 0, 0, 8, 3, 4, 8, 8, 1, 3, 3, 0, 4, 9, 2, 0, 3, 1, 8,\n",
            "        1, 0, 2, 5])\n",
            "tensor([9, 8, 0, 5, 6, 2, 6, 1, 6, 7, 4, 9, 0, 8, 1, 8, 8, 5, 7, 7, 3, 2, 7, 5,\n",
            "        6, 9, 2, 3, 1, 2, 7, 3, 2, 4, 0, 0, 3, 0, 5, 1, 0, 0, 1, 6, 7, 4, 3, 4,\n",
            "        9, 4, 4, 8, 8, 9, 2, 9, 9, 6, 7, 3, 3, 9, 6, 5, 6, 7, 5, 5, 6, 3, 8, 8,\n",
            "        1, 8, 9, 6, 8, 7, 7, 7, 7, 8, 3, 5, 8, 0, 8, 0, 4, 9, 7, 6, 8, 9, 7, 8,\n",
            "        1, 7, 5, 4])\n",
            "tensor([8, 0, 4, 9, 8, 3, 2, 7, 9, 7, 4, 3, 2, 0, 9, 3, 8, 8, 4, 8, 9, 3, 5, 8,\n",
            "        1, 8, 8, 3, 3, 8, 7, 6, 3, 1, 2, 7, 0, 7, 7, 0, 4, 6, 2, 7, 8, 7, 7, 9,\n",
            "        0, 0, 3, 2, 9, 1, 3, 6, 5, 0, 5, 5, 9, 8, 5, 2, 4, 4, 0, 7, 4, 5, 9, 1,\n",
            "        0, 7, 1, 2, 3, 5, 8, 5, 4, 2, 9, 2, 6, 6, 1, 9, 0, 7, 0, 4, 7, 1, 0, 8,\n",
            "        8, 0, 4, 8])\n",
            "tensor([6, 7, 8, 4, 7, 9, 5, 7, 4, 4, 0, 4, 4, 0, 5, 2, 6, 7, 0, 3, 4, 9, 1, 4,\n",
            "        4, 3, 4, 0, 7, 9, 3, 7, 7, 0, 1, 5, 7, 9, 4, 5, 1, 5, 9, 2, 6, 0, 9, 8,\n",
            "        4, 0, 3, 6, 3, 0, 8, 9, 5, 5, 9, 6, 1, 4, 1, 5, 8, 3, 3, 7, 7, 0, 8, 1,\n",
            "        3, 2, 7, 4, 3, 5, 2, 6, 8, 1, 1, 2, 5, 0, 5, 1, 3, 6, 8, 1, 7, 7, 8, 9,\n",
            "        2, 9, 6, 4])\n",
            "tensor([1, 2, 8, 6, 2, 1, 9, 6, 1, 8, 2, 4, 8, 0, 7, 6, 0, 6, 7, 7, 8, 4, 4, 9,\n",
            "        1, 0, 9, 1, 8, 2, 5, 2, 5, 9, 2, 6, 1, 5, 1, 8, 0, 0, 7, 5, 4, 7, 0, 3,\n",
            "        1, 2, 0, 7, 0, 0, 7, 1, 3, 1, 2, 5, 7, 0, 4, 1, 8, 5, 0, 2, 2, 8, 4, 0,\n",
            "        2, 4, 7, 9, 0, 6, 9, 5, 0, 8, 1, 6, 5, 1, 4, 2, 5, 0, 7, 5, 2, 7, 8, 4,\n",
            "        0, 3, 5, 3])\n",
            "tensor([2, 3, 2, 6, 2, 6, 0, 9, 2, 9, 6, 9, 8, 1, 9, 3, 6, 2, 6, 4, 6, 5, 0, 8,\n",
            "        5, 4, 9, 4, 8, 2, 9, 6, 0, 6, 1, 1, 2, 3, 2, 1, 0, 2, 6, 7, 8, 1, 7, 3,\n",
            "        9, 2, 6, 8, 2, 7, 0, 0, 9, 5, 6, 7, 6, 6, 9, 8, 0, 5, 3, 1, 8, 3, 6, 1,\n",
            "        0, 2, 1, 8, 4, 8, 0, 6, 7, 0, 1, 0, 5, 4, 1, 0, 8, 3, 0, 9, 6, 3, 9, 4,\n",
            "        7, 2, 8, 4])\n",
            "tensor([9, 2, 8, 1, 2, 5, 7, 1, 9, 6, 4, 6, 2, 2, 3, 0, 0, 7, 2, 5, 7, 7, 9, 0,\n",
            "        5, 0, 2, 7, 0, 4, 0, 3, 5, 2, 9, 7, 4, 5, 4, 8, 0, 9, 5, 3, 2, 5, 0, 1,\n",
            "        3, 1, 7, 7, 1, 4, 6, 9, 1, 7, 1, 2, 9, 3, 0, 3, 4, 8, 2, 3, 1, 0, 9, 6,\n",
            "        9, 1, 9, 2, 8, 1, 7, 4, 2, 0, 8, 7, 9, 2, 8, 8, 6, 4, 7, 2, 2, 0, 7, 5,\n",
            "        7, 5, 8, 5])\n",
            "tensor([4, 6, 9, 9, 8, 0, 1, 4, 3, 5, 6, 4, 9, 8, 1, 3, 1, 4, 2, 7, 6, 6, 2, 6,\n",
            "        5, 6, 9, 4, 2, 5, 8, 1, 7, 0, 9, 4, 3, 0, 5, 9, 0, 8, 1, 4, 6, 8, 4, 8,\n",
            "        7, 2, 8, 0, 3, 8, 4, 3, 5, 3, 5, 2, 7, 9, 8, 2, 6, 3, 0, 4, 2, 0, 4, 9,\n",
            "        5, 9, 6, 3, 4, 6, 1, 6, 4, 0, 4, 4, 6, 2, 1, 4, 0, 1, 7, 7, 8, 2, 6, 3,\n",
            "        7, 8, 5, 6])\n",
            "tensor([2, 3, 4, 0, 2, 2, 0, 0, 7, 7, 8, 7, 5, 7, 2, 6, 0, 8, 2, 9, 8, 3, 8, 1,\n",
            "        6, 7, 9, 9, 0, 9, 5, 1, 6, 4, 3, 0, 2, 3, 3, 8, 9, 2, 9, 9, 4, 6, 5, 6,\n",
            "        6, 1, 7, 7, 5, 5, 9, 1, 3, 3, 0, 2, 4, 5, 3, 6, 7, 4, 1, 7, 7, 0, 6, 6,\n",
            "        6, 8, 2, 8, 8, 3, 3, 1, 2, 2, 5, 1, 1, 2, 5, 0, 5, 8, 5, 6, 5, 6, 0, 5,\n",
            "        9, 6, 1, 1])\n",
            "tensor([8, 5, 9, 2, 9, 1, 7, 6, 3, 8, 8, 3, 8, 1, 5, 0, 0, 5, 3, 5, 6, 3, 1, 0,\n",
            "        7, 9, 9, 1, 4, 3, 0, 4, 5, 3, 9, 0, 1, 0, 8, 1, 4, 4, 7, 4, 1, 5, 2, 4,\n",
            "        3, 4, 8, 0, 4, 6, 0, 2, 7, 8, 7, 5, 2, 9, 7, 7, 3, 4, 9, 7, 4, 0, 7, 6,\n",
            "        0, 4, 8, 3, 2, 8, 9, 4, 6, 0, 2, 9, 6, 7, 5, 8, 6, 3, 3, 0, 9, 1, 3, 1,\n",
            "        9, 2, 7, 1])\n",
            "tensor([6, 3, 9, 9, 2, 5, 0, 9, 7, 1, 0, 6, 0, 4, 8, 8, 0, 6, 8, 4, 3, 0, 1, 1,\n",
            "        8, 9, 3, 7, 0, 0, 9, 9, 3, 9, 7, 6, 3, 1, 5, 2, 7, 3, 2, 5, 9, 6, 2, 8,\n",
            "        5, 5, 6, 7, 5, 5, 1, 2, 9, 6, 9, 9, 5, 0, 9, 5, 7, 3, 9, 2, 6, 2, 4, 6,\n",
            "        2, 9, 1, 4, 9, 5, 3, 6, 5, 0, 3, 3, 5, 6, 7, 6, 2, 1, 5, 1, 0, 6, 0, 6,\n",
            "        6, 3, 4, 6])\n",
            "tensor([8, 9, 0, 8, 0, 4, 2, 8, 7, 1, 6, 4, 3, 3, 5, 9, 9, 0, 0, 7, 2, 4, 2, 3,\n",
            "        5, 1, 0, 3, 0, 0, 2, 9, 4, 9, 0, 6, 1, 0, 3, 9, 9, 4, 9, 5, 4, 1, 0, 0,\n",
            "        6, 0, 5, 9, 2, 5, 5, 1, 2, 2, 2, 9, 6, 0, 3, 8, 5, 1, 1, 3, 7, 4, 7, 0,\n",
            "        7, 3, 6, 4, 8, 1, 3, 8, 7, 5, 2, 5, 3, 1, 0, 6, 7, 8, 5, 1, 6, 9, 3, 2,\n",
            "        2, 8, 9, 9])\n",
            "tensor([3, 1, 1, 4, 0, 8, 2, 2, 3, 2, 7, 3, 4, 0, 9, 5, 7, 3, 1, 6, 8, 0, 8, 7,\n",
            "        3, 8, 6, 5, 4, 5, 5, 7, 9, 3, 3, 1, 5, 6, 3, 2, 3, 7, 0, 0, 8, 5, 5, 6,\n",
            "        4, 5, 9, 2, 0, 7, 3, 6, 7, 7, 2, 3, 3, 6, 4, 8, 3, 8, 3, 9, 2, 6, 6, 1,\n",
            "        5, 1, 5, 6, 0, 8, 7, 1, 8, 4, 8, 1, 4, 5, 2, 6, 9, 6, 6, 2, 2, 3, 5, 8,\n",
            "        3, 8, 9, 1])\n",
            "tensor([5, 9, 8, 7, 0, 6, 5, 9, 4, 7, 4, 1, 7, 4, 9, 3, 1, 2, 7, 8, 0, 6, 9, 5,\n",
            "        0, 3, 4, 6, 8, 7, 3, 3, 1, 3, 6, 3, 1, 7, 4, 6, 5, 9, 6, 5, 3, 2, 9, 6,\n",
            "        4, 4, 8, 8, 6, 7, 7, 4, 7, 1, 8, 4, 6, 8, 4, 0, 0, 2, 3, 5, 6, 2, 1, 9,\n",
            "        5, 0, 5, 4, 4, 8, 0, 7, 7, 3, 2, 6, 9, 5, 1, 9, 2, 2, 2, 0, 6, 2, 8, 1,\n",
            "        0, 5, 6, 7])\n",
            "tensor([1, 2, 6, 1, 3, 0, 1, 7, 7, 5, 1, 5, 6, 6, 2, 2, 3, 5, 8, 9, 4, 6, 7, 1,\n",
            "        0, 6, 4, 0, 0, 4, 2, 9, 8, 2, 8, 0, 3, 1, 3, 4, 8, 2, 8, 4, 8, 3, 0, 8,\n",
            "        8, 1, 2, 8, 7, 9, 2, 2, 7, 7, 6, 6, 2, 7, 4, 4, 8, 6, 4, 2, 4, 9, 4, 2,\n",
            "        6, 5, 1, 9, 7, 3, 8, 9, 8, 4, 6, 8, 0, 0, 5, 0, 4, 3, 9, 1, 9, 9, 7, 3,\n",
            "        6, 3, 4, 5])\n",
            "tensor([2, 7, 2, 5, 6, 5, 8, 1, 4, 2, 1, 6, 7, 5, 4, 0, 8, 7, 4, 4, 5, 6, 7, 3,\n",
            "        3, 6, 7, 2, 0, 5, 6, 3, 5, 8, 7, 5, 0, 4, 3, 8, 5, 3, 1, 6, 5, 4, 2, 5,\n",
            "        2, 3, 4, 8, 7, 8, 8, 5, 8, 7, 5, 7, 8, 0, 7, 1, 9, 6, 0, 9, 8, 2, 9, 6,\n",
            "        7, 2, 4, 3, 9, 2, 6, 2, 1, 5, 3, 1, 0, 8, 5, 0, 3, 2, 9, 2, 2, 2, 2, 0,\n",
            "        6, 6, 4, 2])\n",
            "tensor([6, 0, 3, 3, 8, 5, 9, 2, 6, 9, 6, 3, 0, 2, 2, 6, 8, 9, 5, 1, 8, 2, 2, 4,\n",
            "        5, 4, 7, 9, 7, 1, 4, 6, 3, 7, 8, 4, 8, 3, 3, 7, 2, 7, 4, 4, 7, 6, 2, 5,\n",
            "        4, 9, 1, 8, 9, 7, 6, 2, 5, 4, 5, 0, 6, 4, 1, 7, 4, 1, 4, 1, 8, 3, 0, 1,\n",
            "        2, 9, 1, 1, 6, 3, 1, 8, 6, 5, 5, 1, 2, 1, 0, 9, 2, 9, 7, 7, 1, 5, 3, 9,\n",
            "        2, 6, 3, 0])\n",
            "tensor([1, 6, 6, 7, 0, 7, 3, 4, 2, 5, 4, 7, 7, 0, 0, 3, 8, 6, 1, 8, 0, 5, 4, 2,\n",
            "        9, 5, 9, 9, 3, 2, 7, 2, 5, 5, 9, 1, 0, 5, 0, 1, 2, 8, 8, 4, 0, 9, 9, 8,\n",
            "        4, 4, 9, 8, 3, 0, 7, 4, 2, 0, 7, 6, 3, 2, 1, 4, 7, 3, 1, 7, 8, 1, 5, 9,\n",
            "        7, 9, 4, 7, 0, 8, 7, 0, 3, 9, 8, 8, 3, 2, 2, 7, 6, 7, 1, 6, 1, 8, 5, 6,\n",
            "        9, 9, 3, 7])\n",
            "tensor([5, 0, 7, 2, 7, 1, 0, 6, 8, 4, 8, 5, 4, 6, 8, 5, 0, 7, 7, 3, 0, 8, 9, 3,\n",
            "        8, 2, 7, 3, 5, 9, 4, 2, 6, 8, 6, 0, 5, 3, 6, 7, 9, 5, 7, 7, 7, 1, 8, 4,\n",
            "        2, 8, 3, 7, 3, 5, 5, 0, 7, 0, 0, 1, 3, 8, 2, 6, 0, 3, 0, 5, 1, 4, 6, 5,\n",
            "        8, 6, 5, 1, 8, 2, 3, 0, 1, 9, 9, 3, 5, 5, 7, 6, 7, 6, 1, 7, 1, 9, 6, 0,\n",
            "        1, 8, 6, 9])\n",
            "tensor([1, 0, 2, 7, 9, 9, 6, 0, 3, 2, 5, 1, 6, 3, 2, 7, 9, 2, 1, 1, 1, 5, 7, 9,\n",
            "        2, 6, 4, 6, 4, 6, 6, 1, 8, 8, 7, 7, 3, 1, 0, 0, 1, 1, 7, 0, 8, 2, 0, 6,\n",
            "        2, 5, 5, 9, 6, 5, 6, 7, 3, 5, 9, 1, 1, 8, 4, 7, 1, 4, 9, 0, 7, 8, 1, 7,\n",
            "        9, 0, 4, 3, 0, 8, 9, 9, 5, 1, 4, 9, 7, 1, 9, 8, 5, 8, 1, 8, 1, 4, 3, 8,\n",
            "        3, 4, 5, 2])\n",
            "tensor([7, 1, 3, 6, 0, 9, 4, 3, 5, 5, 5, 4, 6, 6, 9, 6, 3, 1, 2, 8, 5, 3, 9, 6,\n",
            "        1, 6, 3, 4, 2, 8, 0, 7, 8, 1, 1, 5, 6, 2, 6, 8, 0, 3, 1, 2, 9, 3, 9, 1,\n",
            "        1, 4, 9, 0, 7, 4, 1, 1, 0, 9, 5, 9, 3, 7, 3, 0, 9, 9, 7, 3, 6, 4, 2, 6,\n",
            "        8, 8, 9, 9, 3, 0, 1, 5, 3, 4, 4, 0, 0, 9, 6, 1, 5, 2, 5, 1, 8, 5, 7, 0,\n",
            "        7, 0, 7, 8])\n",
            "tensor([4, 8, 1, 9, 3, 3, 0, 0, 1, 2, 7, 9, 0, 3, 1, 5, 6, 2, 6, 3, 0, 1, 6, 3,\n",
            "        6, 4, 1, 9, 8, 5, 1, 9, 1, 1, 6, 8, 0, 9, 8, 8, 6, 4, 5, 4, 4, 7, 7, 2,\n",
            "        9, 6, 0, 5, 7, 8, 4, 3, 6, 8, 7, 0, 5, 5, 0, 3, 6, 1, 4, 8, 8, 5, 6, 2,\n",
            "        7, 0, 8, 8, 2, 0, 2, 6, 1, 1, 6, 1, 7, 0, 6, 3, 9, 1, 1, 0, 3, 5, 7, 4,\n",
            "        3, 0, 7, 7])\n",
            "tensor([1, 6, 0, 6, 3, 9, 0, 0, 9, 2, 4, 4, 8, 4, 9, 4, 8, 5, 7, 5, 9, 5, 7, 8,\n",
            "        3, 4, 5, 4, 6, 1, 6, 2, 4, 2, 4, 2, 7, 0, 7, 4, 5, 5, 8, 8, 6, 4, 6, 0,\n",
            "        2, 3, 9, 7, 1, 3, 3, 0, 2, 6, 7, 3, 8, 5, 9, 0, 2, 5, 6, 7, 8, 0, 6, 0,\n",
            "        8, 5, 0, 3, 5, 5, 2, 2, 8, 5, 2, 1, 5, 6, 2, 4, 9, 3, 0, 6, 3, 4, 4, 8,\n",
            "        6, 2, 0, 4])\n",
            "tensor([9, 3, 3, 2, 4, 9, 8, 8, 7, 1, 2, 2, 3, 8, 7, 4, 9, 8, 4, 0, 5, 7, 7, 8,\n",
            "        0, 1, 5, 9, 1, 6, 1, 6, 0, 8, 5, 1, 6, 4, 8, 2, 6, 8, 9, 3, 5, 4, 6, 3,\n",
            "        7, 0, 7, 8, 5, 1, 3, 0, 6, 9, 5, 1, 0, 5, 3, 5, 1, 8, 1, 7, 1, 2, 1, 4,\n",
            "        9, 1, 5, 7, 1, 6, 4, 2, 1, 1, 3, 2, 4, 8, 8, 4, 0, 4, 6, 1, 7, 2, 8, 2,\n",
            "        5, 1, 3, 2])\n",
            "tensor([4, 9, 0, 8, 3, 3, 6, 6, 8, 8, 7, 9, 2, 0, 5, 9, 8, 9, 8, 4, 4, 7, 6, 5,\n",
            "        2, 3, 9, 0, 5, 9, 0, 5, 2, 3, 0, 9, 5, 6, 2, 6, 5, 7, 6, 3, 3, 6, 9, 8,\n",
            "        8, 5, 3, 3, 2, 8, 7, 7, 1, 0, 0, 9, 3, 6, 3, 1, 5, 1, 9, 2, 6, 2, 2, 0,\n",
            "        9, 3, 0, 5, 8, 5, 2, 8, 9, 6, 7, 5, 6, 2, 5, 7, 2, 7, 7, 1, 0, 2, 3, 8,\n",
            "        9, 7, 1, 2])\n",
            "tensor([1, 1, 8, 4, 1, 8, 4, 8, 2, 6, 8, 7, 6, 8, 9, 8, 5, 2, 9, 8, 5, 1, 9, 7,\n",
            "        5, 6, 2, 1, 2, 6, 9, 9, 1, 2, 3, 9, 4, 6, 4, 7, 2, 4, 0, 7, 9, 7, 1, 7,\n",
            "        5, 3, 5, 9, 3, 0, 9, 4, 0, 8, 1, 2, 3, 6, 6, 3, 8, 4, 7, 4, 1, 5, 4, 0,\n",
            "        2, 7, 6, 1, 0, 8, 5, 1, 9, 0, 3, 9, 4, 9, 2, 6, 7, 3, 8, 3, 2, 3, 0, 3,\n",
            "        3, 5, 8, 9])\n",
            "tensor([7, 7, 7, 8, 1, 5, 8, 8, 4, 7, 3, 4, 4, 1, 4, 0, 2, 8, 9, 4, 6, 7, 1, 8,\n",
            "        2, 2, 4, 8, 2, 2, 5, 3, 3, 2, 9, 5, 1, 4, 9, 0, 0, 0, 3, 2, 5, 7, 1, 7,\n",
            "        8, 5, 1, 9, 9, 0, 4, 8, 2, 8, 8, 1, 4, 4, 5, 0, 3, 5, 6, 4, 0, 2, 0, 7,\n",
            "        5, 9, 9, 6, 2, 9, 9, 2, 3, 2, 1, 2, 5, 6, 8, 1, 1, 1, 5, 9, 0, 8, 8, 1,\n",
            "        7, 4, 3, 5])\n",
            "tensor([7, 1, 3, 2, 6, 9, 8, 3, 1, 4, 9, 1, 2, 6, 2, 0, 7, 9, 1, 0, 4, 3, 5, 1,\n",
            "        3, 7, 2, 6, 6, 1, 5, 6, 3, 3, 1, 8, 4, 8, 8, 6, 5, 3, 0, 6, 9, 2, 3, 6,\n",
            "        2, 8, 8, 8, 0, 5, 9, 0, 9, 4, 1, 3, 4, 6, 6, 4, 9, 7, 8, 1, 5, 3, 9, 4,\n",
            "        8, 4, 1, 0, 7, 2, 6, 1, 8, 3, 4, 7, 9, 8, 2, 3, 3, 8, 2, 5, 9, 5, 1, 9,\n",
            "        1, 8, 1, 3])\n",
            "tensor([5, 9, 3, 3, 5, 1, 5, 0, 1, 0, 7, 6, 4, 7, 0, 0, 4, 5, 2, 8, 0, 0, 3, 2,\n",
            "        1, 2, 5, 1, 6, 7, 8, 9, 8, 7, 6, 4, 8, 0, 0, 6, 6, 0, 6, 1, 4, 0, 6, 6,\n",
            "        1, 3, 3, 8, 1, 7, 6, 5, 4, 6, 3, 2, 5, 2, 1, 1, 8, 1, 6, 5, 0, 8, 7, 3,\n",
            "        5, 3, 8, 7, 6, 4, 5, 4, 0, 6, 3, 8, 0, 1, 7, 0, 7, 4, 3, 3, 8, 0, 5, 1,\n",
            "        4, 6, 9, 8])\n",
            "tensor([1, 4, 3, 7, 9, 0, 8, 7, 0, 2, 5, 5, 0, 9, 0, 5, 3, 5, 2, 4, 4, 4, 4, 7,\n",
            "        1, 6, 9, 3, 8, 5, 1, 0, 7, 9, 0, 9, 7, 8, 5, 6, 8, 1, 0, 5, 6, 3, 1, 3,\n",
            "        2, 8, 8, 1, 8, 1, 6, 6, 3, 9, 1, 2, 7, 5, 9, 6, 0, 9, 4, 7, 2, 4, 9, 7,\n",
            "        1, 5, 4, 7, 1, 5, 9, 3, 2, 8, 6, 4, 4, 7, 9, 2, 1, 7, 7, 0, 6, 1, 9, 0,\n",
            "        5, 2, 5, 8])\n",
            "tensor([4, 9, 1, 8, 2, 0, 4, 1, 6, 4, 6, 4, 5, 0, 9, 9, 1, 5, 9, 1, 0, 1, 4, 7,\n",
            "        2, 8, 7, 4, 8, 9, 6, 5, 4, 7, 9, 8, 4, 5, 5, 4, 4, 0, 6, 6, 0, 2, 1, 1,\n",
            "        7, 4, 5, 9, 5, 1, 1, 0, 2, 7, 5, 3, 2, 0, 6, 9, 0, 2, 1, 1, 5, 4, 2, 8,\n",
            "        3, 1, 3, 1, 9, 6, 4, 6, 3, 9, 3, 7, 5, 2, 3, 3, 9, 4, 3, 2, 1, 8, 8, 6,\n",
            "        3, 2, 7, 1])\n",
            "tensor([8, 3, 3, 6, 5, 1, 4, 6, 4, 8, 2, 1, 6, 1, 6, 4, 1, 3, 8, 6, 5, 7, 4, 8,\n",
            "        1, 9, 2, 2, 7, 2, 9, 2, 0, 4, 0, 9, 2, 3, 8, 4, 7, 6, 2, 5, 7, 2, 1, 5,\n",
            "        6, 1, 0, 6, 0, 8, 8, 2, 5, 0, 1, 0, 1, 5, 6, 2, 8, 9, 5, 7, 4, 0, 0, 1,\n",
            "        4, 4, 5, 0, 0, 3, 5, 5, 6, 8, 9, 8, 2, 7, 2, 1, 5, 6, 7, 7, 6, 7, 0, 4,\n",
            "        7, 5, 2, 7])\n",
            "tensor([2, 1, 8, 5, 1, 2, 5, 3, 1, 1, 4, 7, 2, 7, 7, 4, 7, 3, 1, 9, 7, 1, 0, 0,\n",
            "        5, 3, 6, 3, 5, 3, 9, 2, 5, 2, 3, 9, 8, 6, 8, 9, 0, 9, 5, 5, 6, 3, 5, 5,\n",
            "        0, 5, 7, 6, 6, 6, 4, 2, 4, 7, 2, 6, 1, 8, 1, 1, 1, 2, 0, 1, 2, 0, 8, 3,\n",
            "        5, 4, 4, 8, 6, 5, 3, 0, 1, 6, 1, 0, 5, 0, 1, 5, 0, 6, 9, 5, 8, 6, 8, 7,\n",
            "        2, 3, 7, 2])\n",
            "tensor([1, 3, 1, 8, 3, 4, 7, 1, 7, 8, 7, 9, 4, 6, 5, 8, 6, 4, 3, 4, 1, 7, 0, 6,\n",
            "        0, 2, 6, 6, 3, 5, 0, 3, 8, 2, 3, 8, 4, 6, 1, 1, 7, 8, 7, 5, 1, 9, 9, 1,\n",
            "        1, 6, 4, 9, 5, 7, 8, 0, 4, 5, 4, 0, 6, 7, 2, 6, 3, 4, 9, 3, 4, 6, 8, 8,\n",
            "        8, 3, 1, 5, 4, 6, 3, 1, 3, 7, 0, 5, 6, 6, 7, 6, 6, 8, 8, 4, 5, 2, 7, 0,\n",
            "        4, 7, 9, 0])\n",
            "tensor([6, 2, 9, 0, 6, 3, 6, 6, 4, 7, 2, 2, 7, 1, 0, 2, 0, 5, 8, 5, 7, 0, 9, 4,\n",
            "        8, 2, 9, 4, 9, 8, 0, 1, 4, 5, 5, 9, 0, 4, 4, 8, 0, 4, 2, 4, 7, 2, 8, 1,\n",
            "        7, 1, 7, 0, 0, 9, 1, 7, 0, 3, 8, 9, 4, 3, 6, 5, 8, 5, 6, 6, 7, 9, 9, 7,\n",
            "        8, 8, 3, 1, 4, 7, 3, 1, 0, 2, 8, 4, 9, 0, 4, 0, 3, 2, 7, 5, 7, 9, 8, 3,\n",
            "        0, 6, 2, 4])\n",
            "tensor([1, 2, 7, 6, 3, 1, 7, 9, 9, 7, 1, 5, 6, 2, 4, 0, 0, 0, 3, 8, 0, 8, 4, 2,\n",
            "        2, 2, 9, 8, 6, 7, 3, 9, 2, 1, 5, 5, 0, 3, 6, 2, 5, 9, 1, 2, 9, 6, 3, 7,\n",
            "        4, 7, 5, 7, 3, 2, 2, 8, 9, 0, 1, 5, 4, 2, 7, 8, 9, 3, 4, 6, 6, 2, 0, 2,\n",
            "        3, 6, 1, 6, 4, 7, 0, 6, 0, 1, 9, 8, 0, 4, 8, 0, 3, 1, 1, 2, 4, 4, 5, 3,\n",
            "        0, 2, 8, 2])\n",
            "tensor([8, 1, 9, 0, 8, 0, 9, 4, 6, 0, 1, 9, 1, 0, 3, 9, 4, 7, 9, 6, 3, 2, 1, 3,\n",
            "        2, 4, 7, 2, 4, 2, 7, 0, 7, 4, 0, 0, 2, 1, 4, 1, 3, 2, 0, 3, 2, 2, 1, 5,\n",
            "        7, 4, 6, 5, 9, 0, 5, 2, 2, 8, 1, 0, 6, 7, 3, 6, 0, 1, 0, 7, 6, 0, 7, 9,\n",
            "        8, 0, 1, 9, 9, 6, 7, 8, 4, 2, 0, 4, 7, 2, 9, 1, 8, 9, 5, 0, 1, 5, 6, 2,\n",
            "        9, 4, 4, 9])\n",
            "tensor([8, 8, 2, 7, 7, 6, 7, 8, 0, 6, 0, 5, 9, 9, 9, 5, 0, 9, 8, 5, 5, 8, 7, 4,\n",
            "        4, 3, 5, 4, 7, 1, 2, 6, 3, 3, 6, 5, 3, 4, 6, 4, 3, 6, 3, 4, 1, 4, 2, 0,\n",
            "        5, 1, 9, 1, 8, 5, 6, 3, 4, 6, 6, 2, 1, 9, 1, 2, 9, 3, 8, 6, 0, 3, 9, 2,\n",
            "        5, 7, 6, 1, 2, 3, 4, 6, 0, 8, 2, 5, 6, 0, 1, 5, 3, 2, 1, 7, 4, 9, 3, 4,\n",
            "        0, 4, 9, 9])\n",
            "tensor([5, 8, 3, 2, 0, 3, 4, 7, 4, 8, 2, 4, 3, 1, 5, 7, 7, 9, 5, 2, 6, 5, 4, 2,\n",
            "        5, 3, 4, 0, 3, 9, 8, 3, 2, 1, 2, 3, 9, 3, 1, 2, 5, 2, 1, 6, 3, 9, 3, 8,\n",
            "        4, 5, 5, 9, 9, 2, 2, 1, 9, 4, 0, 6, 7, 5, 9, 6, 2, 7, 0, 0, 3, 1, 2, 2,\n",
            "        2, 1, 8, 8, 5, 0, 8, 3, 6, 7, 2, 0, 5, 6, 7, 8, 2, 3, 8, 7, 6, 7, 8, 4,\n",
            "        8, 2, 9, 3])\n",
            "tensor([1, 8, 2, 3, 5, 8, 8, 7, 8, 3, 6, 1, 5, 6, 2, 8, 5, 9, 0, 3, 1, 4, 3, 5,\n",
            "        4, 2, 3, 1, 7, 4, 8, 2, 4, 5, 5, 3, 4, 3, 6, 5, 0, 5, 3, 0, 5, 0, 7, 0,\n",
            "        3, 9, 0, 4, 6, 1, 8, 9, 1, 3, 7, 5, 0, 6, 8, 5, 8, 6, 4, 5, 0, 5, 2, 0,\n",
            "        8, 6, 4, 3, 2, 7, 3, 5, 7, 7, 3, 4, 7, 9, 5, 6, 3, 9, 7, 2, 8, 6, 2, 2,\n",
            "        6, 6, 7, 7])\n",
            "tensor([7, 1, 0, 2, 5, 7, 5, 0, 6, 3, 0, 7, 2, 7, 3, 1, 5, 2, 4, 2, 5, 1, 0, 6,\n",
            "        1, 9, 8, 0, 3, 5, 8, 6, 3, 5, 3, 4, 2, 7, 1, 8, 3, 5, 2, 8, 0, 9, 8, 4,\n",
            "        5, 1, 6, 6, 0, 3, 6, 0, 0, 9, 9, 4, 5, 9, 2, 0, 1, 6, 7, 7, 1, 0, 5, 6,\n",
            "        9, 9, 5, 2, 0, 7, 2, 5, 8, 2, 4, 5, 7, 5, 6, 0, 8, 4, 8, 4, 2, 4, 9, 7,\n",
            "        8, 7, 5, 7])\n",
            "tensor([5, 9, 2, 8, 9, 5, 2, 1, 4, 3, 0, 7, 7, 8, 3, 5, 6, 6, 8, 4, 1, 0, 5, 3,\n",
            "        8, 0, 7, 2, 6, 3, 6, 7, 1, 8, 9, 4, 0, 9, 9, 5, 2, 9, 2, 2, 8, 8, 3, 1,\n",
            "        6, 0, 9, 7, 9, 0, 3, 1, 0, 4, 1, 3, 8, 6, 7, 4, 5, 3, 9, 6, 8, 1, 9, 2,\n",
            "        5, 7, 8, 4, 3, 2, 7, 4, 8, 5, 4, 8, 8, 1, 5, 6, 1, 5, 3, 9, 7, 4, 4, 7,\n",
            "        4, 8, 7, 0])\n",
            "tensor([5, 0, 2, 6, 8, 2, 6, 7, 3, 0, 7, 3, 7, 7, 3, 1, 1, 1, 6, 9, 7, 7, 5, 9,\n",
            "        8, 2, 2, 1, 8, 4, 9, 6, 0, 3, 0, 8, 2, 2, 1, 6, 6, 0, 4, 4, 3, 1, 0, 6,\n",
            "        5, 9, 0, 9, 7, 3, 4, 1, 2, 9, 3, 8, 6, 6, 6, 3, 1, 5, 0, 7, 9, 6, 8, 6,\n",
            "        7, 5, 9, 9, 3, 7, 0, 8, 0, 5, 7, 0, 2, 3, 5, 7, 5, 8, 2, 8, 9, 5, 0, 7,\n",
            "        5, 8, 9, 8])\n",
            "tensor([2, 4, 7, 9, 7, 8, 9, 3, 3, 3, 9, 8, 1, 1, 3, 6, 8, 0, 1, 3, 6, 7, 9, 2,\n",
            "        1, 3, 9, 5, 7, 3, 4, 1, 9, 6, 6, 2, 7, 0, 9, 0, 7, 5, 0, 3, 5, 0, 7, 8,\n",
            "        7, 4, 8, 9, 2, 3, 4, 3, 9, 4, 3, 3, 0, 4, 8, 1, 8, 9, 4, 9, 2, 3, 2, 7,\n",
            "        0, 6, 4, 6, 0, 9, 4, 3, 9, 8, 8, 6, 1, 7, 5, 5, 4, 1, 7, 3, 0, 0, 8, 7,\n",
            "        2, 3, 9, 8])\n",
            "tensor([6, 6, 8, 5, 4, 3, 7, 1, 0, 4, 2, 3, 8, 8, 3, 3, 1, 3, 2, 6, 0, 0, 1, 2,\n",
            "        2, 4, 6, 1, 1, 0, 3, 3, 9, 1, 1, 8, 1, 6, 2, 9, 8, 4, 9, 6, 8, 5, 7, 3,\n",
            "        5, 4, 6, 5, 9, 6, 7, 6, 5, 0, 8, 2, 7, 6, 2, 2, 2, 8, 4, 1, 8, 4, 1, 6,\n",
            "        6, 1, 6, 7, 5, 5, 8, 4, 7, 1, 7, 4, 4, 8, 2, 2, 9, 0, 3, 8, 4, 7, 0, 8,\n",
            "        2, 8, 0, 9])\n",
            "tensor([0, 7, 2, 0, 9, 0, 0, 7, 9, 3, 4, 4, 7, 5, 1, 1, 9, 6, 5, 8, 4, 6, 5, 2,\n",
            "        6, 2, 4, 5, 3, 2, 9, 8, 7, 6, 5, 6, 7, 9, 6, 1, 9, 1, 8, 3, 8, 0, 6, 3,\n",
            "        0, 7, 8, 3, 9, 2, 7, 6, 5, 4, 3, 2, 8, 4, 0, 6, 8, 8, 6, 0, 7, 1, 4, 1,\n",
            "        7, 6, 2, 6, 1, 1, 6, 2, 1, 3, 3, 8, 8, 4, 4, 3, 3, 2, 7, 7, 3, 7, 2, 3,\n",
            "        3, 3, 0, 0])\n",
            "tensor([3, 6, 6, 5, 3, 0, 4, 6, 9, 0, 8, 7, 1, 2, 9, 4, 3, 4, 9, 6, 3, 0, 5, 8,\n",
            "        6, 2, 5, 3, 5, 7, 6, 3, 1, 8, 7, 7, 3, 2, 7, 6, 1, 2, 5, 7, 5, 8, 4, 9,\n",
            "        6, 1, 8, 1, 9, 1, 6, 2, 8, 7, 0, 7, 2, 8, 8, 3, 3, 8, 9, 6, 3, 3, 9, 7,\n",
            "        2, 6, 8, 9, 2, 4, 9, 6, 7, 9, 3, 8, 6, 9, 1, 1, 3, 2, 9, 9, 6, 0, 1, 6,\n",
            "        9, 4, 9, 1])\n",
            "tensor([8, 4, 8, 5, 9, 6, 9, 1, 5, 6, 6, 0, 5, 6, 0, 8, 2, 9, 2, 8, 1, 7, 3, 0,\n",
            "        0, 9, 8, 5, 3, 1, 4, 3, 4, 3, 7, 2, 0, 0, 7, 7, 3, 5, 7, 3, 5, 9, 5, 0,\n",
            "        1, 6, 6, 4, 1, 7, 2, 3, 3, 9, 1, 8, 6, 8, 0, 1, 5, 0, 9, 3, 3, 4, 8, 1,\n",
            "        1, 9, 6, 7, 5, 7, 4, 9, 6, 9, 0, 5, 4, 5, 6, 4, 9, 9, 9, 0, 7, 6, 5, 0,\n",
            "        0, 4, 3, 1])\n",
            "tensor([6, 8, 1, 1, 1, 5, 9, 9, 9, 7, 8, 8, 4, 3, 0, 3, 8, 7, 2, 5, 6, 9, 5, 2,\n",
            "        8, 7, 1, 8, 0, 0, 3, 4, 3, 8, 3, 3, 9, 7, 9, 5, 8, 0, 3, 0, 0, 8, 0, 4,\n",
            "        2, 9, 7, 5, 0, 6, 7, 0, 1, 3, 9, 6, 3, 2, 9, 3, 2, 8, 3, 6, 3, 8, 7, 9,\n",
            "        8, 8, 2, 6, 5, 3, 0, 8, 2, 7, 9, 9, 2, 2, 4, 9, 1, 9, 5, 5, 8, 0, 2, 5,\n",
            "        1, 5, 9, 7])\n",
            "tensor([2, 3, 8, 1, 2, 4, 2, 0, 0, 8, 3, 2, 0, 1, 4, 2, 7, 3, 2, 4, 4, 9, 1, 6,\n",
            "        0, 5, 4, 2, 7, 4, 4, 3, 9, 2, 8, 8, 5, 0, 6, 2, 0, 3, 6, 6, 5, 0, 6, 6,\n",
            "        5, 6, 1, 4, 6, 6, 2, 4, 0, 9, 8, 0, 6, 5, 2, 6, 2, 2, 4, 0, 3, 2, 0, 6,\n",
            "        1, 1, 4, 1, 3, 3, 7, 0, 1, 1, 9, 5, 1, 6, 6, 6, 2, 4, 4, 2, 6, 7, 6, 6,\n",
            "        8, 8, 7, 4])\n",
            "tensor([2, 8, 4, 1, 0, 1, 8, 6, 2, 9, 5, 3, 8, 2, 7, 3, 8, 5, 6, 9, 0, 0, 4, 0,\n",
            "        0, 4, 3, 9, 6, 8, 1, 0, 3, 3, 3, 3, 1, 9, 8, 6, 9, 3, 2, 5, 7, 7, 6, 7,\n",
            "        6, 3, 7, 2, 4, 4, 0, 4, 2, 9, 0, 2, 5, 1, 7, 4, 5, 5, 2, 3, 2, 3, 4, 2,\n",
            "        7, 5, 3, 6, 0, 9, 9, 2, 6, 0, 3, 0, 1, 3, 5, 6, 7, 2, 6, 3, 0, 6, 0, 4,\n",
            "        8, 1, 1, 6])\n",
            "tensor([3, 8, 2, 3, 8, 2, 6, 7, 0, 0, 9, 4, 5, 3, 5, 9, 9, 7, 1, 9, 0, 5, 8, 6,\n",
            "        6, 2, 8, 3, 4, 1, 7, 4, 9, 5, 6, 8, 5, 5, 5, 0, 2, 1, 9, 4, 4, 7, 2, 8,\n",
            "        7, 5, 6, 7, 4, 3, 2, 7, 3, 7, 6, 8, 6, 2, 3, 6, 3, 1, 9, 7, 0, 9, 2, 0,\n",
            "        1, 9, 0, 4, 4, 3, 2, 3, 2, 0, 8, 1, 5, 2, 3, 7, 3, 6, 6, 4, 0, 1, 7, 0,\n",
            "        9, 7, 3, 5])\n",
            "tensor([3, 9, 1, 4, 4, 6, 2, 2, 3, 5, 2, 3, 4, 3, 3, 7, 6, 3, 1, 6, 5, 3, 7, 3,\n",
            "        4, 6, 0, 3, 3, 2, 9, 9, 8, 5, 4, 3, 1, 7, 3, 8, 8, 8, 5, 0, 8, 5, 5, 7,\n",
            "        2, 1, 5, 4, 6, 5, 6, 8, 8, 5, 1, 8, 3, 7, 2, 4, 7, 0, 7, 6, 9, 3, 6, 5,\n",
            "        9, 1, 4, 8, 2, 1, 6, 8, 8, 2, 9, 0, 6, 9, 3, 4, 6, 5, 2, 2, 9, 9, 3, 0,\n",
            "        8, 7, 9, 5])\n",
            "tensor([6, 5, 2, 3, 0, 2, 7, 7, 9, 8, 1, 3, 4, 8, 1, 8, 0, 2, 3, 0, 1, 8, 6, 0,\n",
            "        5, 9, 0, 0, 9, 1, 0, 7, 6, 9, 1, 6, 9, 0, 3, 3, 2, 0, 9, 2, 8, 4, 3, 3,\n",
            "        2, 2, 2, 7, 5, 4, 6, 6, 1, 5, 5, 4, 1, 2, 4, 7, 8, 2, 4, 9, 8, 7, 3, 4,\n",
            "        0, 5, 9, 9, 2, 6, 5, 5, 7, 9, 2, 9, 0, 7, 8, 4, 0, 8, 4, 7, 2, 3, 7, 6,\n",
            "        5, 3, 4, 9])\n",
            "tensor([1, 4, 4, 7, 3, 7, 9, 7, 4, 1, 8, 3, 7, 7, 2, 4, 0, 5, 3, 7, 7, 1, 9, 9,\n",
            "        6, 0, 2, 3, 9, 4, 9, 4, 5, 1, 9, 8, 5, 0, 1, 8, 8, 2, 4, 4, 0, 6, 6, 7,\n",
            "        1, 4, 3, 5, 2, 7, 2, 9, 1, 6, 4, 8, 9, 0, 2, 3, 0, 8, 5, 9, 2, 7, 2, 4,\n",
            "        6, 7, 3, 0, 7, 0, 8, 8, 0, 7, 0, 5, 8, 7, 5, 0, 4, 1, 2, 4, 1, 0, 0, 7,\n",
            "        1, 5, 7, 6])\n",
            "tensor([9, 1, 8, 5, 4, 2, 7, 6, 9, 2, 5, 8, 8, 0, 9, 5, 6, 2, 9, 3, 1, 9, 1, 6,\n",
            "        6, 2, 8, 6, 3, 4, 8, 7, 0, 2, 7, 0, 4, 4, 9, 3, 9, 8, 1, 7, 6, 8, 2, 7,\n",
            "        2, 6, 1, 6, 0, 4, 7, 1, 4, 7, 8, 8, 3, 7, 6, 4, 1, 7, 6, 6, 6, 3, 4, 9,\n",
            "        4, 6, 0, 2, 8, 2, 6, 5, 0, 7, 7, 8, 9, 1, 6, 2, 9, 9, 5, 3, 5, 8, 1, 1,\n",
            "        3, 7, 0, 1])\n",
            "tensor([5, 5, 0, 4, 0, 3, 9, 6, 5, 0, 8, 1, 1, 4, 5, 3, 5, 7, 6, 4, 6, 1, 7, 9,\n",
            "        1, 6, 1, 7, 0, 5, 6, 7, 4, 8, 1, 2, 8, 2, 9, 5, 2, 1, 0, 6, 5, 3, 0, 7,\n",
            "        5, 9, 4, 6, 0, 5, 4, 3, 3, 6, 3, 5, 5, 7, 5, 8, 6, 9, 0, 3, 2, 8, 2, 0,\n",
            "        1, 3, 1, 3, 2, 0, 4, 6, 7, 4, 4, 6, 2, 9, 7, 6, 7, 9, 4, 9, 9, 2, 0, 7,\n",
            "        5, 9, 4, 2])\n"
          ],
          "name": "stdout"
        }
      ]
    },
    {
      "cell_type": "code",
      "metadata": {
        "colab": {
          "base_uri": "https://localhost:8080/"
        },
        "id": "pB0gdVWm4mXL",
        "outputId": "00b5bdfd-52b6-4e49-a012-722a178cc487"
      },
      "source": [
        "class CIFAR10(nn.Module):\n",
        "    def __init__(self):\n",
        "        super().__init__()\n",
        "        self.linear = nn.Linear(inputSize, numClasses)\n",
        "        \n",
        "    def forward(self, xb):\n",
        "        xb = xb.reshape(-1, 3072)\n",
        "        out = self.linear(xb)\n",
        "        return out\n",
        "    \n",
        "model = CIFAR10()\n",
        "\n",
        "print(model.linear.weight.shape)\n",
        "print(model.linear.bias.shape)"
      ],
      "execution_count": 55,
      "outputs": [
        {
          "output_type": "stream",
          "text": [
            "torch.Size([10, 3072])\n",
            "torch.Size([10])\n"
          ],
          "name": "stdout"
        }
      ]
    },
    {
      "cell_type": "code",
      "metadata": {
        "colab": {
          "base_uri": "https://localhost:8080/"
        },
        "id": "CvNYmoOd4mcT",
        "outputId": "60d20e70-2d9d-4953-bc21-ca4f2999bf4e"
      },
      "source": [
        "for images, labels in trainLoader:\n",
        "    outputs = model(images)\n",
        "    break\n",
        "\n",
        "print('outputs.shape :', outputs.shape)\n",
        "print('sample outputs :\\n', outputs[:2]) # print 2 out of the 100 rows of the total output vector"
      ],
      "execution_count": 56,
      "outputs": [
        {
          "output_type": "stream",
          "text": [
            "outputs.shape : torch.Size([100, 10])\n",
            "sample outputs :\n",
            " tensor([[ 0.1293,  0.0612, -0.4267,  0.3033, -0.3180, -0.1179,  0.4581, -0.1057,\n",
            "         -0.1962,  0.1594],\n",
            "        [-0.2093, -0.1764, -0.8409,  0.3803, -0.3024,  0.0015,  0.4275, -0.3272,\n",
            "         -0.4700,  0.5201]], grad_fn=<SliceBackward>)\n"
          ],
          "name": "stdout"
        }
      ]
    },
    {
      "cell_type": "code",
      "metadata": {
        "id": "VGGq2l274mgv"
      },
      "source": [
        "import torch.nn.functional as F"
      ],
      "execution_count": 57,
      "outputs": []
    },
    {
      "cell_type": "code",
      "metadata": {
        "colab": {
          "base_uri": "https://localhost:8080/"
        },
        "id": "zrWZDUVu4mkf",
        "outputId": "47f19eab-2067-4c1c-c458-a68b97291c61"
      },
      "source": [
        "# CONVERT ABOVE OUTPUT INTO PROBABILITIES\n",
        "# apply the softmax for each output row in our 100 x 10 output (with batch size 100)\n",
        "probs = F.softmax(outputs, dim=1)\n",
        "\n",
        "# look at some sample probabilities\n",
        "print(\"sample probabilities:\\n\", probs[:2].data)\n",
        "# add up the probabilities of each row for a sanity check that they equal 1 now\n",
        "print(sum(list(probs[0])))"
      ],
      "execution_count": 58,
      "outputs": [
        {
          "output_type": "stream",
          "text": [
            "sample probabilities:\n",
            " tensor([[0.1105, 0.1032, 0.0634, 0.1315, 0.0706, 0.0863, 0.1535, 0.0874, 0.0798,\n",
            "         0.1139],\n",
            "        [0.0824, 0.0851, 0.0438, 0.1486, 0.0751, 0.1017, 0.1557, 0.0732, 0.0635,\n",
            "         0.1709]])\n",
            "tensor(1., grad_fn=<AddBackward0>)\n"
          ],
          "name": "stdout"
        }
      ]
    },
    {
      "cell_type": "code",
      "metadata": {
        "colab": {
          "base_uri": "https://localhost:8080/"
        },
        "id": "kvI5vF6K4mpN",
        "outputId": "2f1434c8-41a4-455d-f600-c7c999c85292"
      },
      "source": [
        "maxProbs, preds = torch.max(probs, dim=1) #torch.max returns the max value itself (maxProbs) as well as the index of the prediction (preds)\n",
        "print(preds)\n",
        "print(maxProbs)"
      ],
      "execution_count": 59,
      "outputs": [
        {
          "output_type": "stream",
          "text": [
            "tensor([6, 9, 6, 9, 3, 6, 9, 3, 3, 6, 6, 6, 6, 6, 6, 3, 6, 3, 6, 9, 3, 6, 6, 3,\n",
            "        6, 6, 6, 6, 3, 6, 9, 6, 3, 6, 6, 6, 6, 6, 6, 6, 6, 3, 6, 6, 6, 6, 6, 6,\n",
            "        3, 3, 6, 6, 9, 6, 3, 6, 6, 6, 3, 3, 6, 6, 6, 3, 3, 3, 6, 6, 3, 3, 3, 6,\n",
            "        6, 3, 6, 6, 3, 3, 6, 9, 9, 6, 3, 6, 6, 6, 6, 6, 6, 6, 6, 6, 3, 9, 3, 6,\n",
            "        9, 3, 6, 6])\n",
            "tensor([0.1535, 0.1709, 0.1274, 0.1544, 0.1380, 0.1521, 0.1452, 0.1433, 0.1719,\n",
            "        0.1325, 0.1712, 0.1531, 0.1582, 0.1356, 0.1426, 0.1380, 0.1535, 0.1585,\n",
            "        0.1348, 0.1324, 0.1506, 0.1296, 0.1230, 0.1571, 0.1413, 0.1236, 0.1380,\n",
            "        0.1209, 0.1454, 0.1498, 0.1413, 0.1524, 0.1687, 0.1466, 0.1893, 0.1359,\n",
            "        0.1519, 0.1888, 0.1973, 0.1229, 0.1601, 0.1478, 0.1306, 0.1362, 0.1517,\n",
            "        0.1445, 0.1503, 0.1772, 0.1364, 0.1462, 0.1416, 0.1482, 0.1392, 0.1509,\n",
            "        0.1557, 0.1436, 0.1485, 0.1364, 0.1647, 0.1415, 0.1327, 0.1498, 0.1589,\n",
            "        0.1295, 0.1556, 0.1513, 0.1553, 0.1501, 0.1412, 0.1499, 0.2041, 0.1561,\n",
            "        0.1140, 0.1203, 0.2036, 0.1606, 0.1305, 0.1580, 0.1469, 0.1555, 0.1459,\n",
            "        0.1387, 0.1507, 0.1736, 0.1902, 0.1552, 0.1507, 0.1548, 0.1783, 0.1558,\n",
            "        0.1396, 0.1488, 0.1252, 0.1613, 0.1463, 0.1382, 0.1378, 0.1473, 0.1374,\n",
            "        0.1593], grad_fn=<MaxBackward0>)\n"
          ],
          "name": "stdout"
        }
      ]
    },
    {
      "cell_type": "markdown",
      "metadata": {
        "id": "qZPSSzW55aK3"
      },
      "source": [
        "# Evaluation and Cost function"
      ]
    },
    {
      "cell_type": "code",
      "metadata": {
        "colab": {
          "base_uri": "https://localhost:8080/"
        },
        "id": "YjLwwJ6S5UWK",
        "outputId": "eeb1eb20-7765-46bc-b6db-de6b51f19faf"
      },
      "source": [
        "labels==preds"
      ],
      "execution_count": 60,
      "outputs": [
        {
          "output_type": "execute_result",
          "data": {
            "text/plain": [
              "tensor([False,  True, False, False, False, False, False, False, False, False,\n",
              "        False, False, False,  True,  True, False, False, False, False, False,\n",
              "        False, False, False, False,  True, False,  True, False, False, False,\n",
              "         True, False, False, False, False, False, False, False, False,  True,\n",
              "        False, False, False, False, False, False, False, False, False,  True,\n",
              "         True, False,  True,  True, False, False, False, False, False, False,\n",
              "        False, False, False,  True, False, False, False, False, False,  True,\n",
              "        False, False, False, False, False, False, False, False, False, False,\n",
              "        False, False, False, False, False, False, False, False, False, False,\n",
              "        False, False, False,  True, False,  True, False, False, False, False])"
            ]
          },
          "metadata": {
            "tags": []
          },
          "execution_count": 60
        }
      ]
    },
    {
      "cell_type": "code",
      "metadata": {
        "id": "S9fDZoer5Ubd"
      },
      "source": [
        "def accuracy(preds, labels):\n",
        "  return torch.sum(labels==preds).item() / len(labels)"
      ],
      "execution_count": 61,
      "outputs": []
    },
    {
      "cell_type": "markdown",
      "metadata": {
        "id": "KmF15U1kIJ51"
      },
      "source": [
        "EVALUATION OF LOGISTIC REGRESSION:"
      ]
    },
    {
      "cell_type": "code",
      "metadata": {
        "colab": {
          "base_uri": "https://localhost:8080/"
        },
        "id": "2GdX1nuM5Uhj",
        "outputId": "dc207e91-bc4b-4cc9-b8fc-e530283cc583"
      },
      "source": [
        "accuracy(preds, labels)"
      ],
      "execution_count": 62,
      "outputs": [
        {
          "output_type": "execute_result",
          "data": {
            "text/plain": [
              "0.15"
            ]
          },
          "metadata": {
            "tags": []
          },
          "execution_count": 62
        }
      ]
    },
    {
      "cell_type": "code",
      "metadata": {
        "colab": {
          "base_uri": "https://localhost:8080/"
        },
        "id": "ErzGmJ4M5Um8",
        "outputId": "28f70b38-07d1-4bcf-9f33-aaf4a71f8345"
      },
      "source": [
        "lossFn = F.cross_entropy\n",
        "# loss for current batch of data\n",
        "# remember that outputs are our thetas gathered from the model\n",
        "# labels is correct answers from dataLoader\n",
        "loss = lossFn(outputs, labels)\n",
        "print(loss)"
      ],
      "execution_count": 63,
      "outputs": [
        {
          "output_type": "stream",
          "text": [
            "tensor(2.3216, grad_fn=<NllLossBackward>)\n"
          ],
          "name": "stdout"
        }
      ]
    },
    {
      "cell_type": "markdown",
      "metadata": {
        "id": "F_2ZtJ4-I1Od"
      },
      "source": [
        "Since loss and accurcay are very bad. we need some hyperparameter tuning"
      ]
    },
    {
      "cell_type": "markdown",
      "metadata": {
        "id": "kpPQj-pJ5xyk"
      },
      "source": [
        "# Optimization using SDG (stochastic gradient descent)"
      ]
    },
    {
      "cell_type": "code",
      "metadata": {
        "id": "-t2N-IU45UpH"
      },
      "source": [
        "learningRate = 0.001\n",
        "optimizer = torch.optim.SGD(model.parameters(), lr=learningRate)"
      ],
      "execution_count": 64,
      "outputs": []
    },
    {
      "cell_type": "markdown",
      "metadata": {
        "id": "LyLP-4vo5_xs"
      },
      "source": [
        "# Training the model"
      ]
    },
    {
      "cell_type": "code",
      "metadata": {
        "id": "1U9HeavM5p8T"
      },
      "source": [
        "# recall that xb is the X (a list batchSize long of 3x32x32 images) for a batch. yb is the corresponding labels for those images.\n",
        "\n",
        "def lossBatch(model, lossFn, xb, yb, opt=None, metric=None):\n",
        "  # calculate the loss\n",
        "  preds = model(xb)\n",
        "  loss = lossFn(preds, yb)\n",
        "\n",
        "  if opt is not None:\n",
        "    # compute gradients\n",
        "    loss.backward()\n",
        "    # update parameters\n",
        "    opt.step()\n",
        "    # reset gradients to 0 (don't want to calculate second derivatives!)\n",
        "    opt.zero_grad()\n",
        "\n",
        "  metricResult = None\n",
        "  if metric is not None:\n",
        "    metricResult = metric(preds, yb)\n",
        "\n",
        "  return loss.item(), len(xb),  metricResult"
      ],
      "execution_count": 65,
      "outputs": []
    },
    {
      "cell_type": "code",
      "metadata": {
        "id": "m7VxQ09O5qAD"
      },
      "source": [
        "def evaluate(model, lossFn, validDL, metric=None):\n",
        "  #with torch.no_grad (this was causing an error)\n",
        "  \n",
        "  # pass each batch of the validation set through the model to form a multidimensional list (holding loss, length and metric for each batch)\n",
        "  # the reason why we made optimization optional is so we can reuse the function here\n",
        "  results = [lossBatch(model, lossFn, xb, yb, metric=metric,) for xb,yb in validDL]\n",
        "\n",
        "  # separate losses, counts and metrics\n",
        "  losses, nums, metrics = zip(*results)\n",
        "\n",
        "  # total size of the dataset (we keep track of lengths of batches since dataset might not be perfectly divisible by batch size)\n",
        "  total = np.sum(nums)\n",
        "\n",
        "  # find average total loss over all batches in validation (remember these are all vectors doing element wise operations.)\n",
        "  avgLoss = np.sum(np.multiply(losses, nums))/total\n",
        "\n",
        "  # if there is a metric passed, compute the average metric\n",
        "  if metric is not None:\n",
        "    # avg of metric accross batches\n",
        "    avgMetric = np.sum(np.multiply(metrics, nums)) / total\n",
        "\n",
        "  return avgLoss, total, avgMetric"
      ],
      "execution_count": 66,
      "outputs": []
    },
    {
      "cell_type": "code",
      "metadata": {
        "id": "ByWucLrG5qFn"
      },
      "source": [
        "def accuracy(outputs, labels):\n",
        "  _, preds = torch.max(outputs, dim=1) # underscore discards the max value itself, we don't care about that\n",
        "  return torch.sum(preds == labels).item() / len(preds)"
      ],
      "execution_count": 67,
      "outputs": []
    },
    {
      "cell_type": "code",
      "metadata": {
        "colab": {
          "base_uri": "https://localhost:8080/"
        },
        "id": "7g8svmDt5qLL",
        "outputId": "9f63822d-f408-473e-896b-ef734bb691cd"
      },
      "source": [
        "E = evaluate(model, lossFn, valLoader, metric=accuracy)\n",
        "\n",
        "print(\"training set loss: \", loss)\n",
        "print(\"cross validation set loss: \", E[0])"
      ],
      "execution_count": 68,
      "outputs": [
        {
          "output_type": "stream",
          "text": [
            "training set loss:  tensor(2.3216, grad_fn=<NllLossBackward>)\n",
            "cross validation set loss:  2.330905694961548\n"
          ],
          "name": "stdout"
        }
      ]
    },
    {
      "cell_type": "code",
      "metadata": {
        "id": "0CsdlUUR6KNw"
      },
      "source": [
        "def fit(epochs, model, lossFn, opt, trainDL, valDL, metric=None):\n",
        "  valList = [0.10]\n",
        "  for epoch in range(epochs):\n",
        "    # training - perform one step gradient descent on each batch, then moves on\n",
        "    for xb, yb in trainDL: \n",
        "      loss,_,lossMetric = lossBatch(model, lossFn, xb, yb, opt)\n",
        "      \n",
        "\n",
        "    # evaluation on cross val dataset - after updating over all batches, technically one epoch\n",
        "    # evaluates over all validation batches and then calculates average val loss, as well as the metric (accuracy)\n",
        "    valResult = evaluate(model, lossFn, valDL, metric)\n",
        "    valLoss, total, valMetric = valResult\n",
        "    valList.append(valMetric)\n",
        "    # print progress\n",
        "    if metric is None: \n",
        "      print('Epoch [{}/{}], Loss: {:.4f}'.format(epoch + 1, epochs, valLoss))\n",
        "    else:\n",
        "      print('Epoch [{}/{}], Loss: {:.4f}, {}: {:.4f}'.format(epoch + 1, epochs, valLoss, metric.__name__, valMetric))\n",
        "\n",
        "  return valList"
      ],
      "execution_count": 69,
      "outputs": []
    },
    {
      "cell_type": "code",
      "metadata": {
        "id": "izb8aFwA6KQ4"
      },
      "source": [
        "# redefine model and optimizer\n",
        "learningRate = 0.009\n",
        "model = CIFAR10()\n",
        "optimizer = torch.optim.SGD(model.parameters(), lr=learningRate)"
      ],
      "execution_count": 70,
      "outputs": []
    },
    {
      "cell_type": "code",
      "metadata": {
        "colab": {
          "base_uri": "https://localhost:8080/"
        },
        "id": "9sHc9FUM6KVw",
        "outputId": "9c9cdec4-cec4-4cd2-b766-f94478915496"
      },
      "source": [
        "trainList = fit(100, model, lossFn, optimizer, trainLoader, valLoader, metric=accuracy)"
      ],
      "execution_count": 71,
      "outputs": [
        {
          "output_type": "stream",
          "text": [
            "Epoch [1/100], Loss: 1.8988, accuracy: 0.3362\n",
            "Epoch [2/100], Loss: 1.8452, accuracy: 0.3634\n",
            "Epoch [3/100], Loss: 1.8177, accuracy: 0.3632\n",
            "Epoch [4/100], Loss: 1.8395, accuracy: 0.3492\n",
            "Epoch [5/100], Loss: 1.8124, accuracy: 0.3696\n",
            "Epoch [6/100], Loss: 1.7999, accuracy: 0.3651\n",
            "Epoch [7/100], Loss: 1.7811, accuracy: 0.3814\n",
            "Epoch [8/100], Loss: 1.7688, accuracy: 0.3875\n",
            "Epoch [9/100], Loss: 1.7926, accuracy: 0.3696\n",
            "Epoch [10/100], Loss: 1.7611, accuracy: 0.3896\n",
            "Epoch [11/100], Loss: 1.7742, accuracy: 0.3747\n",
            "Epoch [12/100], Loss: 1.7687, accuracy: 0.3794\n",
            "Epoch [13/100], Loss: 1.7712, accuracy: 0.3792\n",
            "Epoch [14/100], Loss: 1.7493, accuracy: 0.3930\n",
            "Epoch [15/100], Loss: 1.7393, accuracy: 0.4028\n",
            "Epoch [16/100], Loss: 1.7598, accuracy: 0.3811\n",
            "Epoch [17/100], Loss: 1.7423, accuracy: 0.3988\n",
            "Epoch [18/100], Loss: 1.7393, accuracy: 0.3982\n",
            "Epoch [19/100], Loss: 1.7338, accuracy: 0.4024\n",
            "Epoch [20/100], Loss: 1.7364, accuracy: 0.4065\n",
            "Epoch [21/100], Loss: 1.7272, accuracy: 0.4050\n",
            "Epoch [22/100], Loss: 1.7557, accuracy: 0.3916\n",
            "Epoch [23/100], Loss: 1.7424, accuracy: 0.3910\n",
            "Epoch [24/100], Loss: 1.7317, accuracy: 0.4018\n",
            "Epoch [25/100], Loss: 1.7435, accuracy: 0.3953\n",
            "Epoch [26/100], Loss: 1.7526, accuracy: 0.3870\n",
            "Epoch [27/100], Loss: 1.7290, accuracy: 0.4090\n",
            "Epoch [28/100], Loss: 1.7374, accuracy: 0.4013\n",
            "Epoch [29/100], Loss: 1.7360, accuracy: 0.3894\n",
            "Epoch [30/100], Loss: 1.7175, accuracy: 0.4143\n",
            "Epoch [31/100], Loss: 1.7471, accuracy: 0.3838\n",
            "Epoch [32/100], Loss: 1.7480, accuracy: 0.3903\n",
            "Epoch [33/100], Loss: 1.7287, accuracy: 0.4015\n",
            "Epoch [34/100], Loss: 1.7284, accuracy: 0.4070\n",
            "Epoch [35/100], Loss: 1.7301, accuracy: 0.3973\n",
            "Epoch [36/100], Loss: 1.7372, accuracy: 0.3980\n",
            "Epoch [37/100], Loss: 1.7298, accuracy: 0.4034\n",
            "Epoch [38/100], Loss: 1.7388, accuracy: 0.4001\n",
            "Epoch [39/100], Loss: 1.7222, accuracy: 0.4092\n",
            "Epoch [40/100], Loss: 1.7141, accuracy: 0.4149\n",
            "Epoch [41/100], Loss: 1.7226, accuracy: 0.4009\n",
            "Epoch [42/100], Loss: 1.7284, accuracy: 0.4044\n",
            "Epoch [43/100], Loss: 1.7347, accuracy: 0.3992\n",
            "Epoch [44/100], Loss: 1.7253, accuracy: 0.4059\n",
            "Epoch [45/100], Loss: 1.7271, accuracy: 0.3968\n",
            "Epoch [46/100], Loss: 1.7157, accuracy: 0.4096\n",
            "Epoch [47/100], Loss: 1.7268, accuracy: 0.4059\n",
            "Epoch [48/100], Loss: 1.7168, accuracy: 0.4160\n",
            "Epoch [49/100], Loss: 1.7173, accuracy: 0.4126\n",
            "Epoch [50/100], Loss: 1.7209, accuracy: 0.4114\n",
            "Epoch [51/100], Loss: 1.7079, accuracy: 0.4159\n",
            "Epoch [52/100], Loss: 1.7147, accuracy: 0.4143\n",
            "Epoch [53/100], Loss: 1.7395, accuracy: 0.3954\n",
            "Epoch [54/100], Loss: 1.7144, accuracy: 0.4120\n",
            "Epoch [55/100], Loss: 1.7226, accuracy: 0.4101\n",
            "Epoch [56/100], Loss: 1.7143, accuracy: 0.4116\n",
            "Epoch [57/100], Loss: 1.7148, accuracy: 0.4064\n",
            "Epoch [58/100], Loss: 1.7156, accuracy: 0.4115\n",
            "Epoch [59/100], Loss: 1.7251, accuracy: 0.4031\n",
            "Epoch [60/100], Loss: 1.7106, accuracy: 0.4110\n",
            "Epoch [61/100], Loss: 1.7142, accuracy: 0.4190\n",
            "Epoch [62/100], Loss: 1.7223, accuracy: 0.4065\n",
            "Epoch [63/100], Loss: 1.7119, accuracy: 0.4130\n",
            "Epoch [64/100], Loss: 1.7162, accuracy: 0.4048\n",
            "Epoch [65/100], Loss: 1.7348, accuracy: 0.3991\n",
            "Epoch [66/100], Loss: 1.7114, accuracy: 0.4097\n",
            "Epoch [67/100], Loss: 1.7056, accuracy: 0.4197\n",
            "Epoch [68/100], Loss: 1.7349, accuracy: 0.3925\n",
            "Epoch [69/100], Loss: 1.7109, accuracy: 0.4152\n",
            "Epoch [70/100], Loss: 1.7168, accuracy: 0.4123\n",
            "Epoch [71/100], Loss: 1.7315, accuracy: 0.4033\n",
            "Epoch [72/100], Loss: 1.7160, accuracy: 0.4108\n",
            "Epoch [73/100], Loss: 1.7103, accuracy: 0.4150\n",
            "Epoch [74/100], Loss: 1.7254, accuracy: 0.4010\n",
            "Epoch [75/100], Loss: 1.7160, accuracy: 0.4103\n",
            "Epoch [76/100], Loss: 1.7127, accuracy: 0.4150\n",
            "Epoch [77/100], Loss: 1.7158, accuracy: 0.4106\n",
            "Epoch [78/100], Loss: 1.7125, accuracy: 0.4068\n",
            "Epoch [79/100], Loss: 1.7104, accuracy: 0.4168\n",
            "Epoch [80/100], Loss: 1.7187, accuracy: 0.4142\n",
            "Epoch [81/100], Loss: 1.7111, accuracy: 0.4166\n",
            "Epoch [82/100], Loss: 1.7264, accuracy: 0.4070\n",
            "Epoch [83/100], Loss: 1.7120, accuracy: 0.4129\n",
            "Epoch [84/100], Loss: 1.7082, accuracy: 0.4113\n",
            "Epoch [85/100], Loss: 1.7193, accuracy: 0.4061\n",
            "Epoch [86/100], Loss: 1.7197, accuracy: 0.4105\n",
            "Epoch [87/100], Loss: 1.7227, accuracy: 0.4047\n",
            "Epoch [88/100], Loss: 1.7133, accuracy: 0.4140\n",
            "Epoch [89/100], Loss: 1.7124, accuracy: 0.4096\n",
            "Epoch [90/100], Loss: 1.7104, accuracy: 0.4145\n",
            "Epoch [91/100], Loss: 1.7101, accuracy: 0.4144\n",
            "Epoch [92/100], Loss: 1.7066, accuracy: 0.4205\n",
            "Epoch [93/100], Loss: 1.7396, accuracy: 0.3905\n",
            "Epoch [94/100], Loss: 1.7132, accuracy: 0.4085\n",
            "Epoch [95/100], Loss: 1.7074, accuracy: 0.4147\n",
            "Epoch [96/100], Loss: 1.7179, accuracy: 0.4089\n",
            "Epoch [97/100], Loss: 1.7144, accuracy: 0.4077\n",
            "Epoch [98/100], Loss: 1.7114, accuracy: 0.4131\n",
            "Epoch [99/100], Loss: 1.7153, accuracy: 0.4097\n",
            "Epoch [100/100], Loss: 1.7077, accuracy: 0.4157\n"
          ],
          "name": "stdout"
        }
      ]
    },
    {
      "cell_type": "code",
      "metadata": {
        "colab": {
          "base_uri": "https://localhost:8080/"
        },
        "id": "LseGMAai7jKW",
        "outputId": "a14bb951-123e-490a-9390-22cfe9fd9cc4"
      },
      "source": [
        "test = torchvision.datasets.CIFAR10(root='./data', train=False, download=True, transform=torchvision.transforms.ToTensor())"
      ],
      "execution_count": 72,
      "outputs": [
        {
          "output_type": "stream",
          "text": [
            "Files already downloaded and verified\n"
          ],
          "name": "stdout"
        }
      ]
    },
    {
      "cell_type": "code",
      "metadata": {
        "id": "pdLbQCYf7jVI"
      },
      "source": [
        "testLoader = DataLoader(test, batchSize)"
      ],
      "execution_count": 73,
      "outputs": []
    },
    {
      "cell_type": "code",
      "metadata": {
        "colab": {
          "base_uri": "https://localhost:8080/"
        },
        "id": "HTMeXVR77jj_",
        "outputId": "f78df0b4-e5d6-45fa-a4b0-511fd7eff18a"
      },
      "source": [
        "avgLoss, total, avgMetric = evaluate(model, F.cross_entropy, testLoader, metric=accuracy)\n",
        "print(\"test set accuracy: \\n\", avgMetric*100,\"%\")\n",
        "avgLoss, total, avgMetric = evaluate(model, F.cross_entropy, valLoader, metric=accuracy)\n",
        "print(\"cross validation set accuracy: \\n\",avgMetric*100,\"%\")\n",
        "avgLoss, total, avgMetric = evaluate(model, F.cross_entropy, trainLoader, metric=accuracy)\n",
        "print(\"training set accuracy: \\n\",avgMetric*100,\"%\")"
      ],
      "execution_count": 74,
      "outputs": [
        {
          "output_type": "stream",
          "text": [
            "test set accuracy: \n",
            " 40.64 %\n",
            "cross validation set accuracy: \n",
            " 41.57 %\n",
            "training set accuracy: \n",
            " 44.800000000000004 %\n"
          ],
          "name": "stdout"
        }
      ]
    },
    {
      "cell_type": "markdown",
      "metadata": {
        "id": "rYnFgCN0JlGX"
      },
      "source": [
        "After hyperparameter tuning Accuracy of logistic regression  has improved."
      ]
    }
  ]
}